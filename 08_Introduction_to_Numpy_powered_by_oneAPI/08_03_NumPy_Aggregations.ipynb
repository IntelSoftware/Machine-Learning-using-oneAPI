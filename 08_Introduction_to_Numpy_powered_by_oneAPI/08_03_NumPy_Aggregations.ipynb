{
 "cells": [
  {
   "cell_type": "markdown",
   "metadata": {
    "tags": []
   },
   "source": [
    "# Introduction to Numpy powered by oneAPI\n",
    "\n",
    "### Learning Obejctives:\n",
    "\n",
    "- Desribe why replacing inefficient code, such as time consuming loops, wastes resources, and time\n",
    "- Describe why using Python for highly repetitive small tasks is inefficient\n",
    "- Describe the additive value of leveraging packages such as Numpy which are powered by oneAPI in a cloud world \n",
    "- Describe the importance of keeping oneAPI and 3rd party package such as Numpy, Scipy and others is important\n",
    "- Enumerate ways in which Numpy accelerates code\n",
    "- Apply loop replacement methodologies in a variety of scenarios\n"
   ]
  },
  {
   "cell_type": "markdown",
   "metadata": {
    "tags": []
   },
   "source": [
    "#### Here is a list of topics we will explore in this module:\n",
    "- The \"WHY\", Why use Numpy as replacement for loops?: Its FAST!\n",
    "- Numpy Universal Functions or ufuncs\n",
    "- Numpy Broadcasting \n",
    "- Numpy Aggregations\n",
    "- Numpy Where\n",
    "- Numpy Select\n",
    "- A quick refernce to Scipy algorithms to set the satge for the next module \n",
    "\n",
    "### Replacing Inefficient code\n",
    "![SLowWadeWater.PNG](Assets/SlowWadeWater.png)\n",
    "\n",
    "Code that written inefficiently:\n",
    "- Be less readable (less pythonic)\n",
    "- Can consume more time\n",
    "- Waste energy \n",
    "- Waste purchased or leased resources\n",
    "\n",
    "This module will focus on trying to simulatenously make code readbale as well as more efficient as measured by how well we accerlate code examples. While the code exmpale themselves are small examples, the techniques described are application in a wide variety of scenarios in AI.\n",
    "\n",
    "### Python loops are bad for performance\n",
    "**Python is great!** Its a great  language for AI. There are many, many advantages in using Python especially for data science.\n",
    "- easy to program (dont worry about data types and persnicity syntax at least relative to C/C++ and other languges\n",
    "- FAST for deveoping code!\n",
    "- leverages huge array of libaries to conquer any domain\n",
    "- lots of quick answers to common issues in Stack Exchange\n",
    "\n",
    "#### Python, however, is slow for Massively repeating small tasks - such as found in loops! **Python loops are SLOW**\n",
    "\n",
    "- Compared to C, C++, Fortran and other typed languages\n",
    "- Python is forced to look up every occurnace and type of variable in a loop to determine what operations it can perform on that data type\n",
    "- It cannot usually take advantage of advances in hardware in terms of vector width increases, multiple cores, new instructions from a new HW instruction set, new AI accelerators, effective amd cache meory layout, and more\n",
    "\n",
    "#### BUT: Python has library remedies to these ills!\n",
    "- Importing key libnraries shift the burden of computation to highly efficient code\n",
    "- Numpy, for example, through its focus on elementwise efficient operations, gives indirect access to the efficiencies afforded in \"C\"  \n",
    "- libraies included in oneAPI and Numpy, Scipy, Scikit-learn all powered by oneAPI give access to modern advancements in hardware level: access to better cache and memory usage, access to low level vector instructions, and more.\n",
    "- By leveraging packages such as these powered by oneAPI AND keeping libraries up to date, more capability is added to your underlyig frameworks so that moving code, epsecially in a cloud world, can give you ready access to hardware accerlations, in many cases, without having to modify code this vectorized code\n",
    "- Routines are written in C (based on CPython framework)\n",
    "- Numpy arrays are densely packed arrays of homogeneous type. Python lists, by contrast, are arrays of pointers to objects, even when all of them are of the same type. So, you get the benefits of not having to check data types, and you also get locality of reference. Also, many Numpy operations are implemented in C, avoiding the general cost of loops in Python, pointer indirection and per-element dynamic type checking. The speed boost depends on which operations you’re performing. \n",
    "            \n",
    "**Goal of this module: Search and destroy (replace) loops**\n",
    "\n",
    "Avoid loops if you can - find an alternative if possible. Sometime it cannot be done - true data dependecies may limit our options. But many, many time there are alternatives.\n",
    "\n",
    "\n",
    "**The problem** \n",
    "- Loops isolate your code from hardware and software advances that update frequently.\n",
    "- They prevent you from effectively using key underlying resources - it is a waste.\n",
    "- They consume your time!\n",
    "\n",
    "### Reference:\n",
    "\n",
    "- [Video:  **Losing your Loops Fast Numerical Computing with NumPy** by Jake VanderPlas ](https://www.youtube.com/watch?v=EEUXKG97YRw). \n",
    "\n",
    "- [Book:  **Python Data Science Handbook** by Jake VanderPlas](https://jakevdp.github.io/PythonDataScienceHandbook/). \n",
    "\n",
    "- [Book:  **Elegant SciPy: The Art of Scientific Python** by by Juan Nunez-Iglesias, Stéfan van der Walt, Harriet Dashnow](https://www.amazon.com/Elegant-SciPy-Art-Scientific-Python/dp/1491922877)\n",
    "\n",
    "- [Article:  **The Ultimate NumPy Tutorial for Data Science Beginners**](https://www.analyticsvidhya.com/blog/2020/04/the-ultimate-numpy-tutorial-for-data-science-beginners/) :   by Aniruddha April 28, 2020 at www.analyticsvidhya.com\n",
    "\n",
    "- [Academic Lecture pdf: **Vectorization** by  Aaron Birkland Cornell CAC](http://www.cac.cornell.edu/education/training/StampedeJune2013/Vectorization-2013_06_18.pdf)\n",
    "\n",
    "# Exercises (7 in total):\n",
    "\n",
    "Do a page search for each **Exercise** in this notebook. Complete All seven exercises. Code in cells above each exercise may give insight into a solid approach"
   ]
  },
  {
   "cell_type": "markdown",
   "metadata": {},
   "source": [
    "## Why use Numpy as replacement for loops?\n",
    "\n",
    "## Its FAST!\n",
    "\n",
    "In this section we will explore a smattering a different Numpy approaches that lead to accelerations over naive loops\n",
    "\n",
    "The bigger (more iterations) of a loop the better Numpy gets and the bigger (more dimensions of data) the better Numpy gets as a general rule.\n",
    "\n",
    "Ultimately, we are hunting to **\"BIG LOOPS\"**. What is a BIG LOOP? One that consumes a lot of time! Sometimes, even a loop with somehat smaller iteration can be time consuming because each iteration takes long by itself. Well call these BIG LOOP too.\n",
    "\n",
    "#### Compare different ways of computing Log10 of a lager vector\n",
    "\n",
    "In this next sectoin, we will create a list of 1-million random floating point numbers. Then we will use **for** loop to iterate over its elements, take **Log10** and store the value in another list. We'll compare the execution speed with that of a direct NumPy Log10 operation.\n",
    "\n",
    "for this log10 problem, We will compare\n",
    "- Naive loop\n",
    "- Map function\n",
    "- List Comprehension\n",
    "- Numpy\n",
    "\n",
    "#### Import updated libraries"
   ]
  },
  {
   "cell_type": "code",
   "execution_count": 2,
   "metadata": {},
   "outputs": [],
   "source": [
    "\n",
    "import numpy as np\n",
    "from math import log10 as lg10\n",
    "import time\n",
    "import matplotlib.pyplot as plt\n",
    "import random\n",
    "import time\n",
    "%matplotlib inline"
   ]
  },
  {
   "cell_type": "markdown",
   "metadata": {},
   "source": [
    "Whatever loopy code you have - spend time looking for alternatives such as this. The acceleration can be exrardinary"
   ]
  },
  {
   "cell_type": "markdown",
   "metadata": {},
   "source": [
    "# Numpy Aggregation\n",
    "\n",
    "Aggregation is where we operate on an array and generate resulting data with a smaller dimension than the original array\n",
    "\n",
    "The aggregations can typically be done using different axes to control the direction\n",
    "\n",
    "![Aggregation0.png](attachment:1485cd7a-0b51-4e75-8006-45e52c161eb4.png)\n",
    "\n",
    "![Aggregation1.PNG](attachment:4bd02f93-aec1-4e30-801a-471d93955a8b.PNG)\n",
    "\n",
    "Common examples in AI are:\n",
    "- min\n",
    "- max\n",
    "- sum\n",
    "- mean\n",
    "- std ... among others\n",
    "\n",
    "----------------------------------------------------------------------------------\n",
    "| Functions | Description | \n",
    "| --- | --- |\n",
    "| np.mean() | Compute the arithmetic mean along the specified axis. |\n",
    "| np.std() | Compute the standard deviation along the specified axis. |\n",
    "| np.var() | Compute the variance along the specified axis. |\n",
    "| np.sum() | Sum of array elements over a given axis. |\n",
    "| np.prod() | Return the product of array elements over a given axis. |\n",
    "| np.cumsum() | Return the cumulative sum of the elements along a given axis. |\n",
    "| np.cumprod() | Return the cumulative product of elements along a given axis. |\n",
    "| np.min(), np.max() | Return the minimum / maximum of an array or minimum along an axis. |\n",
    "| np.argmin(), np.argmax() | Returns the indices of the minimum / maximum values along an axis |\n",
    "| np.all() | Test whether all array elements along a given axis evaluate to True. |\n",
    "| np.any() | Test whether any array element along a given axis evaluates to True. |\n",
    "\n",
    "\n",
    "Specialty calcualtions exist so always eamine your code with a view to simply and remove loops with off the shelf solutions\n",
    "\n",
    "For example, in AI there re times we need to add the values of the diagonal of special arrays.\n",
    "\n",
    "For very long vectors these will accelerate noticibly and more so for larger multdimensional arrays\n",
    "\n",
    "Below is a naive approach for addng all the diagnoal elements of a smallish array of 1000 x 1000. So the accerlation is reasonable but not outlandish\n"
   ]
  },
  {
   "cell_type": "code",
   "execution_count": 3,
   "metadata": {},
   "outputs": [
    {
     "name": "stdout",
     "output_type": "stream",
     "text": [
      "elapsed time:  0.06961965560913086\n",
      "Diag:  499999500\n"
     ]
    }
   ],
   "source": [
    "A = np.arange(1_000_000).reshape(1000, 1000)\n",
    "Diag = 0\n",
    "\n",
    "t1 = time.time()\n",
    "for i in range(len(A)):\n",
    "    for j in range(len(A)): \n",
    "        if i == j:\n",
    "            Diag += A[i,j]\n",
    "t2 = time.time()\n",
    "Elapsed_Diag_base = t2-t1\n",
    "print(\"elapsed time: \", Elapsed_Diag_base)\n",
    "print(\"Diag: \", Diag)"
   ]
  },
  {
   "cell_type": "markdown",
   "metadata": {},
   "source": [
    "## Exercise:\n",
    "\n",
    "Use a search engine to find numpy method to find the sum of the diagonals of this array.\n",
    "- Hint: trace\n",
    "- Hint: Diag = np.trace(A)"
   ]
  },
  {
   "cell_type": "code",
   "execution_count": 4,
   "metadata": {},
   "outputs": [
    {
     "name": "stdout",
     "output_type": "stream",
     "text": [
      "elapsed time:  0.0009424686431884766\n",
      "Diag:  499999500\n",
      "Acceleration:   74X\n"
     ]
    }
   ],
   "source": [
    "t1 = time.time()\n",
    "#### insert your code below #####\n",
    "Diag = np.trace(A)\n",
    "\n",
    "#################################    \n",
    "t2 = time.time()\n",
    "Elapsed_Diag_numpy = t2 - t1\n",
    "print(\"elapsed time: \", Elapsed_Diag_numpy)\n",
    "print(\"Diag: \", Diag)\n",
    "print(\"Acceleration: {:4.0f}X\".format(Elapsed_Diag_base/Elapsed_Diag_numpy))"
   ]
  },
  {
   "cell_type": "code",
   "execution_count": 5,
   "metadata": {},
   "outputs": [
    {
     "name": "stdout",
     "output_type": "stream",
     "text": [
      "Done\n"
     ]
    }
   ],
   "source": [
    "print(\"Done\")"
   ]
  },
  {
   "cell_type": "code",
   "execution_count": null,
   "metadata": {},
   "outputs": [],
   "source": []
  }
 ],
 "metadata": {
  "anaconda-cloud": {},
  "kernelspec": {
   "display_name": "Python 3.8 (Intel® oneAPI)",
   "language": "python",
   "name": "c009-intel_distribution_of_python_3_oneapi-beta05-python"
  },
  "language_info": {
   "codemirror_mode": {
    "name": "ipython",
    "version": 3
   },
   "file_extension": ".py",
   "mimetype": "text/x-python",
   "name": "python",
   "nbconvert_exporter": "python",
   "pygments_lexer": "ipython3",
   "version": "3.9.10"
  },
  "nbTranslate": {
   "displayLangs": [
    "*"
   ],
   "hotkey": "alt-t",
   "langInMainMenu": true,
   "sourceLang": "en",
   "targetLang": "fr",
   "useGoogleTranslate": true
  },
  "toc": {
   "base_numbering": 1,
   "nav_menu": {},
   "number_sections": true,
   "sideBar": true,
   "skip_h1_title": false,
   "title_cell": "Table of Contents",
   "title_sidebar": "Contents",
   "toc_cell": false,
   "toc_position": {},
   "toc_section_display": true,
   "toc_window_display": false
  }
 },
 "nbformat": 4,
 "nbformat_minor": 4
}
