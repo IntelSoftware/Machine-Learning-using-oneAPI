{
 "cells": [
  {
   "cell_type": "markdown",
   "metadata": {
    "tags": []
   },
   "source": [
    "# Introduction to Numpy powered by oneAPI\n",
    "\n",
    "From our slides - Below is a graphical depiction of the pairwise distance algorithm.\n",
    "![Assets/PairwiseSimple.PNG](Assets/PairwiseSimple.PNG)\n",
    "\n",
    "## Here is an Applicaiton of the pairwise distance algorithm\n",
    "\n",
    "![Assets/PairwiseStocks.jpg](Assets/PairwiseStocks.jpg)"
   ]
  },
  {
   "cell_type": "markdown",
   "metadata": {
    "tags": []
   },
   "source": [
    "#### Here is a list of topics we will explore in this module:\n",
    "\n",
    "# Exercises:\n",
    "\n",
    "Do a page search for each **Exercise** in this notebook. Complete All  exercises. Code in cells above each exercise may give insight into a solid approach"
   ]
  },
  {
   "cell_type": "code",
   "execution_count": null,
   "metadata": {
    "ExecuteTime": {
     "end_time": "2022-08-08T21:06:57.173636Z",
     "start_time": "2022-08-08T21:06:57.148702Z"
    }
   },
   "outputs": [],
   "source": [
    "\n",
    "import numpy as np\n",
    "from math import log10 as lg10\n",
    "import time\n",
    "import matplotlib.pyplot as plt\n",
    "import random\n",
    "%matplotlib inline\n",
    "\n",
    "np.__version__"
   ]
  },
  {
   "cell_type": "markdown",
   "metadata": {},
   "source": [
    "# Pairwise Distance Comparisons"
   ]
  },
  {
   "cell_type": "code",
   "execution_count": null,
   "metadata": {
    "ExecuteTime": {
     "end_time": "2022-08-08T23:45:36.529853Z",
     "start_time": "2022-08-08T23:45:36.500925Z"
    }
   },
   "outputs": [],
   "source": [
    "import numpy as np\n",
    "from scipy.spatial import distance_matrix\n",
    "from scipy.spatial import distance\n",
    "from sklearn.metrics import pairwise_distances\n",
    "\n",
    "a = np.array([[0,0], [1,1], [2,2], [3,3]])\n",
    "b = np.array([[0,0], [-1,-1], [-2,-2], [-3,-3], [-4,-4]])\n",
    "\n",
    "print(\"a.shape\",a.shape)\n",
    "print(\"b.shape\",b.shape)\n",
    "print('Euclidean')\n",
    "print(distance_matrix(a, b))\n",
    "print('Manhattan')\n",
    "print(distance.cdist(a, b, 'cityblock'))\n"
   ]
  },
  {
   "cell_type": "markdown",
   "metadata": {},
   "source": [
    "# Euclidean Distance using broadcasting\n"
   ]
  },
  {
   "cell_type": "code",
   "execution_count": null,
   "metadata": {
    "ExecuteTime": {
     "end_time": "2022-08-08T23:23:30.516267Z",
     "start_time": "2022-08-08T23:23:30.494327Z"
    }
   },
   "outputs": [],
   "source": [
    "# Euclidean Distance\n",
    "\n",
    "np.linalg.norm(a[:, None, :] - b[None, :, :], axis=-1)"
   ]
  },
  {
   "cell_type": "markdown",
   "metadata": {},
   "source": [
    "# Manhattan Distance using broadcasting"
   ]
  },
  {
   "cell_type": "code",
   "execution_count": null,
   "metadata": {
    "ExecuteTime": {
     "end_time": "2022-08-08T23:23:30.568128Z",
     "start_time": "2022-08-08T23:23:30.524245Z"
    }
   },
   "outputs": [],
   "source": [
    "# Manhattan Distance\n",
    "\n",
    "np.sum(np.abs(a[:, None, :] - b[None, :, :]), axis=-1)"
   ]
  },
  {
   "cell_type": "code",
   "execution_count": null,
   "metadata": {
    "ExecuteTime": {
     "end_time": "2022-08-08T23:23:30.593061Z",
     "start_time": "2022-08-08T23:23:30.578093Z"
    }
   },
   "outputs": [],
   "source": [
    "def PointsDist(a,b):\n",
    "    s = 0\n",
    "    for i in range(len(a)):\n",
    "        s += (a[i]-b[i])**2\n",
    "    return np.sqrt(s)"
   ]
  },
  {
   "cell_type": "code",
   "execution_count": null,
   "metadata": {
    "ExecuteTime": {
     "end_time": "2022-08-08T23:23:30.647915Z",
     "start_time": "2022-08-08T23:23:30.603028Z"
    }
   },
   "outputs": [],
   "source": [
    "a = np.array([1,1])\n",
    "b = np.array([-1,-1])\n",
    "\n",
    "PointsDist(a,b)"
   ]
  },
  {
   "cell_type": "code",
   "execution_count": null,
   "metadata": {
    "ExecuteTime": {
     "end_time": "2022-08-08T23:45:45.161267Z",
     "start_time": "2022-08-08T23:45:45.147262Z"
    }
   },
   "outputs": [],
   "source": [
    "np.random.seed(42)\n",
    "a = np.random.randint(10, size=(20000,2))\n",
    "b = np.random.randint(10, size=(20000,2))\n",
    "timing = {}"
   ]
  },
  {
   "cell_type": "code",
   "execution_count": null,
   "metadata": {
    "ExecuteTime": {
     "end_time": "2022-08-08T23:45:50.867894Z",
     "start_time": "2022-08-08T23:45:47.788162Z"
    }
   },
   "outputs": [],
   "source": [
    "t1 = time.time()\n",
    "distance.cdist(a, b, 'euclidean')\n",
    "timing['scipy cdist'] = time.time() - t1"
   ]
  },
  {
   "cell_type": "code",
   "execution_count": null,
   "metadata": {
    "ExecuteTime": {
     "end_time": "2022-08-08T23:23:46.261211Z",
     "start_time": "2022-08-08T23:23:34.063776Z"
    }
   },
   "outputs": [],
   "source": [
    "t1 = time.time()\n",
    "distance_matrix(a, b)\n",
    "timing['sklearn pairwise_distances'] = time.time() - t1"
   ]
  },
  {
   "cell_type": "code",
   "execution_count": null,
   "metadata": {
    "ExecuteTime": {
     "end_time": "2022-08-08T23:24:02.988432Z",
     "start_time": "2022-08-08T23:23:46.270135Z"
    }
   },
   "outputs": [],
   "source": [
    "t1 = time.time()\n",
    "np.linalg.norm(a[:, None, :] - b[None, :, :], axis=-1)\n",
    "timing['broadcasting'] = time.time() - t1"
   ]
  },
  {
   "cell_type": "code",
   "execution_count": null,
   "metadata": {
    "ExecuteTime": {
     "end_time": "2022-08-08T23:45:55.863618Z",
     "start_time": "2022-08-08T23:45:53.046531Z"
    }
   },
   "outputs": [],
   "source": [
    "from sklearn.metrics.pairwise import euclidean_distances\n",
    "t1 = time.time()\n",
    "euclidean_distances(a,b)\n",
    "timing['sklearn euclidean_distances'] = time.time() - t1"
   ]
  },
  {
   "cell_type": "code",
   "execution_count": null,
   "metadata": {
    "ExecuteTime": {
     "end_time": "2022-08-08T23:46:34.670194Z",
     "start_time": "2022-08-08T23:46:29.605745Z"
    }
   },
   "outputs": [],
   "source": [
    "from sklearnex import patch_sklearn, unpatch_sklearn\n",
    "unpatch_sklearn()\n",
    "from sklearn.metrics.pairwise import cosine_distances\n",
    "from sklearn.metrics import pairwise_distances\n",
    "\n",
    "t1 = time.time()\n",
    "#cosine_distances(a.reshape(-1,1),b.reshape(-1,1))\n",
    "pairwise_distances(a.reshape(-1,1),b.reshape(-1,1),metric='cosine')\n",
    "timing['sklearn cosine_distances'] = time.time() - t1"
   ]
  },
  {
   "cell_type": "code",
   "execution_count": null,
   "metadata": {},
   "outputs": [],
   "source": [
    "\n",
    "patch_sklearn()\n",
    "from sklearn.metrics.pairwise import cosine_distances\n",
    "from sklearn.metrics import pairwise_distances\n",
    "\n",
    "t1 = time.time()\n",
    "pairwise_distances(a.reshape(-1,1),b.reshape(-1,1),metric='cosine')\n",
    "timing['sklearnEX cosine_distances'] = time.time() - t1"
   ]
  },
  {
   "cell_type": "code",
   "execution_count": null,
   "metadata": {},
   "outputs": [],
   "source": [
    "timing"
   ]
  },
  {
   "cell_type": "markdown",
   "metadata": {
    "tags": []
   },
   "source": [
    "**References:**\n",
    "for Background on Geometric Brownian Motion more generally see:\n",
    "\n",
    "P. Glasserman, Monte Carlo methods in financial engineering. Vol. 53 (2013), Springer Science & Business Media.\n",
    "\n",
    "\n",
    "## Background:\n",
    "\n",
    "Geometrics Brownian Motion using arrays's of precomputed random numbers is used to synthesize a portfolio of 500 stocks which are saved in data/portfolio.npy. We created minute data for one years worth of trades. The data are random but partialy correlated with randomly generated eigenvectors to simulate stock behavoir.  \n",
    "\n",
    "The goal for the exercise is to find one of several interesting trading patterns and plot the stocks that best match that pattern using **pairwise_distance** powered by oneAPI.\n",
    "\n"
   ]
  },
  {
   "cell_type": "code",
   "execution_count": null,
   "metadata": {},
   "outputs": [],
   "source": [
    "## Read the precomputed, synthesized stock portfolio of 500 stocks (minute trades for a year)\n",
    "import numpy as np\n",
    "with open('data/portfolio500.npy', 'rb') as f:\n",
    "    P = np.load(f)"
   ]
  },
  {
   "cell_type": "markdown",
   "metadata": {},
   "source": [
    "## Plot the whole portfolio at once to get a feel for the spreadof the data"
   ]
  },
  {
   "cell_type": "code",
   "execution_count": null,
   "metadata": {},
   "outputs": [],
   "source": [
    "%matplotlib inline\n",
    "import matplotlib.pyplot as plt\n",
    "\n",
    "plt.figure(figsize = (16,8))\n",
    "plt.title('Multidimensional Correlated GBM', fontsize = 18)\n",
    "plt.xlabel('Time', fontsize = 18)\n",
    "\n",
    "plt.plot(P)\n",
    "plt.grid()\n",
    "plt.show()"
   ]
  },
  {
   "cell_type": "markdown",
   "metadata": {},
   "source": [
    "## Plot just a handful to see if they look \"stock like\""
   ]
  },
  {
   "cell_type": "code",
   "execution_count": null,
   "metadata": {},
   "outputs": [],
   "source": [
    "plt.figure(figsize = (16,8))\n",
    "plt.title('Multidimensional Correlated GBM', fontsize = 18)\n",
    "plt.xlabel('Time', fontsize = 18)\n",
    "\n",
    "plt.plot(P[:,:4])\n",
    "plt.grid()"
   ]
  },
  {
   "cell_type": "markdown",
   "metadata": {},
   "source": [
    "# Retreive previous compelling stock shapes\n",
    "\n",
    "Retrieve shapes found during a previous run. These compelling shapes are ones that reflect a decline in the overall price over time (and if we use -1 times this shape plus adjusting a differenr offset for plotting purposes, we get an overall rise in price over time). Other intersting shapes are cyclical over various time periods within the year.\n",
    "\n",
    "Now search for these shape patterns in the 500 generated stocks, to find similarly shaped times series"
   ]
  },
  {
   "cell_type": "code",
   "execution_count": null,
   "metadata": {},
   "outputs": [],
   "source": [
    "import numpy as np\n",
    "import time\n",
    "seed = 2022\n",
    "with open('data/shapes{}.npy'.format(seed), 'rb') as f:\n",
    "    shapes = np.load(f)\n",
    "for i in range(3):\n",
    "    plt.plot(shapes.T[i])"
   ]
  },
  {
   "cell_type": "code",
   "execution_count": null,
   "metadata": {},
   "outputs": [],
   "source": [
    "shapes.shape, P.shape"
   ]
  },
  {
   "cell_type": "markdown",
   "metadata": {},
   "source": [
    "# Use Pairwise Distance find similar shaped stocks\n",
    "\n",
    "Read shapes2022.pny (or shapesxxxx.pny)\n",
    "\n",
    "This file contains 10 interesting shapes from a previous run\n",
    "\n",
    "Find the four closest matching simulated stocks to the one of several interesting shapes\n",
    "\n",
    "# Exercise: Apply a surgical patch below\n",
    "\n",
    "Use surgical patch where you specify the pairwise_distance function explicitly\n"
   ]
  },
  {
   "cell_type": "code",
   "execution_count": null,
   "metadata": {},
   "outputs": [],
   "source": [
    "shapes[:,0].reshape(-1,1).T.shape, P.T.shape"
   ]
  },
  {
   "cell_type": "code",
   "execution_count": null,
   "metadata": {},
   "outputs": [],
   "source": [
    "# dominant trend - find top 3 stocks which follow the red rend\n",
    "\n",
    "findN = 4\n",
    "\n",
    "#########################################################################\n",
    "# insert patch code here - use surgical method for pairwise_distances\n",
    "from sklearnex import patch_sklearn\n",
    "patch_sklearn()\n",
    "#########################################################################\n",
    "\n",
    "from sklearn.metrics.pairwise import pairwise_distances\n",
    "\n",
    "# for stocks, I am treating the time as the components of the vector\n",
    "# so I transpose the X & Y so that time[s] are the columns\n",
    "sim = pairwise_distances(P.T, Y=shapes[:,0].reshape(-1,1).T, metric='cosine') \n",
    "#sim = pairwise_distances(P.T, Y=shapes[:,1].reshape(-1,1).T, metric=\"correlation\")\n",
    "# use np.argpartition to find the 4 closest similar to sorting the array and choosing the first 4 or last 4\n",
    "idxs = np.argpartition(sim.flatten(), findN)[findN:]\n",
    "\n",
    "plt.figure(figsize = (16,8))\n",
    "plt.title('Pairwise Distance cosine Similar Time Series similar to downward red shape', fontsize = 18)\n",
    "plt.xlabel('Time', fontsize = 18)\n",
    "\n",
    "colors = ['lime','g','r','violet']\n",
    "for i in range(len(colors)):\n",
    "    plt.plot(P[:,idxs[i]], c=colors[i])\n",
    "plt.plot(120*shapes[:,0] + 450, c = 'b')\n"
   ]
  },
  {
   "cell_type": "code",
   "execution_count": null,
   "metadata": {},
   "outputs": [],
   "source": [
    "# inverse dominant trend - find top 3 stocks - trending down which follow the red trend\n",
    "# Experimenting with using Correlation instead of cosine - Cosine mathces much better\n",
    "sim = pairwise_distances(P.T, Y=shapes[:,1].reshape(-1,1).T, metric='correlation') \n",
    "idxs = np.argpartition(sim.flatten(), findN)[findN:]\n",
    "\n",
    "plt.figure(figsize = (16,8))\n",
    "plt.title('Pairwise Distance Similar Time Series cyclical', fontsize = 18)\n",
    "plt.xlabel('Time', fontsize = 18)\n",
    "\n",
    "colors = ['lime','g','b','violet']\n",
    "for i in range(len(colors)):\n",
    "    plt.plot(P[:,idxs[i]], c=colors[i])\n",
    "plt.plot(120*shapes[:,1] + 700, c = 'orange')"
   ]
  },
  {
   "cell_type": "markdown",
   "metadata": {
    "tags": []
   },
   "source": [
    "# Notices & Disclaimers \n",
    "\n",
    "Intel technologies may require enabled hardware, software or service activation.\n",
    "No product or component can be absolutely secure.\n",
    "\n",
    "Your costs and results may vary.\n",
    "\n",
    "© Intel Corporation. Intel, the Intel logo, and other Intel marks are trademarks of Intel Corporation or its subsidiaries. \n",
    "*Other names and brands may be claimed as the property of others."
   ]
  },
  {
   "cell_type": "code",
   "execution_count": null,
   "metadata": {},
   "outputs": [],
   "source": [
    "print(\"All Done\")"
   ]
  }
 ],
 "metadata": {
  "anaconda-cloud": {},
  "kernelspec": {
   "display_name": "Python 3 (Intel® oneAPI 2023.1)",
   "language": "python",
   "name": "c009-intel_distribution_of_python_3_oneapi-beta05-python"
  },
  "language_info": {
   "codemirror_mode": {
    "name": "ipython",
    "version": 3
   },
   "file_extension": ".py",
   "mimetype": "text/x-python",
   "name": "python",
   "nbconvert_exporter": "python",
   "pygments_lexer": "ipython3",
   "version": "3.9.16"
  },
  "nbTranslate": {
   "displayLangs": [
    "*"
   ],
   "hotkey": "alt-t",
   "langInMainMenu": true,
   "sourceLang": "en",
   "targetLang": "fr",
   "useGoogleTranslate": true
  },
  "toc": {
   "base_numbering": 1,
   "nav_menu": {},
   "number_sections": true,
   "sideBar": true,
   "skip_h1_title": false,
   "title_cell": "Table of Contents",
   "title_sidebar": "Contents",
   "toc_cell": false,
   "toc_position": {},
   "toc_section_display": true,
   "toc_window_display": false
  }
 },
 "nbformat": 4,
 "nbformat_minor": 4
}
