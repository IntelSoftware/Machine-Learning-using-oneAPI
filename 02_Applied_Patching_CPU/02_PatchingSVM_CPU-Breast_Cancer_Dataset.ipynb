{
 "cells": [
  {
   "cell_type": "markdown",
   "id": "aa88ccd5-22db-471f-ace0-d302bf8a476c",
   "metadata": {},
   "source": [
    "# Module 02_02: SVC: targeting CPU and Patching \n",
    "\n",
    "![Assets/SVCacceleration.jpg](Assets/svcPlot.png)\n"
   ]
  },
  {
   "cell_type": "markdown",
   "id": "758b2cdb-e2c0-4613-bb03-f01e2fe41031",
   "metadata": {},
   "source": [
    "# Learning Objectives:\n",
    "\n",
    "1) Describe how to surgically unpatch specific optimized functions if needed\n",
    "2) Describe differences in patching more globally versus more surgically\n",
    "1) applied patching to SVC algorithm\n",
    "2) Describe acceleration for the covtype dataset usinf SVC\n",
    "\n"
   ]
  },
  {
   "cell_type": "markdown",
   "id": "8f5bdd00-2c32-49b1-bd39-77e140e5f739",
   "metadata": {},
   "source": [
    "# Scikit-learn breast Cancer Dataset\n",
    "Fetch the Data\n",
    "\n",
    "- [Back to Sections](#Back_to_Sections)\n"
   ]
  },
  {
   "cell_type": "code",
   "execution_count": null,
   "id": "dfe31d2b-1c03-409a-86ce-55d9af4db898",
   "metadata": {},
   "outputs": [],
   "source": [
    "from sklearnex import unpatch_sklearn, patch_sklearn\n",
    "unpatch_sklearn()"
   ]
  },
  {
   "cell_type": "code",
   "execution_count": null,
   "id": "ae9bc46f-45dd-4474-8dbc-43c1f7d16d47",
   "metadata": {},
   "outputs": [],
   "source": [
    "#Import scikit-learn dataset library\n",
    "from sklearn import datasets\n",
    "\n",
    "#Load dataset\n",
    "cancer = datasets.load_breast_cancer()"
   ]
  },
  {
   "cell_type": "markdown",
   "id": "fa6aee09-194f-4c34-9d74-0e1e583351a6",
   "metadata": {},
   "source": [
    "# Explore the Data"
   ]
  },
  {
   "cell_type": "code",
   "execution_count": null,
   "id": "1b035784-02bf-4067-8944-ef3f9483c2aa",
   "metadata": {},
   "outputs": [],
   "source": [
    "# print the names of the 13 features\n",
    "print(\"Features: \", cancer.feature_names)\n",
    "\n",
    "# print the label type of cancer('malignant' 'benign')\n",
    "print(\"Labels: \", cancer.target_names)\n",
    "\n",
    "# print data(feature)shape\n",
    "cancer.data.shape"
   ]
  },
  {
   "cell_type": "code",
   "execution_count": null,
   "id": "ef31fc6e-3221-41b0-bc6e-f482b8113baa",
   "metadata": {},
   "outputs": [],
   "source": [
    "# print the cancer labels (0:malignant, 1:benign)\n",
    "print(cancer.target)"
   ]
  },
  {
   "cell_type": "markdown",
   "id": "dada8e28-816c-40c0-b24e-ef3c574bc2f1",
   "metadata": {},
   "source": [
    "# Split the data"
   ]
  },
  {
   "cell_type": "code",
   "execution_count": null,
   "id": "6ce36ac2-9dae-46c4-b268-053e37dfe185",
   "metadata": {},
   "outputs": [],
   "source": [
    "# Import train_test_split function\n",
    "from sklearn.model_selection import train_test_split\n",
    "\n",
    "# Split dataset into training set and test set\n",
    "X_train, X_test, y_train, y_test = train_test_split(cancer.data, cancer.target, test_size=0.3,random_state=109) # 70% training and 30% test\n"
   ]
  },
  {
   "cell_type": "code",
   "execution_count": null,
   "id": "5520cd32-cec8-4d08-a1bc-d779b73f91f3",
   "metadata": {},
   "outputs": [],
   "source": [
    "#Import svm model\n",
    "unpatch_sklearn()\n",
    "from sklearn import svm\n",
    "import time\n",
    "\n",
    "start = time.time()\n",
    "#Create a svm Classifier\n",
    "\n",
    "clf = svm.SVC(kernel='linear') # Linear Kernel\n",
    "\n",
    "#Train the model using the training sets\n",
    "clf.fit(X_train, y_train)\n",
    "end = time.time()\n",
    "print(f\"Elapsed: {end-start:.2f}\")\n",
    "#Predict the response for test dataset\n",
    "start = time.time()\n",
    "y_pred = clf.predict(X_test)\n",
    "end = time.time()\n",
    "print(f\"Elapsed: {end-start:.2f}\")"
   ]
  },
  {
   "cell_type": "code",
   "execution_count": null,
   "id": "2e48787b-f0ea-4438-907d-ce193001dfdf",
   "metadata": {},
   "outputs": [],
   "source": [
    "#Import scikit-learn metrics module for accuracy calculation\n",
    "from sklearn import metrics\n",
    "\n",
    "# Model Accuracy: how often is the classifier correct?\n",
    "print(\"Accuracy:\",metrics.accuracy_score(y_test, y_pred))\n",
    "\n",
    "# Model Precision: what percentage of positive tuples are labeled as such?\n",
    "print(\"Precision:\",metrics.precision_score(y_test, y_pred))\n",
    "\n",
    "# Model Recall: what percentage of positive tuples are labelled as such?\n",
    "print(\"Recall:\",metrics.recall_score(y_test, y_pred))"
   ]
  },
  {
   "cell_type": "markdown",
   "id": "93effb54-748d-47cc-92c4-0775d50630fc",
   "metadata": {},
   "source": [
    "# Plot the data"
   ]
  },
  {
   "cell_type": "code",
   "execution_count": null,
   "id": "ddd4ea18-8558-479a-8433-f489d919a3d1",
   "metadata": {},
   "outputs": [],
   "source": [
    "# Plotting settings\n",
    "import matplotlib.pyplot as plt\n",
    "fig, ax = plt.subplots(figsize=(4, 3))\n",
    "#x_min, x_max, y_min, y_max = -3, 3, -3, 3\n",
    "#ax.set(xlim=(x_min, x_max), ylim=(y_min, y_max))\n",
    "\n",
    "# Plot samples by color and add legend\n",
    "scatter = ax.scatter(X_train[:, 0], X_train[:, 1], s=150, c=y_train, label=y_train, edgecolors=\"k\")\n",
    "ax.legend(*scatter.legend_elements(), loc=\"upper right\", title=\"Classes\")\n",
    "ax.set_title(\"Samples in two-dimensional feature space\")\n",
    "_ = plt.show()"
   ]
  },
  {
   "cell_type": "markdown",
   "id": "efd28590-3961-4df5-80d1-9b9af4cf463f",
   "metadata": {},
   "source": [
    "# Too many Dimensions\n",
    "\n",
    "Reduce with PCA, for now fit on X_train only"
   ]
  },
  {
   "cell_type": "code",
   "execution_count": null,
   "id": "359f6935-b0d8-40c5-b14b-7163dd1450bc",
   "metadata": {},
   "outputs": [],
   "source": [
    "import numpy as np\n",
    "from sklearn.decomposition import PCA\n",
    "start = time.time()\n",
    "pca = PCA(n_components=2, svd_solver='arpack')\n",
    "pca.fit(X_train)\n",
    "end = time.time()\n",
    "print(f\"Elapsed: {end-start:.2f}\")\n",
    "print(pca.explained_variance_ratio_)\n",
    "print(pca.singular_values_)\n",
    "\n",
    "start = time.time()\n",
    "PCA_X_train = pca.transform(X_train)\n",
    "PCA_X_test = pca.transform(X_test)\n",
    "end = time.time()\n",
    "print(f\"Elapsed: {end-start:.2f}\")\n"
   ]
  },
  {
   "cell_type": "code",
   "execution_count": null,
   "id": "c2d8b365-1c3d-46c6-b8de-224108113421",
   "metadata": {},
   "outputs": [],
   "source": [
    "from sklearn import svm\n",
    "from sklearn.inspection import DecisionBoundaryDisplay\n",
    "\n",
    "\n",
    "def plot_training_data_with_decision_boundary(kernel):\n",
    "    # Train the SVC\n",
    "    clf = svm.SVC(kernel=kernel, gamma=2).fit(PCA_X_train, y_train)\n",
    "\n",
    "    # Settings for plotting\n",
    "    _, ax = plt.subplots(figsize=(4, 3))\n",
    "\n",
    "    # Plot decision boundary and margins\n",
    "    common_params = {\"estimator\": clf, \"X\": PCA_X_test, \"ax\": ax}\n",
    "    DecisionBoundaryDisplay.from_estimator(\n",
    "        **common_params,\n",
    "        response_method=\"predict\",\n",
    "        plot_method=\"pcolormesh\",\n",
    "        alpha=0.3,\n",
    "    )\n",
    "    DecisionBoundaryDisplay.from_estimator(\n",
    "        **common_params,\n",
    "        response_method=\"decision_function\",\n",
    "        plot_method=\"contour\",\n",
    "        levels=[-1, 0, 1],\n",
    "        colors=[\"k\", \"k\", \"k\"],\n",
    "        linestyles=[\"--\", \"-\", \"--\"],\n",
    "    )\n",
    "\n",
    "    # Plot bigger circles around samples that serve as support vectors\n",
    "    ax.scatter(\n",
    "        clf.support_vectors_[:, 0],\n",
    "        clf.support_vectors_[:, 1],\n",
    "        s=250,\n",
    "        facecolors=\"none\",\n",
    "        edgecolors=\"k\",\n",
    "    )\n",
    "    # Plot samples by color and add legend\n",
    "    ax.scatter(PCA_X_test[:, 0], PCA_X_test[:, 1], c=y_test, s=150, edgecolors=\"k\")\n",
    "    ax.legend(*scatter.legend_elements(), loc=\"upper right\", title=\"Classes\")\n",
    "    ax.set_title(f\" Decision boundaries of {kernel} kernel in SVC\")\n",
    "\n",
    "    _ = plt.show()"
   ]
  },
  {
   "cell_type": "code",
   "execution_count": null,
   "id": "481a55bc-805e-48e4-9b59-422bac51ee03",
   "metadata": {},
   "outputs": [],
   "source": [
    "plot_training_data_with_decision_boundary(\"linear\")"
   ]
  },
  {
   "cell_type": "code",
   "execution_count": null,
   "id": "817b52ec-9841-4aa8-9408-e6df4b0be5d1",
   "metadata": {},
   "outputs": [],
   "source": [
    "from sklearn.ensemble import RandomForestClassifier\n",
    "start = time.time()\n",
    "clf = RandomForestClassifier(random_state=0).fit(X_train, y_train) \n",
    "y_pred = clf.predict(X_test) #Predict on CPU\n",
    "end = time.time()\n",
    "\n",
    "print(f\"Elapsed: {end-start:.2f}\")"
   ]
  },
  {
   "cell_type": "markdown",
   "id": "25d26a9d-ec52-40ea-bf73-fc8f1e348e22",
   "metadata": {},
   "source": [
    "# Exercise:\n",
    "\n",
    "Apply patch below"
   ]
  },
  {
   "cell_type": "code",
   "execution_count": null,
   "id": "0b02296a-bdcd-40ea-83b6-32214a9341e0",
   "metadata": {},
   "outputs": [],
   "source": [
    "#Import svm model\n",
    "from sklearn.metrics import classification_report\n",
    "\n",
    "# Apply the patch_sklearn() function to this cell then run the cell and note the time:\n",
    "\n",
    "###############################\n",
    "## add patch here ##\n",
    "patch_sklearn()\n",
    "###############################\n",
    "\n",
    "import numpy as np\n",
    "from sklearn.decomposition import PCA\n",
    "start = time.time()\n",
    "pca = PCA(n_components=2, svd_solver='arpack')\n",
    "pca.fit(X_train)\n",
    "end = time.time()\n",
    "print(f\"Elapsed: {end-start:.2f}\")\n",
    "print(pca.explained_variance_ratio_)\n",
    "print(pca.singular_values_)\n",
    "\n",
    "start = time.time()\n",
    "PCA_X_train = pca.transform(X_train)\n",
    "PCA_X_test = pca.transform(X_test)\n",
    "end = time.time()\n",
    "print(f\"Elapsed: {end-start:.2f}\")"
   ]
  },
  {
   "cell_type": "code",
   "execution_count": null,
   "id": "97d741a7-d371-4deb-8580-67a895c8af27",
   "metadata": {},
   "outputs": [],
   "source": [
    "\n",
    "\n",
    "from sklearn import svm\n",
    "import time\n",
    "\n",
    "start = time.time()\n",
    "#Create a svm Classifier\n",
    "clf = svm.SVC(kernel='linear') # Linear Kernel\n",
    "\n",
    "#Train the model using the training sets\n",
    "clf.fit(X_train, y_train)\n",
    "end = time.time()\n",
    "print(f\"Elapsed: {end-start:.2f}\")\n",
    "#Predict the response for test dataset\n",
    "start = time.time()\n",
    "y_pred = clf.predict(X_test)\n",
    "end = time.time()\n",
    "print(f\"Elapsed: {end-start:.2f}\")"
   ]
  },
  {
   "cell_type": "code",
   "execution_count": null,
   "id": "c9e57b80-b001-43ef-baa5-6931ac61371c",
   "metadata": {},
   "outputs": [],
   "source": [
    "plot_training_data_with_decision_boundary(\"linear\")"
   ]
  },
  {
   "cell_type": "code",
   "execution_count": null,
   "id": "cc3aa9be-a07d-46f5-a4d7-7ae20fcaddb5",
   "metadata": {},
   "outputs": [],
   "source": [
    "from sklearn.ensemble import RandomForestClassifier\n",
    "start = time.time()\n",
    "clf = RandomForestClassifier(random_state=0).fit(X_train, y_train) \n",
    "y_pred = clf.predict(X_test) #Predict on CPU\n",
    "end = time.time()\n",
    "\n",
    "print(f\"Elapsed: {end-start:.2f}\")"
   ]
  },
  {
   "cell_type": "markdown",
   "id": "7c928f33-4658-4176-ac83-fa790e2203f5",
   "metadata": {},
   "source": [
    "# Observations\n",
    "\n",
    "Observe any differences in acceleration with patching on versus off for the two algorithms.\n",
    "- Did SVC speed up under patching for this dataset?\n",
    "- Did Random Forest speed up under patching for this dataset?\n",
    "\n",
    "As we saw in chapter one in notebook, 02_sklearnex_Motivation_Acceleration.ipynb, SVC can be accerlated to a high degree for some datasets. The nature of this Breast Cancer dataset is one rare instance where we have not seen a performance boost from this library with patching."
   ]
  },
  {
   "cell_type": "markdown",
   "id": "1e4d68bd-e5e7-40c5-9b6c-1405369057c5",
   "metadata": {},
   "source": [
    "# Summary:\n",
    "\n",
    "You have:\n",
    "\n",
    "1) applied patching to SVC algorithm\n",
    "2) Describe acceleration for tehe covtype dataset\n",
    "    "
   ]
  },
  {
   "cell_type": "markdown",
   "id": "e8582307-b7cb-4e39-b0b9-0436f44e24c9",
   "metadata": {},
   "source": [
    "# Notices & Disclaimers \n",
    "\n",
    "Intel technologies may require enabled hardware, software or service activation.\n",
    "No product or component can be absolutely secure.\n",
    "\n",
    "Your costs and results may vary.\n",
    "\n",
    "© Intel Corporation. Intel, the Intel logo, and other Intel marks are trademarks of Intel Corporation or its subsidiaries. \n",
    "*Other names and brands may be claimed as the property of others."
   ]
  },
  {
   "cell_type": "code",
   "execution_count": null,
   "id": "f0fab13d-a23c-4aec-a29b-864d6341a3b0",
   "metadata": {},
   "outputs": [],
   "source": [
    "print(\"All Done\")"
   ]
  }
 ],
 "metadata": {
  "kernelspec": {
   "display_name": "Base",
   "language": "python",
   "name": "base"
  },
  "language_info": {
   "codemirror_mode": {
    "name": "ipython",
    "version": 3
   },
   "file_extension": ".py",
   "mimetype": "text/x-python",
   "name": "python",
   "nbconvert_exporter": "python",
   "pygments_lexer": "ipython3",
   "version": "3.9.18"
  }
 },
 "nbformat": 4,
 "nbformat_minor": 5
}
