{
 "cells": [
  {
   "cell_type": "markdown",
   "metadata": {},
   "source": [
    "# Machine Learning using oneAPI"
   ]
  },
  {
   "cell_type": "markdown",
   "metadata": {
    "tags": []
   },
   "source": [
    "The concepts build on top of each other introducing and reinforcing the concepts of maching learning using oneAPI. At a high level you learn to accelerate end-to-end AI and data analytics pipelines with libraries optimized for Intel® architectures in commonly used machine learning algorithms including popular packages such as Numpy*, SciPy*, Pandas*, Scikit-learn*, XGBoost*.\n",
    "\n",
    "You will be able to identify dentify performance limiting coding patterns and address them with simple code changes which target Intel CPU & GPU with minimal coding efforts.\n",
    "\n",
    "## Module 0 - Introduction to Jupyter Notebook\n",
    "\n",
    "- [**Introduction to Jupyter Notebook (Optional)**](00_sklearnex_Prerequisites/Setup_Instructions_Numba.ipynb)\n",
    "**`Optional`** This module explains how to use Jupyter Notebook which is used in all of the modules to edit and run coding excecises, this can be skipped if you are already familiar with using Jupyter Notebooks.\n",
    "\n",
    "## Module 1 - Introduction to Intel_Extensions for Scikit-learn: Patching on CPU\n",
    "These initial hands-on exercises introduce you to concepts of Intel Extensions for Scikit-learn*. You will be introduced to the concept of 'patching' and 'unpatching' using Intel Extensions for Scikit-learn*. You wil also learn about Coarse versus Finer grained patching in this exercise \n",
    "- [**01_sklearnex_Intro_Acceleration**](01_Intel_Extensions_for_Scikit-learn_Patching_CPU/01_01_sklearnex_Intro_Acceleration.ipynb) Demonstrates where and how to apply a patch  to accomate a range of alogorithms in a test harness\n",
    "\n",
    "- [**02_Coarse_Patching_Instructions**](01_Intel_Extensions_for_Scikit-learn_Patching_CPU/01_02_Coarse_Patching_Instructions.ipynb) Convert a Jupyter Notebook to a python file and then apply patching at the command line \n",
    "\n",
    "## Module 2 - Applied Patching on CPU\n",
    "These hands-on exercises present how apply patching to a variety of scikit-learn classification algorithms\n",
    "- [**01_Pairwise_DistanceVectorizedStockSImulationReadPortfolio**](02_Applied_Patching_CPU/02_01_Pairwise_DistanceVectorizedStockSImulationReadPortfolio.ipynb) Using pairwise distance to compare a portfoilio of stock like time series data \n",
    "\n",
    "- [**02_Patching KNN on CPU**](02_Applied_Patching_CPU/02_02_PatchingKNN_CPU.ipynb) Using KNN to Predict forest coverage type of the CovType dataset\n",
    "\n",
    "- [**03_Patching Kmeans on CPU**](02_Applied_Patching_CPU/02_03_Patching_Kmeans_CPU.ipynb) Using KMeans to find 3 data clusters in the iris dataset\n",
    "\n",
    "- [**04_Patching SVM on CPU**](02_Applied_Patching_CPU/02_04_PatchingSVM_CPU.ipynb) Using Support Vector Classifier (SVC) to predict forest coverage type of the CovType dataset to predict forest coverage type of the CovType dataset\n",
    "\n",
    "- [**Practicum: Patching multiple algorithms Telco Customer Churn**](02_Applied_Patching_CPU/Practicum_TelcoCustomerChurn.ipynb)\n",
    "These hands-on exercises allow you to apply what you have learned to a more complex code that does clustering, data decomposition, and classification on tabular data from **Telco Customer Churn dataset**. This is a **Practicum** intended to test your retention of knowledge related to patching principles, and synthesize what you have learned in likely unseen code.\n",
    "\n",
    "## Module 3 - Patching Applied to Image Clustering on CPU\n",
    "- [**01_Patching PCA, and Clustering Alogorithms**](03_Applied_to_Image_Clustering_CPU/03_01_Practicum_ImageClustering.ipynb) This hands-on exercise allows you to apply what you have learned to a more complex code that computes clusters for a selection of images based upon features in the the RGB color space where numpy representation of the images have been reshaped so each image resides in \"one row\" of the dataset. This is a **Practicum** intended to test your retention of knowledge related to patching principles.\n",
    "\n",
    "## Module 4 - Patching Applied to Star/Galaxy Classification on CPU\n",
    "\n",
    "- [**01_Patching multiple classifiers on CPU**](04_Applied_to_Galaxy_Classification_CPU/04_01_Practicum_AnalyzeGalaxyBatch.ipynb) This hands-on exercise allows you to apply what you have learned to a more complex code that classifies stars as belonging to either of two colliding galaxies. This allows you to apply patching on code that searhces hyperparameter space, repeatedly calling fit and predct for a handul of classifiers. This is a **Practicum** intended to test your retention of knowledge related to patching principles.\n",
    "\n",
    "## Module 5 - Introduction dpctl for GPU\n",
    "- [**01_Introduction_dpctl_for GPU**](05_Introduction_dpctl_for_GPU/05_01_Introduction_simple_gallery_dpctl_for_GPU.ipynb) Demonstrates where and how to apply a patch and dpctl (Comcpute follows data) to accomate a range of alogorithms in a test harness. You will compute the **fit** function **on an Intel GPU** for a number of alogorithms, then **predict** using the fitted model to **inference on a CPU**.\n",
    "\n",
    "- [**02_Patching KNN on GPU**](05_Introduction_dpctl_for_GPU/05_02_PatchingKNN_GPU.ipynb) Using KNN on Intel GPU to predict forest coverage type of the CovType dataset, leveraging patching and \"Compute Follows Data\". In this notebook, you will apply \"Compute Follows Data\" for **both KNN.Fit and KNN.Predict on an Intel GPU** \n",
    "\n",
    "- [**03_Gallery of functions on GPU**](05_Introduction_dpctl_for_GPU/05_03_Gallery_of_Functions_on_GPU.ipynb) Apply Patching AND Compute Follows Data to a gallery of KNN Regression, Linear Regression, dbscan, k_means_random, pca.\n",
    "\n",
    "## Module 6 - Image Clustering Example on Intel GPU\n",
    "- [**Practicum: Module 06_01: ImageClustering using PCA, Kmeans, DBSCAN**](06_Applied_to_Image_Clustering_GPU/06_01_Practicum_ImageClustering.ipynb)\n",
    "**Practicum** apply your knowledge of where and how to apply a patch and dpctl (Compute follows data) to a derivative of the Image Clustering code from Unit 03 \n",
    "\n",
    "## Module 7 - Star/Galaxy Classification on Intel GPU\n",
    "- [**Practicum: Module 07_01: Classify Stars in Colliding Galaxies**](07_Applied_to_Galaxy_Classification_GPU/07_01_Practicum_AnalyzeGalaxyBatch.ipynb)\n",
    "**Practicum** apply your knowledge of where and how to apply a patch and dpctl (Compute follows data) to a derivative of the Star Classification code from Unit 04.\n",
    "\n",
    "## Module 8 - Introduction to NumPy, SciPy, Pandas powered by oneAPI\n",
    "- [**01_Numpy_How_Fast_Are_Numpy_Ops**](08_Introduction_to_Numpy_powered_by_oneAPI/08_01_Numpy_How_Fast_Are_Numpy_Ops.ipynb) Apply NumPy broadcasting, aggregations, universal functions, where, and select clauses to accelerate sluggish Python loops.\n",
    "- [**02_PandasPoweredBy_oneAPI**](08_Introduction_to_Numpy_powered_by_oneAPI/08_02_PandasPoweredBy_oneAPI.ipynb)\n",
    "Extend NumPy Select and Where clause to Pandas dataframe \"apply\" functions to achive considerable acceleration on compex conditional logic called by apply function.\n",
    "\n",
    "# Dependences:\n",
    "\n",
    "Prior to labs, use pip to installed the dependencies in the requirements.txt file\n",
    "- pip install -r requirements.txt\n"
   ]
  },
  {
   "cell_type": "code",
   "execution_count": null,
   "metadata": {},
   "outputs": [],
   "source": []
  }
 ],
 "metadata": {
  "kernelspec": {
   "display_name": "Python 3.8 (Intel® oneAPI)",
   "language": "python",
   "name": "c009-intel_distribution_of_python_3_oneapi-beta05-python"
  },
  "language_info": {
   "codemirror_mode": {
    "name": "ipython",
    "version": 3
   },
   "file_extension": ".py",
   "mimetype": "text/x-python",
   "name": "python",
   "nbconvert_exporter": "python",
   "pygments_lexer": "ipython3",
   "version": "3.9.10"
  },
  "toc": {
   "base_numbering": 1,
   "nav_menu": {},
   "number_sections": true,
   "sideBar": true,
   "skip_h1_title": false,
   "title_cell": "Table of Contents",
   "title_sidebar": "Contents",
   "toc_cell": false,
   "toc_position": {
    "height": "calc(100% - 180px)",
    "left": "10px",
    "top": "150px",
    "width": "384.391px"
   },
   "toc_section_display": true,
   "toc_window_display": true
  },
  "widgets": {
   "application/vnd.jupyter.widget-state+json": {
    "state": {},
    "version_major": 2,
    "version_minor": 0
   }
  }
 },
 "nbformat": 4,
 "nbformat_minor": 4
}
