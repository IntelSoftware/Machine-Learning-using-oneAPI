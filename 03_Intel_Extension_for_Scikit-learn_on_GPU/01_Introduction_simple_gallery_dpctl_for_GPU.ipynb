{
 "cells": [
  {
   "cell_type": "markdown",
   "metadata": {},
   "source": [
    "# Module 05_01: Introduction to Intel® Extension for Scikit-learn*: GPU\n",
    "\n",
    "\n",
    "You are going to generate scores proving you communicated successfully and did sklearn computation on Intel GPU\n",
    "\n",
    "![Assets/GalleryScores.png](Assets/GalleryScores.png)"
   ]
  },
  {
   "cell_type": "markdown",
   "metadata": {
    "jp-MarkdownHeadingCollapsed": true,
    "tags": []
   },
   "source": [
    "<a id='Back_to_Sections'></a>\n",
    "\n",
    "## Sections\n",
    "- [Examine Optimized Functions in Sklearnex for GPU](#Examine-All-Optimized-Functions-in-Sklearnex)\n",
    "- [Demonstrate usage of Intel® Extension for Scikit-learn with kmeans using patch_sklearn](#Demonstrate-usage-of-Intel-Extension-for-Scikit-learn-with-kmeans-using-patch_sklearn)\n",
    "- [Compare timings of stock kmeans versus Intel® Extension for Scikit-learn kmeans](#Compare-timings-of-stock-kmeans-versus-Intel-Extension-for-Scikit-learn-kmeans)\n",
    "- [Introduction to Daal4py](#Introduction-to-Daal4py)\n",
    "- [oneAPI and GPU support in Intel® Extension for Scikit learn*](oneAPI-and-GPU-support-in-Intel-Extension-for-Scikit-learn*)\n",
    "- [Plot DBSCAN results as computed on GPU](#Plot-DBSCAN-results-as-computed-on-GPU)\n"
   ]
  },
  {
   "cell_type": "markdown",
   "metadata": {},
   "source": [
    "## Learning Objectives\n",
    "\n",
    "* In this moduel you will learn **HOW** to apply patching while targeting an Intel GPU.\n",
    "* Apply Intel Extension for Scikit-learn to RandomForest on Intel GPU\n",
    "* This current notebook is **NOT** intended to demonstrate performance but rather the functionality of HOW to target current and future Intel GPU's with Scikit-learn algorithms powered by oneAPI.\n",
    "\n",
    "\n"
   ]
  },
  {
   "cell_type": "markdown",
   "metadata": {},
   "source": [
    "The following code demonstrates usage of Intel(R) Extension for Scikit-learn. Inspect code; there are no modifications necessary:\n",
    "1. Inspect the following code cell and click Run (▶)to save the code to file.\n",
    "2. Next, run (▶) the cell in the __Build and Run__ section following the code to compile and execute the code."
   ]
  },
  {
   "cell_type": "markdown",
   "metadata": {},
   "source": [
    "# Examine Which Scikit-learn* Are Optimized in Sklearnex\n",
    "\n",
    "These following are the currently optimized functions optimized with Intel(r) Extensions for scikit learn\n",
    "\n",
    "- [Back to Sections](#Back_to_Sections)"
   ]
  },
  {
   "cell_type": "code",
   "execution_count": 1,
   "metadata": {},
   "outputs": [
    {
     "data": {
      "text/html": [
       "<div>\n",
       "<style scoped>\n",
       "    .dataframe tbody tr th:only-of-type {\n",
       "        vertical-align: middle;\n",
       "    }\n",
       "\n",
       "    .dataframe tbody tr th {\n",
       "        vertical-align: top;\n",
       "    }\n",
       "\n",
       "    .dataframe thead th {\n",
       "        text-align: right;\n",
       "    }\n",
       "</style>\n",
       "<table border=\"1\" class=\"dataframe\">\n",
       "  <thead>\n",
       "    <tr style=\"text-align: right;\">\n",
       "      <th></th>\n",
       "      <th>Acronym</th>\n",
       "      <th>Name</th>\n",
       "      <th>What is it used for</th>\n",
       "      <th>Advantages</th>\n",
       "      <th>Disadvantages</th>\n",
       "    </tr>\n",
       "  </thead>\n",
       "  <tbody>\n",
       "    <tr>\n",
       "      <th>0</th>\n",
       "      <td>dbscan</td>\n",
       "      <td>Density-based spatial clustering of applicatio...</td>\n",
       "      <td>Density-based spatial clustering of applicatio...</td>\n",
       "      <td>does not require one to specify the number of ...</td>\n",
       "      <td>scklearnex must only use ‘euclidean’ or ‘minko...</td>\n",
       "    </tr>\n",
       "    <tr>\n",
       "      <th>1</th>\n",
       "      <td>kmeans</td>\n",
       "      <td>K-Means clustering.</td>\n",
       "      <td>KMeans algorithm clusters data by trying to se...</td>\n",
       "      <td>Relatively simple to implement. Scales to larg...</td>\n",
       "      <td>intel sklearnex: All parameters except precomp...</td>\n",
       "    </tr>\n",
       "    <tr>\n",
       "      <th>2</th>\n",
       "      <td>kneighborsclassifier</td>\n",
       "      <td>K Nearest Neighbors Classifier</td>\n",
       "      <td>Classifier: Find the K-neighbors of a point. R...</td>\n",
       "      <td>K-NN is pretty intuitive and simple: \\nK-NN al...</td>\n",
       "      <td>Intel sklearex:  All parameters except algorit...</td>\n",
       "    </tr>\n",
       "    <tr>\n",
       "      <th>3</th>\n",
       "      <td>kneighborsregressor</td>\n",
       "      <td>K Nearest Neighbors Regressor</td>\n",
       "      <td>Regressor: Find the K-neighbors of a point. Re...</td>\n",
       "      <td>K-NN is pretty intuitive and simple: \\nK-NN al...</td>\n",
       "      <td>Intel sklearex:  All parameters except algorit...</td>\n",
       "    </tr>\n",
       "    <tr>\n",
       "      <th>4</th>\n",
       "      <td>linear</td>\n",
       "      <td>Linear Regression</td>\n",
       "      <td>Fitting line of best fit through data</td>\n",
       "      <td>Simple method  \\nGood interpretation \\nEasy to...</td>\n",
       "      <td>Intel sklearnex: All parameters except normali...</td>\n",
       "    </tr>\n",
       "    <tr>\n",
       "      <th>5</th>\n",
       "      <td>logistic</td>\n",
       "      <td>Logistic Regression</td>\n",
       "      <td>Classifier: Generally used for quick binary cl...</td>\n",
       "      <td>Doesn’t assume linear relationship between ind...</td>\n",
       "      <td>Intel sklearnex: All parameters  solver must N...</td>\n",
       "    </tr>\n",
       "    <tr>\n",
       "      <th>6</th>\n",
       "      <td>pca</td>\n",
       "      <td>Principal Component Analysis (PCA)</td>\n",
       "      <td>Dimensionality reduction. Pre processto reduce...</td>\n",
       "      <td>PCA can help us improve performance at a very ...</td>\n",
       "      <td>intel sklearnex: All parameters  svd_solver MU...</td>\n",
       "    </tr>\n",
       "    <tr>\n",
       "      <th>7</th>\n",
       "      <td>random_forest_classifier</td>\n",
       "      <td>Random Forest Classifier</td>\n",
       "      <td>Classifier: A random forest produces good pred...</td>\n",
       "      <td>One third of data is not used for training, he...</td>\n",
       "      <td>SKLEARNEX: warm_start must be False,cpp_alpha ...</td>\n",
       "    </tr>\n",
       "    <tr>\n",
       "      <th>8</th>\n",
       "      <td>random_forest_regressor</td>\n",
       "      <td>Random Forest Regressor</td>\n",
       "      <td>Regressor: A random forest produces good predi...</td>\n",
       "      <td>One third of data is not used for training, he...</td>\n",
       "      <td>SKLEARNEX: warm_start must be False,cpp_alpha ...</td>\n",
       "    </tr>\n",
       "    <tr>\n",
       "      <th>9</th>\n",
       "      <td>svc</td>\n",
       "      <td>Support Vector Classifier</td>\n",
       "      <td>Classification: requires X &amp; y.  It is based o...</td>\n",
       "      <td>1. Regularization capabilities: SVM has L2 Reg...</td>\n",
       "      <td>SKLEARNEX: Only binary dense data is supported...</td>\n",
       "    </tr>\n",
       "  </tbody>\n",
       "</table>\n",
       "</div>"
      ],
      "text/plain": [
       "                    Acronym  \\\n",
       "0                    dbscan   \n",
       "1                    kmeans   \n",
       "2      kneighborsclassifier   \n",
       "3       kneighborsregressor   \n",
       "4                    linear   \n",
       "5                  logistic   \n",
       "6                       pca   \n",
       "7  random_forest_classifier   \n",
       "8   random_forest_regressor   \n",
       "9                       svc   \n",
       "\n",
       "                                                Name  \\\n",
       "0  Density-based spatial clustering of applicatio...   \n",
       "1                                K-Means clustering.   \n",
       "2                   K Nearest Neighbors Classifier     \n",
       "3                    K Nearest Neighbors Regressor     \n",
       "4                                  Linear Regression   \n",
       "5                                Logistic Regression   \n",
       "6                 Principal Component Analysis (PCA)   \n",
       "7                           Random Forest Classifier   \n",
       "8                            Random Forest Regressor   \n",
       "9                          Support Vector Classifier   \n",
       "\n",
       "                                 What is it used for  \\\n",
       "0  Density-based spatial clustering of applicatio...   \n",
       "1  KMeans algorithm clusters data by trying to se...   \n",
       "2  Classifier: Find the K-neighbors of a point. R...   \n",
       "3  Regressor: Find the K-neighbors of a point. Re...   \n",
       "4              Fitting line of best fit through data   \n",
       "5  Classifier: Generally used for quick binary cl...   \n",
       "6  Dimensionality reduction. Pre processto reduce...   \n",
       "7  Classifier: A random forest produces good pred...   \n",
       "8  Regressor: A random forest produces good predi...   \n",
       "9  Classification: requires X & y.  It is based o...   \n",
       "\n",
       "                                          Advantages  \\\n",
       "0  does not require one to specify the number of ...   \n",
       "1  Relatively simple to implement. Scales to larg...   \n",
       "2  K-NN is pretty intuitive and simple: \\nK-NN al...   \n",
       "3  K-NN is pretty intuitive and simple: \\nK-NN al...   \n",
       "4  Simple method  \\nGood interpretation \\nEasy to...   \n",
       "5  Doesn’t assume linear relationship between ind...   \n",
       "6  PCA can help us improve performance at a very ...   \n",
       "7  One third of data is not used for training, he...   \n",
       "8  One third of data is not used for training, he...   \n",
       "9  1. Regularization capabilities: SVM has L2 Reg...   \n",
       "\n",
       "                                       Disadvantages  \n",
       "0  scklearnex must only use ‘euclidean’ or ‘minko...  \n",
       "1  intel sklearnex: All parameters except precomp...  \n",
       "2  Intel sklearex:  All parameters except algorit...  \n",
       "3  Intel sklearex:  All parameters except algorit...  \n",
       "4  Intel sklearnex: All parameters except normali...  \n",
       "5  Intel sklearnex: All parameters  solver must N...  \n",
       "6  intel sklearnex: All parameters  svd_solver MU...  \n",
       "7  SKLEARNEX: warm_start must be False,cpp_alpha ...  \n",
       "8  SKLEARNEX: warm_start must be False,cpp_alpha ...  \n",
       "9  SKLEARNEX: Only binary dense data is supported...  "
      ]
     },
     "execution_count": 1,
     "metadata": {},
     "output_type": "execute_result"
    }
   ],
   "source": [
    "import pandas as pd\n",
    "sklearnex_gallery = pd.read_csv('data/sklearnex_gallery_gpu.csv')\n",
    "sklearnex_gallery"
   ]
  },
  {
   "cell_type": "code",
   "execution_count": 2,
   "metadata": {},
   "outputs": [
    {
     "name": "stdout",
     "output_type": "stream",
     "text": [
      "1. Regularization capabilities: SVM has L2 Regularization feature. So, it has good generalization capabilities which prevent it from over-fitting.   \n",
      "2. Handles non-linear data efficiently: SVM can efficiently handle non-linear data using Kernel trick.   \n",
      "3. Solves both Classification and Regression problems: SVM can be used to solve both classification and regression problems. SVM is used for classification problems while SVR (Support Vector Regression) is used for regression problems.   4. Stability: A small change to the data does not greatly affect the hyperplane and hence the SVM. So the SVM model is stable.\n"
     ]
    }
   ],
   "source": [
    "def print_gallery_details(acroynm, column):\n",
    "    print(sklearnex_gallery[sklearnex_gallery['Acronym'] == acroynm][column].tolist()[0])\n",
    "\n",
    "details = ['What is it used for', 'Advantages', 'Disadvantages']\n",
    "print_gallery_details('svc', 'Advantages')"
   ]
  },
  {
   "cell_type": "markdown",
   "metadata": {},
   "source": [
    "## oneAPI and GPU support in Intel Extension for Scikit learn*\n",
    "DPCTL is the python mechanism used to interface to SYCL device management. It is implemented via with sycl_context(\"xpu\") blocks that redirect execution to a device of the selected type: GPU, CPU, or host. scikit-learn programs can be executed on GPU devices as well.\n",
    "\n",
    "- [Back to Sections](#Back_to_Sections)\n",
    "\n",
    "To patch your code with Intel CPU/GPU optimizations:"
   ]
  },
  {
   "cell_type": "markdown",
   "metadata": {},
   "source": [
    "The following code demonstrates usage of simple DPPY code. Inspect code; there are no modifications necessary:\n",
    "1. Inspect the following code cell and click Run (▶)to save the code to file.\n",
    "2. Next, run (▶) the cell in the __Build and Run__ section following the code to compile and execute the code."
   ]
  },
  {
   "cell_type": "markdown",
   "metadata": {
    "tags": []
   },
   "source": [
    "# Regarding when/how to cast to and from dpctl.tensors\n",
    "\n",
    "This information bears repeating: to make sure the concept is clear.\n",
    "\n",
    "Study the code sectons near the conversion to and from dptcl/Numpy\n",
    "\n",
    "For all sklearnex alogorithms - it will be necessary to cast the X and/or y data passed as the parameter list to dpctl tensor in order for the GPU to access the data and performan the computation.\n",
    "\n",
    "### Examples casting from numpy to dpctl version 12 and later:\n",
    "```python\n",
    "x_device = dpctl.tensor.asarray(X, usm_type = 'device', device = \"gpu:0\")\n",
    "y_device = dpctl.tensor.asarray(y, usm_type = 'device', device = \"gpu:0\")\n",
    "```\n",
    "Pay attention ot **return** types from:\n",
    "- **fit** - many cases in scikit-learn, fit returns selfobject\n",
    "- **fit_predict** - returns **ndarray** requires casting after the call on host (to_numpy)\n",
    "- **predict** -  returns **ndarray** requires casting after the call on host (to_numpy)\n",
    "- **fit_transform** - returns returns **ndarray** requires casting after the call on host (to_numpy)\n",
    "- **tranform** - typically returns **ndarray** requires casting after the call on host (to_numpy)\n",
    "\n",
    "Scikit-learn routines that potentially return ndarray type objects or which expect ndtype objects passed as a parameter will need to be cast to/from numpy from/to dpctl.tensor\n",
    "\n",
    "To cast data being fed TO one of these routines:\n",
    "- use dpctl.tensor.from_numpy() to conver from NumPy to dpctl tensor\n",
    "- use dpctl.tensor.to_numpy() to convert from dpctl tensor to NumPy\n",
    "\n",
    "Example: After a call to fit_predict:\n",
    "- **catch_device** = estimator.fit_predict(**x_device**, **y_device**)\n",
    "- **predictedHost** = dpctl.tensor.to_numpy(**catch_device**)\n"
   ]
  },
  {
   "cell_type": "markdown",
   "metadata": {},
   "source": [
    "# Simple Compute Follows Data and Patching for kmeans\n",
    "\n",
    "- [Back to Sections](#Back_to_Sections)"
   ]
  },
  {
   "cell_type": "code",
   "execution_count": 3,
   "metadata": {},
   "outputs": [
    {
     "name": "stdout",
     "output_type": "stream",
     "text": [
      "dpctl.__version__ =  0.16.0\n"
     ]
    }
   ],
   "source": [
    "import dpctl\n",
    "print(\"dpctl.__version__ = \",dpctl.__version__)"
   ]
  },
  {
   "cell_type": "code",
   "execution_count": 4,
   "metadata": {},
   "outputs": [
    {
     "name": "stderr",
     "output_type": "stream",
     "text": [
      "Intel(R) Extension for Scikit-learn* enabled (https://github.com/intel/scikit-learn-intelex)\n"
     ]
    }
   ],
   "source": [
    "from sklearnex import patch_sklearn\n",
    "patch_sklearn()"
   ]
  },
  {
   "cell_type": "code",
   "execution_count": 5,
   "metadata": {},
   "outputs": [
    {
     "name": "stdout",
     "output_type": "stream",
     "text": [
      "Estimated number of clusters: 3\n",
      "Estimated number of noise points: 18\n"
     ]
    },
    {
     "name": "stderr",
     "output_type": "stream",
     "text": [
      "Intel(R) Extension for Scikit-learn* enabled (https://github.com/intel/scikit-learn-intelex)\n",
      "Intel(R) Extension for Scikit-learn* enabled (https://github.com/intel/scikit-learn-intelex)\n"
     ]
    }
   ],
   "source": [
    "#===============================================================================\n",
    "# Copyright 2023 Intel Corporation\n",
    "#\n",
    "# Licensed under the Apache License, Version 2.0 (the \"License\");\n",
    "# you may not use this file except in compliance with the License.\n",
    "# You may obtain a copy of the License at\n",
    "#\n",
    "#     http://www.apache.org/licenses/LICENSE-2.0\n",
    "#\n",
    "# Unless required by applicable law or agreed to in writing, software\n",
    "# distributed under the License is distributed on an \"AS IS\" BASIS,\n",
    "# WITHOUT WARRANTIES OR CONDITIONS OF ANY KIND, either express or implied.\n",
    "# See the License for the specific language governing permissions and\n",
    "# limitations under the License.\n",
    "#===============================================================================\n",
    "\n",
    "# Calling scikit-learn patch - this would enable acceleration on all\n",
    "# enabled algorithms. This is most straight forward way of patching\n",
    "from sklearnex import patch_sklearn\n",
    "patch_sklearn()\n",
    "\n",
    "# Function that can validate current state of patching\n",
    "# from sklearnex import sklearn_is_patched\n",
    "# sklearn_is_patched()\n",
    "\n",
    "# Calling scikit-learn unpatch - this would revert patching for all algorithms\n",
    "# from sklearnex import unpatch_sklearn\n",
    "# unpatch_sklearn()\n",
    "\n",
    "# Direct import of functions in way aligned with scikit-learn\n",
    "from sklearnex.neighbors import NearestNeighbors\n",
    "\n",
    "#Patching can be enabled for selected algorithms/estimators only\n",
    "patch_sklearn([\"DBSCAN\"])\n",
    "\n",
    "#Remaining non modified scikit-learn codes\n",
    "from sklearn.datasets import make_blobs\n",
    "from sklearn.preprocessing import StandardScaler\n",
    "\n",
    "centers = [[1, 1], [-1, -1], [1, -1]]\n",
    "X, labels_true = make_blobs(\n",
    "    n_samples=750, centers=centers, cluster_std=0.4, random_state=0\n",
    ")\n",
    "\n",
    "X = StandardScaler().fit_transform(X)\n",
    "\n",
    "from sklearn.cluster import DBSCAN\n",
    "\n",
    "db = DBSCAN(eps=0.3, min_samples=10).fit(X) # Compute follows data here and X is on CPU\n",
    "labels = db.labels_\n",
    "\n",
    "# Number of clusters in labels, ignoring noise if present.\n",
    "n_clusters_ = len(set(labels)) - (1 if -1 in labels else 0)\n",
    "n_noise_ = list(labels).count(-1)\n",
    "\n",
    "print(\"Estimated number of clusters: %d\" % n_clusters_)\n",
    "print(\"Estimated number of noise points: %d\" % n_noise_)"
   ]
  },
  {
   "cell_type": "code",
   "execution_count": 6,
   "metadata": {},
   "outputs": [],
   "source": [
    "# x_device = dpctl.tensor.asarray(X,  device = device)\n",
    "device = dpctl.select_default_device()"
   ]
  },
  {
   "cell_type": "markdown",
   "metadata": {},
   "source": [
    "# Exercise:\n",
    "\n",
    "Apply Patch and Compute Follows Data. \n",
    "\n",
    "New with the Intel Developer Cloud, the cell below executes on the instance's GPU directly, no need to use writefile and the qsubmission process."
   ]
  },
  {
   "cell_type": "code",
   "execution_count": 7,
   "metadata": {},
   "outputs": [
    {
     "name": "stdout",
     "output_type": "stream",
     "text": [
      "dpctl.__version__ =  0.16.0\n",
      "Using device ...\n",
      "    Name            Intel(R) Data Center GPU Max 1100\n",
      "    Driver version  1.3.28202\n",
      "    Vendor          Intel(R) Corporation\n",
      "    Filter string   level_zero:gpu:0\n",
      "\n"
     ]
    },
    {
     "name": "stderr",
     "output_type": "stream",
     "text": [
      "Intel(R) Extension for Scikit-learn* enabled (https://github.com/intel/scikit-learn-intelex)\n"
     ]
    },
    {
     "name": "stdout",
     "output_type": "stream",
     "text": [
      "kmeans.labels_ = [1. 1. 1. 0. 0. 0.]\n"
     ]
    }
   ],
   "source": [
    "# Copyright 2021 Intel Corporation\n",
    "#\n",
    "# Licensed under the Apache License, Version 2.0 (the \"License\");\n",
    "# you may not use this file except in compliance with the License.\n",
    "# You may obtain a copy of the License at\n",
    "#\n",
    "#      http://www.apache.org/licenses/LICENSE-2.0\n",
    "#\n",
    "# Unless required by applicable law or agreed to in writing, software\n",
    "# distributed under the License is distributed on an \"AS IS\" BASIS,\n",
    "# WITHOUT WARRANTIES OR CONDITIONS OF ANY KIND, either express or implied.\n",
    "# See the License for the specific language governing permissions and\n",
    "# limitations under the License.\n",
    "\n",
    "import numpy as np\n",
    "\n",
    "################################################################\n",
    "#\n",
    "# Import dptcl and patch here\n",
    "\n",
    "import dpctl\n",
    "print(\"dpctl.__version__ = \", dpctl.__version__)\n",
    "\n",
    "from sklearnex import patch_sklearn\n",
    "patch_sklearn()\n",
    "#\n",
    "################################################################\n",
    "\n",
    "X = np.array([[1,  2], [1,  4], [1,  0],\n",
    "              [10, 2], [10, 4], [10, 0]])\n",
    "\n",
    "# You need to re-import scikit-learn algorithms after the patch\n",
    "from sklearn.cluster import KMeans\n",
    "\n",
    "device = dpctl.select_default_device()\n",
    "print(\"Using device ...\")\n",
    "device.print_device_info()\n",
    "\n",
    "x_device = dpctl.tensor.asarray(X,  device = device)\n",
    "#x_device = dpctl.tensor.to_numpy(X,  device = device)\n",
    "\n",
    "kmeans = KMeans(n_clusters=2, init='random', random_state=0).fit(x_device)\n",
    "print(f\"kmeans.labels_ = {kmeans.labels_}\")"
   ]
  },
  {
   "cell_type": "markdown",
   "metadata": {},
   "source": [
    "## Exercise:\n",
    "\r\n",
    "Apply Patch and Compute Follows Data.\r",
    "The code below using writfilel and the qsub process is rtatined for backward compatibility with the old \"Colfax\" DevCloud."
   ]
  },
  {
   "cell_type": "code",
   "execution_count": 8,
   "metadata": {
    "ExecuteTime": {
     "end_time": "2021-11-03T01:44:15.186824Z",
     "start_time": "2021-11-03T01:44:15.162279Z"
    }
   },
   "outputs": [
    {
     "name": "stdout",
     "output_type": "stream",
     "text": [
      "dpctl.__version__ =  0.16.0\n",
      "Using device ...\n",
      "    Name            Intel(R) Data Center GPU Max 1100\n",
      "    Driver version  1.3.28202\n",
      "    Vendor          Intel(R) Corporation\n",
      "    Filter string   level_zero:gpu:0\n",
      "\n",
      "kmeans.labels_ = [1. 1. 1. 0. 0. 0.]\n"
     ]
    },
    {
     "name": "stderr",
     "output_type": "stream",
     "text": [
      "Intel(R) Extension for Scikit-learn* enabled (https://github.com/intel/scikit-learn-intelex)\n"
     ]
    }
   ],
   "source": [
    "#%%writefile lab/scikit_kmeans.py\n",
    "\n",
    "# Copyright 2021 Intel Corporation\n",
    "#\n",
    "# Licensed under the Apache License, Version 2.0 (the \"License\");\n",
    "# you may not use this file except in compliance with the License.\n",
    "# You may obtain a copy of the License at\n",
    "#\n",
    "#      http://www.apache.org/licenses/LICENSE-2.0\n",
    "#\n",
    "# Unless required by applicable law or agreed to in writing, software\n",
    "# distributed under the License is distributed on an \"AS IS\" BASIS,\n",
    "# WITHOUT WARRANTIES OR CONDITIONS OF ANY KIND, either express or implied.\n",
    "# See the License for the specific language governing permissions and\n",
    "# limitations under the License.\n",
    "\n",
    "import numpy as np\n",
    "\n",
    "################################################################\n",
    "#\n",
    "# Import dptcl and patch here\n",
    "\n",
    "import dpctl\n",
    "print(\"dpctl.__version__ = \", dpctl.__version__)\n",
    "\n",
    "from sklearnex import patch_sklearn\n",
    "patch_sklearn()\n",
    "#\n",
    "################################################################\n",
    "\n",
    "X = np.array([[1,  2], [1,  4], [1,  0],\n",
    "              [10, 2], [10, 4], [10, 0]])\n",
    "\n",
    "# You need to re-import scikit-learn algorithms after the patch\n",
    "from sklearn.cluster import KMeans\n",
    "\n",
    "device = dpctl.select_default_device()\n",
    "print(\"Using device ...\")\n",
    "device.print_device_info()\n",
    "\n",
    "x_device = dpctl.tensor.asarray(X,  device = device)\n",
    "#x_device = dpctl.tensor.to_numpy(X,  device = device)\n",
    "\n",
    "kmeans = KMeans(n_clusters=2, init='random', random_state=0, n_init='auto').fit(x_device)\n",
    "print(f\"kmeans.labels_ = {kmeans.labels_}\")\n"
   ]
  },
  {
   "cell_type": "markdown",
   "metadata": {},
   "source": [
    "We observe that with scikit-learn-intelex patching you can:\n",
    "\n",
    "Use your scikit-learn code for training and prediction with minimal changes (a couple of lines of code);\n",
    "Fast execution training and prediction of scikit-learn models;\n",
    "Get the same quality.\n",
    "\n",
    "## Examine Compute Follows Data on Intel GPU with DBSCAN"
   ]
  },
  {
   "cell_type": "code",
   "execution_count": 9,
   "metadata": {},
   "outputs": [],
   "source": [
    "from sklearn.cluster import DBSCAN\n",
    "#?DBSCAN.fit"
   ]
  },
  {
   "cell_type": "code",
   "execution_count": 10,
   "metadata": {
    "ExecuteTime": {
     "end_time": "2021-11-03T01:44:24.880650Z",
     "start_time": "2021-11-03T01:44:15.167Z"
    }
   },
   "outputs": [
    {
     "name": "stdout",
     "output_type": "stream",
     "text": [
      "dpctl.__version__ =  0.16.0\n",
      "Using device ...\n",
      "    Name            Intel(R) Data Center GPU Max 1100\n",
      "    Driver version  1.3.28202\n",
      "    Vendor          Intel(R) Corporation\n",
      "    Filter string   level_zero:gpu:0\n",
      "\n",
      "DBSCAN.get_params:  <function BaseEstimator.get_params at 0x14e0728af0d0>\n",
      "data type clustering_host.labels_ <class 'numpy.ndarray'>\n"
     ]
    },
    {
     "name": "stderr",
     "output_type": "stream",
     "text": [
      "Intel(R) Extension for Scikit-learn* enabled (https://github.com/intel/scikit-learn-intelex)\n"
     ]
    },
    {
     "name": "stdout",
     "output_type": "stream",
     "text": [
      "DBSCAN components:  [] \n",
      "DBSCAN labels:  [ 0  0  0  1  1 -1]\n"
     ]
    }
   ],
   "source": [
    "#%%writefile lab/scikit_dbscan.py\n",
    "\n",
    "# Copyright 2021 Intel Corporation\n",
    "#\n",
    "# Licensed under the Apache License, Version 2.0 (the \"License\");\n",
    "# you may not use this file except in compliance with the License.\n",
    "# You may obtain a copy of the License at\n",
    "#\n",
    "#      http://www.apache.org/licenses/LICENSE-2.0\n",
    "#\n",
    "# Unless required by applicable law or agreed to in writing, software\n",
    "# distributed under the License is distributed on an \"AS IS\" BASIS,\n",
    "# WITHOUT WARRANTIES OR CONDITIONS OF ANY KIND, either express or implied.\n",
    "# See the License for the specific language governing permissions and\n",
    "# limitations under the License.\n",
    "\n",
    "import dpctl\n",
    "print(\"dpctl.__version__ = \", dpctl.__version__)\n",
    "\n",
    "from sklearnex import patch_sklearn\n",
    "patch_sklearn()\n",
    "\n",
    "import pandas as pd\n",
    "import numpy as np\n",
    "import os\n",
    "from sklearn.cluster import DBSCAN\n",
    "\n",
    "X = np.array([[1., 2.], [2., 2.], [2., 3.],\n",
    "            [8., 7.], [8., 8.], [25., 80.]], dtype=np.float32)\n",
    "\n",
    "\n",
    "device = dpctl.select_default_device()\n",
    "print(\"Using device ...\")\n",
    "device.print_device_info()\n",
    "\n",
    "\n",
    "# x_device = dpctl.tensor.from_numpy(X, \n",
    "#             usm_type = 'device', device = \"gpu:0\") \n",
    "\n",
    "x_device = dpctl.tensor.from_numpy(X, \n",
    "            usm_type = 'device', device = device) \n",
    "\n",
    "clustering_host = DBSCAN(eps=3, min_samples=2).fit(x_device)\n",
    "\n",
    "print(\"DBSCAN.get_params: \",DBSCAN.get_params)\n",
    "print('data type clustering_host.labels_', type(clustering_host.labels_))\n",
    "\n",
    "# write meaningful cluster info to a CSV \n",
    "clustering_labels = pd.DataFrame(clustering_host.labels_)\n",
    "clustering_labels.to_csv('data/DBSCAN_Labels.csv', index=False )\n",
    "\n",
    "clustering_components = pd.DataFrame(clustering_host.components_)\n",
    "clustering_components.to_csv('data/DBSCAN_Components.csv', index=False )\n",
    "\n",
    "print(\"DBSCAN components: \", clustering_host.components_, \"\\nDBSCAN labels: \",clustering_host.labels_)"
   ]
  },
  {
   "cell_type": "code",
   "execution_count": 12,
   "metadata": {},
   "outputs": [
    {
     "data": {
      "image/png": "[encoded data removed]",
      "text/plain": [
       "<Figure size 640x480 with 1 Axes>"
      ]
     },
     "metadata": {},
     "output_type": "display_data"
    }
   ],
   "source": [
    "%matplotlib inline\n",
    "import pandas as pd\n",
    "import numpy as np\n",
    "import matplotlib.pyplot as plt\n",
    "\n",
    "X = np.array([[1., 2.], [2., 2.], [2., 3.],\n",
    "            [8., 7.], [8., 8.], [25., 80.]], dtype=np.float32)\n",
    "\n",
    "data_dir = os.getcwd()+'/data'\n",
    "\n",
    "labels = pd.read_csv(f'{data_dir}/DBSCAN_Components.csv')\n",
    "labels = pd.read_csv(f'{data_dir}/DBSCAN_Labels.csv')\n",
    "\n",
    "plt.title('DBSCAN Clusters - Fit')\n",
    "plt.scatter(X[:, 0], X[:, 1], s=100, c=labels.iloc[:,0].tolist(), edgecolor=\"k\")\n",
    "plt.show()"
   ]
  },
  {
   "cell_type": "markdown",
   "metadata": {},
   "source": [
    "# Use GPU to Fit, then use model to predict on host\n",
    "\n",
    "We will test this method of **fitting on Intel GPU**, and **predicting on Intel CPU** over the following routines:\n",
    "- **k_means_random**\n",
    "- **linear_regression**\n",
    "- **logistic_regression_lbfgs**\n",
    "- **dbscan**\n",
    "\n",
    "# Exercise: First Steps:\n",
    "- import and apply the patch\n",
    "- hint: \n",
    "\n",
    "- from sklearnex import patch_sklearn\n",
    "- patch_sklearn()\n",
    "\n",
    "This exercise will fail, unless the patch is correctly applied"
   ]
  },
  {
   "cell_type": "code",
   "execution_count": null,
   "metadata": {},
   "outputs": [],
   "source": [
    "#%%writefile lab/dpctl_several_functions.py\n",
    "\n",
    "#===============================================================================\n",
    "# Copyright 2014-2021 Intel Corporation\n",
    "#\n",
    "# Licensed under the Apache License, Version 2.0 (the \"License\");\n",
    "# you may not use this file except in compliance with the License.\n",
    "# You may obtain a copy of the License at\n",
    "#\n",
    "#     http://www.apache.org/licenses/LICENSE-2.0\n",
    "#\n",
    "# Unless required by applicable law or agreed to in writing, software\n",
    "# distributed under the License is distributed on an \"AS IS\" BASIS,\n",
    "# WITHOUT WARRANTIES OR CONDITIONS OF ANY KIND, either express or implied.\n",
    "# See the License for the specific language governing permissions and\n",
    "# limitations under the License.\n",
    "#===============================================================================\n",
    "\n",
    "\n",
    "import numpy as np\n",
    "\n",
    "############ Apply Patch first here #################################\n",
    "import dpctl\n",
    "print(\"dpctl.__version__ = \", dpctl.__version__)\n",
    "\n",
    "from sklearnex import patch_sklearn\n",
    "patch_sklearn()\n",
    "#####################################################################\n",
    "\n",
    "from sklearn.cluster import KMeans\n",
    "from sklearn.linear_model import LinearRegression\n",
    "from sklearn.linear_model import LogisticRegression\n",
    "from sklearn.cluster import DBSCAN\n",
    "\n",
    "from sklearn.datasets import load_iris\n",
    "\n",
    "def k_means_random(gpu_device):\n",
    "    print(\"KMeans init='random'\")\n",
    "    X = np.array([[1., 2.], [1., 4.], [1., 0.],\n",
    "                  [10., 2.], [10., 4.], [10., 0.]], dtype=np.float32)\n",
    "\n",
    "    # target a remote hosy CPU when submitted via q.sh or qsub -I\n",
    "    x_device = dpctl.tensor.from_numpy(X, usm_type = 'device', device = \"gpu:0\") #dpctl 0.12\n",
    "\n",
    "    kmeans = KMeans(n_clusters=2, random_state=0, init='random',n_init='auto').fit(x_device)\n",
    "    #kmeans = KMeans(n_clusters=2).fit(x_device)\n",
    "\n",
    "    print(\"kmeans.labels_\")\n",
    "    print(kmeans.labels_)\n",
    "    print(\"kmeans.predict([[0, 0], [12, 3]])\")\n",
    "    print(kmeans.predict(np.array([[0, 0], [12, 3]], dtype=np.float32)))\n",
    "    print(\"kmeans.cluster_centers_\")\n",
    "    print(kmeans.cluster_centers_)\n",
    "\n",
    "\n",
    "def linear_regression(gpu_device):\n",
    "    print(\"LinearRegression\")\n",
    "    X = np.array([[1., 1.], [1., 2.], [2., 2.], [2., 3.]], dtype=np.float32)\n",
    "    # y = 1 * x_0 + 2 * x_1 + 3\n",
    "    y = np.dot(X, np.array([1, 2], dtype=np.float32)) + 3\n",
    "\n",
    "    # target a remote hosy CPU when submitted via q.sh or qsub -I\n",
    "    x_device = dpctl.tensor.asarray(X, usm_type = 'device', device = \"gpu:0\") #dpctl 0.12\n",
    "    y_device = dpctl.tensor.asarray(y, usm_type = 'device', device = \"gpu:0\") #dpctl 0.12  \n",
    "\n",
    "    reg = LinearRegression().fit(x_device, y_device)\n",
    "    print(\"reg.score(X, y)\")\n",
    "    print(reg.score(X, y))\n",
    "    print(\"reg.coef_\")\n",
    "    print(reg.coef_)\n",
    "    print(\"reg.intercept_\")\n",
    "    print(reg.intercept_)\n",
    "    print(\"reg.predict(np.array([[3, 5]], dtype=np.float32))\")\n",
    "    print(reg.predict(np.array([[3, 5]], dtype=np.float32)))\n",
    "\n",
    "\n",
    "def logistic_regression_lbfgs(gpu_device):\n",
    "    print(\"LogisticRegression solver='lbfgs'\")\n",
    "    X, y = load_iris(return_X_y=True)\n",
    "\n",
    "    x_device = dpctl.tensor.from_numpy(X, usm_type = 'device', device = \"gpu:0\") #dpctl 0.12\n",
    "    y_device = dpctl.tensor.from_numpy(y, usm_type = 'device', device = \"gpu:0\") #dpctl 0.12\n",
    "\n",
    "    clf = LogisticRegression(random_state=0, solver='lbfgs').fit(\n",
    "        x_device,\n",
    "        y_device)\n",
    "    print(\"clf.predict(X[:2, :])\")\n",
    "    print(clf.predict(X[:2, :]))\n",
    "    print(\"clf.predict_proba(X[:2, :])\")\n",
    "    print(clf.predict_proba(X[:2, :]))\n",
    "    print(\"clf.score(X, y)\")\n",
    "    print(clf.score(X, y))\n",
    "\n",
    "def dbscan(gpu_device):\n",
    "    print(\"DBSCAN\")\n",
    "    X = np.array([[1., 2.], [2., 2.], [2., 3.],\n",
    "                  [8., 7.], [8., 8.], [25., 80.]], dtype=np.float32)\n",
    "    \n",
    "    #x_device = dpctl.tensor.from_numpy(X, usm_type = 'device', queue=dpctl.SyclQueue(gpu_device))    \n",
    "    # target a remote hosy CPU when submitted via q.sh or qsub -I\n",
    "\n",
    "    x_device = dpctl.tensor.from_numpy(X, usm_type = 'device', device = \"gpu:0\") #dpctl 0.12        \n",
    "\n",
    "    clustering = DBSCAN(eps=3, min_samples=2).fit(x_device)\n",
    "    print(\"clustering.labels_\")\n",
    "    print(clustering.labels_)\n",
    "    print(\"clustering\")\n",
    "    print(clustering)\n",
    "\n",
    "if __name__ == \"__main__\":\n",
    "    examples = [\n",
    "        k_means_random, \n",
    "        dbscan,\n",
    "        linear_regression,\n",
    "        logistic_regression_lbfgs,\n",
    "    ]\n",
    "\n",
    "#     gpu_device = dpctl.select_default_device()\n",
    "#     print(\"Using device ...\")\n",
    "#     gpu_device.print_device_info()\n",
    "\n",
    "    for d in dpctl.get_devices():\n",
    "        gpu_available = False\n",
    "        for d in dpctl.get_devices():\n",
    "            if d.is_gpu:\n",
    "                gpu_device = dpctl.select_gpu_device()\n",
    "                gpu_available = True\n",
    "            else:\n",
    "                cpu_device = dpctl.select_cpu_device() \n",
    "    if gpu_available:\n",
    "        print(\"GPU targeted: \", gpu_device)\n",
    "    else:\n",
    "        print(\"CPU targeted: \", cpu_device)\n",
    "       \n",
    "    device = gpu_device\n",
    "    for e in examples:\n",
    "        print(\"*\" * 80)\n",
    "        try:\n",
    "            e(device)\n",
    "        except:\n",
    "            print(e, \" Failed\")\n",
    "        print(\"*\" * 80)\n",
    "\n",
    "    print('All looks good!')"
   ]
  },
  {
   "cell_type": "markdown",
   "metadata": {},
   "source": [
    "# Summary\n",
    "In this module you will have learned the following:\n",
    "* How to target algorithms optimized by Intel Extensions for Scikit-learn* to run on Intel GPU using \"Compute Follows Data\""
   ]
  },
  {
   "cell_type": "markdown",
   "metadata": {},
   "source": [
    "# Notices & Disclaimers \n",
    "\n",
    "Intel technologies may require enabled hardware, software or service activation.\n",
    "No product or component can be absolutely secure.\n",
    "\n",
    "Your costs and results may vary.\n",
    "\n",
    "© Intel Corporation. Intel, the Intel logo, and other Intel marks are trademarks of Intel Corporation or its subsidiaries. \n",
    "*Other names and brands may be claimed as the property of others.\n",
    "\n"
   ]
  },
  {
   "cell_type": "code",
   "execution_count": null,
   "metadata": {},
   "outputs": [],
   "source": [
    "print(\"All Done\")"
   ]
  },
  {
   "cell_type": "code",
   "execution_count": null,
   "metadata": {},
   "outputs": [],
   "source": []
  }
 ],
 "metadata": {
  "kernelspec": {
   "display_name": "Base",
   "language": "python",
   "name": "base"
  },
  "language_info": {
   "codemirror_mode": {
    "name": "ipython",
    "version": 3
   },
   "file_extension": ".py",
   "mimetype": "text/x-python",
   "name": "python",
   "nbconvert_exporter": "python",
   "pygments_lexer": "ipython3",
   "version": "3.9.18"
  },
  "nbTranslate": {
   "displayLangs": [
    "*"
   ],
   "hotkey": "alt-t",
   "langInMainMenu": true,
   "sourceLang": "en",
   "targetLang": "fr",
   "useGoogleTranslate": true
  },
  "toc": {
   "base_numbering": 1,
   "nav_menu": {},
   "number_sections": true,
   "sideBar": true,
   "skip_h1_title": false,
   "title_cell": "Table of Contents",
   "title_sidebar": "Contents",
   "toc_cell": false,
   "toc_position": {
    "height": "525.6px",
    "left": "28px",
    "top": "137.8px",
    "width": "301.109px"
   },
   "toc_section_display": true,
   "toc_window_display": true
  },
  "widgets": {
   "application/vnd.jupyter.widget-state+json": {
    "state": {},
    "version_major": 2,
    "version_minor": 0
   }
  }
 },
 "nbformat": 4,
 "nbformat_minor": 4
}
