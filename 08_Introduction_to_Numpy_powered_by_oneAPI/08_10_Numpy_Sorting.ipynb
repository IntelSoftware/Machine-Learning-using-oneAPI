{
 "cells": [
  {
   "cell_type": "markdown",
   "id": "8b03bc3f-528c-4bf1-993c-4844f93e1550",
   "metadata": {},
   "source": [
    "# Sorting with NumPy\n",
    "\n",
    "\n",
    "\n",
    "Intel Publishes Blazing Fast [Intel AVX-512](https://www.phoronix.com/news/Intel-AVX-512-Quicksort-Numpy) **Sorting Library, Numpy** Switching To It For 10~17x Faster Sorts\n",
    "\n",
    "Here we will compare quicksort, mergesort and heapsort both strqaighforward loop implementations versus NumPy equivalents\n"
   ]
  },
  {
   "cell_type": "code",
   "execution_count": 1,
   "id": "ae5e937f-2e0e-413c-ad26-8d04210f2f5f",
   "metadata": {},
   "outputs": [],
   "source": [
    "import numpy as np\n",
    "import time\n",
    "BIG = 1_000_000\n",
    "np.random.seed(seed=12)\n",
    "arr = np.random.rand(BIG)\n",
    "orig = arr.copy()"
   ]
  },
  {
   "cell_type": "code",
   "execution_count": null,
   "id": "34dbff91-9b15-41f7-a74f-94777af61c86",
   "metadata": {},
   "outputs": [],
   "source": [
    "def heapify(arr, n, i):\n",
    "    largest = i \n",
    "    l = 2 * i + 1 \n",
    "    r = 2 * i + 2 \n",
    " \n",
    "    if l < n and arr[largest] < arr[l]:\n",
    "        largest = l\n",
    " \n",
    "    if r < n and arr[largest] < arr[r]:\n",
    "        largest = r\n",
    " \n",
    "    if largest != i:\n",
    "        arr[i],arr[largest] = arr[largest],arr[i]  \n",
    "        heapify(arr, n, largest)\n",
    " \n",
    "def heapSort(arr):\n",
    "    n = len(arr)\n",
    " \n",
    "    for i in range(n // 2 - 1, -1, -1):\n",
    "        heapify(arr, n, i)\n",
    " \n",
    "    for i in range(n-1, 0, -1):\n",
    "        arr[i], arr[0] = arr[0], arr[i] \n",
    "        heapify(arr, i, 0)\n",
    "    return arr\n"
   ]
  },
  {
   "cell_type": "markdown",
   "id": "5f222785-06ba-42fb-b3e1-75fdc23c8fa6",
   "metadata": {},
   "source": [
    "# Heapsort\n",
    "\n",
    "for hint how to specify the type of sort - look here: [NumPy:Sort](https://numpy.org/doc/stable/reference/generated/numpy.sort.html)\n",
    "\n",
    "**Hint:**\n",
    "\n",
    "```python\n",
    "np.sort(arr, axis=None, kind='heapsort') \n",
    "```"
   ]
  },
  {
   "cell_type": "code",
   "execution_count": null,
   "id": "9e6fae24-e8c9-4a8e-96f0-018aa50ef9fa",
   "metadata": {},
   "outputs": [],
   "source": [
    "np.random.seed(seed=12)\n",
    "arr = np.random.rand(BIG)\n",
    "timing = {}\n",
    "t1 = time.time()\n",
    "heapSort(arr)\n",
    "t2 = time.time()\n",
    "print(\"Sorted array is:\")\n",
    "print(arr[:10] )\n",
    "timing['heapsort_bruteForce'] = time.time() - t1\n",
    "print('Elapsed time', timing['heapsort_bruteForce'])"
   ]
  },
  {
   "cell_type": "code",
   "execution_count": null,
   "id": "f529fb51-a150-4b36-af1b-fdc2b495f888",
   "metadata": {},
   "outputs": [],
   "source": [
    "np.random.seed(seed=12)\n",
    "arr = np.random.rand(BIG)\n",
    "t1 = time.time()\n",
    "################### add code here ###########\n",
    "np.sort(arr, axis=None, kind='heapsort') \n",
    "#############################################\n",
    "t2 = time.time()\n",
    "print(\"Sorted array is:\")\n",
    "print(arr[:10] )\n",
    "timing['heapsort_numpy'] = time.time() - t1\n",
    "print('Elapsed time', timing['heapsort_numpy'])\n",
    "print('Numpy Acceleration: {:4.1f} X faster'.format(timing['heapsort_bruteForce']/timing['heapsort_numpy']))"
   ]
  },
  {
   "cell_type": "code",
   "execution_count": null,
   "id": "421d2bb1-3b51-4951-bb84-41f1d87fc3ad",
   "metadata": {},
   "outputs": [],
   "source": [
    "%matplotlib inline\n",
    "import matplotlib.pyplot as plt\n",
    "plt.figure(figsize=(10,6))\n",
    "plt.title(\"Measure acceleration of looping versus Numpy log10 [Lower is better]\",fontsize=12)\n",
    "plt.ylabel(\"Time in seconds\",fontsize=12)\n",
    "plt.xlabel(\"Various types of operations\",fontsize=14)\n",
    "plt.grid(True)\n",
    "plt.bar(x = list(timing.keys()), height= list(timing.values()), align='center',tick_label=list(timing.keys()))"
   ]
  },
  {
   "cell_type": "code",
   "execution_count": 3,
   "id": "a43bb20a-7f3e-45fe-8f31-1bc59e8bdca1",
   "metadata": {},
   "outputs": [],
   "source": [
    "def quickSort(arr, low, high):\n",
    "    if low < high:\n",
    "        pivotIndex = partition(arr, low, high)\n",
    "        quickSort(arr, low, pivotIndex - 1)\n",
    "        quickSort(arr, pivotIndex + 1, high)\n",
    "\n",
    "def partition(arr, low, high):\n",
    "    pivot = arr[high]\n",
    "    i = low - 1  # Index of smaller element\n",
    "    for j in range(low, high):\n",
    "        # If current element is smaller than or equal to pivot\n",
    "        if arr[j] <= pivot:\n",
    "            i += 1\n",
    "            arr[i], arr[j] = arr[j], arr[i]\n",
    "    arr[i+1], arr[high] = arr[high], arr[i+1]\n",
    "    return i + 1\n"
   ]
  },
  {
   "cell_type": "markdown",
   "id": "c4a92e63-d28c-4e92-98c9-d19b7b1e70d5",
   "metadata": {},
   "source": [
    "# Quicksort\n",
    "\n",
    "for hint how to specify the type of sort - look here: [NumPy:Sort](https://numpy.org/doc/stable/reference/generated/numpy.sort.html)\n",
    "\n",
    "**Hint:**\n",
    "\n",
    "```python\n",
    "np.sort(arr, axis=None, kind='quicksort')\n",
    "```"
   ]
  },
  {
   "cell_type": "code",
   "execution_count": 4,
   "id": "54be80bc-36d7-472a-b59f-31343465ae02",
   "metadata": {},
   "outputs": [
    {
     "name": "stdout",
     "output_type": "stream",
     "text": [
      "Sorted array is:\n",
      "Elapsed time 6.927924633026123\n"
     ]
    }
   ],
   "source": [
    "import time\n",
    "np.random.seed(seed=12)\n",
    "arr = np.random.rand(BIG)\n",
    "timing = {}\n",
    "t1 = time.time()\n",
    "quickSort(arr, 0, len(arr)-1)\n",
    "t2 = time.time()\n",
    "print(\"Sorted array is:\")\n",
    "timing['quicksort_bruteForce'] = time.time() - t1\n",
    "print('Elapsed time', timing['quicksort_bruteForce'])"
   ]
  },
  {
   "cell_type": "code",
   "execution_count": 6,
   "id": "7179a7ef-cb42-4064-bfd8-05756e56959f",
   "metadata": {},
   "outputs": [
    {
     "name": "stdout",
     "output_type": "stream",
     "text": [
      "Sorted array is:\n",
      "Elapsed time 0.08138751983642578\n",
      "Numpy Acceleration: 85.1 X faster\n"
     ]
    }
   ],
   "source": [
    "np.random.seed(seed=12)\n",
    "arr = np.random.rand(BIG)\n",
    "t1 = time.time()\n",
    "################### add code here ###########\n",
    "np.sort(arr, axis=None, kind='quicksort')\n",
    "############################################# \n",
    "t2 = time.time()\n",
    "print(\"Sorted array is:\")\n",
    "timing['quicksort_numpy'] = time.time() - t1\n",
    "print('Elapsed time', timing['quicksort_numpy'])\n",
    "print('Numpy Acceleration: {:4.1f} X faster'.format(timing['quicksort_bruteForce']/timing['quicksort_numpy']))"
   ]
  },
  {
   "cell_type": "code",
   "execution_count": 7,
   "id": "d604b169-a524-42cb-b047-c8b4669cea48",
   "metadata": {},
   "outputs": [
    {
     "data": {
      "text/plain": [
       "<BarContainer object of 2 artists>"
      ]
     },
     "execution_count": 7,
     "metadata": {},
     "output_type": "execute_result"
    },
    {
     "data": {
      "image/png": "[encoded data removed]",
      "text/plain": [
       "<Figure size 1000x600 with 1 Axes>"
      ]
     },
     "metadata": {},
     "output_type": "display_data"
    }
   ],
   "source": [
    "%matplotlib inline\n",
    "import matplotlib.pyplot as plt\n",
    "plt.figure(figsize=(10,6))\n",
    "plt.title(\"Measure acceleration of looping versus Numpy log10 [Lower is better]\",fontsize=12)\n",
    "plt.ylabel(\"Time in seconds\",fontsize=12)\n",
    "plt.xlabel(\"Various types of operations\",fontsize=14)\n",
    "plt.grid(True)\n",
    "plt.bar(x = list(timing.keys()), height= list(timing.values()), align='center',tick_label=list(timing.keys()))"
   ]
  },
  {
   "cell_type": "markdown",
   "id": "73b3ad9a-50dd-4aa1-908a-ebb083cd84d8",
   "metadata": {},
   "source": [
    "# Mergesort\n"
   ]
  },
  {
   "cell_type": "code",
   "execution_count": null,
   "id": "59ce64dd-770f-4853-87f7-e69844870eb7",
   "metadata": {},
   "outputs": [],
   "source": [
    "def mergeSort(arr):\n",
    "    if len(arr) > 1:\n",
    "        mid = len(arr) // 2\n",
    "        leftHalf = arr[:mid]\n",
    "        rightHalf = arr[mid:]\n",
    "        \n",
    "        mergeSort(leftHalf)\n",
    "        mergeSort(rightHalf)\n",
    "        \n",
    "        i = j = k = 0\n",
    "        \n",
    "        while i < len(leftHalf) and j < len(rightHalf):\n",
    "            if leftHalf[i] < rightHalf[j]:\n",
    "                arr[k] = leftHalf[i]\n",
    "                i += 1\n",
    "            else:\n",
    "                arr[k] = rightHalf[j]\n",
    "                j += 1\n",
    "            k += 1\n",
    "        \n",
    "        while i < len(leftHalf):\n",
    "            arr[k] = leftHalf[i]\n",
    "            i += 1\n",
    "            k += 1\n",
    "        \n",
    "        while j < len(rightHalf):\n",
    "            arr[k] = rightHalf[j]\n",
    "            j += 1\n",
    "            k += 1"
   ]
  },
  {
   "cell_type": "code",
   "execution_count": null,
   "id": "c3b0a50d-a3f1-4ea9-a80e-ed6bdf1d3669",
   "metadata": {},
   "outputs": [],
   "source": [
    "import time\n",
    "np.random.seed(seed=12)\n",
    "arr = np.random.rand(BIG)\n",
    "timing = {}\n",
    "t1 = time.time()\n",
    "mergeSort(arr)\n",
    "t2 = time.time()\n",
    "print(\"Sorted array is:\")\n",
    "timing['mergesort_bruteForce'] = time.time() - t1\n",
    "print('Elapsed time', timing['mergesort_bruteForce'])"
   ]
  },
  {
   "cell_type": "markdown",
   "id": "e78ef413-aacd-4790-82e2-0ff6acce3898",
   "metadata": {},
   "source": [
    "for hint how to specify the type of sort - look here: [NumPy:Sort](https://numpy.org/doc/stable/reference/generated/numpy.sort.html)\n",
    "\n",
    "**Hint:**\n",
    "\n",
    "```python\n",
    "np.sort(arr, axis=None, kind='mergesort')\n",
    "```"
   ]
  },
  {
   "cell_type": "code",
   "execution_count": null,
   "id": "8c8563ba-5565-4c7f-ba03-18f21c8f6d36",
   "metadata": {},
   "outputs": [],
   "source": [
    "np.random.seed(seed=12)\n",
    "arr = np.random.rand(BIG)\n",
    "t1 = time.time()\n",
    "################### add code here ###########\n",
    "np.sort(arr, axis=None, kind='mergesort')\n",
    "#############################################\n",
    "t2 = time.time()\n",
    "print(\"Sorted array is:\")\n",
    "timing['mergesort_numpy'] = time.time() - t1\n",
    "print('Elapsed time', timing['mergesort_numpy'])\n",
    "print('Numpy Acceleration: {:4.1f} X faster'.format(timing['mergesort_bruteForce']/timing['mergesort_numpy']))"
   ]
  },
  {
   "cell_type": "code",
   "execution_count": null,
   "id": "fa388ff5-c7e5-462a-aabe-45b69ffc9e36",
   "metadata": {},
   "outputs": [],
   "source": [
    "# import matplotlib.pyplot as plt\n",
    "# plt.scatter(orig[0:len(orig)-1], orig[1:len(orig)], c='r')\n",
    "# plt.scatter(arr[0:len(arr)-1], arr[1:len(arr)], c='b')"
   ]
  },
  {
   "cell_type": "code",
   "execution_count": null,
   "id": "afce35e9-ad6c-4e1b-b66b-8128e1a4cef5",
   "metadata": {},
   "outputs": [],
   "source": [
    "%matplotlib inline\n",
    "import matplotlib.pyplot as plt\n",
    "plt.figure(figsize=(10,6))\n",
    "plt.title(\"Measure acceleration of looping versus Numpy log10 [Lower is better]\",fontsize=12)\n",
    "plt.ylabel(\"Time in seconds\",fontsize=12)\n",
    "plt.xlabel(\"Various types of operations\",fontsize=14)\n",
    "plt.grid(True)\n",
    "plt.bar(x = list(timing.keys()), height= list(timing.values()), align='center',tick_label=list(timing.keys()))"
   ]
  },
  {
   "cell_type": "code",
   "execution_count": null,
   "id": "92fa5eba-4b7c-4330-935a-f311c79aa03e",
   "metadata": {},
   "outputs": [],
   "source": [
    "print(\"All Done!\")"
   ]
  },
  {
   "cell_type": "code",
   "execution_count": null,
   "id": "55da49d1-8d08-4534-ae2a-f0842c3f3c58",
   "metadata": {},
   "outputs": [],
   "source": []
  }
 ],
 "metadata": {
  "kernelspec": {
   "display_name": "Python 3 (Intel® oneAPI 2023.1)",
   "language": "python",
   "name": "c009-intel_distribution_of_python_3_oneapi-beta05-python"
  },
  "language_info": {
   "codemirror_mode": {
    "name": "ipython",
    "version": 3
   },
   "file_extension": ".py",
   "mimetype": "text/x-python",
   "name": "python",
   "nbconvert_exporter": "python",
   "pygments_lexer": "ipython3",
   "version": "3.9.16"
  }
 },
 "nbformat": 4,
 "nbformat_minor": 5
}
