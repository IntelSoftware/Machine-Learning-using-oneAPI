{
 "cells": [
  {
   "cell_type": "code",
   "execution_count": null,
   "id": "13295c61-8450-4901-b930-9e6109165e0a",
   "metadata": {},
   "outputs": [],
   "source": []
  },
  {
   "cell_type": "code",
   "execution_count": null,
   "id": "ef4cbb6b-daa1-4368-b707-a400725b5ff2",
   "metadata": {},
   "outputs": [],
   "source": []
  },
  {
   "cell_type": "markdown",
   "id": "832fc61e-9fb3-4c3c-a3b9-372bfd3b6d7b",
   "metadata": {},
   "source": [
    "# *Real World* example KNN on CovType Dataset\n",
    "\n",
    "### Compare timings of stock kmeans versus Intel Extension for Scikit-learn KNN\n",
    "\n",
    "Below we will apply Intel Extension for Scikit learn to a use case on a CPU\n",
    "\n",
    "Intel® Extension for Scikit-learn contains drop-in replacement functionality for the stock scikit-learn package. You can take advantage of the performance optimizations of Intel Extension for Scikit-learn by adding just two lines of code before the usual scikit-learn imports. Intel® Extension for Scikit-learn patching affects performance of specific Scikit-learn functionality.\n",
    "\n",
    "### Data: covtype\n",
    "\n",
    "We will use forest cover type dataset known as covtype and fetch the data from sklearn.datasets\n",
    "\n",
    "\n",
    "Here we are **predicting forest cover type** from cartographic variables only (no remotely sensed data). The actual forest cover type for a given observation (30 x 30 meter cell) was determined from US Forest Service (USFS) Region 2 Resource Information System (RIS) data. Independent variables were derived from data originally obtained from US Geological Survey (USGS) and USFS data. Data is in raw form (not scaled) and contains binary (0 or 1) columns of data for qualitative independent variables (wilderness areas and soil types).\n",
    "\n",
    "This study area includes four wilderness areas located in the Roosevelt National Forest of northern Colorado. These areas represent forests with minimal human-caused disturbances, so that existing forest cover types are more a result of ecological processes rather than forest management practices.\n",
    "\n",
    "\n",
    "Predicting forest cover type from cartographic variables only (no remotely sensed data). The actual forest cover type for a given observation (30 x 30 meter cell) was determined from US Forest Service (USFS) Region 2 Resource Information System (RIS) data. Independent variables were derived from data originally obtained from US Geological Survey (USGS) and USFS data. Data is in raw form (not scaled) and contains binary (0 or 1) columns of data for qualitative independent variables (wilderness areas and soil types).\n",
    "\n",
    "This study area includes four wilderness areas located in the Roosevelt National Forest of northern Colorado. These areas represent forests with minimal human-caused disturbances, so that existing forest cover types are more a result of ecological processes rather than forest management practices.\n",
    "\n",
    "### Overview of procedure\n",
    "In the below example we will train and predict kNN algorithm with Intel Extension for Scikit-learn for covtype dataset and calculate the CPU and wall clock time for training and prediction. Then in the next step we will unpatch the Intel extension for Scikit-learn and observe the time taken on the CPU for the same trainng and prediction.\n",
    "\n",
    "### Fetch the Data\n",
    "\n",
    "- [Back to Sections](#Back_to_Sections)\n"
   ]
  },
  {
   "cell_type": "code",
   "execution_count": 25,
   "id": "205ea599-6a57-4b3b-a727-b0666cc45f77",
   "metadata": {
    "ExecuteTime": {
     "end_time": "2021-11-03T01:44:24.872648Z",
     "start_time": "2021-11-03T01:44:15.236809Z"
    }
   },
   "outputs": [
    {
     "name": "stdout",
     "output_type": "stream",
     "text": [
      "dataset shape:  (145253, 54)\n"
     ]
    }
   ],
   "source": [
    "# Copyright 2022 Intel Corporation\n",
    "#\n",
    "# Licensed under the Apache License, Version 2.0 (the \"License\");\n",
    "# you may not use this file except in compliance with the License.\n",
    "# You may obtain a copy of the License at\n",
    "#\n",
    "#      http://www.apache.org/licenses/LICENSE-2.0\n",
    "#\n",
    "# Unless required by applicable law or agreed to in writing, software\n",
    "# distributed under the License is distributed on an \"AS IS\" BASIS,\n",
    "# WITHOUT WARRANTIES OR CONDITIONS OF ANY KIND, either express or implied.\n",
    "# See the License for the specific language governing permissions and\n",
    "# limitations under the License.\n",
    "\n",
    "from sklearn import metrics\n",
    "from sklearn.model_selection import train_test_split\n",
    "from sklearn.datasets import fetch_openml\n",
    "import pandas as pd\n",
    "import seaborn as sns\n",
    "import timeit\n",
    "import time\n",
    "\n",
    "from  sklearn.datasets import fetch_covtype\n",
    "x, y = fetch_covtype(return_X_y=True)\n",
    "# Data Set Information:\n",
    "# Predicting forest cover type from cartographic variables only (no remotely sensed data). The actual forest cover type for a given observation (30 x 30 meter cell) was determined from US Forest Service (USFS) Region 2 Resource Information System (RIS) data. Independent variables were derived from data originally obtained from US Geological Survey (USGS) and USFS data. Data is in raw form (not scaled) and contains binary (0 or 1) columns of data for qualitative independent variables (wilderness areas and soil types).\n",
    "# This study area includes four wilderness areas located in the Roosevelt National Forest of northern Colorado. These areas represent forests with minimal human-caused disturbances, so that existing forest cover types are more a result of ecological processes rather than forest management practices.\n",
    "\n",
    "# for sake of time is 1/4th of the data\n",
    "subset = x.shape[0]//4\n",
    "x = x[:subset,:]\n",
    "y = y[:subset]\n",
    "\n",
    "x_train, x_test, y_train, y_test = train_test_split(x, y, test_size=0.2, random_state=72)\n",
    "\n",
    "# set up KNN algorithm parameters\n",
    "# 'n_neighbors': 40,  \n",
    "#     regulates how many neighbors should be checked when an item is being classified\n",
    "# 'weights': 'distance',\n",
    "#     signifies how weight should be distributed between neighbor values.\n",
    "#     This value will cause weights to be distributed based on their distance (inversely correlated). Closer neighbors will have a higher weight in the algorithm.\n",
    "# 'n_jobs': -1\n",
    "#     Signifies the parallel jobs to be allowed at the same time for neighbor algorithm\n",
    "params = {\n",
    "    'n_neighbors': 40,  \n",
    "    'weights': 'distance',  \n",
    "    'n_jobs': -1\n",
    "}\n",
    "print('dataset shape: ', x.shape)"
   ]
  },
  {
   "cell_type": "markdown",
   "id": "9242c0c7-95a8-433b-961a-91a7495a2aab",
   "metadata": {},
   "source": [
    "### Show patched KNN\n",
    "\n",
    "\n",
    "- [Back to Sections](#Back_to_Sections)\n"
   ]
  },
  {
   "cell_type": "code",
   "execution_count": 5,
   "id": "9967ec9c-98fe-43ee-ad64-57ab21630326",
   "metadata": {},
   "outputs": [
    {
     "name": "stderr",
     "output_type": "stream",
     "text": [
      "Intel(R) Extension for Scikit-learn* enabled (https://github.com/intel/scikit-learn-intelex)\n"
     ]
    },
    {
     "name": "stdout",
     "output_type": "stream",
     "text": [
      "Time to calculate knn.predict in Patched scikit-learn  1.2 seconds\n",
      "Classification report for kNN:\n",
      "              precision    recall  f1-score   support\n",
      "\n",
      "           1       0.93      0.86      0.89      6120\n",
      "           2       0.94      0.98      0.96     20540\n",
      "           3       0.84      0.46      0.60       428\n",
      "           4       0.84      0.95      0.89       441\n",
      "           5       0.86      0.64      0.73       631\n",
      "           6       0.80      0.58      0.67       449\n",
      "           7       0.84      0.87      0.85       442\n",
      "\n",
      "    accuracy                           0.93     29051\n",
      "   macro avg       0.86      0.76      0.80     29051\n",
      "weighted avg       0.93      0.93      0.93     29051\n",
      "\n",
      "\n"
     ]
    }
   ],
   "source": [
    "# Copyright 2022 Intel Corporation\n",
    "#\n",
    "# Licensed under the Apache License, Version 2.0 (the \"License\");\n",
    "# you may not use this file except in compliance with the License.\n",
    "# You may obtain a copy of the License at\n",
    "#\n",
    "#      http://www.apache.org/licenses/LICENSE-2.0\n",
    "#\n",
    "# Unless required by applicable law or agreed to in writing, software\n",
    "# distributed under the License is distributed on an \"AS IS\" BASIS,\n",
    "# WITHOUT WARRANTIES OR CONDITIONS OF ANY KIND, either express or implied.\n",
    "# See the License for the specific language governing permissions and\n",
    "# limitations under the License.\n",
    "from sklearnex import patch_sklearn\n",
    "patch_sklearn()\n",
    "\n",
    "from sklearn.neighbors import KNeighborsClassifier\n",
    "start_time = time.time()\n",
    "knn = KNeighborsClassifier(**params).fit(x_train, y_train)\n",
    "predicted = knn.predict(x_test)\n",
    "patched_time = time.time() - start_time\n",
    "print(\"Time to calculate knn.predict in Patched scikit-learn {:4.1f} seconds\".format(patched_time))\n",
    "\n",
    "report = metrics.classification_report(y_test, predicted)\n",
    "print(f\"Classification report for kNN:\\n{report}\\n\")\n"
   ]
  },
  {
   "cell_type": "markdown",
   "id": "3ee8562a-1246-499b-9013-595596135093",
   "metadata": {},
   "source": [
    "In order to cancel optimizations, we use unpatch_sklearn and reimport the class KNeighborsClassifier. Observe the time taken to train and predict without the optimizations. "
   ]
  },
  {
   "cell_type": "markdown",
   "id": "3b5f7ec6-c3dc-4e89-a655-d728f078877e",
   "metadata": {},
   "source": [
    "### Show UNpatched KNN\n",
    "\n",
    "\n",
    "- [Back to Sections](#Back_to_Sections)\n"
   ]
  },
  {
   "cell_type": "code",
   "execution_count": 6,
   "id": "dd677ccd-f099-4b4b-89db-68f8f509ce84",
   "metadata": {
    "ExecuteTime": {
     "end_time": "2021-11-03T01:44:24.877650Z",
     "start_time": "2021-11-03T01:44:15.161Z"
    }
   },
   "outputs": [
    {
     "name": "stdout",
     "output_type": "stream",
     "text": [
      "Time to calculate knn.predict in stock scikit-learn 68.0 seconds\n",
      "Classification report for kNN:\n",
      "              precision    recall  f1-score   support\n",
      "\n",
      "           1       0.93      0.86      0.89      6120\n",
      "           2       0.94      0.98      0.96     20540\n",
      "           3       0.84      0.46      0.60       428\n",
      "           4       0.84      0.95      0.89       441\n",
      "           5       0.86      0.64      0.73       631\n",
      "           6       0.80      0.58      0.67       449\n",
      "           7       0.84      0.87      0.85       442\n",
      "\n",
      "    accuracy                           0.93     29051\n",
      "   macro avg       0.86      0.76      0.80     29051\n",
      "weighted avg       0.93      0.93      0.93     29051\n",
      "\n",
      "\n"
     ]
    }
   ],
   "source": [
    "# Copyright 2022 Intel Corporation\n",
    "#\n",
    "# Licensed under the Apache License, Version 2.0 (the \"License\");\n",
    "# you may not use this file except in compliance with the License.\n",
    "# You may obtain a copy of the License at\n",
    "#\n",
    "#      http://www.apache.org/licenses/LICENSE-2.0\n",
    "#\n",
    "# Unless required by applicable law or agreed to in writing, software\n",
    "# distributed under the License is distributed on an \"AS IS\" BASIS,\n",
    "# WITHOUT WARRANTIES OR CONDITIONS OF ANY KIND, either express or implied.\n",
    "# See the License for the specific language governing permissions and\n",
    "# limitations under the License.\n",
    "from sklearnex import unpatch_sklearn\n",
    "unpatch_sklearn()\n",
    "\n",
    "from sklearn.neighbors import KNeighborsClassifier\n",
    "start_time = time.time()\n",
    "knn = KNeighborsClassifier(**params).fit(x_train, y_train)\n",
    "predicted = knn.predict(x_test)\n",
    "unpatched_time = time.time() - start_time\n",
    "print(\"Time to calculate knn.predict in stock scikit-learn {:4.1f} seconds\".format(unpatched_time))\n",
    "\n",
    "report = metrics.classification_report(y_test, predicted)\n",
    "print(f\"Classification report for kNN:\\n{report}\\n\")"
   ]
  },
  {
   "cell_type": "markdown",
   "id": "061366ed-f43b-4f1a-80b0-8c7422d93f93",
   "metadata": {},
   "source": [
    "## Plot KNN speed up using patch\n",
    "\n",
    "\n",
    "- [Back to Sections](#Back_to_Sections)\n"
   ]
  },
  {
   "cell_type": "code",
   "execution_count": 7,
   "id": "dc9745a5-99b5-45b6-ab3d-45d67b7137f0",
   "metadata": {
    "tags": []
   },
   "outputs": [
    {
     "data": {
      "image/png": "[encoded data removed]",
      "text/plain": [
       "<Figure size 432x288 with 1 Axes>"
      ]
     },
     "metadata": {
      "needs_background": "light"
     },
     "output_type": "display_data"
    },
    {
     "name": "stdout",
     "output_type": "stream",
     "text": [
      "Intel(R) Extensions for scikit-learn* Speedup 59.0 x!\n"
     ]
    }
   ],
   "source": [
    "# Copyright 2022 Intel Corporation\n",
    "#\n",
    "# Licensed under the Apache License, Version 2.0 (the \"License\");\n",
    "# you may not use this file except in compliance with the License.\n",
    "# You may obtain a copy of the License at\n",
    "#\n",
    "#      http://www.apache.org/licenses/LICENSE-2.0\n",
    "#\n",
    "# Unless required by applicable law or agreed to in writing, software\n",
    "# distributed under the License is distributed on an \"AS IS\" BASIS,\n",
    "# WITHOUT WARRANTIES OR CONDITIONS OF ANY KIND, either express or implied.\n",
    "# See the License for the specific language governing permissions and\n",
    "# limitations under the License.\n",
    "%matplotlib inline\n",
    "import matplotlib.pyplot as plt\n",
    "\n",
    "left = [1,2]\n",
    "pred_times = [unpatched_time, patched_time]\n",
    "tick_label = ['unpatched KNN', 'patched KNN']\n",
    "plt.bar(left, pred_times, tick_label = tick_label, width = 0.5, color = ['red', 'blue'])\n",
    "plt.xlabel('Predict Method'); plt.ylabel('time [s]'); plt.title('Predict time [s] - Lower is better')\n",
    "plt.show()\n",
    "\n",
    "print('Intel(R) Extensions for scikit-learn* Speedup {:4.1f} x!'.format( unpatched_time/patched_time))"
   ]
  }
 ],
 "metadata": {
  "kernelspec": {
   "display_name": "Python 3.7 (Intel® oneAPI)",
   "language": "python",
   "name": "c009-intel_distribution_of_python_3_oneapi-beta05-python"
  },
  "language_info": {
   "codemirror_mode": {
    "name": "ipython",
    "version": 3
   },
   "file_extension": ".py",
   "mimetype": "text/x-python",
   "name": "python",
   "nbconvert_exporter": "python",
   "pygments_lexer": "ipython3",
   "version": "3.9.7"
  }
 },
 "nbformat": 4,
 "nbformat_minor": 5
}
