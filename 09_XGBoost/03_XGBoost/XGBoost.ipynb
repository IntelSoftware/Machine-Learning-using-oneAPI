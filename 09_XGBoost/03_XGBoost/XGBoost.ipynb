{
 "cells": [
  {
   "cell_type": "markdown",
   "id": "22333506-1f31-4a4d-804b-35c522bcaa74",
   "metadata": {},
   "source": [
    "# Intel AI Kit and XGBoost\n",
    "\n",
    "### Learning objectives\n",
    "\n",
    "* Utilize XGBoost with Intel's AI KIt\n",
    "* Take advantage of Intel extensions to SciKit Learn by enabling them with XGBoost\n",
    "* Use Cross Validation technique to find better XGBoost Hyperparameters\n",
    "* Use a learning curve to estimate the ideal number of trees\n",
    "* Improve performance by implementing early stopping\n"
   ]
  },
  {
   "cell_type": "markdown",
   "id": "a0117c64-fb29-4f27-9a65-c4b8ba30b2c3",
   "metadata": {},
   "source": [
    "In this example, we will use a dataset with particle features and functions of those features **to distinguish between a signal process which produces Higgs bosons (1) and a background process which does not (0)**. The Higgs boson is a basic particle in the standard model produced by the quantum excitation of the Higgs field, named after physicist Peter Higgs."
   ]
  },
  {
   "cell_type": "markdown",
   "id": "1821b722-e2ed-46e6-9068-3ac15eb8ca29",
   "metadata": {},
   "source": [
    "![image](3D_view_energy_of_8_TeV.png)\n",
    "[Images Source](https://commons.wikimedia.org/wiki/File:3D_view_of_an_event_recorded_with_the_CMS_detector_in_2012_at_a_proton-proton_centre_of_mass_energy_of_8_TeV.png)"
   ]
  },
  {
   "cell_type": "markdown",
   "id": "57efb70b-7073-4baa-b544-253551c7bb58",
   "metadata": {},
   "source": [
    "## Import Necessary Libraries"
   ]
  },
  {
   "cell_type": "code",
   "execution_count": 1,
   "id": "f2502e54-f520-4b7e-a517-c1e3a10e9722",
   "metadata": {
    "tags": []
   },
   "outputs": [
    {
     "name": "stderr",
     "output_type": "stream",
     "text": [
      "Intel(R) Extension for Scikit-learn* enabled (https://github.com/intel/scikit-learn-intelex)\n",
      "Intel(R) Extension for Scikit-learn* enabled (https://github.com/intel/scikit-learn-intelex)\n"
     ]
    },
    {
     "name": "stdout",
     "output_type": "stream",
     "text": [
      "XGB Version          :  1.6.0-dev\n",
      "Scikit-Learn Version :  1.1.1\n",
      "Pandas Version       :  1.5.1\n"
     ]
    }
   ],
   "source": [
    "import sklearn\n",
    "from sklearnex import patch_sklearn\n",
    "patch_sklearn()\n",
    "#unpatch_sklearn()\n",
    "from sklearn.model_selection import train_test_split\n",
    "from sklearn.metrics import mean_squared_error\n",
    "import warnings\n",
    "warnings.simplefilter(action='ignore', category=FutureWarning)\n",
    "import pandas as pd\n",
    "from pandas import MultiIndex, Int16Dtype # if you don't import in this order you will get a pandas.Int64Index fix for FutureWarning error.\n",
    "import xgboost as xgb\n",
    "import numpy as np\n",
    "from time import perf_counter\n",
    "print(\"XGB Version          : \", xgb.__version__)\n",
    "print(\"Scikit-Learn Version : \", sklearn.__version__)\n",
    "print(\"Pandas Version       : \", pd.__version__)"
   ]
  },
  {
   "cell_type": "markdown",
   "id": "68230356-c247-4fc2-b9b2-9510e44584fd",
   "metadata": {},
   "source": [
    "## Import the Data:\n",
    "\n",
    "* The first column is the class label (1 for signal, 0 for background), followed by the 28 features (21 low-level features then 7 high-level features):\n",
    "\n",
    "* The dataset has 1.1 million rows, adjust the __nrows__ value to something manageable by the sytem you happen to be using.  100K is easy for a modern laptop; however, once you start optimizing much more than that can take some time. \n",
    "\n",
    "[Data Source](https://archive.ics.uci.edu/ml/datasets/HIGGS)"
   ]
  },
  {
   "cell_type": "markdown",
   "id": "88a41477-7724-4650-8252-dd80745ca226",
   "metadata": {},
   "source": [
    "### To get the data using the Intel DevCloud execute the following cells:"
   ]
  },
  {
   "cell_type": "code",
   "execution_count": 2,
   "id": "d7494a1a-1a2f-4c9a-a3cd-3a65caccac87",
   "metadata": {},
   "outputs": [],
   "source": [
    "#! cp /data/oneapi_workshop/big_datasets/xgboost/HIGGS.tar.gz ."
   ]
  },
  {
   "cell_type": "code",
   "execution_count": 3,
   "id": "0cfd4799-114c-474b-8686-ba12156faa91",
   "metadata": {},
   "outputs": [],
   "source": [
    "#! tar -xzf HIGGS.tar.gz"
   ]
  },
  {
   "cell_type": "markdown",
   "id": "902420cc-3d6e-45e4-b110-95bec4264c63",
   "metadata": {},
   "source": [
    "### __Do not__ run this if on the Intel DevCloud.  To fetch the data for your local install execute the below two cells."
   ]
  },
  {
   "cell_type": "code",
   "execution_count": 4,
   "id": "dc5f3305-246f-46e9-9d95-bd3fb4e2085e",
   "metadata": {},
   "outputs": [],
   "source": [
    "# import os\n",
    "# import requests\n",
    "# if not os.path.isfile(\"./HIGGS.csv.gz\"):\n",
    "#         print(\"Fetching data set from Internet...~2.8GB\")\n",
    "#         url = \"https://archive.ics.uci.edu/ml/machine-learning-databases/00280/HIGGS.csv.gz\"\n",
    "#         myfile = requests.get(url)\n",
    "#         with open('./HIGGS.csv.gz', 'wb') as f:\n",
    "#             f.write(myfile.content)"
   ]
  },
  {
   "cell_type": "code",
   "execution_count": 5,
   "id": "6c47011e-12e5-4078-848b-43b936fee325",
   "metadata": {},
   "outputs": [],
   "source": [
    "#! gunzip HIGGS.csv.gz"
   ]
  },
  {
   "cell_type": "markdown",
   "id": "f5b403ed-64c6-4a25-a9df-6031b01d1ff7",
   "metadata": {},
   "source": [
    "### Set the number of rows to use via nrows= variable.  100K is manageable on a laptop."
   ]
  },
  {
   "cell_type": "code",
   "execution_count": 6,
   "id": "64f5df1b",
   "metadata": {},
   "outputs": [
    {
     "name": "stdout",
     "output_type": "stream",
     "text": [
      "(1000, 29)\n"
     ]
    }
   ],
   "source": [
    "filename = 'HIGGS.csv'\n",
    "names =  ['class_label', 'lepton pT', 'lepton eta', 'lepton phi', 'missing energy magnitude', 'missing energy phi', 'jet 1 pt', 'jet 1 eta', 'jet 1 phi', 'jet 1 b-tag', 'jet 2 pt', 'jet 2 eta', 'jet 2 phi', 'jet 2 b-tag', 'jet 3 pt', 'jet 3 eta', 'jet 3 phi', 'jet 3 b-tag', 'jet 4 pt', 'jet 4 eta', 'jet 4 phi', 'jet 4 b-tag', 'm_jj', 'm_jjj', 'm_lv', 'm_jlv', 'm_bb', 'm_wbb', 'm_wwbb']\n",
    "data = pd.read_csv(filename, names=names, delimiter=\",\", nrows=1000)\n",
    "#data = pd.read_csv(filename, names=names, delimiter=\",\", nrows=1100000)\n",
    "print(data.shape)"
   ]
  },
  {
   "cell_type": "markdown",
   "id": "0d7249bc-4e6b-4a28-8894-00b14c61d4f2",
   "metadata": {},
   "source": [
    "### Examine the data:"
   ]
  },
  {
   "cell_type": "code",
   "execution_count": 7,
   "id": "d48c73db-9077-4451-9306-10a1a9c1616d",
   "metadata": {},
   "outputs": [
    {
     "data": {
      "text/html": [
       "<div>\n",
       "<style scoped>\n",
       "    .dataframe tbody tr th:only-of-type {\n",
       "        vertical-align: middle;\n",
       "    }\n",
       "\n",
       "    .dataframe tbody tr th {\n",
       "        vertical-align: top;\n",
       "    }\n",
       "\n",
       "    .dataframe thead th {\n",
       "        text-align: right;\n",
       "    }\n",
       "</style>\n",
       "<table border=\"1\" class=\"dataframe\">\n",
       "  <thead>\n",
       "    <tr style=\"text-align: right;\">\n",
       "      <th></th>\n",
       "      <th>class_label</th>\n",
       "      <th>lepton pT</th>\n",
       "      <th>lepton eta</th>\n",
       "      <th>lepton phi</th>\n",
       "      <th>missing energy magnitude</th>\n",
       "      <th>missing energy phi</th>\n",
       "      <th>jet 1 pt</th>\n",
       "      <th>jet 1 eta</th>\n",
       "      <th>jet 1 phi</th>\n",
       "      <th>jet 1 b-tag</th>\n",
       "      <th>...</th>\n",
       "      <th>jet 4 eta</th>\n",
       "      <th>jet 4 phi</th>\n",
       "      <th>jet 4 b-tag</th>\n",
       "      <th>m_jj</th>\n",
       "      <th>m_jjj</th>\n",
       "      <th>m_lv</th>\n",
       "      <th>m_jlv</th>\n",
       "      <th>m_bb</th>\n",
       "      <th>m_wbb</th>\n",
       "      <th>m_wwbb</th>\n",
       "    </tr>\n",
       "  </thead>\n",
       "  <tbody>\n",
       "    <tr>\n",
       "      <th>0</th>\n",
       "      <td>1.0</td>\n",
       "      <td>0.869293</td>\n",
       "      <td>-0.635082</td>\n",
       "      <td>0.225690</td>\n",
       "      <td>0.327470</td>\n",
       "      <td>-0.689993</td>\n",
       "      <td>0.754202</td>\n",
       "      <td>-0.248573</td>\n",
       "      <td>-1.092064</td>\n",
       "      <td>0.000000</td>\n",
       "      <td>...</td>\n",
       "      <td>-0.010455</td>\n",
       "      <td>-0.045767</td>\n",
       "      <td>3.101961</td>\n",
       "      <td>1.353760</td>\n",
       "      <td>0.979563</td>\n",
       "      <td>0.978076</td>\n",
       "      <td>0.920005</td>\n",
       "      <td>0.721657</td>\n",
       "      <td>0.988751</td>\n",
       "      <td>0.876678</td>\n",
       "    </tr>\n",
       "    <tr>\n",
       "      <th>1</th>\n",
       "      <td>1.0</td>\n",
       "      <td>0.907542</td>\n",
       "      <td>0.329147</td>\n",
       "      <td>0.359412</td>\n",
       "      <td>1.497970</td>\n",
       "      <td>-0.313010</td>\n",
       "      <td>1.095531</td>\n",
       "      <td>-0.557525</td>\n",
       "      <td>-1.588230</td>\n",
       "      <td>2.173076</td>\n",
       "      <td>...</td>\n",
       "      <td>-1.138930</td>\n",
       "      <td>-0.000819</td>\n",
       "      <td>0.000000</td>\n",
       "      <td>0.302220</td>\n",
       "      <td>0.833048</td>\n",
       "      <td>0.985700</td>\n",
       "      <td>0.978098</td>\n",
       "      <td>0.779732</td>\n",
       "      <td>0.992356</td>\n",
       "      <td>0.798343</td>\n",
       "    </tr>\n",
       "    <tr>\n",
       "      <th>2</th>\n",
       "      <td>1.0</td>\n",
       "      <td>0.798835</td>\n",
       "      <td>1.470639</td>\n",
       "      <td>-1.635975</td>\n",
       "      <td>0.453773</td>\n",
       "      <td>0.425629</td>\n",
       "      <td>1.104875</td>\n",
       "      <td>1.282322</td>\n",
       "      <td>1.381664</td>\n",
       "      <td>0.000000</td>\n",
       "      <td>...</td>\n",
       "      <td>1.128848</td>\n",
       "      <td>0.900461</td>\n",
       "      <td>0.000000</td>\n",
       "      <td>0.909753</td>\n",
       "      <td>1.108330</td>\n",
       "      <td>0.985692</td>\n",
       "      <td>0.951331</td>\n",
       "      <td>0.803252</td>\n",
       "      <td>0.865924</td>\n",
       "      <td>0.780118</td>\n",
       "    </tr>\n",
       "    <tr>\n",
       "      <th>3</th>\n",
       "      <td>0.0</td>\n",
       "      <td>1.344385</td>\n",
       "      <td>-0.876626</td>\n",
       "      <td>0.935913</td>\n",
       "      <td>1.992050</td>\n",
       "      <td>0.882454</td>\n",
       "      <td>1.786066</td>\n",
       "      <td>-1.646778</td>\n",
       "      <td>-0.942383</td>\n",
       "      <td>0.000000</td>\n",
       "      <td>...</td>\n",
       "      <td>-0.678379</td>\n",
       "      <td>-1.360356</td>\n",
       "      <td>0.000000</td>\n",
       "      <td>0.946652</td>\n",
       "      <td>1.028704</td>\n",
       "      <td>0.998656</td>\n",
       "      <td>0.728281</td>\n",
       "      <td>0.869200</td>\n",
       "      <td>1.026736</td>\n",
       "      <td>0.957904</td>\n",
       "    </tr>\n",
       "    <tr>\n",
       "      <th>4</th>\n",
       "      <td>1.0</td>\n",
       "      <td>1.105009</td>\n",
       "      <td>0.321356</td>\n",
       "      <td>1.522401</td>\n",
       "      <td>0.882808</td>\n",
       "      <td>-1.205349</td>\n",
       "      <td>0.681466</td>\n",
       "      <td>-1.070464</td>\n",
       "      <td>-0.921871</td>\n",
       "      <td>0.000000</td>\n",
       "      <td>...</td>\n",
       "      <td>-0.373566</td>\n",
       "      <td>0.113041</td>\n",
       "      <td>0.000000</td>\n",
       "      <td>0.755856</td>\n",
       "      <td>1.361057</td>\n",
       "      <td>0.986610</td>\n",
       "      <td>0.838085</td>\n",
       "      <td>1.133295</td>\n",
       "      <td>0.872245</td>\n",
       "      <td>0.808487</td>\n",
       "    </tr>\n",
       "  </tbody>\n",
       "</table>\n",
       "<p>5 rows × 29 columns</p>\n",
       "</div>"
      ],
      "text/plain": [
       "   class_label  lepton pT  lepton eta  lepton phi  missing energy magnitude  \\\n",
       "0          1.0   0.869293   -0.635082    0.225690                  0.327470   \n",
       "1          1.0   0.907542    0.329147    0.359412                  1.497970   \n",
       "2          1.0   0.798835    1.470639   -1.635975                  0.453773   \n",
       "3          0.0   1.344385   -0.876626    0.935913                  1.992050   \n",
       "4          1.0   1.105009    0.321356    1.522401                  0.882808   \n",
       "\n",
       "   missing energy phi  jet 1 pt  jet 1 eta  jet 1 phi  jet 1 b-tag  ...  \\\n",
       "0           -0.689993  0.754202  -0.248573  -1.092064     0.000000  ...   \n",
       "1           -0.313010  1.095531  -0.557525  -1.588230     2.173076  ...   \n",
       "2            0.425629  1.104875   1.282322   1.381664     0.000000  ...   \n",
       "3            0.882454  1.786066  -1.646778  -0.942383     0.000000  ...   \n",
       "4           -1.205349  0.681466  -1.070464  -0.921871     0.000000  ...   \n",
       "\n",
       "   jet 4 eta  jet 4 phi  jet 4 b-tag      m_jj     m_jjj      m_lv     m_jlv  \\\n",
       "0  -0.010455  -0.045767     3.101961  1.353760  0.979563  0.978076  0.920005   \n",
       "1  -1.138930  -0.000819     0.000000  0.302220  0.833048  0.985700  0.978098   \n",
       "2   1.128848   0.900461     0.000000  0.909753  1.108330  0.985692  0.951331   \n",
       "3  -0.678379  -1.360356     0.000000  0.946652  1.028704  0.998656  0.728281   \n",
       "4  -0.373566   0.113041     0.000000  0.755856  1.361057  0.986610  0.838085   \n",
       "\n",
       "       m_bb     m_wbb    m_wwbb  \n",
       "0  0.721657  0.988751  0.876678  \n",
       "1  0.779732  0.992356  0.798343  \n",
       "2  0.803252  0.865924  0.780118  \n",
       "3  0.869200  1.026736  0.957904  \n",
       "4  1.133295  0.872245  0.808487  \n",
       "\n",
       "[5 rows x 29 columns]"
      ]
     },
     "execution_count": 7,
     "metadata": {},
     "output_type": "execute_result"
    }
   ],
   "source": [
    "data.head()"
   ]
  },
  {
   "cell_type": "markdown",
   "id": "263b756f-a43b-44e4-8726-824d1c40924a",
   "metadata": {},
   "source": [
    "* What kind of data is this?"
   ]
  },
  {
   "cell_type": "code",
   "execution_count": 8,
   "id": "94f43fa5-3022-4f7a-b845-6b1978fef9fd",
   "metadata": {},
   "outputs": [
    {
     "data": {
      "text/plain": [
       "class_label                 float64\n",
       "lepton pT                   float64\n",
       "lepton eta                  float64\n",
       "lepton phi                  float64\n",
       "missing energy magnitude    float64\n",
       "missing energy phi          float64\n",
       "jet 1 pt                    float64\n",
       "jet 1 eta                   float64\n",
       "jet 1 phi                   float64\n",
       "jet 1 b-tag                 float64\n",
       "jet 2 pt                    float64\n",
       "jet 2 eta                   float64\n",
       "jet 2 phi                   float64\n",
       "jet 2 b-tag                 float64\n",
       "jet 3 pt                    float64\n",
       "jet 3 eta                   float64\n",
       "jet 3 phi                   float64\n",
       "jet 3 b-tag                 float64\n",
       "jet 4 pt                    float64\n",
       "jet 4 eta                   float64\n",
       "jet 4 phi                   float64\n",
       "jet 4 b-tag                 float64\n",
       "m_jj                        float64\n",
       "m_jjj                       float64\n",
       "m_lv                        float64\n",
       "m_jlv                       float64\n",
       "m_bb                        float64\n",
       "m_wbb                       float64\n",
       "m_wwbb                      float64\n",
       "dtype: object"
      ]
     },
     "execution_count": 8,
     "metadata": {},
     "output_type": "execute_result"
    }
   ],
   "source": [
    "data.dtypes"
   ]
  },
  {
   "cell_type": "markdown",
   "id": "06c6b324-1635-4f32-b390-272ef3a319df",
   "metadata": {},
   "source": [
    "* Examine the distribution of the Higgs Boson class_label.  Depending on how many rows you load this could change how you choose to split the data.  "
   ]
  },
  {
   "cell_type": "code",
   "execution_count": 9,
   "id": "1495b99e-5b94-4234-a1e5-e5c4f7b14326",
   "metadata": {},
   "outputs": [
    {
     "data": {
      "text/plain": [
       "1.0    540\n",
       "0.0    460\n",
       "Name: class_label, dtype: int64"
      ]
     },
     "execution_count": 9,
     "metadata": {},
     "output_type": "execute_result"
    }
   ],
   "source": [
    "data.class_label.value_counts()"
   ]
  },
  {
   "cell_type": "markdown",
   "id": "d339991a-3485-49ef-8151-c5c8020fc586",
   "metadata": {},
   "source": [
    "* In this scenario loading 100000 rows the balance isn't too skewed, the next cell is optional."
   ]
  },
  {
   "cell_type": "code",
   "execution_count": 10,
   "id": "daf57ec0-e274-4d15-84ea-174932fa8714",
   "metadata": {},
   "outputs": [
    {
     "data": {
      "text/plain": [
       "1.0    0.54\n",
       "0.0    0.46\n",
       "Name: class_label, dtype: float64"
      ]
     },
     "execution_count": 10,
     "metadata": {},
     "output_type": "execute_result"
    }
   ],
   "source": [
    "data.class_label.value_counts(normalize=True)"
   ]
  },
  {
   "cell_type": "markdown",
   "id": "5bbdebf6-da64-4ed4-bd2c-0862e27a700f",
   "metadata": {},
   "source": [
    "### Create your train/test split. \n",
    "\n",
    "* Remember the first column is 0 = no signal 1 = signal, so we want to leave out the labels and predict column 0.  "
   ]
  },
  {
   "cell_type": "code",
   "execution_count": 11,
   "id": "1fff822d-c76b-4f13-bd2c-dee18ca01126",
   "metadata": {},
   "outputs": [],
   "source": [
    "X, y = data.iloc[:, 1:],data.iloc[:,0]"
   ]
  },
  {
   "cell_type": "markdown",
   "id": "386febb8-03cc-418c-a13d-4593c54be2e8",
   "metadata": {},
   "source": [
    "* These next two cell are optional, just a sanity check of the split data actually representing our intentions."
   ]
  },
  {
   "cell_type": "code",
   "execution_count": 12,
   "id": "ff07b297-3596-4778-9961-e1dbf0b0304c",
   "metadata": {},
   "outputs": [
    {
     "name": "stdout",
     "output_type": "stream",
     "text": [
      "     lepton pT  lepton eta  lepton phi  missing energy magnitude  \\\n",
      "0     0.869293   -0.635082    0.225690                  0.327470   \n",
      "1     0.907542    0.329147    0.359412                  1.497970   \n",
      "2     0.798835    1.470639   -1.635975                  0.453773   \n",
      "3     1.344385   -0.876626    0.935913                  1.992050   \n",
      "4     1.105009    0.321356    1.522401                  0.882808   \n",
      "..         ...         ...         ...                       ...   \n",
      "995   1.062917   -1.308094    0.583021                  1.147866   \n",
      "996   0.687931   -0.765594   -0.141731                  2.262527   \n",
      "997   0.481497   -0.444184   -1.645408                  0.561598   \n",
      "998   0.564766    0.262917    0.543071                  1.933416   \n",
      "999   0.441052    0.801522   -0.334267                  1.659728   \n",
      "\n",
      "     missing energy phi  jet 1 pt  jet 1 eta  jet 1 phi  jet 1 b-tag  \\\n",
      "0             -0.689993  0.754202  -0.248573  -1.092064     0.000000   \n",
      "1             -0.313010  1.095531  -0.557525  -1.588230     2.173076   \n",
      "2              0.425629  1.104875   1.282322   1.381664     0.000000   \n",
      "3              0.882454  1.786066  -1.646778  -0.942383     0.000000   \n",
      "4             -1.205349  0.681466  -1.070464  -0.921871     0.000000   \n",
      "..                  ...       ...        ...        ...          ...   \n",
      "995            0.628062  1.123288  -0.293133  -1.073770     2.173076   \n",
      "996           -0.518251  0.955555  -0.226788   1.537444     2.173076   \n",
      "997            1.072366  0.723331  -1.153643  -0.496108     2.173076   \n",
      "998            0.794392  0.721407   0.563415  -1.108141     2.173076   \n",
      "999            0.778890  0.984961   0.869396  -1.439657     0.000000   \n",
      "\n",
      "     jet 2 pt  ...  jet 4 eta  jet 4 phi  jet 4 b-tag      m_jj     m_jjj  \\\n",
      "0    1.374992  ...  -0.010455  -0.045767     3.101961  1.353760  0.979563   \n",
      "1    0.812581  ...  -1.138930  -0.000819     0.000000  0.302220  0.833048   \n",
      "2    0.851737  ...   1.128848   0.900461     0.000000  0.909753  1.108330   \n",
      "3    2.423265  ...  -0.678379  -1.360356     0.000000  0.946652  1.028704   \n",
      "4    0.800872  ...  -0.373566   0.113041     0.000000  0.755856  1.361057   \n",
      "..        ...  ...        ...        ...          ...       ...       ...   \n",
      "995  0.592124  ...  -0.083743  -0.205582     1.550981  0.815183  0.837884   \n",
      "996  0.352026  ...  -0.197840  -1.442483     0.000000  0.842350  1.001412   \n",
      "997  0.867979  ...   0.106974  -1.362576     3.101961  1.188461  1.156169   \n",
      "998  1.281068  ...   1.447819  -1.175016     0.000000  0.841196  0.714114   \n",
      "999  0.892404  ...  -0.521808   0.822218     3.101961  1.635997  1.272415   \n",
      "\n",
      "         m_lv     m_jlv      m_bb     m_wbb    m_wwbb  \n",
      "0    0.978076  0.920005  0.721657  0.988751  0.876678  \n",
      "1    0.985700  0.978098  0.779732  0.992356  0.798343  \n",
      "2    0.985692  0.951331  0.803252  0.865924  0.780118  \n",
      "3    0.998656  0.728281  0.869200  1.026736  0.957904  \n",
      "4    0.986610  0.838085  1.133295  0.872245  0.808487  \n",
      "..        ...       ...       ...       ...       ...  \n",
      "995  0.982596  1.906597  0.916787  1.345151  1.053454  \n",
      "996  0.977225  0.888704  0.837052  0.988221  0.841667  \n",
      "997  0.985121  0.670254  0.646191  0.693938  0.695511  \n",
      "998  0.993759  0.757271  0.722320  0.938190  0.847807  \n",
      "999  0.999776  0.908027  0.605165  0.971125  0.892491  \n",
      "\n",
      "[1000 rows x 28 columns]\n"
     ]
    }
   ],
   "source": [
    "#check split of data.  This is the x variable.\n",
    "print(data.iloc[:,1:])"
   ]
  },
  {
   "cell_type": "code",
   "execution_count": 13,
   "id": "c3bf6f98-1b7e-49ee-88de-b8cb46f0bf67",
   "metadata": {},
   "outputs": [
    {
     "name": "stdout",
     "output_type": "stream",
     "text": [
      "0      1.0\n",
      "1      1.0\n",
      "2      1.0\n",
      "3      0.0\n",
      "4      1.0\n",
      "      ... \n",
      "995    1.0\n",
      "996    1.0\n",
      "997    0.0\n",
      "998    1.0\n",
      "999    1.0\n",
      "Name: class_label, Length: 1000, dtype: float64\n"
     ]
    }
   ],
   "source": [
    "# This is the y target vector -- the ones we want to predict.\n",
    "print(data.iloc[:,0])"
   ]
  },
  {
   "cell_type": "markdown",
   "id": "0d46c222-d326-4068-9594-a003e0e884db",
   "metadata": {},
   "source": [
    "### We are using the scikit-learn methodology to create the train test/split.  Feel free to play with the split and random state, just make sure you use the same random state throughout the notebook."
   ]
  },
  {
   "cell_type": "code",
   "execution_count": 14,
   "id": "eef3ad68-9a82-4866-a38f-c2db24c669a8",
   "metadata": {
    "tags": []
   },
   "outputs": [],
   "source": [
    "X_train, X_test, y_train, y_test = train_test_split(X, y, test_size=0.33, random_state=42)"
   ]
  },
  {
   "cell_type": "markdown",
   "id": "370200b0-e907-47f2-8acd-a73a9d26db93",
   "metadata": {},
   "source": [
    "* Another sanity check, make sure nothing odd happened after splitting the data."
   ]
  },
  {
   "cell_type": "code",
   "execution_count": 15,
   "id": "31c34fea-b88c-4da4-a9d1-f0af20d9ccea",
   "metadata": {},
   "outputs": [],
   "source": [
    "# y_train.value_counts(normalize=True)"
   ]
  },
  {
   "cell_type": "code",
   "execution_count": 16,
   "id": "f599ccb5-5781-46f8-b338-24bf9d4a1da2",
   "metadata": {},
   "outputs": [],
   "source": [
    "# y_test.value_counts(normalize=True)"
   ]
  },
  {
   "cell_type": "markdown",
   "id": "8f633132-8141-46a6-a2b3-7e2b0a8c1c0a",
   "metadata": {},
   "source": [
    "### Get a baseline using the XGBoost defaults.  \n",
    "\n",
    "Now that we have our data split into train and test datasets let's use the default XGBoost parameters to see default results.  If you are familiar with these parameters feel free to add them to the parameters cell below and feel free to modify these.  We will explore how to find better results later in the notebook.\n",
    "\n",
    "* __learning_rate:__ step size shrinkage used to prevent overfitting. Range is 0 to 1 but a lower rate is usually better.\n",
    "* __max_depth:__ determines how deeply each tree is allowed to grow during any boosting round.\n",
    "* __subsample:__ percentage of samples used per tree. Low value can lead to underfitting.\n",
    "* __colsample_bytree:__ percentage of features used per tree. High value can lead to overfitting.\n",
    "* __n_estimators:__ number of trees built\n",
    "* __objective:__ determines the loss function type: \n",
    "    * reg:linear for # regression problems.\n",
    "    * reg:logistic for classification problems with only decision.\n",
    "    * binary:logistic for classification problems with probability.\n",
    "    \n",
    "    [There are many more parameters, here is the reference.](https://xgboost.readthedocs.io/en/latest/parameter.html#general-parameters)\n",
    "    \n",
    "* For a default we are selecting three parameters:  binary:logistic, using the cpu_predictor and due to a recent change in XGBoosts behaviour setting the error metric to error rather than logistic error for now. "
   ]
  },
  {
   "cell_type": "code",
   "execution_count": 17,
   "id": "f8890db6-4e4b-4f02-934d-21630c412d71",
   "metadata": {},
   "outputs": [
    {
     "name": "stdout",
     "output_type": "stream",
     "text": [
      "It took 5.064742716960609  to fit.\n"
     ]
    }
   ],
   "source": [
    "# Set XGBoost parameters\n",
    "xgb_params = {\n",
    "    'objective':                    'binary:logistic',\n",
    "    'predictor':                    'cpu_predictor',\n",
    "    'disable_default_eval_metric':  'true',\n",
    "}\n",
    "\n",
    "# Train the model\n",
    "warnings.simplefilter(action='ignore', category=UserWarning)\n",
    "t1_start = perf_counter()  # Time fit function\n",
    "model_xgb= xgb.XGBClassifier(**xgb_params)\n",
    "model_xgb.fit(X_train,y_train)\n",
    "t1_stop = perf_counter()\n",
    "print (\"It took\", t1_stop-t1_start,\" to fit.\")"
   ]
  },
  {
   "cell_type": "code",
   "execution_count": 18,
   "id": "4494591b-321d-4c6a-a8d2-0ba73071c524",
   "metadata": {},
   "outputs": [],
   "source": [
    "result_predict_xgb_test = model_xgb.predict(X_test)"
   ]
  },
  {
   "cell_type": "code",
   "execution_count": 19,
   "id": "840d1de1-1385-4fa5-87e9-720137482002",
   "metadata": {},
   "outputs": [
    {
     "name": "stdout",
     "output_type": "stream",
     "text": [
      "Model accuracy = 0.7212121212121212\n"
     ]
    }
   ],
   "source": [
    "# Check model accuracy\n",
    "acc = np.mean(y_test == result_predict_xgb_test)\n",
    "print(\"Model accuracy =\",acc)"
   ]
  },
  {
   "cell_type": "markdown",
   "id": "879dc330-f694-401c-ade5-5aec422c136f",
   "metadata": {},
   "source": [
    "#### Accuracy:\n",
    "\n",
    "* 100000 rows using defaults achieved ~72% accuracy.  Not bad, but let us see if we can do better."
   ]
  },
  {
   "cell_type": "code",
   "execution_count": 20,
   "id": "f13df4b9-1de5-45b3-ad10-52b7cdbcc42f",
   "metadata": {},
   "outputs": [
    {
     "data": {
      "text/html": [
       "<style>#sk-container-id-1 {color: black;background-color: white;}#sk-container-id-1 pre{padding: 0;}#sk-container-id-1 div.sk-toggleable {background-color: white;}#sk-container-id-1 label.sk-toggleable__label {cursor: pointer;display: block;width: 100%;margin-bottom: 0;padding: 0.3em;box-sizing: border-box;text-align: center;}#sk-container-id-1 label.sk-toggleable__label-arrow:before {content: \"▸\";float: left;margin-right: 0.25em;color: #696969;}#sk-container-id-1 label.sk-toggleable__label-arrow:hover:before {color: black;}#sk-container-id-1 div.sk-estimator:hover label.sk-toggleable__label-arrow:before {color: black;}#sk-container-id-1 div.sk-toggleable__content {max-height: 0;max-width: 0;overflow: hidden;text-align: left;background-color: #f0f8ff;}#sk-container-id-1 div.sk-toggleable__content pre {margin: 0.2em;color: black;border-radius: 0.25em;background-color: #f0f8ff;}#sk-container-id-1 input.sk-toggleable__control:checked~div.sk-toggleable__content {max-height: 200px;max-width: 100%;overflow: auto;}#sk-container-id-1 input.sk-toggleable__control:checked~label.sk-toggleable__label-arrow:before {content: \"▾\";}#sk-container-id-1 div.sk-estimator input.sk-toggleable__control:checked~label.sk-toggleable__label {background-color: #d4ebff;}#sk-container-id-1 div.sk-label input.sk-toggleable__control:checked~label.sk-toggleable__label {background-color: #d4ebff;}#sk-container-id-1 input.sk-hidden--visually {border: 0;clip: rect(1px 1px 1px 1px);clip: rect(1px, 1px, 1px, 1px);height: 1px;margin: -1px;overflow: hidden;padding: 0;position: absolute;width: 1px;}#sk-container-id-1 div.sk-estimator {font-family: monospace;background-color: #f0f8ff;border: 1px dotted black;border-radius: 0.25em;box-sizing: border-box;margin-bottom: 0.5em;}#sk-container-id-1 div.sk-estimator:hover {background-color: #d4ebff;}#sk-container-id-1 div.sk-parallel-item::after {content: \"\";width: 100%;border-bottom: 1px solid gray;flex-grow: 1;}#sk-container-id-1 div.sk-label:hover label.sk-toggleable__label {background-color: #d4ebff;}#sk-container-id-1 div.sk-serial::before {content: \"\";position: absolute;border-left: 1px solid gray;box-sizing: border-box;top: 0;bottom: 0;left: 50%;z-index: 0;}#sk-container-id-1 div.sk-serial {display: flex;flex-direction: column;align-items: center;background-color: white;padding-right: 0.2em;padding-left: 0.2em;position: relative;}#sk-container-id-1 div.sk-item {position: relative;z-index: 1;}#sk-container-id-1 div.sk-parallel {display: flex;align-items: stretch;justify-content: center;background-color: white;position: relative;}#sk-container-id-1 div.sk-item::before, #sk-container-id-1 div.sk-parallel-item::before {content: \"\";position: absolute;border-left: 1px solid gray;box-sizing: border-box;top: 0;bottom: 0;left: 50%;z-index: -1;}#sk-container-id-1 div.sk-parallel-item {display: flex;flex-direction: column;z-index: 1;position: relative;background-color: white;}#sk-container-id-1 div.sk-parallel-item:first-child::after {align-self: flex-end;width: 50%;}#sk-container-id-1 div.sk-parallel-item:last-child::after {align-self: flex-start;width: 50%;}#sk-container-id-1 div.sk-parallel-item:only-child::after {width: 0;}#sk-container-id-1 div.sk-dashed-wrapped {border: 1px dashed gray;margin: 0 0.4em 0.5em 0.4em;box-sizing: border-box;padding-bottom: 0.4em;background-color: white;}#sk-container-id-1 div.sk-label label {font-family: monospace;font-weight: bold;display: inline-block;line-height: 1.2em;}#sk-container-id-1 div.sk-label-container {text-align: center;}#sk-container-id-1 div.sk-container {/* jupyter's `normalize.less` sets `[hidden] { display: none; }` but bootstrap.min.css set `[hidden] { display: none !important; }` so we also need the `!important` here to be able to override the default hidden behavior on the sphinx rendered scikit-learn.org. See: https://github.com/scikit-learn/scikit-learn/issues/21755 */display: inline-block !important;position: relative;}#sk-container-id-1 div.sk-text-repr-fallback {display: none;}</style><div id=\"sk-container-id-1\" class=\"sk-top-container\"><div class=\"sk-text-repr-fallback\"><pre>XGBClassifier(base_score=0.5, booster=&#x27;gbtree&#x27;, callbacks=None,\n",
       "              colsample_bylevel=1, colsample_bynode=1, colsample_bytree=1,\n",
       "              disable_default_eval_metric=&#x27;true&#x27;, early_stopping_rounds=None,\n",
       "              enable_categorical=False, eval_metric=None, gamma=0, gpu_id=-1,\n",
       "              importance_type=None, interaction_constraints=&#x27;&#x27;,\n",
       "              learning_rate=0.300000012, max_cat_to_onehot=4, max_delta_step=0,\n",
       "              max_depth=6, min_child_weight=1, missing=nan,\n",
       "              monotone_constraints=&#x27;()&#x27;, n_estimators=100, n_jobs=12,\n",
       "              num_parallel_tree=1, predictor=&#x27;cpu_predictor&#x27;, random_state=0,\n",
       "              reg_alpha=0, reg_lambda=1, scale_pos_weight=1, subsample=1, ...)</pre><b>In a Jupyter environment, please rerun this cell to show the HTML representation or trust the notebook. <br />On GitHub, the HTML representation is unable to render, please try loading this page with nbviewer.org.</b></div><div class=\"sk-container\" hidden><div class=\"sk-item\"><div class=\"sk-estimator sk-toggleable\"><input class=\"sk-toggleable__control sk-hidden--visually\" id=\"sk-estimator-id-1\" type=\"checkbox\" checked><label for=\"sk-estimator-id-1\" class=\"sk-toggleable__label sk-toggleable__label-arrow\">XGBClassifier</label><div class=\"sk-toggleable__content\"><pre>XGBClassifier(base_score=0.5, booster=&#x27;gbtree&#x27;, callbacks=None,\n",
       "              colsample_bylevel=1, colsample_bynode=1, colsample_bytree=1,\n",
       "              disable_default_eval_metric=&#x27;true&#x27;, early_stopping_rounds=None,\n",
       "              enable_categorical=False, eval_metric=None, gamma=0, gpu_id=-1,\n",
       "              importance_type=None, interaction_constraints=&#x27;&#x27;,\n",
       "              learning_rate=0.300000012, max_cat_to_onehot=4, max_delta_step=0,\n",
       "              max_depth=6, min_child_weight=1, missing=nan,\n",
       "              monotone_constraints=&#x27;()&#x27;, n_estimators=100, n_jobs=12,\n",
       "              num_parallel_tree=1, predictor=&#x27;cpu_predictor&#x27;, random_state=0,\n",
       "              reg_alpha=0, reg_lambda=1, scale_pos_weight=1, subsample=1, ...)</pre></div></div></div></div></div>"
      ],
      "text/plain": [
       "XGBClassifier(base_score=0.5, booster='gbtree', callbacks=None,\n",
       "              colsample_bylevel=1, colsample_bynode=1, colsample_bytree=1,\n",
       "              disable_default_eval_metric='true', early_stopping_rounds=None,\n",
       "              enable_categorical=False, eval_metric=None, gamma=0, gpu_id=-1,\n",
       "              importance_type=None, interaction_constraints='',\n",
       "              learning_rate=0.300000012, max_cat_to_onehot=4, max_delta_step=0,\n",
       "              max_depth=6, min_child_weight=1, missing=nan,\n",
       "              monotone_constraints='()', n_estimators=100, n_jobs=12,\n",
       "              num_parallel_tree=1, predictor='cpu_predictor', random_state=0,\n",
       "              reg_alpha=0, reg_lambda=1, scale_pos_weight=1, subsample=1, ...)"
      ]
     },
     "execution_count": 20,
     "metadata": {},
     "output_type": "execute_result"
    }
   ],
   "source": [
    "# View the settings of the default XGBoost implementation.\n",
    "model_xgb"
   ]
  },
  {
   "cell_type": "markdown",
   "id": "8440883d-3d86-45b7-af0c-fdc8249a18b8",
   "metadata": {},
   "source": [
    "### Tune Parameters with GridSearchCV\n",
    "\n",
    "* As you can see above there are many parameters that can be modified and tuned and that would take a lot of time to profile each parameter.  In this exercise we will focus on some of the most frequently chosen parameters to tune. GridSearchCV is an exhaustive search over a set of parameters fitting seperate models to each combination.  It is important to consider how many cores you have and how much memory you have. \n",
    "\n",
    "#### Parameters for Tree Booster\n",
    "\n",
    "__eta__ [default=0.3, alias: learning_rate]  range: [0,1]\n",
    "\n",
    "* Step size shrinkage used in update to prevents overfitting. After each boosting step, we can directly get the weights of new features, and eta shrinks the feature weights to make the boosting process more conservative.\n",
    "\n",
    "\n",
    "\n",
    "__gamma__ [default=0, alias: min_split_loss]  range: [0,∞]\n",
    "\n",
    "* Minimum loss reduction required to make a further partition on a leaf node of the tree. The larger gamma is, the more conservative the algorithm will be.\n",
    "\n",
    "\n",
    "__max_depth__ [default=6]  range: [0,∞]\n",
    "\n",
    "Maximum depth of a tree. Increasing this value will make the model more complex and more likely to overfit. 0 indicates no limit on depth. Beware that XGBoost aggressively consumes memory when training a deep tree. exact tree method requires non-zero value.\n",
    "\n",
    "\n",
    "__subsample__ [default=1] range: [0,1]\n",
    "\n",
    "* Subsample ratio of the training instances. Setting it to 0.5 means that XGBoost would randomly sample half of the training data prior to growing trees. and this will prevent overfitting. Subsampling will occur once in every boosting iteration.\n",
    "\n",
    "__colsample_bytree__ [default=1] range: [0,1]\n",
    "\n",
    "* colsample_bytree is the subsample ratio of columns when constructing each tree. Subsampling occurs once for every tree constructed.\n",
    "\n",
    "__Lambda__ [default=1, alias: reg_lambda]\n",
    "\n",
    "* L2 regularization term on weights. Increasing this value will make model more conservative.\n",
    "\n",
    "__scale_pos_weight__ [default=1]\n",
    "\n",
    "* Control the balance of positive and negative weights, useful for unbalanced classes. A typical value to consider: sum(negative instances) / sum(positive instances)\n",
    "\n",
    "[These descriptions are straight from the docs, which you can view all parameters explanation here.](https://xgboost.readthedocs.io/en/stable/parameter.html)\n",
    "\n",
    "Feel free to change these values, these are a good starting point for round one.  Word of caution this takes ~ 1 to 3 hours on an Intel® Xeon® 6128 running in the Intel DevCloud.  "
   ]
  },
  {
   "cell_type": "code",
   "execution_count": 21,
   "id": "6521d67a-917f-448c-8b16-de53c257c370",
   "metadata": {},
   "outputs": [],
   "source": [
    "param_grid = {\n",
    "    \"learning_rate\": [0.1, 0.3, 0.5],\n",
    "    \"gamma\": [0, 0.25, 1],\n",
    "    \"max_depth\": [4, 6, 8],\n",
    "    \"subsample\": [0.5, 1],\n",
    "    \"colsample_bytree\": [0.7, 1],\n",
    "    \"colsample_bynode\": [0.7, 1],\n",
    "    \"reg_lambda\": [0, 1, 10],\n",
    "    \"scale_pos_weight\": [1],\n",
    "}"
   ]
  },
  {
   "cell_type": "code",
   "execution_count": null,
   "id": "e518159c-24d5-4adf-9281-c528f37d94f8",
   "metadata": {},
   "outputs": [
    {
     "name": "stderr",
     "output_type": "stream",
     "text": [
      "Intel(R) Extension for Scikit-learn* enabled (https://github.com/intel/scikit-learn-intelex)\n",
      "Intel(R) Extension for Scikit-learn* enabled (https://github.com/intel/scikit-learn-intelex)\n",
      "Intel(R) Extension for Scikit-learn* enabled (https://github.com/intel/scikit-learn-intelex)\n",
      "Intel(R) Extension for Scikit-learn* enabled (https://github.com/intel/scikit-learn-intelex)\n",
      "Intel(R) Extension for Scikit-learn* enabled (https://github.com/intel/scikit-learn-intelex)\n",
      "Intel(R) Extension for Scikit-learn* enabled (https://github.com/intel/scikit-learn-intelex)\n",
      "Intel(R) Extension for Scikit-learn* enabled (https://github.com/intel/scikit-learn-intelex)\n",
      "Intel(R) Extension for Scikit-learn* enabled (https://github.com/intel/scikit-learn-intelex)\n",
      "Intel(R) Extension for Scikit-learn* enabled (https://github.com/intel/scikit-learn-intelex)\n",
      "Intel(R) Extension for Scikit-learn* enabled (https://github.com/intel/scikit-learn-intelex)\n",
      "Intel(R) Extension for Scikit-learn* enabled (https://github.com/intel/scikit-learn-intelex)\n",
      "Intel(R) Extension for Scikit-learn* enabled (https://github.com/intel/scikit-learn-intelex)\n"
     ]
    }
   ],
   "source": [
    "from sklearn.model_selection import GridSearchCV\n",
    "xgb_params2 = {\n",
    "    'objective':                    'binary:logistic',\n",
    "    'predictor':                    'cpu_predictor',\n",
    "    'disable_default_eval_metric':  'true',\n",
    "    'tree_method':                  'hist', \n",
    "}\n",
    "# Necessary for now to supress multi-threaded Future errors with respect to pandas and XGBoost\n",
    "import os\n",
    "os.environ['PYTHONWARNINGS']='ignore::FutureWarning'\n",
    "\n",
    "# Train the model\n",
    "model_xgb= xgb.XGBClassifier(**xgb_params2, use_label_encoder=False)\n",
    "\n",
    "# Setup grid search n_jobs=-1 uses all cores, reducing cv from 5 to 3 for speed, scoring is done using area under curve.\n",
    "grid_cv = GridSearchCV(model_xgb, param_grid, n_jobs=-1, cv=3, scoring=\"roc_auc\")\n",
    "\n",
    "# This fit function takes a while--hours, make sure you are ready.\n",
    "_ = grid_cv.fit(X_train, y_train)"
   ]
  },
  {
   "cell_type": "code",
   "execution_count": null,
   "id": "73f5b56f-634e-41e4-a50e-61b04ea4a6d3",
   "metadata": {},
   "outputs": [],
   "source": [
    "grid_cv.best_score_"
   ]
  },
  {
   "cell_type": "code",
   "execution_count": null,
   "id": "335b55dc-c21f-4a69-9087-291878b9c9e9",
   "metadata": {},
   "outputs": [],
   "source": [
    "grid_cv.best_params_"
   ]
  },
  {
   "cell_type": "markdown",
   "id": "b6474092-b766-457a-b861-305f40e0ad07",
   "metadata": {},
   "source": [
    "### Results\n",
    "\n",
    "    grid_cv.best_score_ = 0.80 grid cv.best_params\n",
    "\n",
    "    {'colsample_bytree': 1, 'gamma': 0, 'learning_rate': 0.1, 'max_depth': 8, 'reg_lambda': 10, 'scale_pos_weight': 1, 'subsample': 1}\n",
    "\n",
    "As you can see the results came back at 80% which is a great improvement, over the default settings.  \n",
    "\n",
    "    \"max_depth\": [2, 4, 6, 8],\n",
    "    \"learning_rate\": [0.1, 0.3, 0.5],\n",
    "    \"gamma\": [0, 0.25, 1],\n",
    "    \"reg_lambda\": [0, 1, 10],\n",
    "    \"scale_pos_weight\": [1, 3, 5],\n",
    "    \"subsample\": [1],\n",
    "    \"colsample_bytree\": [1],\n",
    "  \n",
    "The best results from the experiment were as follows formatted for easy pasting into the above xgb_params kwargs:\n",
    "\n",
    "    'max_depth': 8,\n",
    "    'learning_rate': 0.1,\n",
    "    'gamma': 0,\n",
    "    'reg_lambda': 10,\n",
    "    'scale_pos_weight': 1,\n",
    "    \n",
    "From this result it would be worth exploring a higher tree depth as it was at the edge of our parameters as well as the reg_lambda parameter.  This is an exercise you can run setting the best values and adding some additional ranges.  For example max_depth: [8, 10, 12]"
   ]
  },
  {
   "cell_type": "markdown",
   "id": "637d5a1e-f958-440c-90b3-1c5d9c365d46",
   "metadata": {},
   "source": [
    "## Implement an XGBoost classifier using the above results:  \n",
    "\n",
    "* hint you could use the **grid_cv.best_params like xgb_params above.\n",
    "\n",
    "        xgb_model.XGBClassifier(\n",
    "            **grid_cv.best_params_,\n",
    "            objective=\"binary:logistic\",\n",
    "            colsample_bytree=1,\n",
    "            subsample=1\n",
    "        )"
   ]
  },
  {
   "cell_type": "markdown",
   "id": "dd2e985b-ae51-4560-bc1d-61a4c615e0ba",
   "metadata": {},
   "source": [
    "## Further Tuning\n",
    "\n",
    "Another frequent parameter that is tuned for is:\n",
    "\n",
    "     n_estimators:, default=100\n",
    "\n",
    "n_estimaters represents the number of trees in the forest.  A good way to see how many trees might be useful is to plot the learning curve.  Since this is a classification problem we will use log loss as our measurement where lower values are better.  \n",
    "\n",
    "Our orignal fit function needs to be modified to include eval_metric with the type set to logloss.  In addition we need to define the evaluation data set so that the results are evaluated after each round in order to plot them.\n"
   ]
  },
  {
   "cell_type": "code",
   "execution_count": null,
   "id": "753d08c5-a5d5-414b-a95c-8eb20c5246c2",
   "metadata": {},
   "outputs": [],
   "source": [
    "# Datasets used for evaluation after each round\n",
    "evalset = [(X_train, y_train), (X_test,y_test)]"
   ]
  },
  {
   "cell_type": "code",
   "execution_count": null,
   "id": "ae440a5d-f7e9-4009-8e37-518061f6c5c1",
   "metadata": {},
   "outputs": [],
   "source": [
    "# Fit the model\n",
    "model_xgb.fit(X_train, y_train, eval_metric='logloss', eval_set=evalset)"
   ]
  },
  {
   "cell_type": "code",
   "execution_count": null,
   "id": "a9556b65-0493-42e3-982f-8bb371ea3acc",
   "metadata": {
    "tags": []
   },
   "outputs": [],
   "source": [
    "# Check model accuracy\n",
    "result_predict_xgb_test = model_xgb.predict(X_test)\n",
    "acc = np.mean(y_test == result_predict_xgb_test)\n",
    "print(\"Model accuracy =\",acc)"
   ]
  },
  {
   "cell_type": "code",
   "execution_count": null,
   "id": "3a33e377-5df5-4109-9c37-6bef65e91d4f",
   "metadata": {
    "tags": []
   },
   "outputs": [],
   "source": [
    "# retrieve performance metrics\n",
    "results = model_xgb.evals_result()"
   ]
  },
  {
   "cell_type": "code",
   "execution_count": null,
   "id": "c6703f9d-aa83-4f5e-9484-a3e381e0a228",
   "metadata": {},
   "outputs": [],
   "source": [
    "# Plot learning curves\n",
    "import matplotlib.pyplot as plt\n",
    "plt.plot(results['validation_0']['logloss'], label='train')\n",
    "plt.plot(results['validation_1']['logloss'], label='test')\n",
    "# display legend\n",
    "plt.legend()\n",
    "# render\n",
    "plt.show()"
   ]
  },
  {
   "cell_type": "markdown",
   "id": "b5752a14-699c-4d51-9217-1673faed9b3e",
   "metadata": {},
   "source": [
    "## Put it all together:\n",
    "\n",
    "* Use the results from the gridsearch and add an additional parameter n_estimators\n",
    "        \n",
    "        n_estimators are the number of trees in the forest. default=100    \n",
    "\n",
    "*   From the curves above you can see that they are still at a slope when n_estimators is at 100.  In this case it would seem that increasing the number of trees might yield a better result. We know that we achieve 72% when using the default 100 trees and our best results discovered via the grid search is approximately 80%.  Can we do better?\n",
    "\n",
    "* Start by setting up a new parameters section and use the values discovered earlier.  In addition set n_estimators to 1000 and see if a better result is achieved."
   ]
  },
  {
   "cell_type": "code",
   "execution_count": null,
   "id": "f4aa20fe-2c15-4351-b6dc-a4ec14d2d8b8",
   "metadata": {},
   "outputs": [],
   "source": [
    "# Set XGBoost parameters\n",
    "xgb_params = {\n",
    "    'objective':                    'binary:logistic',\n",
    "    'predictor':                    'cpu_predictor',\n",
    "    'disable_default_eval_metric':  'true',\n",
    "    'max_depth':                     8,\n",
    "    'learning_rate':                 0.1,\n",
    "    'subsample':                     1,\n",
    "    'gamma':                         0,\n",
    "    'reg_lambda':                    10,\n",
    "    'scale_pos_weight':              1,\n",
    "    'tree_method':                  'hist', \n",
    "    'n_estimators':                  1000\n",
    "}\n",
    "\n",
    "# Train the model\n",
    "t1_start = perf_counter()  # Time fit function\n",
    "model_xgb= xgb.XGBClassifier(**xgb_params)\n",
    "model_xgb.fit(X_train,y_train, early_stopping_rounds=10, eval_metric='logloss', eval_set=evalset, verbose=True)\n",
    "t1_stop = perf_counter()\n",
    "print (\"It took\", t1_stop-t1_start,\"seconds to fit.\")"
   ]
  },
  {
   "cell_type": "code",
   "execution_count": null,
   "id": "07f35d2c-b8b3-412e-bf60-a50f2283a1df",
   "metadata": {
    "tags": []
   },
   "outputs": [],
   "source": [
    "# Check model accuracy\n",
    "result_predict_xgb_test = model_xgb.predict(X_test)\n",
    "acc = np.mean(y_test == result_predict_xgb_test)\n",
    "print(\"Model accuracy =\",acc)"
   ]
  },
  {
   "cell_type": "code",
   "execution_count": null,
   "id": "70c66ad0-6173-437b-b2e3-9c039d6dc33b",
   "metadata": {
    "tags": []
   },
   "outputs": [],
   "source": [
    "# retrieve performance metrics\n",
    "results = model_xgb.evals_result()"
   ]
  },
  {
   "cell_type": "code",
   "execution_count": null,
   "id": "d0e2b087-f242-4026-8033-34635e8be5a3",
   "metadata": {},
   "outputs": [],
   "source": [
    "# Plot learning curves\n",
    "import matplotlib.pyplot as plt\n",
    "plt.plot(results['validation_0']['logloss'], label='train')\n",
    "plt.plot(results['validation_1']['logloss'], label='test')\n",
    "# display legend\n",
    "plt.legend()\n",
    "# render\n",
    "plt.show()"
   ]
  },
  {
   "cell_type": "markdown",
   "id": "5f8c019b-0906-4f81-88de-f57185a5ece9",
   "metadata": {},
   "source": [
    "## So how many trees do we need really?\n",
    "\n",
    "* It takes awhile to watch 1000 trees get evaluated, a great performance improvement is to use the XGBoost early stopping capbility.\n",
    "\n",
    "* Modify the fit function to stop the training after 10 to 15 rounds of no improvement.  \n",
    "        \n",
    "        model_xgb.fit(X_train,y_train, early_stopping_rounds=10, eval_metric='logloss', eval_set=evalset, verbose=True)"
   ]
  },
  {
   "cell_type": "markdown",
   "id": "ba3aac14-4a1b-4716-bd06-656d76110820",
   "metadata": {},
   "source": [
    "* Depending on how large a dataset you used this will vary.  There are numerous other optimizations that one can undertake, hopefully this gets you started.\n",
    "\n"
   ]
  },
  {
   "cell_type": "markdown",
   "id": "027fd9e2-a9db-41f8-8251-23f28add2424",
   "metadata": {},
   "source": [
    "# Summary:\n",
    "\n",
    "* We covered how to set parameters for XGBoost.\n",
    "* How to enable Intel's SciKit-Learn features\n",
    "* How to use CV to identify better hyperparameter options\n",
    "* How to use a learning curve to estimate the number of trees\n",
    "* How to use early stopping to optimize training time"
   ]
  },
  {
   "cell_type": "code",
   "execution_count": null,
   "id": "f3ab837f-a610-4bd1-8447-d0081f8fb852",
   "metadata": {
    "tags": []
   },
   "outputs": [],
   "source": []
  }
 ],
 "metadata": {
  "kernelspec": {
   "display_name": "Python 3 (Intel® oneAPI 2023.0)",
   "language": "python",
   "name": "c009-intel_distribution_of_python_3_oneapi-beta05-python"
  },
  "language_info": {
   "codemirror_mode": {
    "name": "ipython",
    "version": 3
   },
   "file_extension": ".py",
   "mimetype": "text/x-python",
   "name": "python",
   "nbconvert_exporter": "python",
   "pygments_lexer": "ipython3",
   "version": "3.9.15"
  },
  "nbTranslate": {
   "displayLangs": [
    "*"
   ],
   "hotkey": "alt-t",
   "langInMainMenu": true,
   "sourceLang": "en",
   "targetLang": "fr",
   "useGoogleTranslate": true
  },
  "toc": {
   "base_numbering": 1,
   "nav_menu": {},
   "number_sections": true,
   "sideBar": true,
   "skip_h1_title": false,
   "title_cell": "Table of Contents",
   "title_sidebar": "Contents",
   "toc_cell": false,
   "toc_position": {},
   "toc_section_display": true,
   "toc_window_display": false
  }
 },
 "nbformat": 4,
 "nbformat_minor": 5
}
