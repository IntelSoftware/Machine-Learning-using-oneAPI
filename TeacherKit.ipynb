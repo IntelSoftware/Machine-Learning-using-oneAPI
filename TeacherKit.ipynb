{
 "cells": [
  {
   "cell_type": "markdown",
   "id": "16c34bb8-6bc5-44fd-b023-af4e670f66a4",
   "metadata": {
    "tags": []
   },
   "source": [
    "# Machine Learning using oneAPI"
   ]
  },
  {
   "cell_type": "markdown",
   "id": "03a54bc8-725c-4c6f-beb8-4946337034b8",
   "metadata": {},
   "source": [
    "This course covers libraries, methods and practices to achieve large accelerations for common machine learning algorithms and constructs for Intel CPU's and GPU's. It leverages the Intel AI Analytics Toolkit powered by oneAPI. oneAPI is based on the SYCL cross vendor industry standard established by the Khronos Group.\n",
    "- Motivation \n",
    "- Learning Objectives\n",
    "- Target Audience\n",
    "- Prerequisites\n",
    "- Course Syllabus\n",
    "- Resources"
   ]
  },
  {
   "cell_type": "markdown",
   "id": "c75e3942-ab3c-4a78-9b55-ad0150da0adc",
   "metadata": {},
   "source": [
    "## Motivation\n",
    "\n",
    "- AI Analytics toolkit can bring one to three orders of magnitude performance acceleration with few changes to python code while keeping the same API structure.\n",
    "- Machine learning code can be tweaked once to leverage recent innovations in Intel CPU's and GPU's, new instructions sets, wider vector lanes, etc. which future proofs your AI models to port to new hardwarewith no or minimal code changes."
   ]
  },
  {
   "cell_type": "code",
   "execution_count": null,
   "id": "d84ec6dd-4fe9-4e9b-8127-b4b139597308",
   "metadata": {},
   "outputs": [],
   "source": []
  },
  {
   "cell_type": "markdown",
   "id": "f3787f90-d6d2-4838-a371-142c157fbfa8",
   "metadata": {},
   "source": [
    "## Learning Objectives\n",
    "\n",
    "At the end of this course you will be able to:\n",
    "\n",
    "- Adapt common Scikit-learn* algorithms to offload computation to accelerator devices like CPUs, GPUs. \n",
    "- Apply and Describe how to engage XGBoost* powered by oneAPI\n",
    "- Analyze python code and find low performing python loops and list comprehensions and replace these slow with faster vectorized equivalents that are more readable, more performant and able to adapt easily to new Intel innovations in libraries or hardware instruction sets"
   ]
  },
  {
   "cell_type": "markdown",
   "id": "51b34834-8bc7-4ea8-a328-2948f3d3dd76",
   "metadata": {},
   "source": [
    "## Target Audience\n",
    "\n",
    "\n",
    "Senior undergrad and graduate students\n",
    "- Computer Science\n",
    "- Engineering\n",
    "- Science and Mathematics\n",
    "- AI\n",
    "- Data Science\n",
    "- Machine Learning\n"
   ]
  },
  {
   "cell_type": "markdown",
   "id": "a81d0b88-380f-4561-bac1-696c2d418de1",
   "metadata": {
    "jp-MarkdownHeadingCollapsed": true,
    "tags": []
   },
   "source": [
    "## Prerequisites\n",
    "- Python Programming\n",
    "- eLearning courses in the Machine Learning using oneAPI for Certified Instructors Learning Plan\n",
    "\n",
    "## Recommended\n",
    "- Prior enrollment in Intel DevCloud\n"
   ]
  },
  {
   "cell_type": "markdown",
   "id": "5b766aff-d5a4-4d1d-abef-b5660b6b5502",
   "metadata": {
    "jp-MarkdownHeadingCollapsed": true,
    "tags": []
   },
   "source": [
    "## Syllabus\n",
    "\n",
    "- 8 Modules (3 hours)\n",
    "- 15 Lab Exercises: Before or after hands-on lab (15 hours)\n",
    "\n",
    "| Folder | Modules | Description | Duration |\n",
    "|---|---|---|---|\n",
    "|01_Patching Classifier|[01_Patching Classifier](01_Intel_Extensions_for_Scikit-learn_Patching_CPU/01_Patching_Classifier_CPU.ipynb)| + Apply the simple patch to scikit-learn* KNN.| 15 min |\n",
    "|01_Patching Classifier|[02_sklearnex_Motivation_Acceleration.ipynb](01_Intel_Extensions_for_Scikit-learn_Patching_CPU/02_sklearnex_Motivation_Acceleration.ipynb)| +Describe the basics of oneAPI AI Kit components, and where the Intel(R) Extensions for scikit-learn* fits in the broader package<br>+ Describe where to download and how to install the oneAPI AI Kit<br>+ Describe the advantages of one specific component of oneAPI AI Kit, Intel(R) Extensions for scikit-learn*, invoked via the sklearnex library<br>+ Apply the patch and unpatch functions with varying granularities including python scripts and also within Jupyter cells -from whole file applications to more surgical patches applied to a single algorithm.<br>+ Enumerate sklearn algorithms which have been optimized.| 15 min |\n",
    "|01_Patching Classifier|[03_Coarse_Patching_Strategy.ipynb](01_Intel_Extensions_for_Scikit-learn_Patching_CPU/03_Coarse_Patching_Strategy.ipynb)|+ Describe how to import and apply patch_sklearn()<br>+ Describe how to import and apply unpatch_sklearn()<br>+ Describe method & apply the patch to an entire python program<br>+ Describe how to surgically unpatch specific optimized functions if needed<br>+ Describe a patching strategy that ensures that the Intel Extensions for scikit-learn runs as fast or faster than the stock algorithms it replaces<br>+Apply patch methodology to speed up KNN on CovType dataset| 15 min |\n",
    "|02_Applied_Patching_CPU|[02_Patching Applied to KMeans on CPU](02_Applied_Patching_CPU/01_Patching_Kmeans_CPU.ipynb)|+ Describe the value of Intel® Extension for Scikit-learn methodology in extending scikit-learn optimzation capabilites<br>+ Name key imports and function calls to use Intel Extension for Scikit-learn to target Kmeans<br>+ Build a Sklearn implementation of Kmeans targeting CPU using patching<br>+ Apply patching with dynamic versus lexical scope approaches| 10 min|\n",
    "|02_Applied_Patching_CPU|[02_Patching Applied to SVC on CPU](02_Applied_Patching_CPU/02_PatchingSVM_CPU.ipynb)| +Describe how to surgically unpatch specific optimized functions if needed<br>+ Describe differences in patching more globally versus more surgically<br>+ Apply patching to SVC algorithm.| 10 min |\n",
    "|02_Applied_Patching_CPU|[02 Patching Applied to Pairwise Distance on CPU](02_Applied_Patching_CPU/03_Pairwise_DistanceVectorizedStockSImulationReadPortfolio.ipynb)|+ Describe and apply the correct surgical patching method to patch pairwise_distance<br>+ recall which metrics are applicable for acceleration.| 15 min |\n",
    "|03_Applied_to_Galaxy_Classification_CPU|[01_Patching **Practicum: Galaxy/Star Classification**](03_Applied_to_Galaxy_Classification/01_Practicum_AnalyzeGalaxyBatch.ipynb)|+ Apply Multiple Classification Algorithms with GPU to classify stars belonging to each galaxy within a combined super galaxy to determine most accurate model.<br>+ Apply Intel® Extension for Scikit-learn* patch.<br>+ Synthesize your comprehension by searching for opportunities in each cell to maximize performance.<br>+ Investigate adding pairwise distance as a means for all the stars within 3 light years| 60 min |\n",
    "|04_Introduction_dpctl_for_GPU|[01_Compute Gallery of Functions on Intel GPU](04_Introduction_dpctl_for_GPU/01_Introduction_simple_gallery_dpctl_for_GPU.ipynb)|+ Apply Intel Extension for Scikit-learn to KMeans and DBSCAN on Intel GPU.| 20 min |\n",
    "|04_Introduction_dpctl_for_GPU|[02_Apply Patching and Target GPU for use with KNN](04_Introduction_dpctl_for_GPU/02_PatchingClassifier.ipynb)|+ Describe how to apply dpctl compute follows data in conjuction with patching.<br> +Apply patching to KNN algorithm on CovType dataset.| 15 min |\n",
    "|04_Introduction_dpctl_for_GPU|[03_Apply Patching and Target GPU With Test Harness](04_Introduction_dpctl_for_GPU/03_Gallery_of_Functions_on_GPU.ipynb)|+ Apply the patch functions with varying granularities.<br> +Leverage the Compute Follows Data methodology using Intel DPCTL library to target Intel GPU<br>+ Compute against a test harness to try variations of synthetic datasets and algorithms| 20 min |\n",
    "|05_Introduction_to_Numpy_powered_by_oneAPI|[01_Numpy_How_Fast_Are_Numpy_Ops](05_Introduction_to_Numpy_powered_by_oneAPI/01_Numpy_How_Fast_Are_Numpy_Ops.ipynb)| + Desribe why replacing inefficient code, such as time consuming loops, wastes resources, and time.<br> + Describe why using Python for highly repetitive small tasks is inefficient.<br> + Describe the additive value of leveraging packages such as NumPy which are powered by oneAPI in a cloud world.<br> + Describe the importance of keeping oneAPI and 3rd party package such as NumPy, Scipy and others is important.<br> + Enumerate ways in which NumPy accelerates code.<br> + Apply loop replacement methodologies in a variety of scenarios.| 10 min |\n",
    "|05_Introduction_to_Numpy_powered_by_oneAPI|[02_NumPy_UFUNCS](05_Introduction_to_Numpy_powered_by_oneAPI/02_NumPy_UFUNCS.ipynb)| + Describe the value of NumPy Universal Functions (UFUNCS).<br> + Enumerate ways in which NumPy UFUNCS accelerates code.<br> + Apply loop replacement methodologies in using UFUNCS.| 10 min |\n",
    "|05_Introduction_to_Numpy_powered_by_oneAPI|[03_NumPy_Aggregations](05_Introduction_to_Numpy_powered_by_oneAPI/03_NumPy_Aggregations.ipynb)| + Describe the value of NumPy Aggregations.<br> + Enumerate ways in which NumPy Aggregations accelerate code.<br> + Apply loop replacement methodologies in using Aggregations.| 10 min |\n",
    "|05_Introduction_to_Numpy_powered_by_oneAPI|[04_NumPy_Broadcasting](05_Introduction_to_Numpy_powered_by_oneAPI/04_NumPy_Broadcasting.ipynb)| + Describe the value of NumPy Broadcasting.<br> + Enumerate ways in which NumPy Broadcasting accelerate code.<br> + Apply loop replacement methodologies in using Broadcasting.| 10 min |\n",
    "|05_Introduction_to_Numpy_powered_by_oneAPI|[05_NumPy_Where_Select](05_Introduction_to_Numpy_powered_by_oneAPI/05_NumPy_Where_Select.ipynb)| + Describe the value of NumPy Where/Select clauses.<br> + Enumerate ways in which NumPy Where/Select clauses accelerate code.<br> + Apply loop replacement methodologies in using Where/Select clauses.| 15 min |\n",
    "|05_Introduction_to_Numpy_powered_by_oneAPI|[06_PandasPoweredBy_oneAPI](05_Introduction_to_Numpy_powered_by_oneAPI/06_Pandas.ipynb)| + Apply NumPy methods to dramatically speed up certain common Pandas bottlenecks.<br> + Apply WHERE or SELECT in NumPy powered by oneAPI.<br> + Avoid iterrows using NumPy techniques.<br> + Achieve better performance by converting numerical columns to numpy arrays.| 15 min |\n",
    "|05_Introduction_to_Numpy_powered_by_oneAPI|[07_SciPy](05_Introduction_to_Numpy_powered_by_oneAPI/07_SciPy.ipynb)| + Apply SciPy methods to dramatically speed up certain common AI methods.<br> + Apply SciPy powered by oneAPI to various algorithms such as all pairs shorest path.<br> + Achieve better performance by converting home rolled loops with SciPy algorithms.| 15 min | \n",
    "|05_Introduction_to_Numpy_powered_by_oneAPI|[08_Numpy_Sorting](05_Introduction_to_Numpy_powered_by_oneAPI/08_Numpy_Sorting.ipynb)|  + Describe the value of NumPy sorting algorithms versus roll your own.<br> + Enumerate and differentiate the methods in which sorting algorithm is implemented.<br> +Apply three methods of sortingusing NumPy powered by oneMKL.| 15 min |\n",
    "|06_XGBoost|[XGBoost](06_XGBoost/XGBoost.ipynb)|  + Utilize XGBoost with Intel's AI Kit.  <br> + Take advantage of Intel extensions to SciKit Learn and oneDAL library  by enabling them with XGBoost.<br> | 50 min |"
   ]
  },
  {
   "cell_type": "markdown",
   "id": "5e0872a2-80ba-49c5-bf7e-b03787b0740f",
   "metadata": {
    "tags": []
   },
   "source": [
    "# Resources\n",
    "- [**Github:Temporary** Machine Learning using oneAPI](https://github.com/IntelSoftware/Machine-Learning-using-oneAPI)\n",
    "- [**Github:** Machine Learning using oneAPI](https://github.com/oneapi-src/oneAPI-samples/tree/master/AI-and-Analytics/Jupyter/Machine_Learning_using_oneAPI)\n",
    "- [**Scikit-Learn API Reference**](https://scikit-learn.org/stable/modules/classes.html)\n",
    "Stock Scikit-learn API reference for looking up parameters and methods\n",
    "- [**Intel® Extension for Scikit-Learn Getting Started Guide**](https://www.intel.com/content/www/us/en/developer/articles/guide/intel-extension-for-scikit-learn-getting-started.html)\n",
    "How to install, get list of supported functions, and patching guidance\n",
    "- [**Intel oneAPI ToolKits Installation Guide**](https://www.intel.com/content/www/us/en/developer/articles/guide/installation-guide-for-oneapi-toolkits.html)\n",
    "How to download or install Intel AI Analytics Toolkit and discover key capabilities of the entire libraru\n",
    "- [Intel DevCloud Quick Guide for **Intel® oneAPI AI Analytics Toolkit**](https://devcloud.intel.com/oneapi/get_started/)\n",
    "Getting started with Intel DevCloud\n",
    "- [**Book:** Hands-On Machine Learning with Scikit-Learn, Keras, and TensorFlow: Concepts, Tools, and Techniques to Build Intelligent Systems 2nd Edition by Geron](https://www.amazon.com/Hands-Machine-Learning-Scikit-Learn-TensorFlow/dp/1492032646/ref=asc_df_1492032646/?tag=hyprod-20&linkCode=df0&hvadid=385599638286&hvpos=&hvnetw=g&hvrand=3469100630516780578&hvpone=&hvptwo=&hvqmt=&hvdev=c&hvdvcmdl=&hvlocint=&hvlocphy=9030464&hvtargid=pla-523968811896&psc=1&tag=&ref=&adgrpid=79288120515&hvpone=&hvptwo=&hvadid=385599638286&hvpos=&hvnetw=g&hvrand=3469100630516780578&hvqmt=&hvdev=c&hvdvcmdl=&hvlocint=&hvlocphy=9030464&hvtargid=pla-523968811896)\n",
    "Excellent book on Scikit-learn and more\n",
    "- [**Book:** Python Data Science Handbook: Essential Tools for Working with Data 1st Edition](https://www.amazon.com/Python-Data-Science-Handbook-Essential/dp/1491912057)\n",
    "Excellent book on data science with  key chapter on NumPy\n",
    "- [**Video:** Jake VanderPlas - Losing your Loops Fast Numerical Computing with NumPy](https://www.youtube.com/watch?v=EEUXKG97YRw&t=1480s)\n",
    "Excellent video on accelerating python using NumPy\n"
   ]
  },
  {
   "cell_type": "code",
   "execution_count": null,
   "id": "17904941-8daf-4da1-a096-b46fc81a364d",
   "metadata": {},
   "outputs": [],
   "source": []
  }
 ],
 "metadata": {
  "kernelspec": {
   "display_name": "Python 3 (ipykernel)",
   "language": "python",
   "name": "python3"
  },
  "language_info": {
   "codemirror_mode": {
    "name": "ipython",
    "version": 3
   },
   "file_extension": ".py",
   "mimetype": "text/x-python",
   "name": "python",
   "nbconvert_exporter": "python",
   "pygments_lexer": "ipython3",
   "version": "3.11.5"
  }
 },
 "nbformat": 4,
 "nbformat_minor": 5
}
