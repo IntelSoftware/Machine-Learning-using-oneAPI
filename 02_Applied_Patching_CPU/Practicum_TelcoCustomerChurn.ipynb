{
 "cells": [
  {
   "cell_type": "markdown",
   "metadata": {
    "tags": []
   },
   "source": [
    "# Module 02 Practicum: Let's Explore Some Telco Churn Data\n",
    "\n",
    "## Learning Objectives:\n",
    "-  Practicum: Examine the following notebook identifying opportunities to apply patching_sklearn() to aalgorithms applied totabular data.\n",
    "- Apply code changes to try different classifiers optimized with Intel Extensions for scikit-learn*\n",
    "- Target Decision Tree for replacement by a classifier(x2) of your choice\n",
    "- Apply patching to PCA\n",
    "- Apply patching to Kmeans\n",
    "- **Synthesize** your learning by applying patching to the DBSCAN algorithm\n",
    "\n",
    "Data can be found \n",
    "\n",
    "Kaggle: [Telco Customer Churn](https://www.kaggle.com/datasets/pangkw/telco-churn)\n",
    "\n",
    "License\n",
    "CC0: Public Domain\n",
    "\n",
    "Download the data from Kaggle - l0ok for the following download icon:\n",
    "\n",
    "![Download from Kaggle](Assets/ChurnDownload.png)\n",
    "\n",
    "This will download the file 'Telco Churn dataset.xlsx' to your local machine\n",
    "\n",
    "Upload this file to DevCloud - simply drag the downloaded file to the data folder for this project on DevCloud\n",
    "\n",
    "![Upload to DevCloud data folder](Assets/DragHere.jpg)\n",
    "\n",
    "### Dependencies:\n",
    "- pip install seaborn\n",
    "- pip install openpyxl\n",
    "\n",
    "# Practicum:\n",
    "\n",
    "Work through each cell looking for places to patch or unpatch as needed to maxiumize the performace of each cell\n",
    "\n",
    "# What’s in the Telco Customer Churn data set?\n",
    "This data set provides info to help you predict behavior to retain customers. You can analyze all relevant customer data and develop focused customer retention programs.\n",
    "\n",
    "A telecommunications company is concerned about the number of customers leaving their landline business for cable competitors. They need to understand who is leaving. Imagine that you’re an analyst at this company and you have to find out who is leaving and why.\n",
    "\n",
    "The data set includes information about:\n",
    "* Customers who left within the last month – the column is called Churn\n",
    "* Services that each customer has signed up for – phone, multiple lines, internet, online security, online backup, device protection, tech support, and streaming TV and movies\n",
    "* Customer account information – how long they’ve been a customer, contract, payment method, paperless billing, monthly charges, and total charges\n",
    "* Demographic info about customers – gender, age range, and if they have partners and dependents\n"
   ]
  },
  {
   "cell_type": "markdown",
   "metadata": {},
   "source": [
    "# Choose interactive or inline plotting"
   ]
  },
  {
   "cell_type": "code",
   "execution_count": null,
   "metadata": {},
   "outputs": [],
   "source": []
  },
  {
   "cell_type": "code",
   "execution_count": 1,
   "metadata": {},
   "outputs": [],
   "source": [
    "#%matplotlib notebook\n",
    "%matplotlib inline"
   ]
  },
  {
   "cell_type": "code",
   "execution_count": 2,
   "metadata": {
    "tags": []
   },
   "outputs": [
    {
     "ename": "FileNotFoundError",
     "evalue": "[Errno 2] No such file or directory: 'Telco Churn dataset.xlsx'",
     "output_type": "error",
     "traceback": [
      "\u001b[0;31m---------------------------------------------------------------------------\u001b[0m",
      "\u001b[0;31mFileNotFoundError\u001b[0m                         Traceback (most recent call last)",
      "Input \u001b[0;32mIn [2]\u001b[0m, in \u001b[0;36m<module>\u001b[0;34m\u001b[0m\n\u001b[1;32m      1\u001b[0m \u001b[38;5;28;01mimport\u001b[39;00m \u001b[38;5;21;01mpandas\u001b[39;00m \u001b[38;5;28;01mas\u001b[39;00m \u001b[38;5;21;01mpd\u001b[39;00m\n\u001b[1;32m      2\u001b[0m \u001b[38;5;28;01mimport\u001b[39;00m \u001b[38;5;21;01mnumpy\u001b[39;00m \u001b[38;5;28;01mas\u001b[39;00m \u001b[38;5;21;01mnp\u001b[39;00m\n\u001b[0;32m----> 4\u001b[0m churn \u001b[38;5;241m=\u001b[39m \u001b[43mpd\u001b[49m\u001b[38;5;241;43m.\u001b[39;49m\u001b[43mread_excel\u001b[49m\u001b[43m(\u001b[49m\u001b[38;5;124;43m'\u001b[39;49m\u001b[38;5;124;43mTelco Churn dataset.xlsx\u001b[39;49m\u001b[38;5;124;43m'\u001b[39;49m\u001b[43m)\u001b[49m\n\u001b[1;32m      6\u001b[0m churn\u001b[38;5;241m.\u001b[39minfo()\n",
      "File \u001b[0;32m/opt/intel/inteloneapi/intelpython/latest/lib/python3.9/site-packages/pandas/util/_decorators.py:299\u001b[0m, in \u001b[0;36mdeprecate_nonkeyword_arguments.<locals>.decorate.<locals>.wrapper\u001b[0;34m(*args, **kwargs)\u001b[0m\n\u001b[1;32m    294\u001b[0m     msg \u001b[38;5;241m=\u001b[39m (\n\u001b[1;32m    295\u001b[0m         \u001b[38;5;124mf\u001b[39m\u001b[38;5;124m\"\u001b[39m\u001b[38;5;124mStarting with Pandas version \u001b[39m\u001b[38;5;132;01m{\u001b[39;00mversion\u001b[38;5;132;01m}\u001b[39;00m\u001b[38;5;124m all arguments of \u001b[39m\u001b[38;5;124m\"\u001b[39m\n\u001b[1;32m    296\u001b[0m         \u001b[38;5;124mf\u001b[39m\u001b[38;5;124m\"\u001b[39m\u001b[38;5;132;01m{\u001b[39;00mfunc\u001b[38;5;241m.\u001b[39m\u001b[38;5;18m__name__\u001b[39m\u001b[38;5;132;01m}\u001b[39;00m\u001b[38;5;132;01m{\u001b[39;00marguments\u001b[38;5;132;01m}\u001b[39;00m\u001b[38;5;124m will be keyword-only\u001b[39m\u001b[38;5;124m\"\u001b[39m\n\u001b[1;32m    297\u001b[0m     )\n\u001b[1;32m    298\u001b[0m     warnings\u001b[38;5;241m.\u001b[39mwarn(msg, \u001b[38;5;167;01mFutureWarning\u001b[39;00m, stacklevel\u001b[38;5;241m=\u001b[39mstacklevel)\n\u001b[0;32m--> 299\u001b[0m \u001b[38;5;28;01mreturn\u001b[39;00m \u001b[43mfunc\u001b[49m\u001b[43m(\u001b[49m\u001b[38;5;241;43m*\u001b[39;49m\u001b[43margs\u001b[49m\u001b[43m,\u001b[49m\u001b[43m \u001b[49m\u001b[38;5;241;43m*\u001b[39;49m\u001b[38;5;241;43m*\u001b[39;49m\u001b[43mkwargs\u001b[49m\u001b[43m)\u001b[49m\n",
      "File \u001b[0;32m/opt/intel/inteloneapi/intelpython/latest/lib/python3.9/site-packages/pandas/io/excel/_base.py:336\u001b[0m, in \u001b[0;36mread_excel\u001b[0;34m(io, sheet_name, header, names, index_col, usecols, squeeze, dtype, engine, converters, true_values, false_values, skiprows, nrows, na_values, keep_default_na, na_filter, verbose, parse_dates, date_parser, thousands, comment, skipfooter, convert_float, mangle_dupe_cols, storage_options)\u001b[0m\n\u001b[1;32m    334\u001b[0m \u001b[38;5;28;01mif\u001b[39;00m \u001b[38;5;129;01mnot\u001b[39;00m \u001b[38;5;28misinstance\u001b[39m(io, ExcelFile):\n\u001b[1;32m    335\u001b[0m     should_close \u001b[38;5;241m=\u001b[39m \u001b[38;5;28;01mTrue\u001b[39;00m\n\u001b[0;32m--> 336\u001b[0m     io \u001b[38;5;241m=\u001b[39m \u001b[43mExcelFile\u001b[49m\u001b[43m(\u001b[49m\u001b[43mio\u001b[49m\u001b[43m,\u001b[49m\u001b[43m \u001b[49m\u001b[43mstorage_options\u001b[49m\u001b[38;5;241;43m=\u001b[39;49m\u001b[43mstorage_options\u001b[49m\u001b[43m,\u001b[49m\u001b[43m \u001b[49m\u001b[43mengine\u001b[49m\u001b[38;5;241;43m=\u001b[39;49m\u001b[43mengine\u001b[49m\u001b[43m)\u001b[49m\n\u001b[1;32m    337\u001b[0m \u001b[38;5;28;01melif\u001b[39;00m engine \u001b[38;5;129;01mand\u001b[39;00m engine \u001b[38;5;241m!=\u001b[39m io\u001b[38;5;241m.\u001b[39mengine:\n\u001b[1;32m    338\u001b[0m     \u001b[38;5;28;01mraise\u001b[39;00m \u001b[38;5;167;01mValueError\u001b[39;00m(\n\u001b[1;32m    339\u001b[0m         \u001b[38;5;124m\"\u001b[39m\u001b[38;5;124mEngine should not be specified when passing \u001b[39m\u001b[38;5;124m\"\u001b[39m\n\u001b[1;32m    340\u001b[0m         \u001b[38;5;124m\"\u001b[39m\u001b[38;5;124man ExcelFile - ExcelFile already has the engine set\u001b[39m\u001b[38;5;124m\"\u001b[39m\n\u001b[1;32m    341\u001b[0m     )\n",
      "File \u001b[0;32m/opt/intel/inteloneapi/intelpython/latest/lib/python3.9/site-packages/pandas/io/excel/_base.py:1080\u001b[0m, in \u001b[0;36mExcelFile.__init__\u001b[0;34m(self, path_or_buffer, engine, storage_options)\u001b[0m\n\u001b[1;32m   1078\u001b[0m     ext \u001b[38;5;241m=\u001b[39m \u001b[38;5;124m\"\u001b[39m\u001b[38;5;124mxls\u001b[39m\u001b[38;5;124m\"\u001b[39m\n\u001b[1;32m   1079\u001b[0m \u001b[38;5;28;01melse\u001b[39;00m:\n\u001b[0;32m-> 1080\u001b[0m     ext \u001b[38;5;241m=\u001b[39m \u001b[43minspect_excel_format\u001b[49m\u001b[43m(\u001b[49m\n\u001b[1;32m   1081\u001b[0m \u001b[43m        \u001b[49m\u001b[43mcontent\u001b[49m\u001b[38;5;241;43m=\u001b[39;49m\u001b[43mpath_or_buffer\u001b[49m\u001b[43m,\u001b[49m\u001b[43m \u001b[49m\u001b[43mstorage_options\u001b[49m\u001b[38;5;241;43m=\u001b[39;49m\u001b[43mstorage_options\u001b[49m\n\u001b[1;32m   1082\u001b[0m \u001b[43m    \u001b[49m\u001b[43m)\u001b[49m\n\u001b[1;32m   1084\u001b[0m \u001b[38;5;28;01mif\u001b[39;00m ext \u001b[38;5;241m==\u001b[39m \u001b[38;5;124m\"\u001b[39m\u001b[38;5;124mods\u001b[39m\u001b[38;5;124m\"\u001b[39m:\n\u001b[1;32m   1085\u001b[0m     engine \u001b[38;5;241m=\u001b[39m \u001b[38;5;124m\"\u001b[39m\u001b[38;5;124modf\u001b[39m\u001b[38;5;124m\"\u001b[39m\n",
      "File \u001b[0;32m/opt/intel/inteloneapi/intelpython/latest/lib/python3.9/site-packages/pandas/io/excel/_base.py:958\u001b[0m, in \u001b[0;36minspect_excel_format\u001b[0;34m(path, content, storage_options)\u001b[0m\n\u001b[1;32m    955\u001b[0m     content_or_path \u001b[38;5;241m=\u001b[39m content \u001b[38;5;129;01mor\u001b[39;00m path\n\u001b[1;32m    956\u001b[0m \u001b[38;5;28;01massert\u001b[39;00m content_or_path \u001b[38;5;129;01mis\u001b[39;00m \u001b[38;5;129;01mnot\u001b[39;00m \u001b[38;5;28;01mNone\u001b[39;00m\n\u001b[0;32m--> 958\u001b[0m \u001b[38;5;28;01mwith\u001b[39;00m \u001b[43mget_handle\u001b[49m\u001b[43m(\u001b[49m\n\u001b[1;32m    959\u001b[0m \u001b[43m    \u001b[49m\u001b[43mcontent_or_path\u001b[49m\u001b[43m,\u001b[49m\u001b[43m \u001b[49m\u001b[38;5;124;43m\"\u001b[39;49m\u001b[38;5;124;43mrb\u001b[39;49m\u001b[38;5;124;43m\"\u001b[39;49m\u001b[43m,\u001b[49m\u001b[43m \u001b[49m\u001b[43mstorage_options\u001b[49m\u001b[38;5;241;43m=\u001b[39;49m\u001b[43mstorage_options\u001b[49m\u001b[43m,\u001b[49m\u001b[43m \u001b[49m\u001b[43mis_text\u001b[49m\u001b[38;5;241;43m=\u001b[39;49m\u001b[38;5;28;43;01mFalse\u001b[39;49;00m\n\u001b[1;32m    960\u001b[0m \u001b[43m\u001b[49m\u001b[43m)\u001b[49m \u001b[38;5;28;01mas\u001b[39;00m handle:\n\u001b[1;32m    961\u001b[0m     stream \u001b[38;5;241m=\u001b[39m handle\u001b[38;5;241m.\u001b[39mhandle\n\u001b[1;32m    962\u001b[0m     stream\u001b[38;5;241m.\u001b[39mseek(\u001b[38;5;241m0\u001b[39m)\n",
      "File \u001b[0;32m/opt/intel/inteloneapi/intelpython/latest/lib/python3.9/site-packages/pandas/io/common.py:656\u001b[0m, in \u001b[0;36mget_handle\u001b[0;34m(path_or_buf, mode, encoding, compression, memory_map, is_text, errors, storage_options)\u001b[0m\n\u001b[1;32m    647\u001b[0m         handle \u001b[38;5;241m=\u001b[39m \u001b[38;5;28mopen\u001b[39m(\n\u001b[1;32m    648\u001b[0m             handle,\n\u001b[1;32m    649\u001b[0m             ioargs\u001b[38;5;241m.\u001b[39mmode,\n\u001b[0;32m   (...)\u001b[0m\n\u001b[1;32m    652\u001b[0m             newline\u001b[38;5;241m=\u001b[39m\u001b[38;5;124m\"\u001b[39m\u001b[38;5;124m\"\u001b[39m,\n\u001b[1;32m    653\u001b[0m         )\n\u001b[1;32m    654\u001b[0m     \u001b[38;5;28;01melse\u001b[39;00m:\n\u001b[1;32m    655\u001b[0m         \u001b[38;5;66;03m# Binary mode\u001b[39;00m\n\u001b[0;32m--> 656\u001b[0m         handle \u001b[38;5;241m=\u001b[39m \u001b[38;5;28;43mopen\u001b[39;49m\u001b[43m(\u001b[49m\u001b[43mhandle\u001b[49m\u001b[43m,\u001b[49m\u001b[43m \u001b[49m\u001b[43mioargs\u001b[49m\u001b[38;5;241;43m.\u001b[39;49m\u001b[43mmode\u001b[49m\u001b[43m)\u001b[49m\n\u001b[1;32m    657\u001b[0m     handles\u001b[38;5;241m.\u001b[39mappend(handle)\n\u001b[1;32m    659\u001b[0m \u001b[38;5;66;03m# Convert BytesIO or file objects passed with an encoding\u001b[39;00m\n",
      "\u001b[0;31mFileNotFoundError\u001b[0m: [Errno 2] No such file or directory: 'Telco Churn dataset.xlsx'"
     ]
    }
   ],
   "source": [
    "import pandas as pd\n",
    "import numpy as np\n",
    "\n",
    "churn = pd.read_excel('Telco Churn dataset.xlsx')\n",
    "\n",
    "churn.info()"
   ]
  },
  {
   "cell_type": "code",
   "execution_count": null,
   "metadata": {},
   "outputs": [],
   "source": [
    "churn.shape"
   ]
  },
  {
   "cell_type": "markdown",
   "metadata": {},
   "source": [
    "# Handy Utilities"
   ]
  },
  {
   "cell_type": "code",
   "execution_count": null,
   "metadata": {},
   "outputs": [],
   "source": [
    "from itertools import compress\n",
    "class MaskableList(list):\n",
    "    def __getitem__(self, index):\n",
    "        try: return super(MaskableList, self).__getitem__(index)\n",
    "        except TypeError: return MaskableList(compress(self, index))\n",
    "        \n",
    "def DescribeItemRange(df):  # Show the number of unique values in each column\n",
    "    cols = df.columns.tolist()\n",
    "    vals = pd.DataFrame ( [ len(set(df[s])) for s in df.columns.tolist()] ).T\n",
    "    vals.columns = cols\n",
    "    return vals\n",
    "\n",
    "def ReplaceNans (df):  #replace NaNs in all df locations with zeros\n",
    "    df.fillna(0)\n",
    "    return df\n",
    "\n",
    "def SelectZeroColumns (df): #return a list with column names of zero filled columns\n",
    "    dropcols = (df == 0).all().astype(int).tolist()\n",
    "    return [s for s in mylist[dropcols]  ]\n",
    "\n",
    "def SelectNonZeroColumns(df):  #return a list with columns names of nonzero columns\n",
    "    return list(set(StringifyColumnNames(df))- set(SelectZeroColumns(df) ))\n",
    "\n",
    "def StringifyColumnNames (df):   # handle unicode strings and covert to normal strings\n",
    "    cols = df.columns.tolist()\n",
    "    cols = [str(r) for r in cols]\n",
    "    return cols\n",
    "\n",
    "def Factorize(df):\n",
    "    return  df.apply(lambda x: pd.factorize(x)[0])\n",
    "\n",
    "def MyOneHotEncode(pdold, StaticCols, EncodeCols):\n",
    "    \"\"\"MyOneHotEncode performs OneHotEncoding on specified columns in our dataframe\"\"\"\n",
    "    \"\"\"pdold is the old dataframe we are paasing in\"\"\"\n",
    "    \"\"\"StaticCols is a list of columns we do not wish to encode\"\"\"\n",
    "    \"\"\"EncodeCols is a list of columns we wish to encode\"\"\"\n",
    "    # make sure that we our static list is not in our encode list\n",
    "    cols_OneHotEncode = sorted(list(set(EncodeCols) - set(StaticCols)))\n",
    "    # create a new dataframe which represents the static columns\n",
    "    pdnew = pdold[StaticCols]\n",
    "    # loop thru the endcode list and OneHotEncode (using get_dummies) each column in the encode list\n",
    "    # note - this will typically map a single column to several columns - one for each value contained in the original column\n",
    "    for col in cols_OneHotEncode:\n",
    "        new_names = []\n",
    "        enc = pd.get_dummies(pdold[col])\n",
    "        for subcol in  enc:\n",
    "            name = col + str(subcol)\n",
    "            new_names.append(name)\n",
    "        enc.columns = new_names\n",
    "        # concat the new OneHotEnoded dataframe to the original\n",
    "        pdnew = pd.concat([pdnew, enc], axis=1)\n",
    "    return pdnew\n",
    "\n",
    "\n",
    "def my_dbscan(df, eps_):\n",
    "# Compute DBSCAN\n",
    "    labels = []\n",
    "    db = DBSCAN(eps=eps_, min_samples=100).fit(df)\n",
    "    labels = pd.DataFrame(db.labels_ )\n",
    "    #n_clusters_ = labels[0].madf()\n",
    "    n_clusters_ = len(set(labels)) - (1 if -1 in labels else 0)\n",
    "    # Number of clusters in labels, ignoring noise if present.\n",
    "    #tdft = 'dbsPCA_' + str(n_clusters_)\n",
    "    tdft = 'dbsPCA'\n",
    "    df[tdft]=labels\n",
    "    print('eps:{} Estimated number of clusters: {}'.format(eps_, n_clusters_) ) \n",
    "    return df, labels, n_clusters_\n"
   ]
  },
  {
   "cell_type": "markdown",
   "metadata": {},
   "source": [
    "# Ensure there are no NaNs or blank data"
   ]
  },
  {
   "cell_type": "code",
   "execution_count": null,
   "metadata": {},
   "outputs": [],
   "source": [
    "churn.isna().sum()"
   ]
  },
  {
   "cell_type": "markdown",
   "metadata": {},
   "source": [
    "# Describe the Range of Values in each Column"
   ]
  },
  {
   "cell_type": "code",
   "execution_count": null,
   "metadata": {},
   "outputs": [],
   "source": [
    "DescribeItemRange(churn)\n",
    "churn_cat_col"
   ]
  },
  {
   "cell_type": "markdown",
   "metadata": {},
   "source": [
    "## Explore Churn Data\n",
    "* the number of rows, \n",
    "* the number of columns,\n",
    "* any descriptive statistics\n",
    "\n",
    "## Separate Categorical from Numeric Data for Further Processing\n",
    "* numeric data for now will be kept in a separate dataframe\n",
    "* categorical data will be in its own dataframe for be transformed into values in kind of pipeline"
   ]
  },
  {
   "cell_type": "code",
   "execution_count": null,
   "metadata": {},
   "outputs": [],
   "source": [
    "# here are the columns which are categorical\n",
    "churn_cat_col = [key for key in dict(churn.dtypes) if dict(churn.dtypes)[key] in ['object']]\n",
    "# here are the columns which are numeric\n",
    "churn_num_col = [key for key in dict(churn.dtypes) if dict(churn.dtypes)[key] in ['float64', 'int64']]\n",
    "#create a dataframe to hold categorical data\n",
    "churn_cat = churn[churn_cat_col]\n",
    "print(\"Categorical columns\")\n",
    "display(churn_cat.head())\n",
    "#create a dataframe to hold numeric data\n",
    "churn_num = churn[churn_num_col]\n",
    "# display first few rows of numerical data to get a feel for them\n",
    "print(\"Numerical columns\")\n",
    "display(churn_num.head())\n"
   ]
  },
  {
   "cell_type": "markdown",
   "metadata": {},
   "source": [
    "# Convert Categories to Numbers\n",
    "\n",
    "we apply the factorize fucntion to all the categories as a first pass. We created a new dataframe here called **churn_cat_encode**\n",
    "\n",
    "The commented out code woudl allow us to map back to the original form if needed\n",
    "\n",
    "PaymentMethod for example will now have numeric values like 0, 1, 2, 3,...:\n"
   ]
  },
  {
   "cell_type": "code",
   "execution_count": null,
   "metadata": {},
   "outputs": [],
   "source": [
    "churn_cat.columns"
   ]
  },
  {
   "cell_type": "code",
   "execution_count": null,
   "metadata": {},
   "outputs": [],
   "source": [
    "#  Factorize the categorical churn columns\n",
    "# churn_cat_encode = Factorize(churn_cat)\n",
    "# churn_cat_encode.head()"
   ]
  },
  {
   "cell_type": "markdown",
   "metadata": {},
   "source": [
    "# Encode the data (OneHotEncode)\n",
    "The problem with the data above is that while the data are numeric, it give arbitrary low weights to categories encoded with 0 and higher weights to others\n",
    "\n",
    "This will probably skew our analysis. For example, PaymentMethod has values 0, 1, 2.  Do we really mean to imply that PaymentMethod=0 has no weight, but PaymentMethod=2 has twice as much weight as PaymentMethod=1?\n",
    "\n",
    "We use OneHotEncode here to make sure each value that was used is encoded with the value 1, while the value will be 0 if that feature was not used.\n",
    "\n",
    "**Note:** We dont want to encode categories with many unique values in it such as customerID. \n",
    "\n",
    "We define a funvtion to handle doing the encoding for us\n",
    "\n",
    "Now PaymentMethod will be split into brand new columns (one for each kind of numeric value) and each cell will have either 0 or 1, kind of like a check box, indicating the feature was present or not.\n",
    "\n",
    "We also concatenate the previous numerica columns back in to have them available for analysis after standardization."
   ]
  },
  {
   "cell_type": "code",
   "execution_count": null,
   "metadata": {
    "scrolled": true,
    "tags": []
   },
   "outputs": [],
   "source": [
    "# list of column name I wish to OneHotEncode\n",
    "cols_OneHotEncode = [ 'gender', 'MaritalStatus', 'Dependents', 'PhoneService',\n",
    "       'MultipleLines', 'InternetService', 'OnlineSecurity', 'OnlineBackup',\n",
    "       'DeviceProtection', 'TechSupport', 'StreamingTV', 'StreamingMovies',\n",
    "       'Contract', 'PaperlessBilling', 'PaymentMethod', 'InternationalPlan',\n",
    "       'VoiceMailPlan']\n",
    "\n",
    "#['DeviceProtection','TechSupport','OnlineBackup','MultipleLines','gender','StreamingTV','Contract','StreamingMovies','PhoneService','PaperlessBilling','OnlineSecurity','Partner','Dependents','InternetService','PaymentMethod']\n",
    "# label is the column I ultimately want to predict aka Churn\n",
    "label = churn_cat['Churn']\n",
    "churn_encoded_numeric = MyOneHotEncode (churn_cat, [], cols_OneHotEncode)\n",
    "churn_numeric = pd.concat([churn_encoded_numeric, churn_num], axis=1)  # add numeric to main df\n",
    "churn_numeric.head()"
   ]
  },
  {
   "cell_type": "markdown",
   "metadata": {},
   "source": [
    "# Standardize the Data"
   ]
  },
  {
   "cell_type": "code",
   "execution_count": null,
   "metadata": {},
   "outputs": [],
   "source": [
    "from sklearn import preprocessing\n",
    "#scale our data to zero center it\n",
    "scaler = preprocessing.StandardScaler().fit(churn_numeric)\n",
    "X_scaled = scaler.fit_transform(churn_numeric )   # same as (df-df.mean())/df.std(ddof=0)\n",
    "\n",
    "# create new data frame with all values scaled\n",
    "churn_scaled = pd.DataFrame(X_scaled)\n",
    "churn_scaled.columns = churn_numeric.columns\n",
    "churn_scaled.head()"
   ]
  },
  {
   "cell_type": "markdown",
   "metadata": {},
   "source": [
    "# Correlation Plot\n",
    "Plot shows which factors are correlated with which ohers and to what degree.\n",
    "\n",
    "Here, red means highly correlated (as in correlated with Churn being bad therefor red), blue means negatively correlated, and white means no correlation.\n",
    "**Notice** A customer with more contracts, more dependents, more tenure are less likley to churn in this example."
   ]
  },
  {
   "cell_type": "code",
   "execution_count": null,
   "metadata": {},
   "outputs": [],
   "source": [
    "churn_numeric.shape"
   ]
  },
  {
   "cell_type": "raw",
   "metadata": {},
   "source": [
    "from string import ascii_letters\n",
    "import numpy as np\n",
    "import pandas as pd\n",
    "import seaborn as sns\n",
    "import matplotlib.pyplot as plt\n",
    "\n",
    "sns.set(style=\"white\")\n",
    "\n",
    "# Generate a large random dataset\n",
    "d = churn_encoded_numeric\n",
    "\n",
    "# Compute the correlation matrix\n",
    "corr = np.corrcoef(d.T)\n",
    "\n",
    "# Generate a mask for the upper triangle\n",
    "mask = np.zeros_like(corr, dtype=bool)\n",
    "mask[np.triu_indices_from(mask)] = True\n",
    "\n",
    "# Set up the matplotlib figure\n",
    "f, ax = plt.subplots(figsize=(11, 9))\n",
    "\n",
    "# Generate a custom diverging colormap\n",
    "cmap = sns.diverging_palette(220, 10, as_cmap=True)\n",
    "\n",
    "# Draw the heatmap with the mask and correct aspect ratio\n",
    "sns.heatmap(corr, mask=mask, cmap=cmap, vmax=.3, center=0,\n",
    "            square=True, linewidths=.5, cbar_kws={\"shrink\": .5})"
   ]
  },
  {
   "cell_type": "markdown",
   "metadata": {},
   "source": [
    "Perfectly anti-correlated columsn such as gender - contain redundant information = there are other yes/no columns that were encoded into two redundant columns by one hot encoding"
   ]
  },
  {
   "attachments": {
    "image.png": {
     "image/png": "[encoded data removed]"
    }
   },
   "cell_type": "markdown",
   "metadata": {},
   "source": [
    "<h1><center>Principal Component Analysis To Analyze Bahavior</center></h1>\n",
    "\n",
    "![image.png](attachment:image.png)\n",
    "\n",
    "Principal component analysis (PCA) is a statistical procedure that uses an orthogonal transformation to convert a set of observations of possibly correlated variables into a set of values of linearly uncorrelated variables called principal components. The number of principal components is less than or equal to the number of original variables.\n",
    "\n",
    "\n"
   ]
  },
  {
   "cell_type": "code",
   "execution_count": null,
   "metadata": {},
   "outputs": [],
   "source": [
    "\n",
    "from sklearn.decomposition import PCA\n",
    "scaler = preprocessing.StandardScaler().fit(churn_numeric)\n",
    "X_scaled = preprocessing.scale(churn_encoded_numeric, with_mean=True, with_std=True )   # same as (df-df.mean())/df.std(ddof=0)\n",
    "# start w n_components principal components and see how much variance that gives me\n",
    "n_components = 20\n",
    "# create instance of PCA (constructor)\n",
    "pca = PCA(n_components=n_components)\n",
    "#pca = PCA(copy=True, iterated_power='auto', n_components=n_components, random_state=None, svd_solver='auto', tol=0.0, whiten=False) \n",
    "pca.fit(X_scaled)\n",
    "X_scaled = pca.transform(X_scaled)  #get the actual principal components as vectors\n",
    "print(pca.explained_variance_ratio_) "
   ]
  },
  {
   "cell_type": "markdown",
   "metadata": {},
   "source": [
    "# Create copy the PCA data to a Dataframe and print the top few rows"
   ]
  },
  {
   "cell_type": "code",
   "execution_count": null,
   "metadata": {},
   "outputs": [],
   "source": [
    "Col_headings = ['P'+str(x) for x in range(n_components)]\n",
    "pcomps = pd.DataFrame(X_scaled) \n",
    "pcomps.columns = Col_headings\n",
    "# concatenate the Churn column on the end so its easy to plot by Churn\n",
    "if 'Churn' not in pcomps.columns:\n",
    "    pcomps = pd.concat([pcomps, label], axis=1)\n",
    "pcomps.head()\n"
   ]
  },
  {
   "cell_type": "markdown",
   "metadata": {},
   "source": [
    "# PCA Scree Plot\n",
    "\n",
    "### Overview\n",
    "\n",
    "A Scree Plot is a simple line segment plot that shows the fraction of total variance in the data as explained or represented by each PC. The PCs are ordered, and by definition are therefore assigned a number label, by decreasing order of contribution to total variance. The PC with the largest fraction contribution is labeled with the label name from the preferences file. Such a plot when read left-to-right across the abscissa can often show a clear separation in fraction of total variance where the 'most important' components cease and the 'least important' components begin. The point of separation is often called the 'elbow'.  (In the PCA literature, the plot is called a 'Scree' Plot because it often looks like a 'scree' slope, where rocks have fallen down and accumulated on the side of a mountain.)"
   ]
  },
  {
   "cell_type": "code",
   "execution_count": null,
   "metadata": {},
   "outputs": [],
   "source": [
    "import matplotlib.pyplot as plt\n",
    "import numpy as np\n",
    "\n",
    "# bin is my x axis variable\n",
    "bin = []\n",
    "for i in range (n_components):\n",
    "    bin.append(i+1)\n",
    "# plot the cummulative variance against the index of PCA\n",
    "cum_var = np.cumsum(pca.explained_variance_ratio_)\n",
    "plt.plot(bin, cum_var)\n",
    "# plot the 95% threshold, so we can read off count of principal components that matter\n",
    "plt.plot(bin, [.95]*n_components, '--')\n",
    "plt.plot(bin, [.75]*n_components, '--')\n",
    "plt.plot(bin, [.67]*n_components, '--')\n",
    "#turn on grid to make graph reading easier\n",
    "plt.grid(True)\n",
    "plt.rcParams.update({'font.size': 22})\n",
    "plt.suptitle('PC Variance Exaplined (Scree Plot)')\n",
    "# control number of tick marks\n",
    "plt.xticks([i for i in range(0,n_components)])\n",
    "plt.show()"
   ]
  },
  {
   "cell_type": "markdown",
   "metadata": {},
   "source": [
    "# Plot Principal Components: Scatter Matrix\n",
    "\n",
    "Control the **colors** by the ** churn variable** or by the cluster they are in\n",
    "\n",
    "Get a feel for clsutering beahvior\n",
    "\n",
    "* **black = no churn**\n",
    "\n",
    "* **red = churn**"
   ]
  },
  {
   "cell_type": "code",
   "execution_count": null,
   "metadata": {},
   "outputs": [],
   "source": [
    "pcomps"
   ]
  },
  {
   "cell_type": "code",
   "execution_count": null,
   "metadata": {},
   "outputs": [],
   "source": [
    "# from pandas.tools.plotting import scatter_matrix # For older versions of Pandas\n",
    "from pandas.plotting import scatter_matrix\n",
    "import matplotlib.pyplot as plt\n",
    "%matplotlib inline\n",
    "\n",
    "# Figure 1\n",
    "# color the plot by the Churn variable\n",
    "label_num = MyOneHotEncode (churn_cat, [], ['Churn'])\n",
    "pcomps['Churn'] = label_num['ChurnYes']\n",
    "# attributes are the index of Principal components to plot against each other\n",
    "attributes = ['P{}'.format(i) for i in range(4)]\n",
    "#attributes = [item + 10 for item in attributes]   # mthod to add if you want to look at the least significant components\n",
    "churn_colors=['black', 'red']\n",
    "# make a scatter plot\n",
    "scatter_matrix(pcomps[attributes], alpha =.3, marker='o',c=pcomps.Churn.apply(lambda x:churn_colors[x]), figsize=[16,16])\n",
    "#scatter_matrix(pcomps[attributes], alpha =.3, marker='x',c=churn_cat_encode_new2.InternetService0.astype('int').apply(lambda x:churn_colors[x]), figsize=[16,16])\n",
    "plt.rcParams.update({'font.size': 22})\n",
    "plt.suptitle(\"Figure 1: Scatter Matrix of PC's\")\n",
    "plt.show()\n"
   ]
  },
  {
   "cell_type": "markdown",
   "metadata": {},
   "source": [
    "Are the dots completely random?\n",
    "\n",
    "Is there some patterning visible?\n",
    "\n",
    "Are the Churn people (red) concentrated in certain places or randomly?"
   ]
  },
  {
   "cell_type": "markdown",
   "metadata": {},
   "source": [
    "## Method to Drill Down to Specific Portion of the Data\n",
    "We are keying off the graph above and noticing that P0 < 0 covers a major portionof the clusters\n",
    "\n",
    "So what makes this part of the tick?"
   ]
  },
  {
   "cell_type": "code",
   "execution_count": null,
   "metadata": {},
   "outputs": [],
   "source": [
    "churn_encoded_numeric[pcomps['P0']>0].describe()"
   ]
  },
  {
   "cell_type": "markdown",
   "metadata": {},
   "source": [
    "\n",
    "# Find KMeans Clusters in the PCA Data\n",
    "\n",
    "Lets use an algorithm to groups clusters it finds together. We will label our data with the clusters we find so we can sort and filter as needed\n",
    "\n",
    "Here we use kmeans as a quick and dirty clustering method to get a better feel for customer behavior\n",
    "\n",
    "Ideally I would like to identify a cluster for each natural cluster of customer bevaior\n",
    "\n",
    "Armed with this I may decide to sgement out interesting populations for prediction, or I may decide that one big prediction against all the data is best\n",
    "\n",
    "We will augment the rows of the dataset with the cluster information so that it can be used in our models"
   ]
  },
  {
   "cell_type": "code",
   "execution_count": null,
   "metadata": {},
   "outputs": [],
   "source": [
    "from sklearn.cluster import KMeans\n",
    "import numpy as np\n",
    "\n",
    "def my_kmeans(pcomps, n_clusters):\n",
    "    cols = ['P{}'.format(i) for i in range(4)]\n",
    "    x = pcomps[cols].to_numpy()\n",
    "    kmeans = KMeans(n_clusters=n_clusters, random_state=0).fit(x)\n",
    "    kmeans.labels_\n",
    "    X_scaled.shape\n",
    "    #kmeans.cluster_centers_\n",
    "    txt = 'kmeans' + str(n_clusters)\n",
    "    pcomps[txt]=kmeans.labels_\n",
    "    return pcomps\n",
    "\n",
    "pcomps = my_kmeans(pcomps,2)\n",
    "pcomps = my_kmeans(pcomps,3)\n",
    "pcomps = my_kmeans(pcomps,4)\n",
    "pcomps = my_kmeans(pcomps,5)\n",
    "\n",
    "plt.hist( pcomps['kmeans4'])\n",
    "plt.title(\"kmeans4\")\n",
    "plt.xlabel(\"Cluster\")\n",
    "plt.ylabel(\"Frequency\")\n",
    "\n",
    "plt.show()\n",
    "#churn_cat_encode_new2[df['kmeans']==1].describe()"
   ]
  },
  {
   "cell_type": "code",
   "execution_count": null,
   "metadata": {},
   "outputs": [],
   "source": [
    "churn_scaled = pd.concat([churn_scaled, pcomps['kmeans2']], axis=1)\n",
    "churn_scaled = pd.concat([churn_scaled, pcomps['kmeans3']], axis=1)\n",
    "churn_scaled = pd.concat([churn_scaled, pcomps['kmeans4']], axis=1)\n",
    "churn_scaled = pd.concat([churn_scaled, pcomps['kmeans5']], axis=1)\n",
    "churn_encoded_numeric = pd.concat([churn_encoded_numeric, pcomps['kmeans2']], axis=1)\n",
    "churn_encoded_numeric = pd.concat([churn_encoded_numeric, pcomps['kmeans3']], axis=1)\n",
    "churn_encoded_numeric = pd.concat([churn_encoded_numeric, pcomps['kmeans4']], axis=1)\n",
    "churn_encoded_numeric = pd.concat([churn_encoded_numeric, pcomps['kmeans5']], axis=1)\n"
   ]
  },
  {
   "cell_type": "markdown",
   "metadata": {},
   "source": [
    "# Examine Specific Cluster Like This"
   ]
  },
  {
   "cell_type": "code",
   "execution_count": null,
   "metadata": {},
   "outputs": [],
   "source": [
    "churn_encoded_numeric[pcomps['kmeans5']==1].head()"
   ]
  },
  {
   "cell_type": "markdown",
   "metadata": {},
   "source": [
    "# Experiment with 3D plot: Red = Churn\n",
    "This may give a better feel for the clustering behavior\n",
    "\n",
    "Control the colors as you wish, here we color Churners red\n",
    "**red = Churn**\n",
    "\n",
    "The plot should be interactive so you can rotate it a see where churners live"
   ]
  },
  {
   "cell_type": "code",
   "execution_count": null,
   "metadata": {},
   "outputs": [],
   "source": [
    "from mpl_toolkits.mplot3d import Axes3D\n",
    "import matplotlib.pyplot as plt\n",
    "%matplotlib inline\n",
    "\n",
    "fig = plt.figure(figsize=[10,10])\n",
    "ax = fig.add_subplot(111, projection='3d')\n",
    "colors=['black','red']\n",
    "#df = pcomps[pcomps['kmeans3']==2]\n",
    "df = pcomps\n",
    "churn_colors=['red' , 'black', 'black', 'black', 'black', 'black', 'black', 'black', 'black', 'black', 'black']\n",
    "ax.scatter(df['P5'], df['P0'], df['P1'],c=df['kmeans5'].apply(lambda x:churn_colors[x]), alpha = .3 )\n",
    "\n",
    "ax.set_xlabel('Princ 1')\n",
    "ax.set_ylabel('Princ 0')\n",
    "ax.set_zlabel('Princ 5')\n",
    "\n",
    "plt.show()"
   ]
  },
  {
   "cell_type": "markdown",
   "metadata": {},
   "source": [
    "\n",
    "\n",
    "\n",
    "# One Approach to Outliers (DBSCAN Visualization)\n",
    "\n",
    "Control the **colors** by the **cluster** they are in\n",
    "\n",
    "Get a feel for clsutering behavior\n",
    "\n",
    "We added the cluster number to the dataframe so we can drill down as needed to examine a cluster in more detail.\n",
    "\n",
    "When we create the model we might decide to take advantage of our feature engineering here or we might decide to let the ML/DL algorithm use all the data to make predictions.\n",
    "\n",
    "**NOTE:** Be careful with relying on the cluster number. These were established by random selection. So each time we run we may get a different cluster number for what humans percieve as a clsuter or the k-means may find different clusters entirely. Specifying a random seed or using a different cluster methods, such SOM may make this part more rubust.\n",
    "\n",
    "It would be great if we coudl isolate the different communities from each other and see if this effects the chrun prediction"
   ]
  },
  {
   "cell_type": "code",
   "execution_count": null,
   "metadata": {},
   "outputs": [],
   "source": [
    "### import numpy as np\n",
    "from sklearn.cluster import DBSCAN\n",
    "from sklearn import metrics\n",
    "from sklearn.preprocessing import StandardScaler\n",
    "# X = pcomps.iloc[[1, 3, 5], [1, 3]]\n",
    "X = pcomps\n",
    "np.random.seed(42)\n",
    "\n",
    "# try eps of 6.5, then observe a small number of points are classified as -1 (Outliers)\n",
    "pcomps2, labels, n_clusters = my_dbscan(X, 6.3 )  # call my_dbscan with df=X, eps = 4\n",
    "#dbscan finds 2 clusters account for most points with min cluster distance 6.3\n",
    "\n",
    "dbsPCA_hist = pcomps2.dbsPCA\n",
    "print('Outliers: {}:   Estimated number of clusters: {}'.format(  dbsPCA_hist.tolist().count(-1),  n_clusters) )\n",
    "plt.hist( dbsPCA_hist)\n",
    "plt.title(\"dbsPCA_hist\")\n",
    "plt.xlabel(\"Cluster\")\n",
    "plt.ylabel(\"Frequency\")\n",
    "#plt.axis([-1,n_clusters,0,7200])\n",
    "plt.show()"
   ]
  },
  {
   "cell_type": "code",
   "execution_count": null,
   "metadata": {},
   "outputs": [],
   "source": [
    "churn_encoded_numeric = pd.concat([churn_encoded_numeric, pcomps['dbsPCA']], axis=1)\n"
   ]
  },
  {
   "cell_type": "code",
   "execution_count": null,
   "metadata": {},
   "outputs": [],
   "source": [
    "churn_encoded_numeric.head()"
   ]
  },
  {
   "cell_type": "code",
   "execution_count": null,
   "metadata": {},
   "outputs": [],
   "source": [
    "# Figure 2\n",
    "# plot each cluster a different color so we can see what cluster number is associated with each blob\n",
    "df2 = pcomps\n",
    "#df2 = pcomps[pcomps['Churn'] == 1]\n",
    "# make a scatter plot\n",
    "#attributes = [0, 1, 2]\n",
    "#colors=['blue','green','yellow']\n",
    "\n",
    "attributes = ['P{}'.format(i) for i in range(4)]\n",
    "\n",
    "colors=['black', 'violet','green','blue', 'yellow', 'red', 'gray', 'white', 'orange']\n",
    "scatter_matrix(df2[attributes],figsize=[16,16],marker='o', alpha=.3, c=df2['dbsPCA'].apply(lambda x:colors[x+1]))\n",
    "plt.rcParams.update({'font.size': 22})\n",
    "plt.suptitle(\"Outliers in black\")\n",
    "plt.show()"
   ]
  },
  {
   "cell_type": "code",
   "execution_count": null,
   "metadata": {},
   "outputs": [],
   "source": [
    "print('Outliers: {} '.format(  dbsPCA_hist.tolist().count(-1)) )\n",
    "churn_encoded_numeric[churn_encoded_numeric['dbsPCA']<0].describe()"
   ]
  },
  {
   "cell_type": "markdown",
   "metadata": {},
   "source": [
    "# Examine Outliers Statistics Like This\n",
    "\n",
    "Compare leading differnces bewteen Outliers and general population\n",
    "\n",
    "Notice that the ratio of the histogram values for Outliers versus general population are different - pretty dramtically"
   ]
  },
  {
   "cell_type": "code",
   "execution_count": null,
   "metadata": {},
   "outputs": [],
   "source": [
    "#churn_encoded_numeric[pcomps['dbsPCA']<0].head()\n",
    "if 'Churn' not in churn_encoded_numeric.columns:\n",
    "    churn_numeric = pd.concat([churn_encoded_numeric, label], axis=1)  # add numeric to main df\n",
    "churn_numeric[pcomps['dbsPCA']<0]\n",
    "\n",
    "TotalC = churn_numeric[pcomps['dbsPCA']<0]\n",
    "TotalC.hist(column = 'ContractOne year')\n",
    "\n",
    "plt.title('ContractOne year: Histogram for Outliers')\n",
    "churn_numeric.hist(column = 'ContractOne year')\n"
   ]
  },
  {
   "cell_type": "code",
   "execution_count": null,
   "metadata": {},
   "outputs": [],
   "source": [
    "churn_encoded_numeric[pcomps['dbsPCA']<0].describe()"
   ]
  },
  {
   "cell_type": "code",
   "execution_count": null,
   "metadata": {},
   "outputs": [],
   "source": [
    "churn_encoded_numeric.describe()"
   ]
  },
  {
   "cell_type": "markdown",
   "metadata": {},
   "source": [
    "# Modeling"
   ]
  },
  {
   "cell_type": "markdown",
   "metadata": {},
   "source": [
    "## Split Data - Training/Test\n",
    "\n",
    "Splitting the data can be a very easy thing but its also easy to get into trouble.\n",
    "\n",
    "We want to ensure that in subsequent runs we never contaminate the test set from run to run. Using a random seed help something like randseed = 42\n",
    "\n",
    "But if we ever drop or add rows, and then use the same random selection we will likely wind up putting a new value into our test set inadvertantly.\n",
    "\n",
    "It would be best to split the data based on some invariant such as a hask of column names or some other unique row identifier. But for now we take the easy random split approach."
   ]
  },
  {
   "cell_type": "code",
   "execution_count": null,
   "metadata": {},
   "outputs": [],
   "source": [
    "# to make this notebook's output identical at every run\n",
    "np.random.seed(42)\n",
    "# For illustration only. Sklearn has train_test_split()\n",
    "def split_train_test(data, test_ratio):\n",
    "    shuffled_indices = np.random.permutation(len(data))\n",
    "    test_set_size = int(len(data) * test_ratio)\n",
    "    test_indices = shuffled_indices[:test_set_size]\n",
    "    train_indices = shuffled_indices[test_set_size:]\n",
    "    return data.iloc[train_indices], data.iloc[test_indices]\n",
    "\n",
    "churn_numeric\n",
    "churn_scaled = pd.concat([churn_cat['customerID'], churn_numeric], axis=1)\n",
    "churn_scaled['Churn'] = label_num['ChurnYes']\n",
    "churn_scaled.head()\n",
    "if ( len(churn_scaled.customerID.unique()) ==  len(churn_numeric)) : \n",
    "    print(\"Unique Identifier\")\n",
    "\n",
    "train_set, test_set = split_train_test(churn_scaled, 0.2)\n"
   ]
  },
  {
   "cell_type": "markdown",
   "metadata": {},
   "source": [
    "# First Model - Decision Tree"
   ]
  },
  {
   "cell_type": "code",
   "execution_count": null,
   "metadata": {
    "scrolled": true
   },
   "outputs": [],
   "source": [
    "from sklearn.tree import DecisionTreeClassifier\n",
    "from sklearn.model_selection import cross_val_score\n",
    "from sklearn.metrics import accuracy_score\n",
    "\n",
    "X = churn_scaled.drop(u'customerID', axis=1)\n",
    "\n",
    "clf = DecisionTreeClassifier(random_state=0)\n",
    "AllCols = X.columns\n",
    "StaticCols = ['Churn']\n",
    "\n",
    "dataCols = sorted(list(set(AllCols) - set(StaticCols)))\n",
    "clf.fit(train_set[dataCols], train_set['Churn'])\n",
    "#accuracy = cross_val_score(clf, churn_cat_encode_new2[dataCols], churn_cat_encode_new2['Churn'], cv=10)\n",
    "predicted = clf.predict(test_set[dataCols])\n",
    "print (\"accuracy \", accuracy_score(test_set['Churn'], predicted ) )"
   ]
  },
  {
   "cell_type": "markdown",
   "metadata": {},
   "source": [
    "# EXERCISE\n",
    "\n",
    "- Replace custom train_test_split with patched version of sklearns train_test_split\n",
    "\n",
    "- Try at least two optimized sklearnex algorithms\n",
    "\n",
    "- Patch the DBSCAN portion\n",
    "\n",
    "- Patch the kmeans portion"
   ]
  },
  {
   "cell_type": "code",
   "execution_count": null,
   "metadata": {},
   "outputs": [],
   "source": []
  },
  {
   "cell_type": "code",
   "execution_count": null,
   "metadata": {},
   "outputs": [],
   "source": []
  }
 ],
 "metadata": {
  "kernelspec": {
   "display_name": "Python 3.7 (Intel® oneAPI)",
   "language": "python",
   "name": "c009-intel_distribution_of_python_3_oneapi-beta05-python"
  },
  "language_info": {
   "codemirror_mode": {
    "name": "ipython",
    "version": 3
   },
   "file_extension": ".py",
   "mimetype": "text/x-python",
   "name": "python",
   "nbconvert_exporter": "python",
   "pygments_lexer": "ipython3",
   "version": "3.9.7"
  }
 },
 "nbformat": 4,
 "nbformat_minor": 4
}
