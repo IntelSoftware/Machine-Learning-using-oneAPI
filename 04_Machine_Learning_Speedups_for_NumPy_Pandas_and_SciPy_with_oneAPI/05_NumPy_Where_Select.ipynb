{
 "cells": [
  {
   "cell_type": "markdown",
   "metadata": {
    "tags": []
   },
   "source": [
    "# Introduction to Numpy powered by oneAPI\n"
   ]
  },
  {
   "cell_type": "markdown",
   "metadata": {
    "tags": []
   },
   "source": [
    "\n",
    "# Exercises:\n",
    "\n",
    "Do a page search for each **Exercise** in this notebook. Complete all  exercises. Code in cells above each exercise may give insight into a solid approach"
   ]
  },
  {
   "cell_type": "code",
   "execution_count": 1,
   "metadata": {},
   "outputs": [],
   "source": [
    "import numpy as np\n",
    "from math import log10 as lg10\n",
    "import time\n",
    "import matplotlib.pyplot as plt\n",
    "import random\n",
    "import time\n",
    "%matplotlib inline"
   ]
  },
  {
   "attachments": {
    "387e18b2-7bb5-48fe-a29d-70e4b3ce7f77.PNG": {
     "image/png": "[encoded data removed]"
    }
   },
   "cell_type": "markdown",
   "metadata": {},
   "source": [
    "# *Numpy.where* to handle simple conditional logic\n",
    "\n",
    "![SimpleLogic.PNG](attachment:387e18b2-7bb5-48fe-a29d-70e4b3ce7f77.PNG)\n",
    "\n",
    "One thing that could prevent us from effectively getting vector performance when converting a loop to a vector approach is when the original loop has if then else statements in it - called conditional logic\n",
    "\n",
    "The Numpy Where allows us  to tackle conditional loops in a fast vectorized way\n",
    "\n",
    "Apply conditional logic to an array to create a new column orupdate contents of an existing column\n",
    "\n",
    "**Syntax:**\n",
    "- numpy.where(condition, [x, y, ]/)\n",
    "- Return elements chosen from x or y depending on condition.\n",
    "\n",
    "To understand what numpy where does, look at the simple example below\n",
    "See a simple example below to add 50 to all elements currently greater than 5:"
   ]
  },
  {
   "cell_type": "code",
   "execution_count": 2,
   "metadata": {},
   "outputs": [
    {
     "data": {
      "text/plain": [
       "array([ 0,  1,  2,  3,  4,  5, 56, 57, 58, 59])"
      ]
     },
     "execution_count": 2,
     "metadata": {},
     "output_type": "execute_result"
    }
   ],
   "source": [
    "a = np.arange(10)\n",
    "np.where(a > 5, a + 50, a )\n",
    "# if a > 5 then return a + 50\n",
    "# else return a"
   ]
  },
  {
   "cell_type": "markdown",
   "metadata": {},
   "source": [
    "This could come n handy for many AI applications, but let's choose labeling data\n",
    "\n",
    "There may be better wyas to binarize data but here is a simple example of converting conrinuous data into  categorical values\n",
    "\n",
    "arr = **np.array([11, 1.2, 12, 13, 14, 7.3, 5.4, 12.5])**\n",
    "\n",
    "Let's say all values 10 and above represent a medical parameter threshold that indicates further testing, while values below 10 indicate normal range\n",
    "\n",
    "We might like to print the values as words such as \n",
    "**['More Testing', 'Normal', 'More Testing', 'More Testing', ...]**\n",
    "\n"
   ]
  },
  {
   "cell_type": "code",
   "execution_count": 3,
   "metadata": {},
   "outputs": [
    {
     "data": {
      "text/plain": [
       "array(['More Testing', 'Normal', 'More Testing', 'More Testing',\n",
       "       'More Testing', 'Normal', 'Normal', 'More Testing'], dtype='<U12')"
      ]
     },
     "execution_count": 3,
     "metadata": {},
     "output_type": "execute_result"
    }
   ],
   "source": [
    "arr = np.array([11, 1.2, 12, 13, 14, 7.3, 5.4, 12.5])\n",
    "np.where(arr < 10, 'Normal', 'More Testing')"
   ]
  },
  {
   "cell_type": "markdown",
   "metadata": {},
   "source": [
    "or we could binarize data for use in a classifier"
   ]
  },
  {
   "cell_type": "code",
   "execution_count": 4,
   "metadata": {},
   "outputs": [
    {
     "name": "stdout",
     "output_type": "stream",
     "text": [
      "[1 0 2 2 2 1 0 2]\n"
     ]
    }
   ],
   "source": [
    "# Simple Numpy Binarizer Discretizer\n",
    "# convert continous data to discrete integer bins\n",
    "arr = np.array([11, 1.2, 12, 13, 14, 7.3, 5.4, 12.5])\n",
    "print(np.where(arr < 6, 0, np.where(arr < 12, 1, 2)))\n"
   ]
  },
  {
   "cell_type": "markdown",
   "metadata": {},
   "source": [
    "### Numpy Where to find rows and columns of conditions\n",
    "\n",
    "Given a mask of TRUE/FALSE values, we will \n",
    "- generate  a new array with a 1 at every location TRUE is located\n",
    "- generate a -1 at every location a FALSE is located\n",
    "\n",
    "**Apply a mask**\n",
    "\n",
    "This cell will error - fix the error\n",
    "\n",
    "- Hint:\n",
    "\n",
    "```python\n",
    "testing_array = np.where(mask,a,-a)\n",
    "```"
   ]
  },
  {
   "cell_type": "code",
   "execution_count": 5,
   "metadata": {},
   "outputs": [
    {
     "name": "stdout",
     "output_type": "stream",
     "text": [
      "initial array a\n",
      " [[1. 1. 1.]\n",
      " [1. 1. 1.]\n",
      " [1. 1. 1.]]\n",
      "\n",
      "mask\n",
      "[False, True, True]\n",
      "[False, True, False]\n",
      "[True, False, True]\n",
      "\n",
      "testing_array\n",
      " [[-1.  1.  1.]\n",
      " [-1.  1. -1.]\n",
      " [ 1. -1.  1.]]\n",
      "row index (where ones are):  [0 0 1 2 2]\n",
      "col index (where ones are):  [1 2 1 0 2]\n"
     ]
    }
   ],
   "source": [
    "#Apply a mask of True/False array to select or manipulate elements\n",
    "a = np.ones((3,3))  # a contains all 1's\n",
    "\n",
    "print(\"initial array a\\n\", a)\n",
    "# Given a mask of true/ false values, we will generate \n",
    "# a new array with a 1 at every location TRUE is located\n",
    "# a -1 at every location a FALSE is located\n",
    "mask = [[False,True,True],[False,True,False],[True,False,True]]\n",
    "print(\"\\nmask\")\n",
    "for el in mask: # simple loop to print the mask\n",
    "    print(el)\n",
    "               \n",
    "testing_array = np.where(mask,a,-a)\n",
    "\n",
    "print(\"\\ntesting_array\\n\",testing_array)\n",
    "\n",
    "# now we can find where all the ones are by row and column\n",
    "print(\"row index (where ones are): \",np.where(testing_array > 0)[0])\n",
    "print(\"col index (where ones are): \",np.where(testing_array > 0)[1])"
   ]
  },
  {
   "cell_type": "markdown",
   "metadata": {},
   "source": [
    "This can be used the other way to **create a mask** given a conidtion or threshold\n",
    "\n",
    "This cell will error - fix the error\n",
    "\n",
    "- Hint:\n",
    "\n",
    "```python\n",
    "WentTheOtherWay = np.where(testing_array > 0,True, False)\n",
    "```"
   ]
  },
  {
   "cell_type": "code",
   "execution_count": 6,
   "metadata": {},
   "outputs": [
    {
     "name": "stdout",
     "output_type": "stream",
     "text": [
      "initial array a\n",
      " [[1. 1. 1.]\n",
      " [1. 1. 1.]\n",
      " [1. 1. 1.]]\n",
      "\n",
      "mask\n",
      "[False, True, True]\n",
      "[False, True, False]\n",
      "[True, False, True]\n",
      "\n",
      "testing_array\n",
      " [[-1.  1.  1.]\n",
      " [-1.  1. -1.]\n",
      " [ 1. -1.  1.]]\n",
      "\n",
      "WentTheOtherWay\n",
      " [[False  True  True]\n",
      " [False  True False]\n",
      " [ True False  True]]\n",
      "row index (where ones are):  [0 0 1 2 2]\n",
      "col index (where ones are):  [1 2 1 0 2]\n"
     ]
    }
   ],
   "source": [
    "# create a mask for indexing, to later manipulate arrays\n",
    "a = np.ones((3,3))  # a contains all 1's\n",
    "\n",
    "print(\"initial array a\\n\", a)\n",
    "               \n",
    "mask = [[False,True,True],[False,True,False],[True,False,True]]\n",
    "print(\"\\nmask\")\n",
    "for el in mask: # simple loop to print the mask\n",
    "    print(el)\n",
    "    \n",
    "testing_array = np.where(mask,a,-a)\n",
    "\n",
    "print(\"\\ntesting_array\\n\",testing_array)\n",
    "\n",
    "################ Follow Hint Here #####################\n",
    "WentTheOtherWay = np.where(testing_array > 0,True, False)\n",
    "\n",
    "########################################################\n",
    "\n",
    "print(\"\\nWentTheOtherWay\\n\",WentTheOtherWay)\n",
    "\n",
    "# now we can find where all the ones are by row and column\n",
    "print(\"row index (where ones are): \",np.where(WentTheOtherWay > 0)[0])\n",
    "print(\"col index (where ones are): \",np.where(WentTheOtherWay > 0)[1])"
   ]
  },
  {
   "cell_type": "markdown",
   "metadata": {},
   "source": [
    "## Numpy.where Multiplication Table Example\n",
    "\n",
    "Find all locations of a value in a multiplication table\n",
    "\n",
    "Find all(rows, cols) of the value 24 a multiplication table \n",
    "\n",
    "This cell will error - fix the error\n",
    "\n",
    "- Hint:\n",
    "\n",
    "\n",
    "```python\n",
    "print(np.where( MultiplicationTable == 24))\n",
    "```"
   ]
  },
  {
   "cell_type": "code",
   "execution_count": 7,
   "metadata": {},
   "outputs": [
    {
     "name": "stdout",
     "output_type": "stream",
     "text": [
      "(array([2, 3, 5, 7]), array([7, 5, 3, 2]))\n"
     ]
    }
   ],
   "source": [
    "numLine = np.arange(1, 11).reshape(10,1)\n",
    "MultiplicationTable = numLine * numLine.T\n",
    "MultiplicationTable\n",
    "################### add code here ###########\n",
    "print(np.where( MultiplicationTable == 24))\n",
    "\n",
    "#############################################"
   ]
  },
  {
   "cell_type": "markdown",
   "metadata": {},
   "source": [
    "# Exercise:\n",
    "\n",
    "Find all(rows, cols) of (all **multiples of **12 or all multiples of 9) in a 10x10 multiplication table and make all other values 0. Preserve the first row and first column as readable indexes for the table as follows:\n",
    "\n",
    "This cell will error - fix the error\n",
    "\n",
    "- Hint: replace errant code with something simialr to:\n",
    "\n",
    "```python\n",
    "res = np.where((MultiplicationTable%12 == 0) | (MultiplicationTable%9 == 0), MultiplicationTable, 0)\n",
    "```"
   ]
  },
  {
   "cell_type": "raw",
   "metadata": {},
   "source": [
    "array([[ 1,  2,  3,  4,  5,  6,  7,  8,  9, 10],\n",
    "       [ 2,  0,  0,  0,  0, 12,  0,  0, 18,  0],\n",
    "       [ 3,  0,  9, 12,  0, 18,  0, 24, 27,  0],\n",
    "       [ 4,  0, 12,  0,  0, 24,  0,  0, 36,  0],\n",
    "       [ 5,  0,  0,  0,  0,  0,  0,  0, 45,  0],\n",
    "       [ 6, 12, 18, 24,  0, 36,  0, 48, 54, 60],\n",
    "       [ 7,  0,  0,  0,  0,  0,  0,  0, 63,  0],\n",
    "       [ 8,  0, 24,  0,  0, 48,  0,  0, 72,  0],\n",
    "       [ 9, 18, 27, 36, 45, 54, 63, 72, 81, 90],\n",
    "       [10,  0,  0,  0,  0, 60,  0,  0, 90,  0]])"
   ]
  },
  {
   "cell_type": "code",
   "execution_count": 8,
   "metadata": {},
   "outputs": [
    {
     "data": {
      "text/plain": [
       "array([[ 1,  2,  3,  4,  5,  6,  7,  8,  9, 10],\n",
       "       [ 2,  0,  0,  0,  0, 12,  0,  0, 18,  0],\n",
       "       [ 3,  0,  9, 12,  0, 18,  0, 24, 27,  0],\n",
       "       [ 4,  0, 12,  0,  0, 24,  0,  0, 36,  0],\n",
       "       [ 5,  0,  0,  0,  0,  0,  0,  0, 45,  0],\n",
       "       [ 6, 12, 18, 24,  0, 36,  0, 48, 54, 60],\n",
       "       [ 7,  0,  0,  0,  0,  0,  0,  0, 63,  0],\n",
       "       [ 8,  0, 24,  0,  0, 48,  0,  0, 72,  0],\n",
       "       [ 9, 18, 27, 36, 45, 54, 63, 72, 81, 90],\n",
       "       [10,  0,  0,  0,  0, 60,  0,  0, 90,  0]])"
      ]
     },
     "execution_count": 8,
     "metadata": {},
     "output_type": "execute_result"
    }
   ],
   "source": [
    "## one solution - preserves the indexing edges for easy checking\n",
    "res = 0\n",
    "res = np.where((MultiplicationTable%12 == 0) | (MultiplicationTable%9 == 0), MultiplicationTable, 0)\n",
    "res[0,:] = MultiplicationTable[0,:]\n",
    "res[:,0] = MultiplicationTable[:,0]\n",
    "res"
   ]
  },
  {
   "cell_type": "markdown",
   "metadata": {},
   "source": [
    "## Numpy Where applied to California Housing data\n",
    "\n",
    "In AI context, this could be applying categorical classifier to otherwise continuous values. For example, california hosugin dataset the target price varibale is continuous."
   ]
  },
  {
   "cell_type": "markdown",
   "metadata": {},
   "source": [
    "## Fictitious scenario\n",
    "\n",
    "A new stimulous package is considered whereby new house buyers will be given a couon worth 50,000 off toward purchase of houses in California whose price (prior to coupon) is between 250,0000 and 350,000. Other prices will be unaffected. Generate array with the adjusted targets\n"
   ]
  },
  {
   "cell_type": "code",
   "execution_count": 9,
   "metadata": {},
   "outputs": [
    {
     "name": "stdout",
     "output_type": "stream",
     "text": [
      "time elapsed:  0.015241384506225586\n"
     ]
    },
    {
     "data": {
      "image/png": "[encoded data removed]",
      "text/plain": [
       "<Figure size 640x480 with 1 Axes>"
      ]
     },
     "metadata": {},
     "output_type": "display_data"
    }
   ],
   "source": [
    "# Ficticious scenario:\n",
    "from sklearn.datasets import fetch_california_housing\n",
    "\n",
    "california_housing = fetch_california_housing(as_frame=True)\n",
    "X = california_housing.data.to_numpy()\n",
    "buyerPriceRangeLo = 250_000/100_000\n",
    "buyerPriceRangeHi= 350_000/100_000\n",
    "T = california_housing.target.to_numpy() \n",
    "t1 = time.time()\n",
    "timing = {}\n",
    "New = np.empty_like(T)\n",
    "for i in range(len(T)):\n",
    "    if ( (T[i] < buyerPriceRangeHi) & (T[i] >= buyerPriceRangeLo) ):\n",
    "        New[i] = T[i] - 50_000/100_000\n",
    "    else:\n",
    "        New[i] = T[i]\n",
    "t2 = time.time()\n",
    "plt.title( \"California Housing Dataset - conditional Logic Applied\")\n",
    "plt.scatter(T, New, color = 'b')\n",
    "plt.grid()\n",
    "print(\"time elapsed: \", t2-t1)\n",
    "timing['Loop'] = t2-t1"
   ]
  },
  {
   "cell_type": "markdown",
   "metadata": {},
   "source": [
    "## Excercise:\n",
    "\n",
    "Duplicate the above condition using a Numpy.Where \n",
    "\n",
    "Hint:\n",
    "\n",
    "```python\n",
    "New = np.where((T < buyerPriceRangeHi) & (T >= buyerPriceRangeLo), T - 50_000/100_000, T )\n",
    "```"
   ]
  },
  {
   "cell_type": "code",
   "execution_count": 10,
   "metadata": {},
   "outputs": [
    {
     "name": "stdout",
     "output_type": "stream",
     "text": [
      "time elapsed:  0.0009937286376953125\n",
      "Speedup: 15.3X\n"
     ]
    },
    {
     "data": {
      "image/png": "[encoded data removed]",
      "text/plain": [
       "<Figure size 640x480 with 1 Axes>"
      ]
     },
     "metadata": {},
     "output_type": "display_data"
    }
   ],
   "source": [
    "t1 = time.time()\n",
    "#############################################################################\n",
    "### Exercise: Addone moddify code below to compute same results as above loop\n",
    "New = np.where((T < buyerPriceRangeHi) & (T >= buyerPriceRangeLo), T - 50_000/100_000, T )\n",
    "##############################################################################\n",
    "t2 = time.time()\n",
    "\n",
    "plt.scatter(T, New, color = 'r')\n",
    "plt.grid()\n",
    "print(\"time elapsed: \", t2-t1)\n",
    "timing['np.where'] = t2-t1\n",
    "print(\"Speedup: {:4.1f}X\".format( timing['Loop']/timing['np.where']))"
   ]
  },
  {
   "cell_type": "markdown",
   "metadata": {},
   "source": [
    "As you can see, we generated the same data with Numpy where as we did woth the original loop but we did so 13X faster (the speedup amount may vary a bit)"
   ]
  },
  {
   "attachments": {
    "0541a49e-29b8-4dd5-9af5-d26d56d1a798.png": {
     "image/png": "[encoded data removed]"
    }
   },
   "cell_type": "markdown",
   "metadata": {
    "tags": []
   },
   "source": [
    "# Numpy Select to handle conditional logic\n",
    "\n",
    "\n",
    "![ConditionalLogic.png](attachment:0541a49e-29b8-4dd5-9af5-d26d56d1a798.png)\n",
    "\n",
    "Apply conditional logic to an array to create a new column orupdate contents of an existing column. This method handles more complex conditional sceanrios than numpy where.\n",
    "\n",
    "**Syntax:**\n",
    "- [numpy.select(condlist, choicelist, default=0)[source]\n",
    "- Return an array drawn from elements in choicelist, depending on conditions.\n",
    "\n",
    "function return an array drawn from elements in choicelist, depending on conditions.\n",
    "\n",
    "This is very useful function for handing conditionals that otherwise slow down and map or apply, or else add complexity in reading the code\n",
    "\n",
    "First we will create some new data\n"
   ]
  },
  {
   "cell_type": "code",
   "execution_count": 11,
   "metadata": {},
   "outputs": [],
   "source": [
    "import numpy as np\n",
    "import time\n",
    "\n",
    "BIG = 10_000_000\n",
    "\n",
    "np.random.seed(2022)\n",
    "A = np.random.randint(0, 11, size=(BIG, 6))"
   ]
  },
  {
   "cell_type": "markdown",
   "metadata": {},
   "source": [
    "Find Large loop iteration loop2\n",
    "\n",
    "If they contain conditional logic:\n",
    "- consider np.where or np.select\n",
    "\n",
    "else\n",
    "- Try to find a Numpy replacement using ufuncs, aggergations, etc\n",
    "\n",
    "Below is a loop consuming 100,000 iterations, with a messy set of conditions\n",
    "\n",
    "Look for a way to summarize these conditions using a numpy select statement if possible\n",
    "\n",
    "# Brute Force Approach (Big Loop)"
   ]
  },
  {
   "cell_type": "code",
   "execution_count": 12,
   "metadata": {},
   "outputs": [
    {
     "name": "stdout",
     "output_type": "stream",
     "text": [
      "[[ 0  1  1  0  7  1]\n",
      " [ 2  8  0  5  9  5]\n",
      " [ 3  8  0  3  6  3]\n",
      " [ 0 10 10  1  2 10]\n",
      " [ 5  7  5  1  7  6]]\n",
      "time:  15.765654802322388\n"
     ]
    }
   ],
   "source": [
    "timing = {}\n",
    "t1 = time.time()\n",
    "for i in range(BIG):\n",
    "    if A[i,4] == 10:\n",
    "        A[i,5] =  A[i,2] * A[i,3]\n",
    "    elif (A[i,4] < 10) and (A[i,4] >=5):\n",
    "        A[i,5] =   A[i,2] + A[i,3]\n",
    "    elif A[i,4] < 5:\n",
    "        A[i,5] =   A[i,0] + A[i,1]\n",
    "t2 = time.time()\n",
    "baseTime = t2- t1\n",
    "print(A[:5,:])\n",
    "print(\"time: \", baseTime)\n",
    "timing['Naive Loop'] = t2 - t1"
   ]
  },
  {
   "cell_type": "markdown",
   "metadata": {},
   "source": [
    "# Try Vectorizing with masks \n",
    "\n",
    "Just remove the references to i and remove the loop, create mask for each condition\n"
   ]
  },
  {
   "cell_type": "code",
   "execution_count": 13,
   "metadata": {},
   "outputs": [
    {
     "name": "stdout",
     "output_type": "stream",
     "text": [
      "[[ 0  1  1  0  7  1]\n",
      " [ 2  8  0  5  9  5]\n",
      " [ 3  8  0  3  6  3]\n",
      " [ 0 10 10  1  2 10]\n",
      " [ 5  7  5  1  7  6]]\n",
      "time : 0.38527631759643555\n",
      "Speed up:   41 X\n"
     ]
    }
   ],
   "source": [
    "# Try Vectorizing simply\n",
    "t1 = time.time()\n",
    "mask1 = A[:,4] == 10\n",
    "A[mask1,5] =  A[mask1,2] * A[mask1,3]\n",
    "mask2 = ((A[:,4].any() < 10) and (A[:,4].any() >=5))\n",
    "A[mask2,5] =   A[mask2,2] + A[mask2,3]\n",
    "mask3 = A[:,4].any() < 5\n",
    "A[mask3,5] =   A[mask3,0] + A[mask3,1]\n",
    "t2 = time.time()\n",
    "print(A[:5,:])\n",
    "print(\"time :\", t2-t1)\n",
    "\n",
    "fastest_time = t2-t1\n",
    "Speedup = baseTime / fastest_time\n",
    "print(\"Speed up: {:4.0f} X\".format(Speedup))\n",
    "timing['Vector Masks'] = t2 - t1"
   ]
  },
  {
   "cell_type": "code",
   "execution_count": null,
   "metadata": {},
   "outputs": [],
   "source": []
  },
  {
   "cell_type": "code",
   "execution_count": null,
   "metadata": {},
   "outputs": [],
   "source": []
  },
  {
   "cell_type": "markdown",
   "metadata": {},
   "source": [
    "# Try Vectorizing with select\n",
    "\n",
    "### Much cleaner logic\n",
    "\n",
    "put condition inside a list of tuples\n",
    "put execution choice inside a list of tuples\n",
    "result = np.select(condition, choice, default)\n",
    "\n",
    "\n",
    "This cell will error - fix the error\n",
    "\n",
    "- Hint:\n",
    "\n",
    "```python\n",
    "condition = [ (A[:,4]  < 10) & (A[:,4] >= 5),\n",
    "              ( A[:,4] < 5)]\n",
    "choice = [ (A[:,2] + A[:,3]), \n",
    "           (A[:,0] + A[:,1] ) ]\n",
    "default = [(A[:,2] * A[:,3])]\n",
    "A[:,5] = np.select(condition, choice, default= default )\n",
    "```\n"
   ]
  },
  {
   "cell_type": "code",
   "execution_count": 14,
   "metadata": {},
   "outputs": [
    {
     "name": "stdout",
     "output_type": "stream",
     "text": [
      "[[ 0  1  1  0  7  1]\n",
      " [ 2  8  0  5  9  5]\n",
      " [ 3  8  0  3  6  3]\n",
      " [ 0 10 10  1  2 10]\n",
      " [ 5  7  5  1  7  6]]\n",
      "time : 0.6640760898590088\n",
      "Speed up:   24 X\n"
     ]
    }
   ],
   "source": [
    "# np.select(condlist, choicelist, default=0)\n",
    "t1 = time.time()\n",
    "\n",
    "################### add code here ###########\n",
    "condition = [ (A[:,4]  < 10) & (A[:,4] >= 5),\n",
    "              ( A[:,4] < 5)]\n",
    "choice = [ (A[:,2] + A[:,3]), \n",
    "           (A[:,0] + A[:,1] ) ]\n",
    "default = [(A[:,2] * A[:,3])]\n",
    "A[:,5] = np.select(condition, choice, default= default )\n",
    "\n",
    "#############################################\n",
    "\n",
    "t2 = time.time()\n",
    "print(A[:5,:])\n",
    "print(\"time :\", t2-t1)\n",
    "fastest_time = t2-t1\n",
    "Speedup = baseTime / fastest_time\n",
    "print(\"Speed up: {:4.0f} X\".format(Speedup))\n",
    "timing['Numpy Select'] = t2 - t1"
   ]
  },
  {
   "cell_type": "code",
   "execution_count": 15,
   "metadata": {},
   "outputs": [
    {
     "data": {
      "text/plain": [
       "<BarContainer object of 3 artists>"
      ]
     },
     "execution_count": 15,
     "metadata": {},
     "output_type": "execute_result"
    },
    {
     "data": {
      "image/png": "[encoded data removed]",
      "text/plain": [
       "<Figure size 1000x600 with 1 Axes>"
      ]
     },
     "metadata": {},
     "output_type": "display_data"
    }
   ],
   "source": [
    "plt.figure(figsize=(10,6))\n",
    "plt.title(\"Time taken to process {:,} records in seconds\".format(BIG),fontsize=12)\n",
    "plt.ylabel(\"Time in seconds\",fontsize=12)\n",
    "plt.xlabel(\"Various types of operations\",fontsize=14)\n",
    "plt.grid(True)\n",
    "plt.xticks(rotation=-60)\n",
    "plt.bar(x = list(timing.keys()), height= list(timing.values()), align='center',tick_label=list(timing.keys()))"
   ]
  },
  {
   "cell_type": "markdown",
   "metadata": {},
   "source": [
    "## Exercise: Numpy Select\n",
    "\n",
    "Find all(rows, cols) of (all multiples of 12, 15, 21) in a multiplication table and make all other values 0 using numpy select\n",
    "\n",
    "\n",
    "This cell will error - fix the error\n",
    "\n",
    "- Hint:\n",
    "\n",
    "```python\n",
    "condition = [(multT%12 == 0), (multT%15 == 0), (multT%21 == 0)]\n",
    "choice = [(multT), (multT), (multT)]\n",
    "default =[(0)]\n",
    "```"
   ]
  },
  {
   "cell_type": "code",
   "execution_count": 16,
   "metadata": {},
   "outputs": [
    {
     "data": {
      "text/plain": [
       "array([[ 1,  2,  3,  4,  5,  6,  7,  8,  9, 10],\n",
       "       [ 2,  0,  0,  0,  0, 12,  0,  0, 18,  0],\n",
       "       [ 3,  0,  9, 12,  0, 18,  0, 24, 27,  0],\n",
       "       [ 4,  0, 12,  0,  0, 24,  0,  0, 36,  0],\n",
       "       [ 5,  0,  0,  0,  0,  0,  0,  0, 45,  0],\n",
       "       [ 6, 12, 18, 24,  0, 36,  0, 48, 54, 60],\n",
       "       [ 7,  0,  0,  0,  0,  0,  0,  0, 63,  0],\n",
       "       [ 8,  0, 24,  0,  0, 48,  0,  0, 72,  0],\n",
       "       [ 9, 18, 27, 36, 45, 54, 63, 72, 81, 90],\n",
       "       [10,  0,  0,  0,  0, 60,  0,  0, 90,  0]])"
      ]
     },
     "execution_count": 16,
     "metadata": {},
     "output_type": "execute_result"
    }
   ],
   "source": [
    "# numpy.select(condlist, choicelist, default)\n",
    "numLine = np.arange(1, 11).reshape(10,1)\n",
    "multT = numLine * numLine.T\n",
    "\n",
    "# condition = [(), (), ()]\n",
    "# choice = [(), (), ()]\n",
    "# default =[()]\n",
    "# res = np.select(condition, choice, default)\n",
    "\n",
    "res[0,:] = MultiplicationTable[0,:]  # put edges back in to check result\n",
    "res[:,0] = MultiplicationTable[:,0]  # put edges back in to check result\n",
    "res"
   ]
  },
  {
   "cell_type": "markdown",
   "metadata": {},
   "source": [
    "# List of days\n",
    "\n",
    "Time series data often has requirements to grab subsets of data ranges such as weekends, beginning quarter, etc\n",
    "\n",
    "Goal: grab subset of data for weekend days into a numpy array\n",
    "\n",
    "Demonstrate approach using slicing as wellas np.where()"
   ]
  },
  {
   "cell_type": "code",
   "execution_count": 17,
   "metadata": {},
   "outputs": [
    {
     "data": {
      "text/plain": [
       "array([ 0,  1,  2,  3,  4,  5,  6,  7,  8,  9, 10, 11, 12, 13, 14, 15, 16,\n",
       "       17, 18, 19, 20])"
      ]
     },
     "execution_count": 17,
     "metadata": {},
     "output_type": "execute_result"
    }
   ],
   "source": [
    "import numpy as np\n",
    "# create simple array of data with days info\n",
    "a = np.array([i for i in range(21)])\n",
    "a"
   ]
  },
  {
   "cell_type": "code",
   "execution_count": 18,
   "metadata": {},
   "outputs": [
    {
     "data": {
      "text/plain": [
       "array([ 3, 10, 17])"
      ]
     },
     "execution_count": 18,
     "metadata": {},
     "output_type": "execute_result"
    }
   ],
   "source": [
    "# skip count by 7 starting on day 0\n",
    "a[3::7]"
   ]
  },
  {
   "cell_type": "code",
   "execution_count": 19,
   "metadata": {},
   "outputs": [
    {
     "data": {
      "text/plain": [
       "array([ 4, 11, 18])"
      ]
     },
     "execution_count": 19,
     "metadata": {},
     "output_type": "execute_result"
    }
   ],
   "source": [
    "# skip count by 7 starting on day 1\n",
    "a[4::7]"
   ]
  },
  {
   "cell_type": "code",
   "execution_count": 20,
   "metadata": {},
   "outputs": [
    {
     "data": {
      "text/plain": [
       "[(3, 4), (10, 11), (17, 18)]"
      ]
     },
     "execution_count": 20,
     "metadata": {},
     "output_type": "execute_result"
    }
   ],
   "source": [
    "start = 3\n",
    "blist = list(zip(a[start::7],a[start+1::7]))\n",
    "blist"
   ]
  },
  {
   "cell_type": "markdown",
   "metadata": {},
   "source": [
    "# Here is list of all the weekend days\n",
    "\n",
    "Assume Saturday is the 4th day (index == 3)\n",
    "\n",
    "so weekend days should be:\n",
    "\n",
    "```python\n",
    "[ 3,  4, 10, 11, 17, 18]\n",
    "```\n",
    "\n",
    "This cell will error - fix the error\n",
    "\n",
    "- Hint:\n",
    "\n",
    "```python\n",
    "idx = np.where((a%7==3) | (a%7==4))\n",
    "```\n"
   ]
  },
  {
   "cell_type": "code",
   "execution_count": 21,
   "metadata": {},
   "outputs": [
    {
     "data": {
      "text/plain": [
       "array([ 3,  4, 10, 11, 17, 18])"
      ]
     },
     "execution_count": 21,
     "metadata": {},
     "output_type": "execute_result"
    }
   ],
   "source": [
    "np.array(blist).flatten()"
   ]
  },
  {
   "cell_type": "code",
   "execution_count": 22,
   "metadata": {},
   "outputs": [
    {
     "data": {
      "text/plain": [
       "array([ 3,  4, 10, 11, 17, 18])"
      ]
     },
     "execution_count": 22,
     "metadata": {},
     "output_type": "execute_result"
    }
   ],
   "source": [
    "idx = np.where((a%7==3) | (a%7==4))\n",
    "a[idx]"
   ]
  },
  {
   "cell_type": "code",
   "execution_count": 23,
   "metadata": {},
   "outputs": [
    {
     "name": "stdout",
     "output_type": "stream",
     "text": [
      "Done\n"
     ]
    }
   ],
   "source": [
    "print(\"Done\")"
   ]
  },
  {
   "cell_type": "code",
   "execution_count": null,
   "metadata": {},
   "outputs": [],
   "source": []
  }
 ],
 "metadata": {
  "anaconda-cloud": {},
  "kernelspec": {
   "display_name": "base",
   "language": "python",
   "name": "base"
  },
  "language_info": {
   "codemirror_mode": {
    "name": "ipython",
    "version": 3
   },
   "file_extension": ".py",
   "mimetype": "text/x-python",
   "name": "python",
   "nbconvert_exporter": "python",
   "pygments_lexer": "ipython3",
   "version": "3.9.18"
  },
  "nbTranslate": {
   "displayLangs": [
    "*"
   ],
   "hotkey": "alt-t",
   "langInMainMenu": true,
   "sourceLang": "en",
   "targetLang": "fr",
   "useGoogleTranslate": true
  },
  "toc": {
   "base_numbering": 1,
   "nav_menu": {},
   "number_sections": true,
   "sideBar": true,
   "skip_h1_title": false,
   "title_cell": "Table of Contents",
   "title_sidebar": "Contents",
   "toc_cell": false,
   "toc_position": {},
   "toc_section_display": true,
   "toc_window_display": false
  }
 },
 "nbformat": 4,
 "nbformat_minor": 4
}
