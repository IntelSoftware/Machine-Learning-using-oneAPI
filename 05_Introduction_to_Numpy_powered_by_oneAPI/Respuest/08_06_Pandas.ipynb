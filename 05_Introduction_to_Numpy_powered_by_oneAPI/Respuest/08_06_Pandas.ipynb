{
 "cells": [
  {
   "attachments": {
    "4830f075-ff79-4f43-bc5a-38e0d17d65bc.png": {
     "image/png": "[encoded data removed]"
    }
   },
   "cell_type": "markdown",
   "id": "09cbf33a-b659-4455-aecb-659b6649eb1a",
   "metadata": {
    "jp-MarkdownHeadingCollapsed": true,
    "tags": []
   },
   "source": [
    "# Applying Vectorization to speed up Pandas\n",
    "\n",
    "![image.png](attachment:4830f075-ff79-4f43-bc5a-38e0d17d65bc.png)\n",
    "\n",
    "Like many other libraries - Pandas has built in access to Numpy. And there are many ways to accomplish any given task in Pandas. \n",
    "\n",
    "# Learning Objectives:\n",
    "- Apply Numpy methods to dramatically speed up certain common Pandas bottlenecks\n",
    "- Apply WHERE or SELECT in Numpy powered by oneAPI\n",
    "- Avoid **iterrows** using Numpy techniques\n",
    "- Achieve better performacne by converting numerical columns to numpy arrays\n",
    "\n",
    "#### Please also see \n",
    "\n",
    "In the **near future**, we will be adding an addendum to this learning path [**Intel® Distribution of Modin*Intel® Distribution of Modin**](https://www.intel.com/content/www/us/en/developer/tools/oneapi/distribution-of-modin.html#gs.x7j0o9https://www.intel.com/content/www/us/en/developer/tools/oneapi/distribution-of-modin.html#gs.x7j0o9) to scale your pandas workflows by changing a single line of code.\n",
    "\n",
    "But its is also important to know how to speed up Pandas natively via its dependence on Numpy. **Pandas is powered by oneAPI via Numpy!**\n",
    "\n",
    "When the opportunity arises it often highly profitable to leverage the Numpy way of solving a Pandas apply() performance issue. Due to the nature of the size of many dataframes, it is oftern better to uncover a way to apply Numy instead.\n",
    "\n",
    "While not yet a part of this course Intel oneAPI AI Analytics Toolikit has a component called Modin* which is a drop in replacement for Pandas and this package can dramatically speed up Pandas operations. Modin can be used for probalems larger than can fit in your laptops memory for example and can distribute computations across a cluster of nodes. Our aim is to include Modin as a component of training in the future.\n",
    "\n",
    "There are a number of excellent references regarding speeding up Numpy or more specifically Pandas using Numpy and I encourage you to review these resources.\n",
    "\n",
    "### reference:\n",
    "\n",
    "- [Nathan Cheever Video: **1000x faster data manipulation: vectorizing with Pandas and Numpy**](https://www.youtube.com/watch?v=nxWginnBklU&t=237s).  His Advise is precient!\n",
    "\n",
    "- [Jake VanderPlas Video: **Losing your Loops Fast Numerical Computing with NumPy**](https://www.youtube.com/watch?v=EEUXKG97YRw). I also \n",
    "\n",
    "- [Jake VanderPlas Book:  **Python Data Science Handbook**](https://jakevdp.github.io/PythonDataScienceHandbook/). \n",
    "\n",
    "- [Selvaratnam Lavinan article (towardsdatascience.com ): **Understanding the need for optimization when using Pandas**](\n",
    "https://towardsdatascience.com/understanding-the-need-for-optimization-when-using-pandas-8ce23b83330c)\n"
   ]
  },
  {
   "cell_type": "markdown",
   "id": "983ecc5c-6b26-4904-82f9-75804c78077b",
   "metadata": {
    "tags": []
   },
   "source": [
    "# Pandas Apply with custom user function\n",
    "\n",
    "Let's prepare a dataset and time how long it takes to apply a user functions to all rows.\n",
    "\n",
    "We will look at different timings for applying our custom function to all rows of the dataset. Notice that this has no conditional logic we are just stamping the same set of instructions over and over for all data elements in each iteration of the loop.\n"
   ]
  },
  {
   "cell_type": "code",
   "execution_count": 23,
   "id": "e12d2a93-212f-465e-94a5-1f86e585fe56",
   "metadata": {},
   "outputs": [],
   "source": [
    "import pandas as pd \n",
    "import numpy as np\n",
    "import time\n",
    "\n",
    "BIG = 100_000\n",
    "df = pd.DataFrame(np.random.randint(0, 11, size=(BIG, 5)), columns=('a','b','c','d','e'))"
   ]
  },
  {
   "cell_type": "markdown",
   "id": "7846aaa8-b2f1-470e-8960-28fa53f0ea14",
   "metadata": {},
   "source": [
    "We all get busy, and what starts off as a small project to prove a point grows into production code\n",
    "\n",
    "Many times, our short cuts worked well enough for the toy data sizes we proved our popint with, but with *real* data our shortcuts fall way behind the performance curve\n",
    "\n",
    "Below, are simplified versions of performance sappers I have done or that I have seen others do - distilled down to a simplified version.\n",
    "\n",
    "The idea is that you want to call a function on one column and have the result be assigned to a different column.\n",
    "\n",
    "Naively, you use a loop. You get bad performance calling this log function"
   ]
  },
  {
   "cell_type": "code",
   "execution_count": 24,
   "id": "e9040671-c285-4420-851b-fbe8a9339f12",
   "metadata": {},
   "outputs": [],
   "source": [
    "def my_function(x):\n",
    "    return np.log(1+x)"
   ]
  },
  {
   "cell_type": "markdown",
   "id": "2edc5140-3ff6-4572-8333-44e480ce77ca",
   "metadata": {},
   "source": [
    "### First approach - iterate over df using range"
   ]
  },
  {
   "cell_type": "code",
   "execution_count": 25,
   "id": "7a74ca8b-d61c-4b14-9156-30ec6f899c9b",
   "metadata": {},
   "outputs": [
    {
     "name": "stdout",
     "output_type": "stream",
     "text": [
      "CPU times: user 7.4 s, sys: 7.99 ms, total: 7.41 s\n",
      "Wall time: 7.41 s\n"
     ]
    },
    {
     "data": {
      "text/html": [
       "<div>\n",
       "<style scoped>\n",
       "    .dataframe tbody tr th:only-of-type {\n",
       "        vertical-align: middle;\n",
       "    }\n",
       "\n",
       "    .dataframe tbody tr th {\n",
       "        vertical-align: top;\n",
       "    }\n",
       "\n",
       "    .dataframe thead th {\n",
       "        text-align: right;\n",
       "    }\n",
       "</style>\n",
       "<table border=\"1\" class=\"dataframe\">\n",
       "  <thead>\n",
       "    <tr style=\"text-align: right;\">\n",
       "      <th></th>\n",
       "      <th>a</th>\n",
       "      <th>b</th>\n",
       "      <th>c</th>\n",
       "      <th>d</th>\n",
       "      <th>e</th>\n",
       "    </tr>\n",
       "  </thead>\n",
       "  <tbody>\n",
       "    <tr>\n",
       "      <th>0</th>\n",
       "      <td>2</td>\n",
       "      <td>0</td>\n",
       "      <td>1.098612</td>\n",
       "      <td>1</td>\n",
       "      <td>4</td>\n",
       "    </tr>\n",
       "    <tr>\n",
       "      <th>1</th>\n",
       "      <td>1</td>\n",
       "      <td>3</td>\n",
       "      <td>0.693147</td>\n",
       "      <td>8</td>\n",
       "      <td>3</td>\n",
       "    </tr>\n",
       "    <tr>\n",
       "      <th>2</th>\n",
       "      <td>0</td>\n",
       "      <td>1</td>\n",
       "      <td>0.000000</td>\n",
       "      <td>7</td>\n",
       "      <td>3</td>\n",
       "    </tr>\n",
       "    <tr>\n",
       "      <th>3</th>\n",
       "      <td>3</td>\n",
       "      <td>8</td>\n",
       "      <td>1.386294</td>\n",
       "      <td>5</td>\n",
       "      <td>8</td>\n",
       "    </tr>\n",
       "    <tr>\n",
       "      <th>4</th>\n",
       "      <td>3</td>\n",
       "      <td>6</td>\n",
       "      <td>1.386294</td>\n",
       "      <td>7</td>\n",
       "      <td>4</td>\n",
       "    </tr>\n",
       "  </tbody>\n",
       "</table>\n",
       "</div>"
      ],
      "text/plain": [
       "   a  b         c  d  e\n",
       "0  2  0  1.098612  1  4\n",
       "1  1  3  0.693147  8  3\n",
       "2  0  1  0.000000  7  3\n",
       "3  3  8  1.386294  5  8\n",
       "4  3  6  1.386294  7  4"
      ]
     },
     "execution_count": 25,
     "metadata": {},
     "output_type": "execute_result"
    }
   ],
   "source": [
    "%%time\n",
    "# naive loop method using pandas iloc\n",
    "timing = {}\n",
    "t1 = time.time()\n",
    "\n",
    "for i in range(0,BIG):\n",
    "    df.iloc[i,2] = my_function(df.iloc[i,0])\n",
    "    \n",
    "t2 = time.time()\n",
    "timing['iloc'] = t2 - t1\n",
    "df.head()"
   ]
  },
  {
   "cell_type": "markdown",
   "id": "7f7c6666-bb90-4bbd-a17b-4388564cd5b9",
   "metadata": {},
   "source": [
    "### Next, lets say we get advise from a web search \n",
    "\n",
    "Turned up advice on using Pandas iterrow function"
   ]
  },
  {
   "cell_type": "code",
   "execution_count": 26,
   "id": "b557d764-cc12-4e53-9922-8de0647aae53",
   "metadata": {},
   "outputs": [
    {
     "name": "stdout",
     "output_type": "stream",
     "text": [
      "CPU times: user 5.89 s, sys: 4 ms, total: 5.89 s\n",
      "Wall time: 5.89 s\n"
     ]
    },
    {
     "data": {
      "text/html": [
       "<div>\n",
       "<style scoped>\n",
       "    .dataframe tbody tr th:only-of-type {\n",
       "        vertical-align: middle;\n",
       "    }\n",
       "\n",
       "    .dataframe tbody tr th {\n",
       "        vertical-align: top;\n",
       "    }\n",
       "\n",
       "    .dataframe thead th {\n",
       "        text-align: right;\n",
       "    }\n",
       "</style>\n",
       "<table border=\"1\" class=\"dataframe\">\n",
       "  <thead>\n",
       "    <tr style=\"text-align: right;\">\n",
       "      <th></th>\n",
       "      <th>a</th>\n",
       "      <th>b</th>\n",
       "      <th>c</th>\n",
       "      <th>d</th>\n",
       "      <th>e</th>\n",
       "    </tr>\n",
       "  </thead>\n",
       "  <tbody>\n",
       "    <tr>\n",
       "      <th>0</th>\n",
       "      <td>2</td>\n",
       "      <td>0</td>\n",
       "      <td>1.098612</td>\n",
       "      <td>1</td>\n",
       "      <td>4</td>\n",
       "    </tr>\n",
       "    <tr>\n",
       "      <th>1</th>\n",
       "      <td>1</td>\n",
       "      <td>3</td>\n",
       "      <td>0.693147</td>\n",
       "      <td>8</td>\n",
       "      <td>3</td>\n",
       "    </tr>\n",
       "    <tr>\n",
       "      <th>2</th>\n",
       "      <td>0</td>\n",
       "      <td>1</td>\n",
       "      <td>0.000000</td>\n",
       "      <td>7</td>\n",
       "      <td>3</td>\n",
       "    </tr>\n",
       "    <tr>\n",
       "      <th>3</th>\n",
       "      <td>3</td>\n",
       "      <td>8</td>\n",
       "      <td>1.386294</td>\n",
       "      <td>5</td>\n",
       "      <td>8</td>\n",
       "    </tr>\n",
       "    <tr>\n",
       "      <th>4</th>\n",
       "      <td>3</td>\n",
       "      <td>6</td>\n",
       "      <td>1.386294</td>\n",
       "      <td>7</td>\n",
       "      <td>4</td>\n",
       "    </tr>\n",
       "  </tbody>\n",
       "</table>\n",
       "</div>"
      ],
      "text/plain": [
       "   a  b         c  d  e\n",
       "0  2  0  1.098612  1  4\n",
       "1  1  3  0.693147  8  3\n",
       "2  0  1  0.000000  7  3\n",
       "3  3  8  1.386294  5  8\n",
       "4  3  6  1.386294  7  4"
      ]
     },
     "execution_count": 26,
     "metadata": {},
     "output_type": "execute_result"
    }
   ],
   "source": [
    "%%time\n",
    "# naive loop method using pandas loc\n",
    "import numpy as np\n",
    "import time\n",
    "\n",
    "# each iteration of the loop requires an interpretation of the instructions being used and this decoding takes time\n",
    "t1 = time.time()\n",
    "\n",
    "for index, row in df.iterrows():\n",
    "    row[2] = my_function(row[0])\n",
    "    \n",
    "t2 = time.time()\n",
    "baseTime = t2-t1\n",
    "timing['iterrow'] = t2 - t1\n",
    "df.head()"
   ]
  },
  {
   "cell_type": "markdown",
   "id": "c5b98e02-6a95-42ad-9ce3-52cdf6002181",
   "metadata": {},
   "source": [
    "You realize, that sometimes pandas iloc is a little faster than loc if you are willing to do a little numerical indexing"
   ]
  },
  {
   "cell_type": "markdown",
   "id": "1bc00d95-ab8c-47b6-b86d-76ac78cb6685",
   "metadata": {},
   "source": [
    "You may have seen various tips online, perhaps a Youtube video that shows how much faster pandas \"at\"."
   ]
  },
  {
   "cell_type": "code",
   "execution_count": 27,
   "id": "b3777fae-674c-423f-a19f-d39de8b1fee1",
   "metadata": {},
   "outputs": [
    {
     "name": "stdout",
     "output_type": "stream",
     "text": [
      "Speed up:    1 X\n",
      "CPU times: user 6.43 s, sys: 0 ns, total: 6.43 s\n",
      "Wall time: 6.42 s\n"
     ]
    },
    {
     "data": {
      "text/html": [
       "<div>\n",
       "<style scoped>\n",
       "    .dataframe tbody tr th:only-of-type {\n",
       "        vertical-align: middle;\n",
       "    }\n",
       "\n",
       "    .dataframe tbody tr th {\n",
       "        vertical-align: top;\n",
       "    }\n",
       "\n",
       "    .dataframe thead th {\n",
       "        text-align: right;\n",
       "    }\n",
       "</style>\n",
       "<table border=\"1\" class=\"dataframe\">\n",
       "  <thead>\n",
       "    <tr style=\"text-align: right;\">\n",
       "      <th></th>\n",
       "      <th>a</th>\n",
       "      <th>b</th>\n",
       "      <th>c</th>\n",
       "      <th>d</th>\n",
       "      <th>e</th>\n",
       "    </tr>\n",
       "  </thead>\n",
       "  <tbody>\n",
       "    <tr>\n",
       "      <th>0</th>\n",
       "      <td>2</td>\n",
       "      <td>0</td>\n",
       "      <td>1.098612</td>\n",
       "      <td>1</td>\n",
       "      <td>4</td>\n",
       "    </tr>\n",
       "    <tr>\n",
       "      <th>1</th>\n",
       "      <td>1</td>\n",
       "      <td>3</td>\n",
       "      <td>0.693147</td>\n",
       "      <td>8</td>\n",
       "      <td>3</td>\n",
       "    </tr>\n",
       "    <tr>\n",
       "      <th>2</th>\n",
       "      <td>0</td>\n",
       "      <td>1</td>\n",
       "      <td>0.000000</td>\n",
       "      <td>7</td>\n",
       "      <td>3</td>\n",
       "    </tr>\n",
       "    <tr>\n",
       "      <th>3</th>\n",
       "      <td>3</td>\n",
       "      <td>8</td>\n",
       "      <td>1.386294</td>\n",
       "      <td>5</td>\n",
       "      <td>8</td>\n",
       "    </tr>\n",
       "    <tr>\n",
       "      <th>4</th>\n",
       "      <td>3</td>\n",
       "      <td>6</td>\n",
       "      <td>1.386294</td>\n",
       "      <td>7</td>\n",
       "      <td>4</td>\n",
       "    </tr>\n",
       "  </tbody>\n",
       "</table>\n",
       "</div>"
      ],
      "text/plain": [
       "   a  b         c  d  e\n",
       "0  2  0  1.098612  1  4\n",
       "1  1  3  0.693147  8  3\n",
       "2  0  1  0.000000  7  3\n",
       "3  3  8  1.386294  5  8\n",
       "4  3  6  1.386294  7  4"
      ]
     },
     "execution_count": 27,
     "metadata": {},
     "output_type": "execute_result"
    }
   ],
   "source": [
    "%%time\n",
    "# naive loop method using pandas \"at\"\n",
    "t1 = time.time()\n",
    "\n",
    "for i in range(0,BIG):\n",
    "    df.at[i,'c']=my_function(df.at[i,'a'])\n",
    "    \n",
    "t2 = time.time()\n",
    "fastest_time = t2-t1\n",
    "Speedup = baseTime / fastest_time\n",
    "print(\"Speed up: {:4.0f} X\".format(Speedup))\n",
    "timing['df.at'] = t2 - t1\n",
    "df.head()"
   ]
  },
  {
   "cell_type": "markdown",
   "id": "5bcd5b1c-9f51-42b4-bc8e-2349fb72fc36",
   "metadata": {},
   "source": [
    "**D'oh!** \n",
    "\n",
    "**Pandas \"Apply\"!**\n",
    "\n",
    "Why didn't I use it from the start?\n",
    "\n",
    "I think I used it in the past, just got flying thru my code and forgot about this old friend.\n",
    "\n",
    "With the vectorized version - we know the instructions to be applied and can apply in a large batch - no implicit loop - which means we dont have to fetch and decode instructions for every iteration"
   ]
  },
  {
   "cell_type": "code",
   "execution_count": 28,
   "id": "ffb67366-c490-4cad-b98e-c4a7a2e478b2",
   "metadata": {},
   "outputs": [
    {
     "name": "stdout",
     "output_type": "stream",
     "text": [
      "Speed up:   42 X\n",
      "CPU times: user 138 ms, sys: 3.91 ms, total: 142 ms\n",
      "Wall time: 139 ms\n"
     ]
    }
   ],
   "source": [
    "%%time\n",
    "# vectorized method using pandas apply\n",
    "t1 = time.time()\n",
    "\n",
    "df['c'] = df['a'].apply(lambda x : my_function(x))\n",
    "\n",
    "t2 = time.time()\n",
    "fastest_time = t2-t1\n",
    "Speedup = baseTime / fastest_time\n",
    "timing['pandas apply'] = t2 - t1\n",
    "\n",
    "print(\"Speed up: {:4.0f} X\".format(Speedup))"
   ]
  },
  {
   "cell_type": "markdown",
   "id": "cf46be4c-f880-4d09-a7f0-f96ef975573a",
   "metadata": {},
   "source": [
    "### Plot the timing results of tehse methods"
   ]
  },
  {
   "cell_type": "code",
   "execution_count": 29,
   "id": "c9558829-646f-4d31-9479-6f73ea8f2b13",
   "metadata": {},
   "outputs": [
    {
     "name": "stdout",
     "output_type": "stream",
     "text": [
      "Speedup :   53 X\n"
     ]
    },
    {
     "data": {
      "image/png": "[encoded data removed]",
      "text/plain": [
       "<Figure size 1000x600 with 1 Axes>"
      ]
     },
     "metadata": {},
     "output_type": "display_data"
    }
   ],
   "source": [
    "%matplotlib inline\n",
    "import matplotlib.pyplot as plt\n",
    "plt.figure(figsize=(10,6))\n",
    "plt.title(\"Plot of various method of applying log(1+x) to a dataframe\")\n",
    "plt.ylabel(\"Time in seconds\",fontsize=12)\n",
    "plt.xlabel(\"Various types of operations\",fontsize=14)\n",
    "plt.grid(True)\n",
    "plt.yscale('log')\n",
    "plt.xticks(rotation=-60)\n",
    "plt.bar(x = range(len(timing)), height=timing.values(), align='center', tick_label=list(timing.keys()))\n",
    "short = min(list(timing.values()))\n",
    "long = max(list(timing.values()))\n",
    "print('Speedup : {:4.0f} X'.format(long/short))"
   ]
  },
  {
   "cell_type": "markdown",
   "id": "beee35d1-24e0-40aa-a105-d647d008b674",
   "metadata": {},
   "source": [
    "### WOW! \n",
    "\n",
    "Sped up a couple hundred times!\n",
    "\n",
    "**Pandas.apply** is my new **best friend!**"
   ]
  },
  {
   "cell_type": "markdown",
   "id": "116f8b67-4110-49b3-a499-4fe584a8282c",
   "metadata": {},
   "source": [
    "# Alternative to Pandas Apply for Conditional Logic\n",
    "\n",
    "Hmmm... But then we run into **conditional Logic** in our function. Hmmm. **Is Pandas Apply** still our **best friend?**\n",
    "\n",
    "Below we create a randomly generated array of values to be included in a Pandas dataframe with a large number of rows"
   ]
  },
  {
   "cell_type": "code",
   "execution_count": 30,
   "id": "bd0c7d23-cbac-4ca3-9915-430f4f63d1dd",
   "metadata": {},
   "outputs": [],
   "source": [
    "import pandas as pd \n",
    "import numpy as np\n",
    "timing = {}\n",
    "BIG = 4000000\n",
    "df = pd.DataFrame(np.random.randint(0, 11, size=(BIG, 5)), columns=('a','b','c','d','e'))"
   ]
  },
  {
   "cell_type": "markdown",
   "id": "53dfb590-9b15-4601-b707-dfa0d81f1f78",
   "metadata": {},
   "source": [
    "Firsty of all, Pandas is built on Numpy - and we can demonstrate this by showing that under the hood when you look at values within a DataFrame, you will see the use of numpy.ndarray"
   ]
  },
  {
   "cell_type": "code",
   "execution_count": 31,
   "id": "cf990049-b43d-4730-9606-57d8ba35c5fa",
   "metadata": {},
   "outputs": [
    {
     "data": {
      "text/plain": [
       "numpy.ndarray"
      ]
     },
     "execution_count": 31,
     "metadata": {},
     "output_type": "execute_result"
    }
   ],
   "source": [
    "type(df['a'].values)"
   ]
  },
  {
   "cell_type": "markdown",
   "id": "116c6b41-339e-4394-ab2b-8950cc331005",
   "metadata": {},
   "source": [
    "So how to best use the numpy that is built in?\n",
    "\n",
    "Below we have a function with a lot of conditional logic that we want to applyu to the Entire Dataframe\n"
   ]
  },
  {
   "cell_type": "code",
   "execution_count": 32,
   "id": "707f9458-6c7f-416f-913c-1f6af093ddf4",
   "metadata": {},
   "outputs": [],
   "source": [
    "def func(a,b,c,d,e):\n",
    "    if e == 10:\n",
    "        return c*d\n",
    "    elif (e < 10) and (e>=5):\n",
    "        return c+d\n",
    "    elif e < 5:\n",
    "        return a+b"
   ]
  },
  {
   "cell_type": "markdown",
   "id": "240d6321-101e-458e-93a9-8906dfa1290d",
   "metadata": {},
   "source": [
    "Applying this function to the Dataframe, each row has to be evaluated for the condition and this makes the execution time slow because the conditional logic hinders can vectorization\n",
    "\n",
    "### Naive Apply lambda on function with condition rows"
   ]
  },
  {
   "cell_type": "code",
   "execution_count": null,
   "id": "2c535a47-b8b1-487d-92d7-6dd84b24a4dd",
   "metadata": {},
   "outputs": [],
   "source": [
    "import time\n",
    "t1 = time.time()\n",
    "df['new'] = df.apply(lambda x: func(x['a'], x['b'], x['c'], x['d'], x['e']), axis=1)\n",
    "t2 = time.time()\n",
    "print(\"time : {:5.2f}\".format(t2-t1))\n",
    "df.head()\n",
    "timing['Pandas Apply'] = t2 - t1\n",
    "baseTime = t2-t1"
   ]
  },
  {
   "cell_type": "markdown",
   "id": "f803c290-c8ed-447c-b742-19831ef00c6e",
   "metadata": {},
   "source": [
    "This feels slow!\n",
    "\n",
    "Can we do better?\n",
    "\n",
    "### Use vectorization !\n",
    "\n",
    "Here we will make use of Vectorization to create index masks that control the application of values to a given column - we operate on entire columns at a time this way. "
   ]
  },
  {
   "cell_type": "code",
   "execution_count": null,
   "id": "fec58d77-e965-47b9-9658-a5beddc80e7d",
   "metadata": {},
   "outputs": [],
   "source": [
    "t1 = time.time()\n",
    "df['new'] = df['c'] * df['d'] #default case e = =10\n",
    "mask = (df['e'] < 10) & (df['e'] >= 5)\n",
    "df.loc[mask,'new'] = df['c'] + df['d']\n",
    "mask = df['e'] < 5\n",
    "df.loc[mask,'new'] = df['a'] + df['b']\n",
    "t2 = time.time()\n",
    "print(\"time :\", t2-t1)\n",
    "df.head()\n",
    "fastest_time = t2-t1\n",
    "timing['Mask'] = t2 - t1\n",
    "Speedup = baseTime / fastest_time\n",
    "print(\"Speed up: {:4.0f} X\".format(Speedup))"
   ]
  },
  {
   "cell_type": "code",
   "execution_count": null,
   "id": "9705d38e-afbe-4fe3-81e1-a50701ddc93c",
   "metadata": {},
   "outputs": [],
   "source": [
    "%matplotlib inline\n",
    "import matplotlib.pyplot as plt\n",
    "plt.figure(figsize=(10,6))\n",
    "plt.title(\"Plot of various method of applying conditional (a,b,c,d,e) logic to a dataframe\")\n",
    "plt.ylabel(\"Time in seconds\",fontsize=12)\n",
    "plt.xlabel(\"Various types of operations\",fontsize=14)\n",
    "plt.grid(True)\n",
    "plt.bar(x = range(len(timing)), height=timing.values(), align='center', tick_label=list(timing.keys()))\n",
    "short = min(list(timing.values()))\n",
    "long = max(list(timing.values()))\n",
    "print('Speedup : {:4.0f} X'.format(long/short))"
   ]
  },
  {
   "cell_type": "markdown",
   "id": "a0e92bdd-96a8-4dc6-90f7-a70fa194f131",
   "metadata": {},
   "source": [
    "Well that feels much better!\n",
    "\n",
    "over 100X speedup on DevCLoud (your milage may vary)\n",
    "\n",
    "But the code looks complicated. The masking trick on Numpy arrays is effective but a little hard to read and debug"
   ]
  },
  {
   "cell_type": "code",
   "execution_count": null,
   "id": "aa0a0353-7837-45cd-8cb1-94bc70d70304",
   "metadata": {},
   "outputs": [],
   "source": [
    "import pandas as pd \n",
    "BIG = 1000_000\n",
    "timing = {}\n",
    "df = pd.DataFrame(np.random.randint(0, 11, size=(BIG, 5)), columns=('a','b','c','d','e'))"
   ]
  },
  {
   "cell_type": "markdown",
   "id": "91e447f8-e694-4cfd-a84c-7fd3db8eba40",
   "metadata": {},
   "source": [
    "### With Conditional Logic and Expensive Function!"
   ]
  },
  {
   "cell_type": "code",
   "execution_count": null,
   "id": "2f5c8833-6dcb-4943-956f-b46b3feb1e26",
   "metadata": {},
   "outputs": [],
   "source": [
    "def my_function(x):\n",
    "    return np.log(1+x)\n",
    "\n",
    "def func(a,b,c,d,e):\n",
    "    if e == 10:\n",
    "        return c*d\n",
    "    elif (e < 10) and (e>=7):\n",
    "        return my_function(c+d)\n",
    "    elif e < 7:\n",
    "        return my_function(a+b+100)"
   ]
  },
  {
   "cell_type": "markdown",
   "id": "706d57bb-4737-4004-b242-7ee3dd5ed66e",
   "metadata": {},
   "source": [
    "We confidently use our old Pandas \"Apply\" trick!"
   ]
  },
  {
   "cell_type": "code",
   "execution_count": null,
   "id": "ded31f3c-83e4-4eae-8bf9-ae615802bc2e",
   "metadata": {},
   "outputs": [],
   "source": [
    "%%time\n",
    "# naive loop method using pandas loc\n",
    "import numpy as np\n",
    "\n",
    "# each iteration of the loop requires an interpretation of the instructions being used and this decoding takes time\n",
    "    \n",
    "t1 = time.time()\n",
    "\n",
    "df['new'] = df.apply(lambda x: func(x['a'], x['b'], x['c'], x['d'], x['e']), axis=1)\n",
    "\n",
    "t2 = time.time()\n",
    "print(\"time : {:5.2f}\".format(t2-t1))\n",
    "df.head()\n",
    "baseTime = t2-t1\n",
    "timing['Pandas Apply'] =  t2 - t1\n",
    "df.head()"
   ]
  },
  {
   "cell_type": "markdown",
   "id": "25108261-fe15-46a0-88ab-bc1cef4f62f7",
   "metadata": {},
   "source": [
    "Hmmmm, I thought it would be faster - it vectorizes right?\n",
    "\n",
    "Oh - conditional logic can hamper vectorization. \n",
    "\n",
    "Can I do something about it?\n",
    "\n",
    "Maybe you read one time about a trick called masking. We will do the conditional logic to see an index or mask for our dataframe and use different masks for different conditions."
   ]
  },
  {
   "cell_type": "code",
   "execution_count": null,
   "id": "2c2900b2-de2c-47a4-a4c7-86f6cfd1e1f3",
   "metadata": {},
   "outputs": [],
   "source": [
    "# masked approach\n",
    "t1 = time.time()\n",
    "df['new'] = df['c']  * df['d']  #default case e =10\n",
    "mask = (df['e'] < 10) & (df['e'] >= 7)\n",
    "df.loc[mask,'new'] = (df['c'] + df['d']).apply(lambda x : my_function(x))\n",
    "mask = df['e'] < 7\n",
    "df.loc[mask,'new'] = (df['a'] + df['b']).apply(lambda x : my_function(x + 100))\n",
    "t2 = time.time()\n",
    "print(\"time :\", t2-t1)\n",
    "fastest_time = t2-t1\n",
    "Speedup = baseTime / fastest_time\n",
    "print(\"Speed up: {:4.0f} X\".format(Speedup))\n",
    "timing['unrolled with masks on df'] = t2 - t1\n",
    "df.head()"
   ]
  },
  {
   "cell_type": "markdown",
   "id": "9b681ab0-7cc5-4fd8-9101-17f854b9bd00",
   "metadata": {},
   "source": [
    "WOW! Masking to the rescue!\n",
    "\n",
    "Still - I wonder if I could do better?\n",
    "\n",
    "I watched a cool video on Youtube by a guy introducing me to the **Numpy \"Select\" clause**. He had so many great tips - But off the top of my head I can remember the \"Select\" trick.\n",
    "\n",
    "If you want to get serious about speeding up your python check these two references out!\n",
    "\n",
    "Seriously - Look up Nathan Cheever talk [1000x faster data manipulation: vectorizing with Pandas and Numpy](https://www.youtube.com/watch?v=nxWginnBklU&t=237s).  His Advise is precient!\n",
    "\n",
    "While you are at it - Look up Jake VanderPlas talk [Losing your Loops Fast Numerical Computing with NumPy](https://www.youtube.com/watch?v=EEUXKG97YRw). I also recommend that you buy his book [Python Data Science Handbook](https://jakevdp.github.io/PythonDataScienceHandbook/). \n",
    "\n",
    "\n",
    "Let's try  **Numpy \"Select\" clause** \n",
    "\n",
    "Notice that it cleans the code up alot!\n",
    "\n",
    "1. You create a list of tuple containing your condition.\n",
    "\n",
    "2. You create another list of tuples containg the opration you wish tou apply\n",
    "\n",
    "3. You call np.select(condlist, choicelist, default=0)\n",
    "\n",
    "**Hint:**\n",
    "\n",
    "```python\n",
    "condition = [ (df['e'] < 10) & (df['e'] >= 7),\n",
    "              ( df['e'] < 7)]\n",
    "choice = [ (df['c'] + df['d']).apply(lambda x : my_function(x) ), \n",
    "           (df['a'] + df['b']).apply(lambda x : my_function(x + 100) ) ]\n",
    "default = (df['c'] * df['d'])\n",
    "np.select(condition, choice, default = default )\n",
    "```\n",
    "\n"
   ]
  },
  {
   "cell_type": "code",
   "execution_count": null,
   "id": "09c5478c-585e-4a25-b614-edb9d482997a",
   "metadata": {},
   "outputs": [],
   "source": [
    "# np.select(condlist, choicelist, default=0)\n",
    "t1 = time.time()\n",
    "################### add code here ###########\n",
    "condition = [ (df['e'] < 10) & (df['e'] >= 7),\n",
    "              ( df['e'] < 7)]\n",
    "choice = [ (df['c'] + df['d']).apply(lambda x : my_function(x) ), \n",
    "           (df['a'] + df['b']).apply(lambda x : my_function(x + 100) ) ]\n",
    "default = (df['c'] * df['d'])\n",
    "np.select(condition, choice, default = default )\n",
    "#############################################\n",
    "np.select(condition, choice, default = default)\n",
    "t2 = time.time()\n",
    "print(\"time :\", t2-t1)\n",
    "timing['Numpy Select on Pandas df'] = t2 - t1\n",
    "df.head()"
   ]
  },
  {
   "cell_type": "markdown",
   "id": "6669f4b6-16b3-463e-a620-5dad75ad73c0",
   "metadata": {},
   "source": [
    "Not bad. \n",
    "\n",
    "But, but I am using \"numpy.select\" and applying it to Pandas dataframes.\n",
    "\n",
    "Could we speed it up more if we drop the Pandas and go completely with Numpy?"
   ]
  },
  {
   "cell_type": "code",
   "execution_count": null,
   "id": "a13cc3bd-8ac5-4e6f-a1e9-effe60a52a67",
   "metadata": {},
   "outputs": [],
   "source": [
    "# Convert Pandas to numpy entirely\n",
    "t1 = time.time()\n",
    "npArr = df.to_numpy()  # convert to numpy\n",
    "idx = {}  #intialize an indexing dictionary\n",
    "for index, value in enumerate(df.columns):\n",
    "    idx[value] = index\n",
    "df.loc[:,'new'] = npArr[:,idx['c']] * npArr[:,idx['d']] #default case e =10\n",
    "mask = (npArr[:,idx['e']] < 10) & (npArr[:,idx['e']] >= 7)\n",
    "df.loc[mask,'new'] =  my_function(npArr[mask,idx['c']] + npArr[mask,idx['d']])\n",
    "mask = (npArr[:,idx['e']] < 7)\n",
    "df.loc[mask,'new'] = my_function(npArr[mask,idx['a']] + npArr[mask,idx['b']]  + 100)\n",
    "t2 = time.time()\n",
    "print(\"time :\", t2-t1)\n",
    "df.head()\n",
    "fastest_time = t2-t1\n",
    "Speedup = baseTime / fastest_time\n",
    "print(\"Speed up: {:4.0f} X\".format(Speedup))\n",
    "timing['unrolled with Masks on dataframe'] = t2 - t1\n",
    "df.head()"
   ]
  },
  {
   "cell_type": "markdown",
   "id": "6e7da9e2-73fc-4057-a682-6a959fc30016",
   "metadata": {},
   "source": [
    "WOW!! Now we are talking - something over 60X speedup!\n",
    "\n",
    "Code looks a little messy though.\n",
    "\n",
    "How about if we try the Numpy.Select trick again?"
   ]
  },
  {
   "cell_type": "code",
   "execution_count": null,
   "id": "30b66fa3-70a2-4a1b-b9a1-04dc36518c05",
   "metadata": {},
   "outputs": [],
   "source": [
    "# np.select(condlist, choicelist, default=0)\n",
    "# Convert Pandas to numpy entirely\n",
    "t1 = time.time()\n",
    "npArr = df.to_numpy()  # convert to numpy\n",
    "\n",
    "condition = [ (npArr[:,idx['e']] < 10) & (npArr[:,idx['e']] >= 7),\n",
    "              (npArr[:,idx['e']] < 7)]\n",
    "\n",
    "choice = [(my_function(npArr[:,idx['c']] + npArr[:,idx['d']]      )), \n",
    "          (my_function(npArr[:,idx['a']] + npArr[:,idx['b']] + 100))]\n",
    "\n",
    "tmp = np.select(condition, choice, default= (npArr[:,idx['c']] * npArr[:,idx['d']]) )\n",
    "df.loc[:,'new'] = tmp\n",
    "t2 = time.time()\n",
    "\n",
    "print(\"time :\", t2-t1)\n",
    "\n",
    "fastest_time = t2-t1\n",
    "Speedup = baseTime / fastest_time\n",
    "print(\"Speed up: {:4.0f} X\".format(Speedup))\n",
    "timing['Numpy Select Pure'] = t2 - t1\n",
    "df.head()"
   ]
  },
  {
   "cell_type": "markdown",
   "id": "12a0dde3-7dd2-473f-91a5-9c59327de198",
   "metadata": {},
   "source": [
    "### Plot the results"
   ]
  },
  {
   "cell_type": "code",
   "execution_count": null,
   "id": "a276f7b1-5411-412c-8a8d-78fe4bf68623",
   "metadata": {},
   "outputs": [],
   "source": [
    "%matplotlib inline\n",
    "import matplotlib.pyplot as plt\n",
    "plt.figure(figsize=(10,6))\n",
    "plt.title(\"Plot of various method of applying conditional (a,b,c,d,e) logic to a dataframe\")\n",
    "plt.ylabel(\"Log of speed up\",fontsize=12)\n",
    "plt.xlabel(\"Various types of operations\",fontsize=14)\n",
    "plt.grid(True)\n",
    "plt.yscale('log')\n",
    "plt.xticks(rotation=-60)\n",
    "plt.bar(x = range(len(timing)), height=timing.values(), align='center', tick_label=list(timing.keys()))\n",
    "short = min(list(timing.values()))\n",
    "long = max(list(timing.values()))\n",
    "print('Speedup : {:4.0f} X'.format(long/short))"
   ]
  },
  {
   "cell_type": "markdown",
   "id": "560e2948-d43e-48e7-a104-faf85a00cc5f",
   "metadata": {},
   "source": [
    "WOW!!! Hundreds time faster than Pandas Apply AND code is cleaner!\n",
    "\n",
    "SHIP IT!"
   ]
  },
  {
   "cell_type": "code",
   "execution_count": null,
   "id": "3dae03aa-0b27-4b78-8ddd-c86018c9994f",
   "metadata": {},
   "outputs": [],
   "source": [
    "print(\"Done\")"
   ]
  }
 ],
 "metadata": {
  "kernelspec": {
   "display_name": "Python 3 (Intel® oneAPI 2023.1)",
   "language": "python",
   "name": "c009-intel_distribution_of_python_3_oneapi-beta05-python"
  },
  "language_info": {
   "codemirror_mode": {
    "name": "ipython",
    "version": 3
   },
   "file_extension": ".py",
   "mimetype": "text/x-python",
   "name": "python",
   "nbconvert_exporter": "python",
   "pygments_lexer": "ipython3",
   "version": "3.9.16"
  }
 },
 "nbformat": 4,
 "nbformat_minor": 5
}
