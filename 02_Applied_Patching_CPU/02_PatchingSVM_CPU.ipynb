{
 "cells": [
  {
   "cell_type": "markdown",
   "id": "aa88ccd5-22db-471f-ace0-d302bf8a476c",
   "metadata": {},
   "source": [
    "# Module 02_02: SVC: targeting CPU and Patching \n",
    "\n",
    "![Assets/SVCacceleration.jpg](Assets/SVCacceleration.jpg)\n"
   ]
  },
  {
   "cell_type": "markdown",
   "id": "758b2cdb-e2c0-4613-bb03-f01e2fe41031",
   "metadata": {},
   "source": [
    "# Learning Objectives:\n",
    "\n",
    "1) Describe how to surgically unpatch specific optimized functions if needed\n",
    "2) Describe differences in patching more globally versus more surgically\n",
    "1) applied patching to SVC algorithm\n",
    "2) Describe acceleration for the covtype dataset usinf SVC\n",
    "\n"
   ]
  },
  {
   "cell_type": "markdown",
   "id": "8f5bdd00-2c32-49b1-bd39-77e140e5f739",
   "metadata": {},
   "source": [
    "# Connect4 Game Play Dataset\n",
    "\n",
    "### Compare timings of stock kmeans versus Intel Extension for Scikit-learn SVC using patch_sklean()\n",
    "\n",
    "Below we will apply Intel Extension for Scikit learn to a use case on a CPU\n",
    "\n",
    "Intel® Extension for Scikit-learn contains drop-in replacement functionality for the stock scikit-learn package. You can take advantage of the performance optimizations of Intel Extension for Scikit-learn by adding just two lines of code before the usual scikit-learn imports. Intel® Extension for Scikit-learn patching affects performance of specific Scikit-learn functionality.\n",
    "\n",
    "### Data: connect4\n",
    "\n",
    "We will use Data Set Information:\n",
    "\n",
    "This database contains all legal 8-ply positions in the game of connect-4 in which neither player has won yet, and in which the next move is not forced.\n",
    "\n",
    "**x** is the first player; **o** the second.\n",
    "\n",
    "The outcome class is the game theoretical value for the first player.\n",
    "\n",
    "Attribute Information:\n",
    "\n",
    "Attribute Information: (x=player x has taken, o=player o has taken, b=blank)\n",
    "\n",
    "The board is numbered like:\n",
    "6 . . . . . . .\n",
    "5 . . . . . . .\n",
    "4 . . . . . . .\n",
    "3 . . . . . . .\n",
    "2 . . . . . . .\n",
    "1 . . . . . . .\n",
    "a b c d e f g\n",
    "\n",
    "1. a1: {x,o,b}\n",
    "2. a2: {x,o,b}\n",
    "3. a3: {x,o,b}\n",
    "4. a4: {x,o,b}\n",
    "\n",
    "### Overview of procedure\n",
    "In the below example we will train and predict kNN algorithm with Intel Extension for Scikit-learn for covtype dataset and calculate the CPU and wall clock time for training and prediction. Then in the next step we will unpatch the Intel extension for Scikit-learn and observe the time taken on the CPU for the same trainng and prediction.\n",
    "\n",
    "### Fetch the Data\n",
    "\n",
    "- [Back to Sections](#Back_to_Sections)\n"
   ]
  },
  {
   "cell_type": "code",
   "execution_count": null,
   "id": "1b035784-02bf-4067-8944-ef3f9483c2aa",
   "metadata": {},
   "outputs": [],
   "source": [
    "from sklearn.preprocessing import OneHotEncoder\n",
    "from sklearn import datasets\n",
    "from sklearn.metrics import accuracy_score\n",
    "from sklearn.metrics import f1_score\n",
    "import pandas as pd\n",
    "import time\n",
    "import numpy as np\n",
    "import numpy.ma as ma\n",
    "\n",
    "connect4 = pd.read_csv('data/connect-4.data')\n",
    "\n",
    "data = connect4.iloc[:,:42].replace(['x', 'o', 'b'], [0,1,2])\n",
    "\n",
    "keep = .25 # amount of data to experiment with to keep times reasonable\n",
    "subsetLen = int(keep*data.shape[0])\n",
    "\n",
    "X = np.byte( data.iloc[:subsetLen,:].to_numpy() )\n",
    "X = X[:subsetLen,:42]\n",
    "enc = OneHotEncoder(handle_unknown='ignore')\n",
    "enc.fit(X)\n",
    "enc.categories_\n",
    "\n",
    "XOHE = np.short(enc.transform(X).toarray() )# X one hot encoded\n",
    "\n",
    "Data_y = connect4.iloc[:,42].to_numpy()\n",
    "#np.random.shuffle(Data_y)\n",
    "y =  Data_y[:subsetLen] \n",
    "\n",
    "import sklearn.model_selection as model_selection\n",
    "X_train, X_test, y_train, y_test = model_selection.train_test_split(XOHE, y, train_size=0.80, test_size=0.20, random_state=101)"
   ]
  },
  {
   "cell_type": "code",
   "execution_count": null,
   "id": "5520cd32-cec8-4d08-a1bc-d779b73f91f3",
   "metadata": {},
   "outputs": [],
   "source": [
    "from sklearn.metrics import classification_report\n",
    "\n",
    "def predict( linear ):\n",
    "    import numpy as np\n",
    "    time_patch_predict = time.time()\n",
    "    y_pred = linear.predict(X_test)\n",
    "    elapsed = time.time() - time_patch_predict\n",
    "    return elapsed, y_pred\n",
    "\n",
    "def fit():\n",
    "    start = time.time()\n",
    "    linear = svm.SVC(kernel='linear', C=100).fit(X_train, y_train)\n",
    "    time_patch_fit =  time.time() - start\n",
    "    return time_patch_fit, linear\n"
   ]
  },
  {
   "cell_type": "markdown",
   "id": "a9dcac67-4733-4974-a939-a632982f1d7a",
   "metadata": {},
   "source": [
    "# Exercise:\n",
    "\n",
    "Apply unpatch"
   ]
  },
  {
   "cell_type": "code",
   "execution_count": null,
   "id": "3238c9f1-0987-433f-b7fc-31a882023cb0",
   "metadata": {},
   "outputs": [],
   "source": [
    "from sklearn.metrics import classification_report\n",
    "\n",
    "# Apply the unpatch_sklearn() function to this cell then run the cell and note the time:\n",
    "\n",
    "###############################\n",
    "## add unpatch here ##\n",
    "from sklearnex import patch_sklearn, unpatch_sklearn \n",
    "unpatch_sklearn()\n",
    "###############################\n",
    "from sklearn import svm\n",
    "unpatch_time_fit, linear = fit()\n",
    "unpatch_time_predict, y_pred = predict(linear)\n",
    "target_names = ['win', 'loss', 'draw']\n",
    "print(\"file as is \")\n",
    "print(classification_report(y_test, y_pred, target_names=target_names))\n",
    "print('Elapsed time: {:.2f} sec'.format( unpatch_time_fit + unpatch_time_predict))"
   ]
  },
  {
   "cell_type": "markdown",
   "id": "25d26a9d-ec52-40ea-bf73-fc8f1e348e22",
   "metadata": {},
   "source": [
    "# Exercise:\n",
    "\n",
    "Apply patch below"
   ]
  },
  {
   "cell_type": "code",
   "execution_count": null,
   "id": "c9e57b80-b001-43ef-baa5-6931ac61371c",
   "metadata": {},
   "outputs": [],
   "source": [
    "from sklearn.metrics import classification_report\n",
    "\n",
    "# Apply the patch_sklearn() function to this cell then run the cell and note the time:\n",
    "\n",
    "###############################\n",
    "## add patch here ##\n",
    "patch_sklearn()\n",
    "\n",
    "###############################\n",
    "from sklearn import svm\n",
    "patch_time_fit, linear = fit()\n",
    "patch_time_predict, y_pred = predict(linear)\n",
    "target_names = ['win', 'loss', 'draw']\n",
    "print(\"file as is \")\n",
    "print(classification_report(y_test, y_pred, target_names=target_names))\n",
    "print('Elapsed time: {:.2f} sec'.format( patch_time_fit + patch_time_predict))"
   ]
  },
  {
   "cell_type": "code",
   "execution_count": null,
   "id": "ec375eb6-df98-47b5-a11c-376a1b035eb3",
   "metadata": {},
   "outputs": [],
   "source": [
    "# Copyright 2022 Intel Corporation\n",
    "#\n",
    "# Licensed under the Apache License, Version 2.0 (the \"License\");\n",
    "# you may not use this file except in compliance with the License.\n",
    "# You may obtain a copy of the License at\n",
    "#\n",
    "#      http://www.apache.org/licenses/LICENSE-2.0\n",
    "#\n",
    "# Unless required by applicable law or agreed to in writing, software\n",
    "# distributed under the License is distributed on an \"AS IS\" BASIS,\n",
    "# WITHOUT WARRANTIES OR CONDITIONS OF ANY KIND, either express or implied.\n",
    "# See the License for the specific language governing permissions and\n",
    "# limitations under the License.\n",
    "%matplotlib inline\n",
    "import matplotlib.pyplot as plt\n",
    "\n",
    "left = [1,2]\n",
    "pred_times = [unpatch_time_fit + unpatch_time_predict, patch_time_fit + patch_time_predict]\n",
    "tick_label = ['unpatched SVC', 'patched SVC']\n",
    "plt.figure(figsize = (16,8))\n",
    "plt.bar(left, pred_times, tick_label = tick_label, width = 0.5, color = ['red', 'blue'])\n",
    "plt.xlabel('Predict Method'); plt.ylabel('time [s]'); plt.title('SVC Predict time [s] - Lower is better')\n",
    "plt.show()\n",
    "\n",
    "print('Intel(R) Extensions for scikit-learn* \\033[1m SVC Speedup {:4.1f} x!\\033[0m'.format( (unpatch_time_fit + unpatch_time_predict)/(patch_time_fit + patch_time_predict)))"
   ]
  },
  {
   "cell_type": "markdown",
   "id": "c86d8fab-d6c8-4fef-b2f5-e53fdc086ddd",
   "metadata": {},
   "source": [
    "Compare the times and accuracies of these two runs. \n",
    "\n",
    "Is the time versus accuracy trade off worth the effort to patch this function?\n",
    "\n",
    "Reminder of how to find the list of functions available to patch\n"
   ]
  },
  {
   "cell_type": "markdown",
   "id": "1e4d68bd-e5e7-40c5-9b6c-1405369057c5",
   "metadata": {},
   "source": [
    "# Summary:\n",
    "\n",
    "You have:\n",
    "\n",
    "1) applied patching to SVC algorithm\n",
    "2) Describe acceleration for tehe covtype dataset\n",
    "    "
   ]
  },
  {
   "cell_type": "markdown",
   "id": "e8582307-b7cb-4e39-b0b9-0436f44e24c9",
   "metadata": {},
   "source": [
    "# Notices & Disclaimers \n",
    "\n",
    "Intel technologies may require enabled hardware, software or service activation.\n",
    "No product or component can be absolutely secure.\n",
    "\n",
    "Your costs and results may vary.\n",
    "\n",
    "© Intel Corporation. Intel, the Intel logo, and other Intel marks are trademarks of Intel Corporation or its subsidiaries. \n",
    "*Other names and brands may be claimed as the property of others."
   ]
  },
  {
   "cell_type": "code",
   "execution_count": null,
   "id": "f0fab13d-a23c-4aec-a29b-864d6341a3b0",
   "metadata": {},
   "outputs": [],
   "source": [
    "print(\"All Done\")"
   ]
  }
 ],
 "metadata": {
  "kernelspec": {
   "display_name": "base",
   "language": "python",
   "name": "base"
  },
  "language_info": {
   "codemirror_mode": {
    "name": "ipython",
    "version": 3
   },
   "file_extension": ".py",
   "mimetype": "text/x-python",
   "name": "python",
   "nbconvert_exporter": "python",
   "pygments_lexer": "ipython3",
   "version": "3.9.16"
  }
 },
 "nbformat": 4,
 "nbformat_minor": 5
}
