{
 "cells": [
  {
   "cell_type": "markdown",
   "metadata": {},
   "source": [
    "# Module 05_01: Introduction to Intel® Extension for Scikit-learn*\n",
    "\n",
    "\n",
    "You are going to generate scores proving you communicated successfully and did sklearn computation on Intel GPU\n",
    "\n",
    "![Assets/GalleryScores.png](Assets/GalleryScores.png)"
   ]
  },
  {
   "cell_type": "markdown",
   "metadata": {
    "jp-MarkdownHeadingCollapsed": true,
    "tags": []
   },
   "source": [
    "<a id='Back_to_Sections'></a>\n",
    "\n",
    "## Sections\n",
    "- [Examine Optimized Functions in Sklearnex for GPU](#Examine-All-Optimized-Functions-in-Sklearnex)\n",
    "- [Demonstrate usage of Intel® Extension for Scikit-learn with kmeans using patch_sklearn](#Demonstrate-usage-of-Intel-Extension-for-Scikit-learn-with-kmeans-using-patch_sklearn)\n",
    "- [Compare timings of stock kmeans versus Intel® Extension for Scikit-learn kmeans](#Compare-timings-of-stock-kmeans-versus-Intel-Extension-for-Scikit-learn-kmeans)\n",
    "- [Introduction to Daal4py](#Introduction-to-Daal4py)\n",
    "- [oneAPI and GPU support in Intel® Extension for Scikit learn*](oneAPI-and-GPU-support-in-Intel-Extension-for-Scikit-learn*)\n",
    "- [Plot DBSCAN results as computed on GPU](#Plot-DBSCAN-results-as-computed-on-GPU)\n"
   ]
  },
  {
   "cell_type": "markdown",
   "metadata": {},
   "source": [
    "## Learning Objectives\n",
    "\n",
    "* Apply Intel Extension for Scikit-learn to KNeighborsClassifier on Intel GPU\n",
    "\n",
    "\n"
   ]
  },
  {
   "cell_type": "markdown",
   "metadata": {},
   "source": [
    "The following code demonstrates usage of Intel(R) Extension for Scikit-learn. Inspect code; there are no modifications necessary:\n",
    "1. Inspect the following code cell and click Run (▶)to save the code to file.\n",
    "2. Next, run (▶) the cell in the __Build and Run__ section following the code to compile and execute the code."
   ]
  },
  {
   "cell_type": "markdown",
   "metadata": {},
   "source": [
    "# Examine Which Scikit-learn* Are Optimized in Sklearnex\n",
    "\n",
    "These following are the currently optimized functions optimized with Intel(r) Extensions for scikit learn\n",
    "\n",
    "- [Back to Sections](#Back_to_Sections)"
   ]
  },
  {
   "cell_type": "code",
   "execution_count": null,
   "metadata": {},
   "outputs": [],
   "source": [
    "import pandas as pd\n",
    "sklearnex_gallery = pd.read_csv('../data/sklearnex_gallery_gpu.csv')\n",
    "sklearnex_gallery"
   ]
  },
  {
   "cell_type": "code",
   "execution_count": null,
   "metadata": {},
   "outputs": [],
   "source": [
    "def print_gallery_details(acroynm, column):\n",
    "    print(sklearnex_gallery[sklearnex_gallery['Acronym'] == acroynm][column].tolist()[0])\n",
    "\n",
    "details = ['What is it used for', 'Advantages', 'Disadvantages']\n",
    "print_gallery_details('svc', 'Advantages')"
   ]
  },
  {
   "cell_type": "markdown",
   "metadata": {},
   "source": [
    "## oneAPI and GPU support in Intel Extension for Scikit learn*\n",
    "DPCTL is the python mechanism used to interface to SYCL device management. It is implemented via with sycl_context(\"xpu\") blocks that redirect execution to a device of the selected type: GPU, CPU, or host. scikit-learn programs can be executed on GPU devices as well.\n",
    "\n",
    "- [Back to Sections](#Back_to_Sections)\n",
    "\n",
    "To patch your code with Intel CPU/GPU optimizations:"
   ]
  },
  {
   "cell_type": "markdown",
   "metadata": {},
   "source": [
    "The following code demonstrates usage of simple DPPY code. Inspect code; there are no modifications necessary:\n",
    "1. Inspect the following code cell and click Run (▶)to save the code to file.\n",
    "2. Next, run (▶) the cell in the __Build and Run__ section following the code to compile and execute the code."
   ]
  },
  {
   "cell_type": "markdown",
   "metadata": {
    "jp-MarkdownHeadingCollapsed": true,
    "tags": []
   },
   "source": [
    "# Regarding when/how to cast to and from dpctl.tensors\n",
    "\n",
    "This information bears repeating: to make sure the concept is clear.\n",
    "\n",
    "Study the code sectons near the conversion to and from dptcl/Numpy\n",
    "\n",
    "For all sklearnex alogorithms - it will be necessary to cast the X and/or y data passed as the parameter list to dpctl tensor in order for the GPU to access the data and performan the computation.\n",
    "\n",
    "Examples:\n",
    "- **x_device** = dpctl.tensor.from_numpy(**x**, usm_type = 'device', device = dpctl.SyclDevice(\"gpu\"))\n",
    "- **y_device** = dpctl.tensor.from_numpy(**y**, usm_type = 'device', device = dpctl.SyclDevice(\"gpu\"))\n",
    "\n",
    "\n",
    "\n",
    "Pay attention ot **return** types from:\n",
    "- **fit** - many cases in scikit-learn, fit returns selfobject\n",
    "- **fit_predict** - returns **ndarray** requires casting after the call on host (to_numpy)\n",
    "- **predict** -  returns **ndarray** requires casting after the call on host (to_numpy)\n",
    "- **fit_transform** - returns returns **ndarray** requires casting after the call on host (to_numpy)\n",
    "- **tranform** - typically returns **ndarray** requires casting after the call on host (to_numpy)\n",
    "\n",
    "Scikit-learn routines that potentially return ndarray type objects or which expect ndtype objects passed as a parameter will need to be cast to/from numpy from/to dpctl.tensor\n",
    "\n",
    "To cast data being fed TO one of these routines:\n",
    "- use dpctl.tensor.from_numpy() to conver from NumPy to dpctl tensor\n",
    "- use dpctl.tensor.to_numpy() to convert from dpctl tensor to NumPy\n",
    "\n",
    "Example: After a call to fit_predict:\n",
    "- **catch_device** = estimator.fit_predict(**x_device**, **y_device**)\n",
    "- **predictedHost** = dpctl.tensor.to_numpy(**catch_device**)\n"
   ]
  },
  {
   "cell_type": "markdown",
   "metadata": {},
   "source": [
    "# Simple Compute Follows Data and Patching for kmeans\n",
    "\n",
    "- [Back to Sections](#Back_to_Sections)"
   ]
  },
  {
   "cell_type": "code",
   "execution_count": null,
   "metadata": {
    "ExecuteTime": {
     "end_time": "2021-11-03T01:44:15.186824Z",
     "start_time": "2021-11-03T01:44:15.162279Z"
    }
   },
   "outputs": [],
   "source": [
    "%%writefile lab/scikit_kmeans.py\n",
    "\n",
    "# Copyright 2021 Intel Corporation\n",
    "#\n",
    "# Licensed under the Apache License, Version 2.0 (the \"License\");\n",
    "# you may not use this file except in compliance with the License.\n",
    "# You may obtain a copy of the License at\n",
    "#\n",
    "#      http://www.apache.org/licenses/LICENSE-2.0\n",
    "#\n",
    "# Unless required by applicable law or agreed to in writing, software\n",
    "# distributed under the License is distributed on an \"AS IS\" BASIS,\n",
    "# WITHOUT WARRANTIES OR CONDITIONS OF ANY KIND, either express or implied.\n",
    "# See the License for the specific language governing permissions and\n",
    "# limitations under the License.\n",
    "\n",
    "import numpy as np\n",
    "from sklearnex import patch_sklearn\n",
    "import dpctl\n",
    "patch_sklearn()\n",
    "\n",
    "X = np.array([[1,  2], [1,  4], [1,  0],\n",
    "              [10, 2], [10, 4], [10, 0]])\n",
    "\n",
    "# You need to re-import scikit-learn algorithms after the patch\n",
    "from sklearn.cluster import KMeans\n",
    "\n",
    "for d in dpctl.get_devices():\n",
    "    gpu_available = False\n",
    "    for d in dpctl.get_devices():\n",
    "        if d.is_gpu:\n",
    "            gpu_device = dpctl.select_gpu_device()\n",
    "            gpu_available = True\n",
    "        else:\n",
    "            cpu_device = dpctl.select_cpu_device() \n",
    "if gpu_available:\n",
    "    print(\"GPU targeted: \", gpu_device)\n",
    "else:\n",
    "    print(\"CPU targeted: \", cpu_device)\n",
    "\n",
    "if gpu_available:\n",
    "    # target a remote hosy CPU when submitted via q.sh or qsub -I\n",
    "    x_device = dpctl.tensor.from_numpy(X, usm_type = 'device', device = dpctl.SyclDevice(\"gpu\"))\n",
    "    kmeans = KMeans(n_clusters=2, random_state=0).fit(X)\n",
    "    print(f\"kmeans.labels_ = {kmeans.labels_}\")\n",
    "else:\n",
    "    print(\"GPU not found\")"
   ]
  },
  {
   "cell_type": "markdown",
   "metadata": {},
   "source": [
    "#### Build and Run\n",
    "Select the cell below and click run ▶ to compile and execute the code:\n",
    "- [Back to Sections](#Back_to_Sections)\n"
   ]
  },
  {
   "cell_type": "code",
   "execution_count": null,
   "metadata": {
    "ExecuteTime": {
     "end_time": "2021-11-03T01:44:15.234807Z",
     "start_time": "2021-11-03T01:44:15.187790Z"
    }
   },
   "outputs": [],
   "source": [
    "! chmod 755 q; chmod 755 run_kmeans_gpu.sh; if [ -x \"$(command -v qsub)\" ]; then ./q run_kmeans_gpu.sh; else ./run_kmeans_gpu.sh; fi"
   ]
  },
  {
   "cell_type": "markdown",
   "metadata": {},
   "source": [
    "We observe that with scikit-learn-intelex patching you can:\n",
    "\n",
    "Use your scikit-learn code for training and prediction with minimal changes (a couple of lines of code);\n",
    "Fast execution training and prediction of scikit-learn models;\n",
    "Get the same quality.\n",
    "\n",
    "## Examine Compute Follows Data on Intel GPU with DBSCAN"
   ]
  },
  {
   "cell_type": "code",
   "execution_count": null,
   "metadata": {},
   "outputs": [],
   "source": [
    "from sklearn.cluster import DBSCAN\n",
    "#?DBSCAN.fit"
   ]
  },
  {
   "cell_type": "code",
   "execution_count": null,
   "metadata": {
    "ExecuteTime": {
     "end_time": "2021-11-03T01:44:24.880650Z",
     "start_time": "2021-11-03T01:44:15.167Z"
    }
   },
   "outputs": [],
   "source": [
    "%%writefile lab/scikit_dbscan.py\n",
    "\n",
    "# Copyright 2021 Intel Corporation\n",
    "#\n",
    "# Licensed under the Apache License, Version 2.0 (the \"License\");\n",
    "# you may not use this file except in compliance with the License.\n",
    "# You may obtain a copy of the License at\n",
    "#\n",
    "#      http://www.apache.org/licenses/LICENSE-2.0\n",
    "#\n",
    "# Unless required by applicable law or agreed to in writing, software\n",
    "# distributed under the License is distributed on an \"AS IS\" BASIS,\n",
    "# WITHOUT WARRANTIES OR CONDITIONS OF ANY KIND, either express or implied.\n",
    "# See the License for the specific language governing permissions and\n",
    "# limitations under the License.\n",
    "\n",
    "from sklearnex import patch_sklearn\n",
    "patch_sklearn()\n",
    "\n",
    "import pandas as pd\n",
    "import numpy as np\n",
    "\n",
    "from sklearn.cluster import DBSCAN\n",
    "import dpctl\n",
    "\n",
    "X = np.array([[1., 2.], [2., 2.], [2., 3.],\n",
    "            [8., 7.], [8., 8.], [25., 80.]], dtype=np.float32)\n",
    "\n",
    "for d in dpctl.get_devices():\n",
    "    gpu_available = False\n",
    "    for d in dpctl.get_devices():\n",
    "        if d.is_gpu:\n",
    "            gpu_device = dpctl.select_gpu_device()\n",
    "            gpu_available = True\n",
    "        else:\n",
    "            cpu_device = dpctl.select_cpu_device() \n",
    "if gpu_available:\n",
    "    print(\"GPU targeted: \", gpu_device)\n",
    "else:\n",
    "    print(\"CPU targeted: \", cpu_device)\n",
    "\n",
    "if gpu_available:\n",
    "    # target a remote hosy CPU when submitted via q.sh or qsub -I\n",
    "    x_device = dpctl.tensor.from_numpy(X, usm_type = 'device', device = dpctl.SyclDevice(\"gpu\"))\n",
    "else:\n",
    "    # target a remote hosy CPU when submitted via q.sh or qsub -I\n",
    "    x_device = dpctl.tensor.from_numpy(X, usm_type = 'device', device = dpctl.SyclDevice(\"gpu\"))\n",
    "\n",
    "clustering_host = DBSCAN(eps=3, min_samples=2).fit(x_device)\n",
    "\n",
    "print(\"DBSCAN.get_params: \",DBSCAN.get_params)\n",
    "print('data type clustering_host.labels_', type(clustering_host.labels_))\n",
    "\n",
    "# write meaningful cluster info to a CSV \n",
    "clustering_labels = pd.DataFrame(clustering_host.labels_)\n",
    "clustering_labels.to_csv('../data/DBSCAN_Labels.csv', index=False )\n",
    "\n",
    "clustering_components = pd.DataFrame(clustering_host.components_)\n",
    "clustering_components.to_csv('../data/DBSCAN_Components.csv', index=False )\n",
    "\n",
    "print(\"DBSCAN components: \", clustering_host.components_, \"\\nDBSCAN labels: \",clustering_host.labels_)"
   ]
  },
  {
   "cell_type": "markdown",
   "metadata": {},
   "source": [
    "#### Build and Run\n",
    "Select the cell below and click run ▶ to compile and execute the code:"
   ]
  },
  {
   "cell_type": "code",
   "execution_count": null,
   "metadata": {
    "ExecuteTime": {
     "end_time": "2021-11-03T01:44:24.881650Z",
     "start_time": "2021-11-03T01:44:15.170Z"
    }
   },
   "outputs": [],
   "source": [
    "! chmod 755 q; chmod 755 run_scikit_dbscan.sh; if [ -x \"$(command -v qsub)\" ]; then ./q run_scikit_dbscan.sh; else ./run_scikit_dbscan.sh; fi"
   ]
  },
  {
   "cell_type": "code",
   "execution_count": null,
   "metadata": {},
   "outputs": [],
   "source": []
  },
  {
   "cell_type": "markdown",
   "metadata": {},
   "source": [
    "_If the Jupyter cells are not responsive, or if they error out when you compile the code samples, please restart the Jupyter Kernel: \n",
    "\"Kernel->Restart Kernel and Clear All Outputs\" and compile the code samples again_."
   ]
  },
  {
   "cell_type": "code",
   "execution_count": null,
   "metadata": {},
   "outputs": [],
   "source": [
    "%matplotlib inline\n",
    "import pandas as pd\n",
    "import numpy as np\n",
    "import matplotlib.pyplot as plt\n",
    "\n",
    "X = np.array([[1., 2.], [2., 2.], [2., 3.],\n",
    "            [8., 7.], [8., 8.], [25., 80.]], dtype=np.float32)\n",
    "\n",
    "labels = pd.read_csv('../data/DBSCAN_Components.csv')\n",
    "labels = pd.read_csv('../data/DBSCAN_Labels.csv')\n",
    "\n",
    "plt.title('DBSCAN Clusters - Fit')\n",
    "plt.scatter(X[:, 0], X[:, 1], s=100, c=labels.iloc[:,0].tolist(), edgecolor=\"k\")\n",
    "plt.show()"
   ]
  },
  {
   "cell_type": "markdown",
   "metadata": {},
   "source": [
    "# Use GPU to Fit, then use model to predict on host\n",
    "\n",
    "We will test this method of **fitting on Intel GPU**, and **predicting on Intel CPU** over the following routines:\n",
    "- **k_means_random**\n",
    "- **linear_regression**\n",
    "- **logistic_regression_lbfgs**\n",
    "- **dbscan**\n"
   ]
  },
  {
   "cell_type": "code",
   "execution_count": null,
   "metadata": {},
   "outputs": [],
   "source": [
    "%%writefile lab/dpctl_several_functions.py\n",
    "\n",
    "#===============================================================================\n",
    "# Copyright 2014-2021 Intel Corporation\n",
    "#\n",
    "# Licensed under the Apache License, Version 2.0 (the \"License\");\n",
    "# you may not use this file except in compliance with the License.\n",
    "# You may obtain a copy of the License at\n",
    "#\n",
    "#     http://www.apache.org/licenses/LICENSE-2.0\n",
    "#\n",
    "# Unless required by applicable law or agreed to in writing, software\n",
    "# distributed under the License is distributed on an \"AS IS\" BASIS,\n",
    "# WITHOUT WARRANTIES OR CONDITIONS OF ANY KIND, either express or implied.\n",
    "# See the License for the specific language governing permissions and\n",
    "# limitations under the License.\n",
    "#===============================================================================\n",
    "\n",
    "\n",
    "import numpy as np\n",
    "from sklearnex import patch_sklearn\n",
    "patch_sklearn()\n",
    "\n",
    "from sklearn.cluster import KMeans\n",
    "from sklearn.linear_model import LinearRegression\n",
    "from sklearn.linear_model import LogisticRegression\n",
    "from sklearn.cluster import DBSCAN\n",
    "\n",
    "from sklearn.datasets import load_iris\n",
    "import dpctl\n",
    "\n",
    "def k_means_random(gpu_device):\n",
    "    print(\"KMeans init='random'\")\n",
    "    X = np.array([[1., 2.], [1., 4.], [1., 0.],\n",
    "                  [10., 2.], [10., 4.], [10., 0.]], dtype=np.float32)\n",
    "    \n",
    "    x_device = dpctl.tensor.from_numpy(X, usm_type = 'device', device = dpctl.SyclDevice(\"gpu\"))\n",
    "    kmeans = KMeans(n_clusters=2, random_state=0, init='random').fit(x_device)\n",
    "    #kmeans = KMeans(n_clusters=2).fit(x_device)\n",
    "\n",
    "    print(\"kmeans.labels_\")\n",
    "    print(kmeans.labels_)\n",
    "    print(\"kmeans.predict([[0, 0], [12, 3]])\")\n",
    "    print(kmeans.predict(np.array([[0, 0], [12, 3]], dtype=np.float32)))\n",
    "    print(\"kmeans.cluster_centers_\")\n",
    "    print(kmeans.cluster_centers_)\n",
    "\n",
    "\n",
    "def linear_regression(gpu_device):\n",
    "    print(\"LinearRegression\")\n",
    "    X = np.array([[1., 1.], [1., 2.], [2., 2.], [2., 3.]], dtype=np.float32)\n",
    "    # y = 1 * x_0 + 2 * x_1 + 3\n",
    "    y = np.dot(X, np.array([1, 2], dtype=np.float32)) + 3\n",
    "           \n",
    "    x_device = dpctl.tensor.from_numpy(X, usm_type = 'device', device = dpctl.SyclDevice(\"gpu\"))\n",
    "    y_device = dpctl.tensor.from_numpy(y, usm_type = 'device', device = dpctl.SyclDevice(\"gpu\"))\n",
    "\n",
    "    reg = LinearRegression().fit(x_device, y_device)\n",
    "    print(\"reg.score(X, y)\")\n",
    "    print(reg.score(X, y))\n",
    "    print(\"reg.coef_\")\n",
    "    print(reg.coef_)\n",
    "    print(\"reg.intercept_\")\n",
    "    print(reg.intercept_)\n",
    "    print(\"reg.predict(np.array([[3, 5]], dtype=np.float32))\")\n",
    "    print(reg.predict(np.array([[3, 5]], dtype=np.float32)))\n",
    "\n",
    "\n",
    "def logistic_regression_lbfgs(gpu_device):\n",
    "    print(\"LogisticRegression solver='lbfgs'\")\n",
    "    X, y = load_iris(return_X_y=True)\n",
    "          \n",
    "    x_device = dpctl.tensor.from_numpy(X, usm_type = 'device', device = dpctl.SyclDevice(\"gpu\"))\n",
    "    y_device = dpctl.tensor.from_numpy(y, usm_type = 'device', device = dpctl.SyclDevice(\"gpu\"))\n",
    "\n",
    "    clf = LogisticRegression(random_state=0, solver='lbfgs').fit(\n",
    "        x_device,\n",
    "        y_device)\n",
    "    print(\"clf.predict(X[:2, :])\")\n",
    "    print(clf.predict(X[:2, :]))\n",
    "    print(\"clf.predict_proba(X[:2, :])\")\n",
    "    print(clf.predict_proba(X[:2, :]))\n",
    "    print(\"clf.score(X, y)\")\n",
    "    print(clf.score(X, y))\n",
    "\n",
    "def dbscan(gpu_device):\n",
    "    print(\"DBSCAN\")\n",
    "    X = np.array([[1., 2.], [2., 2.], [2., 3.],\n",
    "                  [8., 7.], [8., 8.], [25., 80.]], dtype=np.float32)\n",
    "    \n",
    "    x_device = dpctl.tensor.from_numpy(X, usm_type = 'device', device = dpctl.SyclDevice(\"gpu\"))    \n",
    "    clustering = DBSCAN(eps=3, min_samples=2).fit(x_device)\n",
    "    print(\"clustering.labels_\")\n",
    "    print(clustering.labels_)\n",
    "    print(\"clustering\")\n",
    "    print(clustering)\n",
    "\n",
    "if __name__ == \"__main__\":\n",
    "    examples = [\n",
    "        k_means_random, \n",
    "        dbscan,\n",
    "        linear_regression,\n",
    "        logistic_regression_lbfgs,\n",
    "    ]\n",
    "\n",
    "    for d in dpctl.get_devices():\n",
    "        gpu_available = False\n",
    "        for d in dpctl.get_devices():\n",
    "            if d.is_gpu:\n",
    "                gpu_device = dpctl.select_gpu_device()\n",
    "                gpu_available = True\n",
    "            else:\n",
    "                cpu_device = dpctl.select_cpu_device() \n",
    "    if gpu_available:\n",
    "        print(\"GPU targeted: \", gpu_device)\n",
    "    else:\n",
    "        print(\"CPU targeted: \", cpu_device)\n",
    "        \n",
    "    device = gpu_device\n",
    "    for e in examples:\n",
    "        print(\"*\" * 80)\n",
    "        try:\n",
    "            e(device)\n",
    "        except:\n",
    "            print(e, \" Failed\")\n",
    "        print(\"*\" * 80)\n",
    "\n",
    "    print('All looks good!')"
   ]
  },
  {
   "cell_type": "markdown",
   "metadata": {},
   "source": [
    "#### Build and Run\n",
    "Select the cell below and click run ▶ to compile and execute the code:"
   ]
  },
  {
   "cell_type": "code",
   "execution_count": null,
   "metadata": {
    "ExecuteTime": {
     "end_time": "2021-11-03T01:44:24.883651Z",
     "start_time": "2021-11-03T01:44:15.180Z"
    },
    "tags": []
   },
   "outputs": [],
   "source": [
    "! chmod 755 q; chmod 755 run_sklearn_several_on_GPU.sh; if [ -x \"$(command -v qsub)\" ]; then ./q run_sklearn_several_on_GPU.sh; else ./run_sklearn_several_on_GPU.sh; fi"
   ]
  },
  {
   "cell_type": "markdown",
   "metadata": {},
   "source": [
    "# Summary\n",
    "In this module you will have learned the following:\n",
    "* How to target algorithms optimized by Intel Extensions for Scikit-learn* to run on Intel GPU using \"Compute Follows Data\""
   ]
  },
  {
   "cell_type": "markdown",
   "metadata": {},
   "source": [
    "# Notices & Disclaimers \n",
    "\n",
    "Intel technologies may require enabled hardware, software or service activation.\n",
    "No product or component can be absolutely secure.\n",
    "\n",
    "Your costs and results may vary.\n",
    "\n",
    "© Intel Corporation. Intel, the Intel logo, and other Intel marks are trademarks of Intel Corporation or its subsidiaries. \n",
    "*Other names and brands may be claimed as the property of others.\n",
    "\n"
   ]
  },
  {
   "cell_type": "code",
   "execution_count": null,
   "metadata": {},
   "outputs": [],
   "source": []
  }
 ],
 "metadata": {
  "kernelspec": {
   "display_name": "Python 3.8 (Intel® oneAPI)",
   "language": "python",
   "name": "c009-intel_distribution_of_python_3_oneapi-beta05-python"
  },
  "language_info": {
   "codemirror_mode": {
    "name": "ipython",
    "version": 3
   },
   "file_extension": ".py",
   "mimetype": "text/x-python",
   "name": "python",
   "nbconvert_exporter": "python",
   "pygments_lexer": "ipython3",
   "version": "3.9.10"
  },
  "nbTranslate": {
   "displayLangs": [
    "*"
   ],
   "hotkey": "alt-t",
   "langInMainMenu": true,
   "sourceLang": "en",
   "targetLang": "fr",
   "useGoogleTranslate": true
  },
  "toc": {
   "base_numbering": 1,
   "nav_menu": {},
   "number_sections": true,
   "sideBar": true,
   "skip_h1_title": false,
   "title_cell": "Table of Contents",
   "title_sidebar": "Contents",
   "toc_cell": false,
   "toc_position": {
    "height": "525.6px",
    "left": "28px",
    "top": "137.8px",
    "width": "301.109px"
   },
   "toc_section_display": true,
   "toc_window_display": true
  },
  "widgets": {
   "application/vnd.jupyter.widget-state+json": {
    "state": {},
    "version_major": 2,
    "version_minor": 0
   }
  }
 },
 "nbformat": 4,
 "nbformat_minor": 4
}
