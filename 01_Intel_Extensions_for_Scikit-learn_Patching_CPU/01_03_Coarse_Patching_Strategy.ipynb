{
 "cells": [
  {
   "cell_type": "markdown",
   "id": "aa88ccd5-22db-471f-ace0-d302bf8a476c",
   "metadata": {},
   "source": [
    "# Module 01_03: Patching Strategy/ Command Line Patching: \n",
    "\n",
    "![Assets/SVC_results.png](Assets/SVC_results.png)\n",
    "### Use nbconvert  patch_sklearn from command line"
   ]
  },
  {
   "cell_type": "markdown",
   "id": "758b2cdb-e2c0-4613-bb03-f01e2fe41031",
   "metadata": {},
   "source": [
    "# Learning Objectives:\n",
    "\n",
    "- Describe how to import and apply patch_sklearn()\n",
    "- Describe how to import and apply unpatch_sklearn()\n",
    "- Describe method & apply the patch to an entire python program\n",
    "- Describe how to surgically unpatch specific optimized functions if needed\n",
    "- Describe a patching strategy that ensures that the Intel Extensions for scikit-learn runs as fast or faster than the stock algorithms it replaces\n",
    "- Apply patch methodology to speed up KNN on CovType dataset\n",
    "\n",
    "# Steps\n",
    "\n",
    "You will convert a Jupyter Notebook to a python file using \"Jupyter nbconvert\" and then apply the patch via the command line. Then you will run the patched python script to ensure that the patch has been applied.\n",
    "\n",
    "* On your DevCloud instance:\n",
    "1) click the blue + in the upper left of browser (the launcher) \n",
    "\n",
    "![Assets/NewLauncher.jpg](Assets/NewLauncher.jpg)\n",
    "\n",
    "2) Scroll down in the launcher and Launch a Terminal\n",
    "\n",
    "\n",
    "![Assets/LaunchTerminal.jpg](Assets/LaunchTerminal.jpg)\n",
    "\n",
    "\n",
    "- In the terminal:\n",
    "1) source the **2022.3.1** setvars.sh\n",
    "1) - **source /glob/development-tools/versions/oneapi/2022.3.1/oneapi/setvars.sh --force**\n",
    "1) Change directories to our current folder as follows:\n",
    "1) - **cd \"01_Intel_Extensions_for_Scikit-learn_Patching_CPU/\"**\n",
    "1) Convert Jupyter Notebook to a python script using Jupyter nbconvert script as follows:\n",
    "1) - **jupyter nbconvert --to script SampleSVM_Notebook.ipynb**\n",
    "1) Run a patched version of the python code as follows:\n",
    "1)  - **python -m sklearnex SampleSVM_Notebook.py** \n",
    "1) Run the Unpatched version\n",
    "1)  - **python  SampleSVM_Notebook.py**\n",
    "1)  - the first run (**patched globally**) should take about **11 seconds**\n",
    "1)  - the second run(**unpatched**) takes **1 to 2 minutes**\n",
    "1) Edit the SampleSVM_Notebook.py and **surgically unpatch SVC explicitly** to force unpatching of this function\n",
    "1)  - **python -m sklearnex SampleSVM_Notebook.py** \n",
    "1)  - Observe the time, did surgical unpatching override the global patching attempt?\n",
    "1) Compare the times of execution of the all runs\n",
    "1) compare the accuracy metrics of all runs\n",
    "\n",
    "- Was there a significant difference in time or accuracy?\n",
    "\n",
    "The above should run the python script and apply the sklearnex patch to the entire python file prior to executing the file\n"
   ]
  },
  {
   "cell_type": "markdown",
   "id": "c86d8fab-d6c8-4fef-b2f5-e53fdc086ddd",
   "metadata": {},
   "source": [
    "# Compare the times and accuracies of these two runs. \n",
    "\n",
    "Is the time versus accuracy trade off worth the effort to patch this function?\n",
    "\n",
    "Reminder of how to find the list of functions available to patch\n",
    "\n",
    "## List the underlying patched functions to its containg library\n"
   ]
  },
  {
   "cell_type": "code",
   "execution_count": null,
   "id": "356d72c3-6384-4498-8ad0-5594231d6360",
   "metadata": {},
   "outputs": [],
   "source": [
    "# return list of optimzed functions\n",
    "from sklearnex import get_patch_names\n",
    "get_patch_names()"
   ]
  },
  {
   "cell_type": "markdown",
   "id": "14b407bd-a44e-4a77-a274-dcec7bf54343",
   "metadata": {},
   "source": [
    "## Use get_patch_map for more information\n",
    "\n",
    "Below is how to get more information on which specific names to patch for surgical control. \n",
    "\n",
    "**Excercise:** Search for pairwise_distance and see if you can find the abreviation to use to surgically patch this algorithm."
   ]
  },
  {
   "cell_type": "code",
   "execution_count": null,
   "id": "838db418-b8b8-4225-ae40-1491da0d1340",
   "metadata": {},
   "outputs": [],
   "source": [
    "from sklearnex import get_patch_names, get_patch_map\n",
    "get_patch_map()"
   ]
  },
  {
   "cell_type": "markdown",
   "id": "1e4d68bd-e5e7-40c5-9b6c-1405369057c5",
   "metadata": {},
   "source": [
    "# Summary:\n",
    "\n",
    "You have:\n",
    "\n",
    "1) applied patching globally, by region in a cell, and surgically.\n",
    "2) you have turned patching off\n",
    "3) you are equpped to use any combination of patching strategy to control the maptching behavior of a given fucntion\n",
    "4) Quiz?\n",
    "5) - In lecture we learned that the sklearnex pairwise_distance only accepts metrics 'cosine' and 'correlation'. Assume you were dong pairwise_distance as follows:\n",
    "5) - pairwise(distance(X, y)\n",
    "6) - what is the default metric used?\n",
    "7) - if you REQUIRED Euclidean distance, suggest a patching stratgey avoid having to change the call to pairwise distance but also get benefit of pathcing globally for all the rest of the notebook\n",
    "    "
   ]
  },
  {
   "cell_type": "code",
   "execution_count": null,
   "id": "039b161d-f01c-45f2-8b23-14015a001371",
   "metadata": {},
   "outputs": [],
   "source": [
    "print(\"All Done\")"
   ]
  },
  {
   "cell_type": "markdown",
   "id": "e8582307-b7cb-4e39-b0b9-0436f44e24c9",
   "metadata": {},
   "source": [
    "# Notices & Disclaimers \n",
    "\n",
    "Intel technologies may require enabled hardware, software or service activation.\n",
    "No product or component can be absolutely secure.\n",
    "\n",
    "Your costs and results may vary.\n",
    "\n",
    "© Intel Corporation. Intel, the Intel logo, and other Intel marks are trademarks of Intel Corporation or its subsidiaries. \n",
    "*Other names and brands may be claimed as the property of others."
   ]
  },
  {
   "cell_type": "code",
   "execution_count": null,
   "id": "166037b4-da26-4261-bab5-b7b1960b2b9d",
   "metadata": {},
   "outputs": [],
   "source": []
  }
 ],
 "metadata": {
  "kernelspec": {
   "display_name": "Python 3 (Intel® oneAPI 2023.1)",
   "language": "python",
   "name": "c009-intel_distribution_of_python_3_oneapi-beta05-python"
  },
  "language_info": {
   "codemirror_mode": {
    "name": "ipython",
    "version": 3
   },
   "file_extension": ".py",
   "mimetype": "text/x-python",
   "name": "python",
   "nbconvert_exporter": "python",
   "pygments_lexer": "ipython3",
   "version": "3.9.16"
  }
 },
 "nbformat": 4,
 "nbformat_minor": 5
}
