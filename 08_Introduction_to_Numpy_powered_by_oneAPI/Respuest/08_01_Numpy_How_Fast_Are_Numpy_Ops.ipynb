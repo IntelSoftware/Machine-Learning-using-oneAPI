{
 "cells": [
  {
   "cell_type": "markdown",
   "metadata": {
    "tags": []
   },
   "source": [
    "# Introduction to Numpy powered by oneAPI\n",
    "\n",
    "### Learning Objectives: \n",
    "\n",
    "- Describe why replacing inefficient code, such as time-consuming loops, wastes resources, and time\n",
    "- Describe why using Python for highly repetitive small tasks is inefficient\n",
    "- Describe the additive value of leveraging packages such as NumPy which are powered by oneAPI in a cloud world \n",
    "- Describe the importance of keeping oneAPI and 3rd party package such as NumPy, SciPy and others is important\n",
    "- Enumerate ways in which NumPy accelerates code\n",
    "- Apply loop replacement methodologies in a variety of scenarios\n",
    "\n"
   ]
  },
  {
   "cell_type": "markdown",
   "metadata": {
    "tags": []
   },
   "source": [
    "## To run the lab: These step could be run on a laptop - NOT REQUIRED for DevCloud!\n",
    "Laptop Requirements:\n",
    " - conda config --add channels intel\n",
    " - conda install numpy\n",
    " - conda install scipy\n",
    " - conda install update pandas\n",
    " \n",
    "#### Here is a list of topics we will explore in this module:\n",
    "- The \"WHY\", Why use NumPy as replacement “for loops”?: Its FAST!\n",
    "- NumPy Universal Functions or ufuncs\n",
    "- NumPy Broadcasting \n",
    "- NumPy Aggregations\n",
    "- NumPy Where\n",
    "- NumPy Select\n",
    "- A quick reference to SciPy algorithms to set the stage for the next module \n",
    "\n",
    "\n",
    "### Replacing Inefficient code\n",
    "![SLowWadeWater.PNG](Assets/SlowWadeWater.png)\n",
    "\n",
    "Code that written inefficiently:\n",
    "- Be less readable (less pythonic)\n",
    "- Can consume more time\n",
    "- Waste energy \n",
    "- Waste purchased or leased resources\n",
    "\n",
    "\n",
    "This module will focus on trying to simultaneously make code readable as well as more efficient as measured by how well we accelerate code examples. While the code example themselves are small examples, the techniques described are application in a wide variety of scenarios in AI.\n",
    "\n",
    "### Python loops are bad for performance\n",
    "**Python is great!** Its a great language for AI. There are many, many advantages in using Python especially for data science.\n",
    "- Easy to program (don’t worry about data types and fussy syntax at least relative to C/C++ and other languages\n",
    "- FAST for developing code!\n",
    "- Leverages huge array of libraries to conquer any domain\n",
    "- Lots of quick answers to common issues in Stack Exchange\n",
    "\n",
    "\n",
    "#### Python, however, is slow for Massively repeating small tasks - such as found in loops! **Python loops are SLOW**\n",
    "\n",
    "- Compared to C, C++, Fortran and other typed languages\n",
    "- Python is forced to look up every occurrence and type of variable in a loop to determine what operations it can perform on that data type\n",
    "- It cannot usually take advantage of advances in hardware in terms of vector width increases, multiple cores, new instructions from a new HW instruction set, new AI accelerators, effective cache memory layout, and more\n",
    "\n",
    "\n",
    "#### BUT: Python has library remedies to these ills!\n",
    "- Importing key libraries shift the burden of computation to highly efficient code\n",
    "- NumPy, for example, through its focus on elementwise efficient operations, gives indirect access to the efficiencies afforded in \"C\" \n",
    "- libraries included in oneAPI and NumPy, SciPy, Scikit-learn all powered by oneAPI give access to modern advancements in hardware level: access to better cache and memory usage, access to low level vector instructions, and more.\n",
    "- By leveraging packages such as these powered by oneAPI AND keeping libraries up to date, more capability is added to your underlying frameworks so that moving code, especially in a cloud world, can give you ready access to hardware acceleration, in many cases, without having to modify code this vectorized code\n",
    "- Routines are written in C (based on Cython framework)\n",
    "- NumPy arrays are densely packed arrays of homogeneous type. Python lists, by contrast, are arrays of pointers to objects, even when all of them are of the same type. So, you get the benefits of not having to check data types, and you also get locality of reference. Also, many NumPy operations are implemented in C, avoiding the general cost of loops in Python, pointer indirection and per-element dynamic type checking. The speed boost depends on which operations you’re performing. \n",
    "\n",
    "            \n",
    "**Goal of this module: Search and destroy (replace) loops**\n",
    "\n",
    "Avoid loops if you can - find an alternative if possible. Sometimes it cannot be done - true data dependencies may limit our options. But many, many time there are alternatives.\n",
    "\n",
    "\n",
    "**The problem** \n",
    "- Loops isolate your code from hardware and software advances that update frequently.\n",
    "- They prevent you from effectively using key underlying resources - it is a waste.\n",
    "- They consume your time!\n",
    "\n",
    "\n",
    "### Reference:\n",
    "\n",
    "- [Video:  **Losing your Loops Fast Numerical Computing with NumPy** by Jake VanderPlas ](https://www.youtube.com/watch?v=EEUXKG97YRw). \n",
    "\n",
    "- [Book:  **Python Data Science Handbook** by Jake VanderPlas](https://jakevdp.github.io/PythonDataScienceHandbook/). \n",
    "\n",
    "- [Book:  **Elegant SciPy: The Art of Scientific Python** by by Juan Nunez-Iglesias, Stéfan van der Walt, Harriet Dashnow](https://www.amazon.com/Elegant-SciPy-Art-Scientific-Python/dp/1491922877)\n",
    "\n",
    "- [Article:  **The Ultimate NumPy Tutorial for Data Science Beginners**](https://www.analyticsvidhya.com/blog/2020/04/the-ultimate-numpy-tutorial-for-data-science-beginners/) :   by Aniruddha April 28, 2020 at www.analyticsvidhya.com\n",
    "\n",
    "- [Academic Lecture pdf: **Vectorization** by  Aaron Birkland Cornell CAC](http://www.cac.cornell.edu/education/training/StampedeJune2013/Vectorization-2013_06_18.pdf)\n",
    "\n",
    "# Exercises:\n",
    "\n",
    "Do a page search for each **Exercise** in this notebook. Complete all  exercises. Code in cells above each exercise may give insight into a solid approach"
   ]
  },
  {
   "cell_type": "code",
   "execution_count": null,
   "metadata": {},
   "outputs": [],
   "source": []
  },
  {
   "cell_type": "markdown",
   "metadata": {},
   "source": [
    "## Why use Numpy as replacement for loops?\n",
    "\n",
    "## Its FAST!\n",
    "\n",
    "In this section we will explore a smattering a different NumPy approaches that lead to accelerations over naive loops\n",
    "\n",
    "The bigger (more iterations) of a loop the better NumPy gets and the bigger (more dimensions of data) the better NumPy gets generally.\n",
    "\n",
    "Ultimately, we are hunting to \"BIG LOOPS\". What is a BIG LOOP? One that consumes a lot of time! Sometimes, even a loop with somewhat smaller iteration can be time consuming because each iteration takes long by itself. Well call these BIG LOOP too.\n",
    "\n",
    "\n",
    "#### Compare different ways of computing Log10 of a larger vector\n",
    "\n",
    "In this next section, we will create a list of 1-million random floating-point numbers. Then we will use for loop to iterate over its elements, take Log10 and store the value in another list. We'll compare the execution speed with that of a direct NumPy Log10 operation.\n",
    "\n",
    "For this log10 problem, we will compare:\n",
    "\n",
    "- Naive loop\n",
    "- Map function\n",
    "- List Comprehension\n",
    "- NumPy\n",
    "\n",
    "## Prerequisites: (Already included on Intel DevCloud)\n",
    "\n",
    " - conda config --add channels intel\n",
    " - conda install numpy\n",
    " - conda install scipy\n",
    " - conda install update pandas\n",
    " \n",
    "#### Import updated libraries"
   ]
  },
  {
   "cell_type": "code",
   "execution_count": null,
   "metadata": {
    "ExecuteTime": {
     "end_time": "2022-08-08T21:06:57.173636Z",
     "start_time": "2022-08-08T21:06:57.148702Z"
    }
   },
   "outputs": [],
   "source": [
    "\n",
    "import numpy as np\n",
    "from math import log10 as lg10\n",
    "import time\n",
    "import matplotlib.pyplot as plt\n",
    "import random\n",
    "%matplotlib inline\n",
    "\n",
    "np.__version__"
   ]
  },
  {
   "cell_type": "markdown",
   "metadata": {},
   "source": [
    "## Show Numpy configs\n",
    "\n",
    "Look to ensure Intel MKL or oneAPI is part of your configuration using show_config"
   ]
  },
  {
   "cell_type": "code",
   "execution_count": null,
   "metadata": {
    "ExecuteTime": {
     "end_time": "2022-08-08T23:22:53.508125Z",
     "start_time": "2022-08-08T23:22:53.495165Z"
    }
   },
   "outputs": [],
   "source": [
    "import numpy as np\n",
    "np.show_config() "
   ]
  },
  {
   "cell_type": "markdown",
   "metadata": {},
   "source": [
    "#### Create a list of 1 million numbers"
   ]
  },
  {
   "cell_type": "code",
   "execution_count": null,
   "metadata": {
    "ExecuteTime": {
     "end_time": "2022-08-08T21:07:21.150865Z",
     "start_time": "2022-08-08T21:06:57.183651Z"
    }
   },
   "outputs": [],
   "source": [
    "N = 100_000_000 # Number of records to process\n",
    "L = list(100*(np.random.random(N))+1)"
   ]
  },
  {
   "cell_type": "markdown",
   "metadata": {},
   "source": [
    "#### Create a NumPy ndarray object from that list\n",
    "\n",
    "This is the first step towards vectorization"
   ]
  },
  {
   "cell_type": "code",
   "execution_count": null,
   "metadata": {
    "ExecuteTime": {
     "end_time": "2022-08-08T21:07:46.288651Z",
     "start_time": "2022-08-08T21:07:21.159841Z"
    }
   },
   "outputs": [],
   "source": [
    "a1 = np.array(L)"
   ]
  },
  {
   "cell_type": "markdown",
   "metadata": {},
   "source": [
    "#### Create an empty NumPy ndarray object "
   ]
  },
  {
   "cell_type": "code",
   "execution_count": null,
   "metadata": {},
   "outputs": [],
   "source": [
    "np.empty([N, 2])\n",
    "\n",
    "# or\n",
    "\n",
    "np.ndarray(shape=(N,2), dtype=float)"
   ]
  },
  {
   "cell_type": "markdown",
   "metadata": {},
   "source": [
    "#### Create zero filled NumPy ndarray object "
   ]
  },
  {
   "cell_type": "code",
   "execution_count": null,
   "metadata": {},
   "outputs": [],
   "source": [
    "np.zeros([N, 2])"
   ]
  },
  {
   "cell_type": "markdown",
   "metadata": {},
   "source": [
    "#### Create NumPy ndarray object filled with ones"
   ]
  },
  {
   "cell_type": "code",
   "execution_count": null,
   "metadata": {},
   "outputs": [],
   "source": [
    "np.ones([N, 2])"
   ]
  },
  {
   "cell_type": "markdown",
   "metadata": {},
   "source": [
    "#### Create Identity Matrix of given size"
   ]
  },
  {
   "cell_type": "code",
   "execution_count": null,
   "metadata": {},
   "outputs": [],
   "source": [
    "np.eye(100)"
   ]
  },
  {
   "cell_type": "markdown",
   "metadata": {},
   "source": [
    "# Appending using NumPy\n",
    "\n",
    "Appending is easy in NumPy\n",
    "\n",
    "Simply use np.append() as in the below example:\n",
    "\n",
    "```python\n",
    "np.append(a, [7,8,9]) \n",
    "```\n",
    "\n",
    "### Caveat: Append With NumPy.\n",
    "\n",
    "Appending process does not occur in the same array. Rather a new array is created and filled.\n",
    "\n",
    "### With Python.\n",
    "\n",
    "Things are very different. The list filling process stays within the list itself, and no new lists are generated.\n",
    "\n",
    "### One Solution: Change your mindset!\n",
    "\n",
    "The goal is not to find a replacement for **append()**!\n",
    "\n",
    "The goal is to find a replacement for the **loop**\n",
    "\n",
    "Replace loop with linspace and ufuncs...??? It will depend on your specific loop\n",
    "\n",
    "##### Get rid of loop at all costs"
   ]
  },
  {
   "cell_type": "code",
   "execution_count": null,
   "metadata": {
    "ExecuteTime": {
     "end_time": "2022-08-08T21:59:43.995711Z",
     "start_time": "2022-08-08T21:59:43.923897Z"
    }
   },
   "outputs": [],
   "source": [
    "a = []\n",
    "t1=time.time()\n",
    "timing = {}\n",
    "for i in range(10_000):\n",
    "    a.append(np.sin(i))\n",
    "t2 = time.time()\n",
    "print(\"With for loop and appending it took {} seconds\".format(t2-t1))\n",
    "timing['loop'] = (t2-t1)\n",
    "a[:5]"
   ]
  },
  {
   "cell_type": "code",
   "execution_count": null,
   "metadata": {
    "ExecuteTime": {
     "end_time": "2022-08-08T21:59:53.969720Z",
     "start_time": "2022-08-08T21:59:53.500964Z"
    }
   },
   "outputs": [],
   "source": [
    "a = np.array([])\n",
    "t1=time.time()\n",
    "for i in range(10_000):\n",
    "    a = np.append(a, np.sin(i))\n",
    "t2 = time.time()\n",
    "print(\"With for loop and appending it took {} seconds\".format(t2-t1))\n",
    "timing['numpy'] = (t2-t1)\n",
    "a[:5]"
   ]
  },
  {
   "cell_type": "markdown",
   "metadata": {},
   "source": [
    "# Below we replaced the entire loop from above\n",
    "\n",
    "We avoided simple replacement of per row np.append()"
   ]
  },
  {
   "cell_type": "code",
   "execution_count": null,
   "metadata": {
    "ExecuteTime": {
     "end_time": "2022-08-08T22:02:24.538584Z",
     "start_time": "2022-08-08T22:02:23.882337Z"
    }
   },
   "outputs": [],
   "source": [
    "a = np.linspace(0, 10_000_000, num=10_000_000 + 1)\n",
    "t1=time.time()\n",
    "a = np.sin(a)\n",
    "t2 = time.time()\n",
    "print(\"With linspace and ufunc it took {} seconds for WAY MORE values!\".format(t2-t1))\n",
    "timing['numpy'] = (t2-t1)\n",
    "a[:5]"
   ]
  },
  {
   "cell_type": "markdown",
   "metadata": {},
   "source": [
    "# Time a *Naive* For loop computing Log\n",
    "\n",
    "This one has a somewhat expensive **log10 function** that is being called on each element\n",
    "\n",
    "We append the results to the list"
   ]
  },
  {
   "cell_type": "code",
   "execution_count": null,
   "metadata": {
    "ExecuteTime": {
     "end_time": "2022-08-08T21:09:19.773733Z",
     "start_time": "2022-08-08T21:07:46.297634Z"
    }
   },
   "outputs": [],
   "source": [
    "# Create a blank list for appending elements\n",
    "\n",
    "timing = {} # Just a blank dictionary to append to\n",
    "\n",
    "t1=time.time()\n",
    "l2 = []\n",
    "for item in L:\n",
    "    l2.append(lg10(item))\n",
    "t2 = time.time()\n",
    "print(\"With for loop and appending it took {} seconds\".format(t2-t1))\n",
    "timing['loop'] = (t2-t1)\n",
    "print(\"First few elements of the resulting array:\", l2[:4])"
   ]
  },
  {
   "cell_type": "markdown",
   "metadata": {},
   "source": [
    "# Time the *Map* function\n",
    "\n",
    "One Python alternative to looping is the **map function** that applies a function to each element in a list"
   ]
  },
  {
   "cell_type": "code",
   "execution_count": null,
   "metadata": {
    "ExecuteTime": {
     "end_time": "2022-08-08T21:10:32.118342Z",
     "start_time": "2022-08-08T21:09:19.781708Z"
    }
   },
   "outputs": [],
   "source": [
    "def op1(x):\n",
    "    return (lg10(x))\n",
    "\n",
    "t1=time.time()\n",
    "\n",
    "l2=list(map(op1,L))\n",
    "\n",
    "t2 = time.time()\n",
    "print(\"With list(map) functional method it took {} seconds\".format(t2-t1))\n",
    "timing['map'] = (t2-t1)\n",
    "print(\"First few elements of the resulting array:\", l2[:4])"
   ]
  },
  {
   "cell_type": "markdown",
   "metadata": {},
   "source": [
    "# Time a *List comprehension*\n",
    "\n",
    "One very popular Python alternative to use a list comprehension instead of the loop"
   ]
  },
  {
   "cell_type": "code",
   "execution_count": null,
   "metadata": {
    "ExecuteTime": {
     "end_time": "2022-08-08T21:11:30.751521Z",
     "start_time": "2022-08-08T21:10:32.122284Z"
    }
   },
   "outputs": [],
   "source": [
    "t1=time.time()\n",
    "l2 = [lg10(i+1) for i in range(len(L))]\n",
    "t2 = time.time()\n",
    "print(\"With list comprehension, it took {} seconds\".format(t2-t1))\n",
    "timing['list comprehension'] = (t2-t1)\n",
    "print(\"First few elements of the resulting array:\", l2[:4])"
   ]
  },
  {
   "cell_type": "markdown",
   "metadata": {},
   "source": [
    "# Time *NumPy operation* (vectorized array)\n",
    "\n",
    "- Exercise: replace ReplaceThisBrokenCode with:\n",
    "```python\n",
    "a2=np.log10(a1)\n",
    "```"
   ]
  },
  {
   "cell_type": "code",
   "execution_count": null,
   "metadata": {
    "ExecuteTime": {
     "end_time": "2022-08-08T21:11:51.031297Z",
     "start_time": "2022-08-08T21:11:33.891130Z"
    }
   },
   "outputs": [],
   "source": [
    "t1=time.time()\n",
    "# Notice that we assume we already converted the list to numpy \n",
    "# otherwise we should include that time as well\n",
    "####### Insert corrected code below\n",
    "\n",
    "a2=np.log10(a1)\n",
    "\n",
    "##################################\n",
    "\n",
    "t2 = time.time()\n",
    "print(\"With direct NumPy log10 method it took {} seconds\".format(t2-t1))\n",
    "timing['numpy'] = (t2-t1)\n",
    "\n",
    "print(\"First few elements of the resulting array:\", a2[:4])"
   ]
  },
  {
   "cell_type": "markdown",
   "metadata": {},
   "source": [
    "### Plot the time taken by each operation"
   ]
  },
  {
   "cell_type": "code",
   "execution_count": null,
   "metadata": {
    "ExecuteTime": {
     "end_time": "2022-08-08T21:11:54.847104Z",
     "start_time": "2022-08-08T21:11:51.036287Z"
    }
   },
   "outputs": [],
   "source": [
    "%matplotlib inline\n",
    "import matplotlib.pyplot as plt\n",
    "plt.figure(figsize=(10,6))\n",
    "plt.title(\"Plot of various method of computing Log10, for {:,} elements\".format(a1.shape[0]))\n",
    "plt.ylabel(\"Time in seconds\",fontsize=12)\n",
    "plt.xlabel(\"Various types of operations\",fontsize=14)\n",
    "plt.xticks(rotation=-60)\n",
    "plt.grid(True)\n",
    "plt.bar(x = range(len(timing)), height=list(timing.values()), align='center', tick_label=list(timing.keys()))\n",
    "print('Acceleration : {:4.0f} X'.format(timing['loop']/timing['numpy']))"
   ]
  },
  {
   "cell_type": "markdown",
   "metadata": {},
   "source": [
    "We see the evidence that NumPy operations over ndarray objects are much faster than regular Python math operations. The exact speed of regular Python operations vary a little but they are almost always much slower compared to the vectorized NumPy operation. This is primarily due to memory layout and having to interpret datatypes in every iteration"
   ]
  },
  {
   "cell_type": "markdown",
   "metadata": {},
   "source": [
    "# Shift a vector - Time Series Prediction Task\n",
    "\n",
    "In AI, we often need to shift data. For example, in time series prediction we typically want to predict a later value in a time sequence, given earlier available feature data. We often select a target variable that is time shifted to predict later labels in time.\n",
    "\n",
    "Suppose we want to take a vector, a column of numbers, and shift them by a constant. Append the last element of the list to be zero.\n",
    "\n",
    "Naive approach with for loop **b[i] = a[i+1]**"
   ]
  },
  {
   "cell_type": "code",
   "execution_count": null,
   "metadata": {
    "ExecuteTime": {
     "end_time": "2022-08-08T22:14:07.322024Z",
     "start_time": "2022-08-08T22:11:59.675173Z"
    }
   },
   "outputs": [],
   "source": [
    "# try naive loop\n",
    "num = 100_000_001\n",
    "a = np.linspace(0, num - 1, num=num)\n",
    "b = np.ndarray(num-1)\n",
    "\n",
    "timing = {}\n",
    "\n",
    "t1=time.time()\n",
    "\n",
    "for i in range(len(a)-1):\n",
    "    b[i] = a[i+1]\n",
    "\n",
    "t2=time.time()\n",
    "print(\"shift b w loop {} secs\".format(t2-t1))\n",
    "timing['loop'] = (t2-t1)\n",
    "b[:2], b[-2:]"
   ]
  },
  {
   "cell_type": "markdown",
   "metadata": {},
   "source": [
    "List comprehensions are generally faster than explicit \"for loops\""
   ]
  },
  {
   "cell_type": "code",
   "execution_count": null,
   "metadata": {
    "ExecuteTime": {
     "end_time": "2022-08-08T22:15:18.319166Z",
     "start_time": "2022-08-08T22:14:07.327976Z"
    }
   },
   "outputs": [],
   "source": [
    "# try list comprehension \n",
    "t1=time.time()\n",
    "\n",
    "b = [a[i+1] for i in range(len(a)-1)] # shift b by 1\n",
    "\n",
    "t2=time.time()\n",
    "print(\"shift b {} secs\".format(t2-t1))\n",
    "timing['list comprehension'] = (t2-t1)\n",
    "b[:2], b[-2:]"
   ]
  },
  {
   "cell_type": "markdown",
   "metadata": {},
   "source": [
    "Use Numpy ufuncs such as roll and delete\n",
    "\n",
    "```python\n",
    "b = np.delete( np.roll(a,-1) , -1)\n",
    "```"
   ]
  },
  {
   "cell_type": "code",
   "execution_count": null,
   "metadata": {
    "ExecuteTime": {
     "end_time": "2022-08-08T22:15:39.368880Z",
     "start_time": "2022-08-08T22:15:18.324151Z"
    }
   },
   "outputs": [],
   "source": [
    "# try ufunc np.roll\n",
    "t1=time.time()\n",
    "\n",
    "b = np.delete( np.roll(a,-1) , -1)  # numpy roll and delete last value\n",
    "\n",
    "t2=time.time()\n",
    "print(\"shift b {} secs\".format(t2-t1))\n",
    "timing['RollDelete'] = (t2-t1)\n",
    "b[:2], b[-2:]"
   ]
  },
  {
   "cell_type": "markdown",
   "metadata": {},
   "source": [
    "Use fancy slicing\n",
    "\n",
    "- Exercise: replace ReplaceThisBrokenCode with:\n",
    "```python\n",
    "b = a[1:]\n",
    "```"
   ]
  },
  {
   "cell_type": "code",
   "execution_count": null,
   "metadata": {
    "ExecuteTime": {
     "end_time": "2022-08-08T22:15:39.393844Z",
     "start_time": "2022-08-08T22:15:39.373865Z"
    }
   },
   "outputs": [],
   "source": [
    "# try fancy slicing\n",
    "t1=time.time()\n",
    "####### Insert corrected code below\n",
    "\n",
    "b = a[1:]\n",
    "\n",
    "##################################\n",
    "\n",
    "t2=time.time()\n",
    "print(\"shift b {} secs\".format(t2-t1))\n",
    "timing['slicing'] = (t2-t1)\n",
    "b[:2], b[-2:]"
   ]
  },
  {
   "cell_type": "markdown",
   "metadata": {},
   "source": [
    "Plot the results"
   ]
  },
  {
   "cell_type": "code",
   "execution_count": null,
   "metadata": {
    "ExecuteTime": {
     "end_time": "2022-08-08T22:18:11.140757Z",
     "start_time": "2022-08-08T22:18:10.622110Z"
    }
   },
   "outputs": [],
   "source": [
    "plt.figure(figsize=(10,6))\n",
    "plt.title(\"Time taken to process {:,} records in seconds\".format(num),fontsize=12)\n",
    "plt.ylabel(\"Time in seconds\",fontsize=12)\n",
    "plt.yscale('log')\n",
    "plt.xlabel(\"Various types of operations\",fontsize=14)\n",
    "plt.grid(True)\n",
    "plt.xticks(rotation=-60)\n",
    "plt.bar(x = list(timing.keys()), height= list(timing.values()), align='center',tick_label=list(timing.keys()))\n",
    "print('Acceleration : {:4.0g} X'.format(timing['loop']/(timing['slicing'])))"
   ]
  },
  {
   "cell_type": "code",
   "execution_count": null,
   "metadata": {},
   "outputs": [],
   "source": [
    "print(\"Done!\")"
   ]
  }
 ],
 "metadata": {
  "anaconda-cloud": {},
  "kernelspec": {
   "display_name": "Python 3 (Intel® oneAPI 2023.1)",
   "language": "python",
   "name": "c009-intel_distribution_of_python_3_oneapi-beta05-python"
  },
  "language_info": {
   "codemirror_mode": {
    "name": "ipython",
    "version": 3
   },
   "file_extension": ".py",
   "mimetype": "text/x-python",
   "name": "python",
   "nbconvert_exporter": "python",
   "pygments_lexer": "ipython3",
   "version": "3.9.16"
  },
  "nbTranslate": {
   "displayLangs": [
    "*"
   ],
   "hotkey": "alt-t",
   "langInMainMenu": true,
   "sourceLang": "en",
   "targetLang": "fr",
   "useGoogleTranslate": true
  },
  "toc": {
   "base_numbering": 1,
   "nav_menu": {},
   "number_sections": true,
   "sideBar": true,
   "skip_h1_title": false,
   "title_cell": "Table of Contents",
   "title_sidebar": "Contents",
   "toc_cell": false,
   "toc_position": {},
   "toc_section_display": true,
   "toc_window_display": false
  }
 },
 "nbformat": 4,
 "nbformat_minor": 4
}
