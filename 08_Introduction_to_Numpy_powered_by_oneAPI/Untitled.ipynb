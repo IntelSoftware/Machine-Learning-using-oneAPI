{
 "cells": [
  {
   "cell_type": "code",
   "execution_count": 54,
   "metadata": {
    "ExecuteTime": {
     "end_time": "2022-08-08T23:14:34.504225Z",
     "start_time": "2022-08-08T23:14:34.474307Z"
    }
   },
   "outputs": [
    {
     "name": "stdout",
     "output_type": "stream",
     "text": [
      "a.shape (4, 2)\n",
      "b.shape (5, 2)\n",
      "Euclidean\n",
      "[[0.         1.41421356 2.82842712 4.24264069 5.65685425]\n",
      " [1.41421356 2.82842712 4.24264069 5.65685425 7.07106781]\n",
      " [2.82842712 4.24264069 5.65685425 7.07106781 8.48528137]\n",
      " [4.24264069 5.65685425 7.07106781 8.48528137 9.89949494]]\n",
      "Manhattan\n",
      "[[ 0.  2.  4.  6.  8.]\n",
      " [ 2.  4.  6.  8. 10.]\n",
      " [ 4.  6.  8. 10. 12.]\n",
      " [ 6.  8. 10. 12. 14.]]\n"
     ]
    }
   ],
   "source": [
    "import numpy as np\n",
    "from scipy.spatial import distance_matrix\n",
    "from scipy.spatial import distance\n",
    "\n",
    "a = np.array([[0,0], [1,1], [2,2], [3,3]])\n",
    "b = np.array([[0,0], [-1,-1], [-2,-2], [-3,-3], [-4,-4]])\n",
    "\n",
    "print(\"a.shape\",a.shape)\n",
    "print(\"b.shape\",b.shape)\n",
    "print('Euclidean')\n",
    "print(distance_matrix(a, b))\n",
    "print('Manhattan')\n",
    "print(distance.cdist(a, b, 'cityblock'))\n"
   ]
  },
  {
   "cell_type": "markdown",
   "metadata": {},
   "source": [
    "# Euclidean Distance using broadcasting\n"
   ]
  },
  {
   "cell_type": "code",
   "execution_count": 11,
   "metadata": {
    "ExecuteTime": {
     "end_time": "2022-08-08T22:52:06.930844Z",
     "start_time": "2022-08-08T22:52:06.909890Z"
    }
   },
   "outputs": [
    {
     "data": {
      "text/plain": [
       "array([[0.        , 1.41421356, 2.82842712, 4.24264069, 5.65685425],\n",
       "       [1.41421356, 2.82842712, 4.24264069, 5.65685425, 7.07106781],\n",
       "       [2.82842712, 4.24264069, 5.65685425, 7.07106781, 8.48528137],\n",
       "       [4.24264069, 5.65685425, 7.07106781, 8.48528137, 9.89949494]])"
      ]
     },
     "execution_count": 11,
     "metadata": {},
     "output_type": "execute_result"
    }
   ],
   "source": [
    "# Euclidean Distance\n",
    "\n",
    "np.linalg.norm(a[:, None, :] - b[None, :, :], axis=-1)"
   ]
  },
  {
   "cell_type": "markdown",
   "metadata": {
    "ExecuteTime": {
     "end_time": "2022-08-08T22:50:47.428317Z",
     "start_time": "2022-08-08T22:50:47.420331Z"
    }
   },
   "source": [
    "# Manhattan Distance using broadcasting"
   ]
  },
  {
   "cell_type": "code",
   "execution_count": 12,
   "metadata": {
    "ExecuteTime": {
     "end_time": "2022-08-08T22:55:37.659496Z",
     "start_time": "2022-08-08T22:55:37.635565Z"
    }
   },
   "outputs": [
    {
     "data": {
      "text/plain": [
       "array([[ 0,  2,  4,  6,  8],\n",
       "       [ 2,  4,  6,  8, 10],\n",
       "       [ 4,  6,  8, 10, 12],\n",
       "       [ 6,  8, 10, 12, 14]])"
      ]
     },
     "execution_count": 12,
     "metadata": {},
     "output_type": "execute_result"
    }
   ],
   "source": [
    "# Manhattan Distance\n",
    "\n",
    "np.sum(np.abs(a[:, None, :] - b[None, :, :]), axis=-1)"
   ]
  },
  {
   "cell_type": "code",
   "execution_count": 17,
   "metadata": {
    "ExecuteTime": {
     "end_time": "2022-08-08T22:59:33.565313Z",
     "start_time": "2022-08-08T22:59:33.553300Z"
    }
   },
   "outputs": [],
   "source": [
    "def PointsDist(a,b):\n",
    "    s = 0\n",
    "    for i in range(len(a)):\n",
    "        s += (a[i]-b[i])**2\n",
    "    return np.sqrt(s)"
   ]
  },
  {
   "cell_type": "code",
   "execution_count": 20,
   "metadata": {
    "ExecuteTime": {
     "end_time": "2022-08-08T23:00:05.953620Z",
     "start_time": "2022-08-08T23:00:05.937656Z"
    }
   },
   "outputs": [
    {
     "data": {
      "text/plain": [
       "2.8284271247461903"
      ]
     },
     "execution_count": 20,
     "metadata": {},
     "output_type": "execute_result"
    }
   ],
   "source": [
    "a = np.array([1,1])\n",
    "b = np.array([-1,-1])\n",
    "PointsDist(a,b)"
   ]
  },
  {
   "cell_type": "code",
   "execution_count": 65,
   "metadata": {
    "ExecuteTime": {
     "end_time": "2022-08-08T23:16:38.505537Z",
     "start_time": "2022-08-08T23:16:38.490578Z"
    }
   },
   "outputs": [],
   "source": [
    "np.random.seed(42)\n",
    "a = np.random.randint(10, size=(10000,2))\n",
    "b = np.random.randint(10, size=(10000,2))"
   ]
  },
  {
   "cell_type": "code",
   "execution_count": 66,
   "metadata": {
    "ExecuteTime": {
     "end_time": "2022-08-08T23:16:42.733419Z",
     "start_time": "2022-08-08T23:16:39.392350Z"
    }
   },
   "outputs": [
    {
     "name": "stdout",
     "output_type": "stream",
     "text": [
      "[[1.41421356 1.         7.81024968 ... 4.12310563 3.60555128 3.        ]\n",
      " [2.         1.         8.06225775 ... 5.38516481 3.60555128 2.23606798]\n",
      " [5.09901951 5.         6.08276253 ... 8.06225775 3.60555128 3.        ]\n",
      " ...\n",
      " [4.12310563 5.09901951 3.16227766 ... 3.16227766 3.16227766 5.09901951]\n",
      " [3.         3.16227766 8.60232527 ... 3.16227766 5.09901951 5.09901951]\n",
      " [1.         1.41421356 5.83095189 ... 4.24264069 1.41421356 1.41421356]]\n"
     ]
    }
   ],
   "source": [
    "print(distance.cdist(a, b, 'euclidean'))"
   ]
  },
  {
   "cell_type": "code",
   "execution_count": 67,
   "metadata": {
    "ExecuteTime": {
     "end_time": "2022-08-08T23:16:54.778259Z",
     "start_time": "2022-08-08T23:16:42.740393Z"
    }
   },
   "outputs": [
    {
     "name": "stdout",
     "output_type": "stream",
     "text": [
      "[[1.41421356 1.         7.81024968 ... 4.12310563 3.60555128 3.        ]\n",
      " [2.         1.         8.06225775 ... 5.38516481 3.60555128 2.23606798]\n",
      " [5.09901951 5.         6.08276253 ... 8.06225775 3.60555128 3.        ]\n",
      " ...\n",
      " [4.12310563 5.09901951 3.16227766 ... 3.16227766 3.16227766 5.09901951]\n",
      " [3.         3.16227766 8.60232527 ... 3.16227766 5.09901951 5.09901951]\n",
      " [1.         1.41421356 5.83095189 ... 4.24264069 1.41421356 1.41421356]]\n"
     ]
    }
   ],
   "source": [
    "print(distance_matrix(a, b))"
   ]
  },
  {
   "cell_type": "code",
   "execution_count": 68,
   "metadata": {
    "ExecuteTime": {
     "end_time": "2022-08-08T23:17:13.538082Z",
     "start_time": "2022-08-08T23:16:54.787185Z"
    },
    "scrolled": true
   },
   "outputs": [
    {
     "name": "stdout",
     "output_type": "stream",
     "text": [
      "[[1.41421356 1.         7.81024968 ... 4.12310563 3.60555128 3.        ]\n",
      " [2.         1.         8.06225775 ... 5.38516481 3.60555128 2.23606798]\n",
      " [5.09901951 5.         6.08276253 ... 8.06225775 3.60555128 3.        ]\n",
      " ...\n",
      " [4.12310563 5.09901951 3.16227766 ... 3.16227766 3.16227766 5.09901951]\n",
      " [3.         3.16227766 8.60232527 ... 3.16227766 5.09901951 5.09901951]\n",
      " [1.         1.41421356 5.83095189 ... 4.24264069 1.41421356 1.41421356]]\n"
     ]
    }
   ],
   "source": [
    "print(np.linalg.norm(a[:, None, :] - b[None, :, :], axis=-1))"
   ]
  },
  {
   "cell_type": "code",
   "execution_count": null,
   "metadata": {
    "ExecuteTime": {
     "end_time": "2022-08-08T23:15:48.337164Z",
     "start_time": "2022-08-08T23:15:48.322205Z"
    }
   },
   "outputs": [],
   "source": []
  },
  {
   "cell_type": "code",
   "execution_count": null,
   "metadata": {},
   "outputs": [],
   "source": []
  }
 ],
 "metadata": {
  "kernelspec": {
   "display_name": "Python 3",
   "language": "python",
   "name": "python3"
  },
  "language_info": {
   "codemirror_mode": {
    "name": "ipython",
    "version": 3
   },
   "file_extension": ".py",
   "mimetype": "text/x-python",
   "name": "python",
   "nbconvert_exporter": "python",
   "pygments_lexer": "ipython3",
   "version": "3.8.3"
  }
 },
 "nbformat": 4,
 "nbformat_minor": 4
}
