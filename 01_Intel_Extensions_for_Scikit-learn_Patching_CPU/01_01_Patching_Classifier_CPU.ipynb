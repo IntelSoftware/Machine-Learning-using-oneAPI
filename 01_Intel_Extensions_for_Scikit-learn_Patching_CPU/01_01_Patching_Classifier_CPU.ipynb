{
 "cells": [
  {
   "cell_type": "markdown",
   "id": "aa88ccd5-22db-471f-ace0-d302bf8a476c",
   "metadata": {},
   "source": [
    "# Module 01_01: Classifier: targeting CPU and Patching \n",
    "\n",
    "![Assets/KNNacceleration.jpg](Assets/KNNacceleration.jpg)\n",
    "### Use nbconvert  patch_sklearn from command line"
   ]
  },
  {
   "cell_type": "markdown",
   "id": "758b2cdb-e2c0-4613-bb03-f01e2fe41031",
   "metadata": {},
   "source": [
    "# Learning Objectives:\n",
    "\n",
    "1) Describe how to surgically unpatch specific optimized functions if needed\n",
    "1) Apply patching to KNN algorithm\n",
    "2) Describe acceleration for the covtype dataset with KNN classification\n",
    "\n"
   ]
  },
  {
   "cell_type": "markdown",
   "id": "8f5bdd00-2c32-49b1-bd39-77e140e5f739",
   "metadata": {},
   "source": [
    "# *Real World* example Classifier on CovType Dataset\n",
    "\n",
    "### Compare timings of stock kmeans versus Intel Extension for Scikit-learn Classifier using patch_sklean()\n",
    "\n",
    "Below we will apply Intel Extension for Scikit learn to a use case on a CPU\n",
    "\n",
    "Intel® Extension for Scikit-learn contains drop-in replacement functionality for the stock scikit-learn package. You can take advantage of the performance optimizations of Intel Extension for Scikit-learn by adding just two lines of code before the usual scikit-learn imports. Intel® Extension for Scikit-learn patching affects performance of specific Scikit-learn functionality.\n",
    "\n",
    "### Data: covtype\n",
    "\n",
    "We will use forest cover type dataset known as covtype and fetch the data from sklearn.datasets\n",
    "\n",
    "\n",
    "Here we are **predicting forest cover type** from cartographic variables only (no remotely sensed data). The actual forest cover type for a given observation (30 x 30 meter cell) was determined from US Forest Service (USFS) Region 2 Resource Information System (RIS) data. Independent variables were derived from data originally obtained from US Geological Survey (USGS) and USFS data. Data is in raw form (not scaled) and contains binary (0 or 1) columns of data for qualitative independent variables (wilderness areas and soil types).\n",
    "\n",
    "This study area includes four wilderness areas located in the Roosevelt National Forest of northern Colorado. These areas represent forests with minimal human-caused disturbances, so that existing forest cover types are more a result of ecological processes rather than forest management practices.\n",
    "\n",
    "\n",
    "Predicting forest cover type from cartographic variables only (no remotely sensed data). The actual forest cover type for a given observation (30 x 30 meter cell) was determined from US Forest Service (USFS) Region 2 Resource Information System (RIS) data. Independent variables were derived from data originally obtained from US Geological Survey (USGS) and USFS data. Data is in raw form (not scaled) and contains binary (0 or 1) columns of data for qualitative independent variables (wilderness areas and soil types).\n",
    "\n",
    "This study area includes four wilderness areas located in the Roosevelt National Forest of northern Colorado. These areas represent forests with minimal human-caused disturbances, so that existing forest cover types are more a result of ecological processes rather than forest management practices.\n",
    "\n",
    "### Overview of procedure\n",
    "In the below example we will train and predict kNN algorithm with Intel Extension for Scikit-learn for covtype dataset and calculate the CPU and wall clock time for training and prediction. Then in the next step we will unpatch the Intel extension for Scikit-learn and observe the time taken on the CPU for the same trainng and prediction.\n",
    "\n",
    "### Fetch the Data\n",
    "\n",
    "- [Back to Sections](#Back_to_Sections)\n"
   ]
  },
  {
   "cell_type": "code",
   "execution_count": 1,
   "id": "b3b6234a-b2df-488c-a6b8-83c93b1f3a80",
   "metadata": {
    "ExecuteTime": {
     "end_time": "2021-11-03T01:44:24.872648Z",
     "start_time": "2021-11-03T01:44:15.236809Z"
    }
   },
   "outputs": [
    {
     "name": "stderr",
     "output_type": "stream",
     "text": [
      "Intel(R) Extension for Scikit-learn* enabled (https://github.com/intel/scikit-learn-intelex)\n"
     ]
    },
    {
     "name": "stdout",
     "output_type": "stream",
     "text": [
      "dataset shape:  (145253, 54)\n"
     ]
    }
   ],
   "source": [
    "# Copyright 2022 Intel Corporation\n",
    "#\n",
    "# Licensed under the Apache License, Version 2.0 (the \"License\");\n",
    "# you may not use this file except in compliance with the License.\n",
    "# You may obtain a copy of the License at\n",
    "#\n",
    "#      http://www.apache.org/licenses/LICENSE-2.0\n",
    "#\n",
    "# Unless required by applicable law or agreed to in writing, software\n",
    "# distributed under the License is distributed on an \"AS IS\" BASIS,\n",
    "# WITHOUT WARRANTIES OR CONDITIONS OF ANY KIND, either express or implied.\n",
    "# See the License for the specific language governing permissions and\n",
    "# limitations under the License.\n",
    "\n",
    "from sklearn import metrics\n",
    "from sklearn.model_selection import train_test_split\n",
    "from sklearn.datasets import fetch_openml\n",
    "import pandas as pd\n",
    "import seaborn as sns\n",
    "import time\n",
    "\n",
    "from  sklearn.datasets import fetch_covtype\n",
    "x, y = fetch_covtype(return_X_y=True)\n",
    "# Data Set Information:\n",
    "# Predicting forest cover type from cartographic variables only (no remotely sensed data). The actual forest cover type for a given observation (30 x 30 meter cell) was determined from US Forest Service (USFS) Region 2 Resource Information System (RIS) data. Independent variables were derived from data originally obtained from US Geological Survey (USGS) and USFS data. Data is in raw form (not scaled) and contains binary (0 or 1) columns of data for qualitative independent variables (wilderness areas and soil types).\n",
    "# This study area includes four wilderness areas located in the Roosevelt National Forest of northern Colorado. These areas represent forests with minimal human-caused disturbances, so that existing forest cover types are more a result of ecological processes rather than forest management practices.\n",
    "\n",
    "# for sake of time is 1/4th of the data\n",
    "subset = x.shape[0]//4\n",
    "x = x[:subset,:]\n",
    "y = y[:subset]\n",
    "\n",
    "x_train, x_test, y_train, y_test = train_test_split(x, y, test_size=0.2, random_state=72)\n",
    "\n",
    "# set up KNN algorithm parameters\n",
    "# 'n_neighbors': 40,  \n",
    "#     regulates how many neighbors should be checked when an item is being classified\n",
    "# 'weights': 'distance',\n",
    "#     signifies how weight should be distributed between neighbor values.\n",
    "#     This value will cause weights to be distributed based on their distance (inversely correlated). Closer neighbors will have a higher weight in the algorithm.\n",
    "# 'n_jobs': -1\n",
    "#     Signifies the parallel jobs to be allowed at the same time for neighbor algorithm\n",
    "params = {\n",
    "    'n_neighbors': 40,  \n",
    "    'weights': 'distance',  \n",
    "    'n_jobs': -1\n",
    "}\n",
    "print('dataset shape: ', x.shape)"
   ]
  },
  {
   "cell_type": "markdown",
   "id": "2cf5ad7d-3047-44d1-ae53-b4b9e9584e47",
   "metadata": {},
   "source": [
    "### Show patched KNN\n",
    "\n",
    "\n",
    "- [Back to Sections](#Back_to_Sections)\n",
    "\n",
    "# Exercise: Apply patch\n",
    "\n",
    "Use this code snippet where directed below\n",
    "\n",
    "``` python\n",
    "from sklearnex import patch_sklearn, unpatch_sklearn\n",
    "patch_sklearn()\n",
    "```"
   ]
  },
  {
   "cell_type": "code",
   "execution_count": 2,
   "id": "16472ea2-892e-42f2-812a-23ac13d589b9",
   "metadata": {},
   "outputs": [
    {
     "name": "stderr",
     "output_type": "stream",
     "text": [
      "Intel(R) Extension for Scikit-learn* enabled (https://github.com/intel/scikit-learn-intelex)\n"
     ]
    },
    {
     "name": "stdout",
     "output_type": "stream",
     "text": [
      "Time to calculate \u001b[1m knn.predict in Patched scikit-learn  1.5\u001b[0m seconds\n",
      "Classification report for kNN:\n",
      "              precision    recall  f1-score   support\n",
      "\n",
      "           1       0.93      0.86      0.89      6120\n",
      "           2       0.94      0.98      0.96     20540\n",
      "           3       0.84      0.46      0.60       428\n",
      "           4       0.84      0.95      0.89       441\n",
      "           5       0.86      0.64      0.73       631\n",
      "           6       0.80      0.58      0.67       449\n",
      "           7       0.84      0.87      0.85       442\n",
      "\n",
      "    accuracy                           0.93     29051\n",
      "   macro avg       0.86      0.76      0.80     29051\n",
      "weighted avg       0.93      0.93      0.93     29051\n",
      "\n",
      "\n"
     ]
    }
   ],
   "source": [
    "# Copyright 2022 Intel Corporation\n",
    "#\n",
    "# Licensed under the Apache License, Version 2.0 (the \"License\");\n",
    "# you may not use this file except in compliance with the License.\n",
    "# You may obtain a copy of the License at\n",
    "#\n",
    "#      http://www.apache.org/licenses/LICENSE-2.0\n",
    "#\n",
    "# Unless required by applicable law or agreed to in writing, software\n",
    "# distributed under the License is distributed on an \"AS IS\" BASIS,\n",
    "# WITHOUT WARRANTIES OR CONDITIONS OF ANY KIND, either express or implied.\n",
    "# See the License for the specific language governing permissions and\n",
    "# limitations under the License.\n",
    "\n",
    "\n",
    "################# Insert Patch here ####################################\n",
    "from sklearnex import patch_sklearn, unpatch_sklearn\n",
    "patch_sklearn()\n",
    "########################################################################\n",
    "\n",
    "\n",
    "from sklearn.neighbors import KNeighborsClassifier\n",
    "start_time = time.time()\n",
    "knn = KNeighborsClassifier(**params).fit(x_train, y_train)\n",
    "predicted = knn.predict(x_test)\n",
    "patched_time = time.time() - start_time\n",
    "print(\"Time to calculate \\033[1m knn.predict in Patched scikit-learn {:4.1f}\\033[0m seconds\".format(patched_time))\n",
    "\n",
    "report = metrics.classification_report(y_test, predicted)\n",
    "print(f\"Classification report for kNN:\\n{report}\\n\")\n"
   ]
  },
  {
   "cell_type": "markdown",
   "id": "bdd89362-01cd-419f-bf55-eab68dbd2f18",
   "metadata": {},
   "source": [
    "In order to cancel optimizations, we use unpatch_sklearn and reimport the class KNeighborsClassifier. Observe the time taken to train and predict without the optimizations. "
   ]
  },
  {
   "cell_type": "markdown",
   "id": "46765885-e206-4bf2-bbf9-6f39c8fb2c30",
   "metadata": {},
   "source": [
    "### Show UNpatched KNN\n",
    "\n",
    "\n",
    "- [Back to Sections](#Back_to_Sections)\n",
    "\n",
    "# Exercise: Apply UNpatch\n",
    "\n",
    "Use this code snippet where directed below\n",
    "\n",
    "```python\n",
    "from sklearnex import unpatch_sklearn\n",
    "unpatch_sklearn()\n",
    "```\n"
   ]
  },
  {
   "cell_type": "code",
   "execution_count": 3,
   "id": "03a104e3-1f74-4120-92e4-96d9e894e86c",
   "metadata": {
    "ExecuteTime": {
     "end_time": "2021-11-03T01:44:24.877650Z",
     "start_time": "2021-11-03T01:44:15.161Z"
    }
   },
   "outputs": [
    {
     "name": "stdout",
     "output_type": "stream",
     "text": [
      "Time to calculate \u001b[1m knn.predict in UNpatched scikit-learn 73.7\u001b[0m seconds\n",
      "Classification report for kNN:\n",
      "              precision    recall  f1-score   support\n",
      "\n",
      "           1       0.93      0.86      0.89      6120\n",
      "           2       0.94      0.98      0.96     20540\n",
      "           3       0.84      0.46      0.60       428\n",
      "           4       0.84      0.95      0.89       441\n",
      "           5       0.86      0.64      0.73       631\n",
      "           6       0.80      0.58      0.67       449\n",
      "           7       0.84      0.87      0.85       442\n",
      "\n",
      "    accuracy                           0.93     29051\n",
      "   macro avg       0.86      0.76      0.80     29051\n",
      "weighted avg       0.93      0.93      0.93     29051\n",
      "\n",
      "\n"
     ]
    }
   ],
   "source": [
    "# Copyright 2022 Intel Corporation\n",
    "#\n",
    "# Licensed under the Apache License, Version 2.0 (the \"License\");\n",
    "# you may not use this file except in compliance with the License.\n",
    "# You may obtain a copy of the License at\n",
    "#\n",
    "#      http://www.apache.org/licenses/LICENSE-2.0\n",
    "#\n",
    "# Unless required by applicable law or agreed to in writing, software\n",
    "# distributed under the License is distributed on an \"AS IS\" BASIS,\n",
    "# WITHOUT WARRANTIES OR CONDITIONS OF ANY KIND, either express or implied.\n",
    "# See the License for the specific language governing permissions and\n",
    "# limitations under the License.\n",
    "\n",
    "#########################################\n",
    "#\n",
    "# Insert unpatch code here\n",
    "from sklearnex import unpatch_sklearn\n",
    "unpatch_sklearn()\n",
    "#\n",
    "#########################################\n",
    "\n",
    "# same code used to predict as from above cell - but this one is UNPATCHED\n",
    "from sklearn.neighbors import KNeighborsClassifier\n",
    "start_time = time.time()\n",
    "knn = KNeighborsClassifier(**params).fit(x_train, y_train)\n",
    "predicted = knn.predict(x_test)\n",
    "unpatched_time = time.time() - start_time\n",
    "print(\"Time to calculate \\033[1m knn.predict in UNpatched scikit-learn {:4.1f}\\033[0m seconds\".format(unpatched_time))\n",
    "\n",
    "report = metrics.classification_report(y_test, predicted)\n",
    "print(f\"Classification report for kNN:\\n{report}\\n\")"
   ]
  },
  {
   "cell_type": "markdown",
   "id": "e3fcda21-f36f-4a6f-93cc-99093f398ad7",
   "metadata": {},
   "source": [
    "## Plot KNN speed up using patch\n",
    "\n",
    "\n",
    "- [Back to Sections](#Back_to_Sections)\n"
   ]
  },
  {
   "cell_type": "code",
   "execution_count": 4,
   "id": "946c4c3e-4128-4d51-bf29-160a365bb2ab",
   "metadata": {
    "tags": []
   },
   "outputs": [
    {
     "data": {
      "image/png": "[encoded data removed]",
      "text/plain": [
       "<Figure size 1600x800 with 1 Axes>"
      ]
     },
     "metadata": {},
     "output_type": "display_data"
    },
    {
     "name": "stdout",
     "output_type": "stream",
     "text": [
      "Intel(R) Extensions for scikit-learn* \u001b[1mKNN acceleration 47.7 x!\u001b[0m\n"
     ]
    }
   ],
   "source": [
    "# Copyright 2022 Intel Corporation\n",
    "#\n",
    "# Licensed under the Apache License, Version 2.0 (the \"License\");\n",
    "# you may not use this file except in compliance with the License.\n",
    "# You may obtain a copy of the License at\n",
    "#\n",
    "#      http://www.apache.org/licenses/LICENSE-2.0\n",
    "#\n",
    "# Unless required by applicable law or agreed to in writing, software\n",
    "# distributed under the License is distributed on an \"AS IS\" BASIS,\n",
    "# WITHOUT WARRANTIES OR CONDITIONS OF ANY KIND, either express or implied.\n",
    "# See the License for the specific language governing permissions and\n",
    "# limitations under the License.\n",
    "%matplotlib inline\n",
    "import matplotlib.pyplot as plt\n",
    "\n",
    "left = [1,2]\n",
    "pred_times = [unpatched_time, patched_time]\n",
    "tick_label = ['unpatched KNN', 'patched KNN']\n",
    "plt.figure(figsize = (16,8))\n",
    "plt.bar(left, pred_times, tick_label = tick_label, width = 0.5, color = ['red', 'blue'])\n",
    "plt.xlabel('Predict Method'); plt.ylabel('time [s]'); plt.title('KNN Predict time [s] - Lower is better')\n",
    "plt.show()\n",
    "\n",
    "print('Intel(R) Extensions for scikit-learn* \\033[1mKNN acceleration {:4.1f} x!\\033[0m'.format( unpatched_time/patched_time))"
   ]
  },
  {
   "cell_type": "markdown",
   "id": "799ebc5a-489b-4c33-8be8-10cb804e250c",
   "metadata": {},
   "source": [
    "## Observations:\n",
    "\n",
    "We observe that with scikit-learn-intelex patching you can:\n",
    "\n",
    "- Opimize performance with minimal changes (a couple of lines of code);\n",
    "- Achieve faster execution with 32 opitmized sklearn algorithms\n",
    "- Achieve the same model quality."
   ]
  },
  {
   "cell_type": "markdown",
   "id": "c86d8fab-d6c8-4fef-b2f5-e53fdc086ddd",
   "metadata": {},
   "source": [
    "Compare the times and accuracies of these two runs. \n",
    "\n",
    "Is the time versus accuracy trade off worth the effort to patch this function?\n",
    "\n",
    "Reminder of how to find the list of functions available to patch\n"
   ]
  },
  {
   "cell_type": "markdown",
   "id": "1e4d68bd-e5e7-40c5-9b6c-1405369057c5",
   "metadata": {},
   "source": [
    "# Summary:\n",
    "\n",
    "You have:\n",
    "\n",
    "1) applied patching to KNN algorithm\n",
    "2) Describe acceleration for the covtype dataset\n",
    "    "
   ]
  },
  {
   "cell_type": "markdown",
   "id": "e8582307-b7cb-4e39-b0b9-0436f44e24c9",
   "metadata": {},
   "source": [
    "# Notices & Disclaimers \n",
    "\n",
    "Intel technologies may require enabled hardware, software or service activation.\n",
    "No product or component can be absolutely secure.\n",
    "\n",
    "Your costs and results may vary.\n",
    "\n",
    "© Intel Corporation. Intel, the Intel logo, and other Intel marks are trademarks of Intel Corporation or its subsidiaries. \n",
    "*Other names and brands may be claimed as the property of others."
   ]
  },
  {
   "cell_type": "code",
   "execution_count": 5,
   "id": "3b52e7ff-ce9f-4f57-a3c6-ad087112e295",
   "metadata": {},
   "outputs": [
    {
     "name": "stdout",
     "output_type": "stream",
     "text": [
      "All Done\n"
     ]
    }
   ],
   "source": [
    "print(\"All Done\")"
   ]
  }
 ],
 "metadata": {
  "kernelspec": {
   "display_name": "oneAPI 2022.3.1",
   "language": "python",
   "name": "2022.3.1"
  },
  "language_info": {
   "codemirror_mode": {
    "name": "ipython",
    "version": 3
   },
   "file_extension": ".py",
   "mimetype": "text/x-python",
   "name": "python",
   "nbconvert_exporter": "python",
   "pygments_lexer": "ipython3",
   "version": "3.9.13"
  }
 },
 "nbformat": 4,
 "nbformat_minor": 5
}
